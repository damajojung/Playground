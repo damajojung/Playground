{
 "cells": [
  {
   "cell_type": "markdown",
   "metadata": {},
   "source": [
    "# Compare two websites by taking a screenshot (shot-scraper) using ImageMagick"
   ]
  },
  {
   "cell_type": "code",
   "execution_count": 6,
   "metadata": {},
   "outputs": [],
   "source": [
    "# where magick   # returns the location of imagemagick\n",
    "\n",
    "# Note to myself: It looks like one has to work with brew when dealing with IM. Downloading it from source does not work on Mac with M1\n",
    "# See:  https://stackoverflow.com/questions/9586048/imagemagick-no-decode-delegate\n",
    "# When you download it with brew, all dependencies (JPEG, PNG) compatible for mac are automatically installed. At least thats what I think. \n",
    "\n",
    "# brew help\n",
    "# brew list  # displays all the packaged downloaded with brew.\n",
    "\n",
    "\n",
    "# ------------------ Practical Information\n",
    "\n",
    "# If you installed imagemagick from source and want to uninstall it, do the following steps:\n",
    "# cd ImageMagick-6.8.2-10 # your version\n",
    "# ./configure\n",
    "# make uninstall"
   ]
  },
  {
   "cell_type": "code",
   "execution_count": null,
   "metadata": {},
   "outputs": [],
   "source": [
    "# pip install requests\n",
    "# pip install subprocess\n",
    "# pip install beautifulsoup4\n",
    "\n",
    "# pip install shot-scraper\n",
    "# /bin/bash -c \"$(curl -fsSL https://raw.githubusercontent.com/Homebrew/install/HEAD/install.sh)\"\n",
    "# brew install imagemagick"
   ]
  },
  {
   "cell_type": "code",
   "execution_count": 1,
   "metadata": {},
   "outputs": [
    {
     "name": "stdout",
     "output_type": "stream",
     "text": [
      "\u001b[34mmicrospot\u001b[m\u001b[m/            project_niklas.ipynb  \u001b[34mwikipedia\u001b[m\u001b[m/\n"
     ]
    }
   ],
   "source": [
    "%ls"
   ]
  },
  {
   "cell_type": "code",
   "execution_count": 4,
   "metadata": {},
   "outputs": [],
   "source": [
    "# Version 1\n",
    "import requests\n",
    "from bs4 import BeautifulSoup\n",
    "import subprocess\n",
    "import os\n",
    "\n",
    "# Version 2\n",
    "import cv2\n",
    "import numpy as np"
   ]
  },
  {
   "cell_type": "code",
   "execution_count": null,
   "metadata": {},
   "outputs": [],
   "source": []
  },
  {
   "cell_type": "markdown",
   "metadata": {},
   "source": [
    "## Version 1"
   ]
  },
  {
   "cell_type": "code",
   "execution_count": 8,
   "metadata": {},
   "outputs": [
    {
     "name": "stderr",
     "output_type": "stream",
     "text": [
      "Screenshot of 'https://www.microspot.ch/de/computer-gaming/notebooks/notebook--c511000/apple-macbook-pro-2023-14-2-apple-m3-pro-11-core-chip-18-gb-ram-512-gb-ssd--p0014039927' written to 'screenshot1.png'\n",
      "Screenshot of 'https://www.microspot.ch/de/computer-gaming/notebooks/notebook--c511000/apple-macbook-air-2024-13-6-apple-m3-chip-8-gb-ram-256-gb-ssd--p0014109929' written to 'screenshot2.png'\n"
     ]
    },
    {
     "name": "stdout",
     "output_type": "stream",
     "text": [
      "Failed to compare images due to Command '['compare', 'screenshot1.png', 'screenshot2.png', 'difference.png']' returned non-zero exit status 1.\n",
      "Screenshots taken and comparison done. Check the difference image.\n"
     ]
    }
   ],
   "source": [
    "\n",
    "def scrape_website(url):\n",
    "    try:\n",
    "        # Send a GET request to the URL\n",
    "        response = requests.get(url)\n",
    "        # Parse the HTML content\n",
    "        soup = BeautifulSoup(response.text, 'html.parser')\n",
    "        # Extract and print all the URLs\n",
    "        for link in soup.find_all('a'):\n",
    "            print(link.get('href'))\n",
    "    except Exception as e:\n",
    "        print(f\"Failed to scrape {url} due to {e}\")\n",
    "\n",
    "def take_screenshot(url, filename):\n",
    "    try:\n",
    "        # Using subprocess to call shot-scraper command\n",
    "        subprocess.run(['shot-scraper', url, '--output', filename], check=True)\n",
    "    except Exception as e:\n",
    "        print(f\"Failed to take screenshot of {url} due to {e}\")\n",
    "\n",
    "def compare_screenshots(image1, image2, diff_image):\n",
    "    try:\n",
    "        # Using ImageMagick's compare tool\n",
    "        subprocess.run(['compare', image1, image2, diff_image], check=True)\n",
    "    except Exception as e:\n",
    "        print(f\"Failed to compare images due to {e}\")\n",
    "\n",
    "# URLs of the websites to scrape and take screenshots\n",
    "url1 = 'https://en.wikipedia.org/wiki/Lion'\n",
    "url2 = 'https://en.wikipedia.org/wiki/Tiger'\n",
    "\n",
    "# url1 = 'https://www.microspot.ch/de/computer-gaming/notebooks/notebook--c511000/apple-macbook-pro-2023-14-2-apple-m3-pro-11-core-chip-18-gb-ram-512-gb-ssd--p0014039927'\n",
    "# url2 = 'https://www.microspot.ch/de/computer-gaming/notebooks/notebook--c511000/apple-macbook-air-2024-13-6-apple-m3-chip-8-gb-ram-256-gb-ssd--p0014109929'\n",
    "\n",
    "\n",
    "# Take screenshots\n",
    "screenshot1 = 'screenshot1.png'\n",
    "screenshot2 = 'screenshot2.png'\n",
    "take_screenshot(url1, screenshot1)\n",
    "take_screenshot(url2, screenshot2)\n",
    "\n",
    "# Compare the screenshots\n",
    "diff_image = 'difference.png'\n",
    "compare_screenshots(screenshot1, screenshot2, diff_image)\n",
    "\n",
    "print(\"Screenshots taken and comparison done. Check the difference image.\")"
   ]
  },
  {
   "cell_type": "code",
   "execution_count": null,
   "metadata": {},
   "outputs": [],
   "source": []
  },
  {
   "cell_type": "markdown",
   "metadata": {},
   "source": [
    "## Version 2"
   ]
  },
  {
   "cell_type": "code",
   "execution_count": 14,
   "metadata": {},
   "outputs": [
    {
     "name": "stderr",
     "output_type": "stream",
     "text": [
      "Screenshot of 'https://www.microspot.ch/de/computer-gaming/notebooks/notebook--c511000/apple-macbook-pro-2023-14-2-apple-m3-pro-11-core-chip-18-gb-ram-512-gb-ssd--p0014039927' written to 'screenshot1.png'\n",
      "Screenshot of 'https://www.microspot.ch/de/computer-gaming/notebooks/notebook--c511000/apple-macbook-air-2024-13-6-apple-m3-chip-8-gb-ram-256-gb-ssd--p0014109929' written to 'screenshot2.png'\n"
     ]
    },
    {
     "name": "stdout",
     "output_type": "stream",
     "text": [
      "Failed to compare images due to Command '['compare', 'screenshot1.png', 'screenshot2.png', '-compose', 'src', 'difference.png']' returned non-zero exit status 1.\n",
      "Screenshots taken and comparison done. Check the difference image.\n"
     ]
    }
   ],
   "source": [
    "\n",
    "def scrape_website(url):\n",
    "    try:\n",
    "        # Send a GET request to the URL\n",
    "        response = requests.get(url)\n",
    "        # Parse the HTML content\n",
    "        soup = BeautifulSoup(response.text, 'html.parser')\n",
    "        # Extract and print all the URLs\n",
    "        for link in soup.find_all('a'):\n",
    "            print(link.get('href'))\n",
    "    except Exception as e:\n",
    "        print(f\"Failed to scrape {url} due to {e}\")\n",
    "\n",
    "def take_screenshot(url, filename):\n",
    "    try:\n",
    "        # Using subprocess to call shot-scraper command\n",
    "        subprocess.run(['shot-scraper', url, '--output', filename], check=True)\n",
    "    except Exception as e:\n",
    "        print(f\"Failed to take screenshot of {url} due to {e}\")\n",
    "\n",
    "def compare_screenshots(image1, image2, diff_image):\n",
    "    try:\n",
    "        # Using ImageMagick's compare tool\n",
    "        subprocess.run(['compare', image1, image2, '-compose', 'src', diff_image], check=True)\n",
    "        \n",
    "        # Load the difference image\n",
    "        diff_img = cv2.imread(diff_image)\n",
    "        \n",
    "        # Convert to grayscale\n",
    "        gray_diff_img = cv2.cvtColor(diff_img, cv2.COLOR_BGR2GRAY)\n",
    "        \n",
    "        # Threshold to get binary image\n",
    "        ret, thresh = cv2.threshold(gray_diff_img, 0, 255, cv2.THRESH_BINARY)\n",
    "        \n",
    "        # Find contours\n",
    "        contours, _ = cv2.findContours(thresh, cv2.RETR_EXTERNAL, cv2.CHAIN_APPROX_SIMPLE)\n",
    "        \n",
    "        # Draw unfilled rectangles around contours\n",
    "        for contour in contours:\n",
    "            x, y, w, h = cv2.boundingRect(contour)\n",
    "            cv2.rectangle(diff_img, (x, y), (x+w, y+h), (0, 255, 0), 2)\n",
    "        \n",
    "        # Save the image with rectangles drawn\n",
    "        cv2.imwrite(diff_image, diff_img)\n",
    "        \n",
    "    except Exception as e:\n",
    "        print(f\"Failed to compare images due to {e}\")\n",
    "\n",
    "# URLs of the websites to scrape and take screenshots\n",
    "# url1 = 'https://en.wikipedia.org/wiki/Lion'\n",
    "# url2 = 'https://en.wikipedia.org/wiki/Tiger'\n",
    "\n",
    "url1 = 'https://www.microspot.ch/de/computer-gaming/notebooks/notebook--c511000/apple-macbook-pro-2023-14-2-apple-m3-pro-11-core-chip-18-gb-ram-512-gb-ssd--p0014039927'\n",
    "url2 = 'https://www.microspot.ch/de/computer-gaming/notebooks/notebook--c511000/apple-macbook-air-2024-13-6-apple-m3-chip-8-gb-ram-256-gb-ssd--p0014109929'\n",
    "\n",
    "\n",
    "# Take screenshots\n",
    "screenshot1 = 'screenshot1.png'\n",
    "screenshot2 = 'screenshot2.png'\n",
    "take_screenshot(url1, screenshot1)\n",
    "take_screenshot(url2, screenshot2)\n",
    "\n",
    "# Compare the screenshots\n",
    "diff_image = 'difference.png'\n",
    "compare_screenshots(screenshot1, screenshot2, diff_image)\n",
    "\n",
    "print(\"Screenshots taken and comparison done. Check the difference image.\")"
   ]
  },
  {
   "cell_type": "code",
   "execution_count": null,
   "metadata": {},
   "outputs": [],
   "source": []
  },
  {
   "cell_type": "code",
   "execution_count": null,
   "metadata": {},
   "outputs": [],
   "source": []
  }
 ],
 "metadata": {
  "kernelspec": {
   "display_name": "playground",
   "language": "python",
   "name": "python3"
  },
  "language_info": {
   "codemirror_mode": {
    "name": "ipython",
    "version": 3
   },
   "file_extension": ".py",
   "mimetype": "text/x-python",
   "name": "python",
   "nbconvert_exporter": "python",
   "pygments_lexer": "ipython3",
   "version": "3.9.18"
  }
 },
 "nbformat": 4,
 "nbformat_minor": 2
}
