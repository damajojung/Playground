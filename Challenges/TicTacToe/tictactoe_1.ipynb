{
 "cells": [
  {
   "cell_type": "markdown",
   "metadata": {},
   "source": [
    "# Challenge Tic Tac Toe"
   ]
  },
  {
   "cell_type": "code",
   "execution_count": 1,
   "metadata": {},
   "outputs": [
    {
     "name": "stdout",
     "output_type": "stream",
     "text": [
      "Intel MKL WARNING: Support of Intel(R) Streaming SIMD Extensions 4.2 (Intel(R) SSE4.2) enabled only processors has been deprecated. Intel oneAPI Math Kernel Library 2025.0 will require Intel(R) Advanced Vector Extensions (Intel(R) AVX) instructions.\n",
      "Intel MKL WARNING: Support of Intel(R) Streaming SIMD Extensions 4.2 (Intel(R) SSE4.2) enabled only processors has been deprecated. Intel oneAPI Math Kernel Library 2025.0 will require Intel(R) Advanced Vector Extensions (Intel(R) AVX) instructions.\n"
     ]
    }
   ],
   "source": [
    "import numpy as np\n",
    "import pandas as pd\n",
    "import random"
   ]
  },
  {
   "cell_type": "code",
   "execution_count": 2,
   "metadata": {},
   "outputs": [
    {
     "name": "stdout",
     "output_type": "stream",
     "text": [
      "Enter your name:\n",
      "Hello, hey\n"
     ]
    }
   ],
   "source": [
    "print('Enter your name:')\n",
    "x = input()\n",
    "print('Hello, ' + x)"
   ]
  },
  {
   "cell_type": "code",
   "execution_count": 3,
   "metadata": {},
   "outputs": [],
   "source": [
    "t = pd.DataFrame(np.reshape(np.array([\".\" for i in range(0,9)]), (3,3)))"
   ]
  },
  {
   "cell_type": "code",
   "execution_count": 4,
   "metadata": {},
   "outputs": [
    {
     "data": {
      "text/html": [
       "<div>\n",
       "<style scoped>\n",
       "    .dataframe tbody tr th:only-of-type {\n",
       "        vertical-align: middle;\n",
       "    }\n",
       "\n",
       "    .dataframe tbody tr th {\n",
       "        vertical-align: top;\n",
       "    }\n",
       "\n",
       "    .dataframe thead th {\n",
       "        text-align: right;\n",
       "    }\n",
       "</style>\n",
       "<table border=\"1\" class=\"dataframe\">\n",
       "  <thead>\n",
       "    <tr style=\"text-align: right;\">\n",
       "      <th></th>\n",
       "      <th>0</th>\n",
       "      <th>1</th>\n",
       "      <th>2</th>\n",
       "    </tr>\n",
       "  </thead>\n",
       "  <tbody>\n",
       "    <tr>\n",
       "      <th>0</th>\n",
       "      <td>.</td>\n",
       "      <td>.</td>\n",
       "      <td>.</td>\n",
       "    </tr>\n",
       "    <tr>\n",
       "      <th>1</th>\n",
       "      <td>.</td>\n",
       "      <td>.</td>\n",
       "      <td>.</td>\n",
       "    </tr>\n",
       "    <tr>\n",
       "      <th>2</th>\n",
       "      <td>.</td>\n",
       "      <td>.</td>\n",
       "      <td>.</td>\n",
       "    </tr>\n",
       "  </tbody>\n",
       "</table>\n",
       "</div>"
      ],
      "text/plain": [
       "   0  1  2\n",
       "0  .  .  .\n",
       "1  .  .  .\n",
       "2  .  .  ."
      ]
     },
     "execution_count": 4,
     "metadata": {},
     "output_type": "execute_result"
    }
   ],
   "source": [
    "t"
   ]
  },
  {
   "cell_type": "code",
   "execution_count": 5,
   "metadata": {},
   "outputs": [
    {
     "name": "stdout",
     "output_type": "stream",
     "text": [
      "0    0\n",
      "1    1\n",
      "2    0\n",
      "dtype: int64\n",
      "0    0\n",
      "1    1\n",
      "2    0\n",
      "dtype: int64\n",
      "1\n",
      "1\n"
     ]
    }
   ],
   "source": [
    "t.iloc[1,1] = 'x'\n",
    "\n",
    "mask = t.eq('x')\n",
    "\n",
    "count_rowmwise = mask.sum(axis=0) # # Count the rows\n",
    "count_columwise = mask.sum(axis=1) # Count the columns\n",
    "\n",
    "diag_sum = np.trace(mask) # Sum of the diagonal\n",
    "\n",
    "anti_diag_sum = np.sum(np.diag(np.fliplr(mask))) # Sum of the anti diagonal\n",
    "\n",
    "\n",
    "print(count_rowmwise)\n",
    "print(count_columwise)\n",
    "print(diag_sum)\n",
    "print(anti_diag_sum)"
   ]
  },
  {
   "cell_type": "code",
   "execution_count": 6,
   "metadata": {},
   "outputs": [
    {
     "data": {
      "text/plain": [
       "'x'"
      ]
     },
     "execution_count": 6,
     "metadata": {},
     "output_type": "execute_result"
    }
   ],
   "source": [
    "index_map = {\n",
    "    \"1\": (0,0),\n",
    "    \"2\": (0,1),\n",
    "    \"3\": (0,2),\n",
    "    \"4\": (1,0),\n",
    "    \"5\": (1,1),\n",
    "    \"6\": (1,2),\n",
    "    \"7\": (2,0),\n",
    "    \"8\": (2,1),\n",
    "    \"9\": (2,2),\n",
    "}\n",
    "\n",
    "t.iloc[index_map[\"5\"]]"
   ]
  },
  {
   "cell_type": "code",
   "execution_count": 38,
   "metadata": {},
   "outputs": [
    {
     "name": "stdout",
     "output_type": "stream",
     "text": [
      "Welcome to TicTacToe. Please select whether you want to be playedr x or o:\n",
      "Thank you, you have chosen x. Here are the rules. The game used in this round looks as follows:\n",
      "   0  1  2\n",
      "0  1  2  3\n",
      "1  4  5  6\n",
      "2  7  8  9\n",
      "You simply have to enter the number of the field in order to make your next move. Whoever gets first 3 in a row, column or diagonal wins. Let us begin!\n",
      "The first player will be drawn automatically. And the first player is:\n",
      "****   o   ****\n",
      "The game starts now.\n",
      "Which is your next move player o? Plase select a number between 1-9 which corresponds to:\n",
      "    0  1  2\n",
      "0  1  2  3\n",
      "1  4  5  6\n",
      "2  7  8  9\n",
      "the type of the curent player is <class 'str'>\n",
      "Thank you, you chose...\n",
      "   0  1  2\n",
      "0  .  .  .\n",
      "1  .  .  .\n",
      "2  o  .  .\n",
      "Onto the next round.\n",
      "Which is your next move player x? Plase select a number between 1-9 which corresponds to:\n",
      "    0  1  2\n",
      "0  1  2  3\n",
      "1  4  5  6\n",
      "2  7  8  9\n",
      "the type of the curent player is <class 'str'>\n",
      "Thank you, you chose...\n",
      "   0  1  2\n",
      "0  x  .  .\n",
      "1  .  .  .\n",
      "2  o  .  .\n",
      "Onto the next round.\n",
      "Which is your next move player o? Plase select a number between 1-9 which corresponds to:\n",
      "    0  1  2\n",
      "0  1  2  3\n",
      "1  4  5  6\n",
      "2  7  8  9\n",
      "the type of the curent player is <class 'str'>\n",
      "Thank you, you chose...\n",
      "   0  1  2\n",
      "0  x  .  .\n",
      "1  .  .  .\n",
      "2  o  o  .\n",
      "Onto the next round.\n",
      "Which is your next move player x? Plase select a number between 1-9 which corresponds to:\n",
      "    0  1  2\n",
      "0  1  2  3\n",
      "1  4  5  6\n",
      "2  7  8  9\n",
      "the type of the curent player is <class 'str'>\n",
      "Thank you, you chose...\n",
      "   0  1  2\n",
      "0  x  x  .\n",
      "1  .  .  .\n",
      "2  o  o  .\n",
      "Onto the next round.\n",
      "Which is your next move player o? Plase select a number between 1-9 which corresponds to:\n",
      "    0  1  2\n",
      "0  1  2  3\n",
      "1  4  5  6\n",
      "2  7  8  9\n",
      "the type of the curent player is <class 'str'>\n",
      "Thank you, you chose...\n",
      "   0  1  2\n",
      "0  x  x  .\n",
      "1  .  .  .\n",
      "2  o  o  o\n"
     ]
    },
    {
     "ename": "NameError",
     "evalue": "name 'current_play' is not defined",
     "output_type": "error",
     "traceback": [
      "\u001b[0;31m---------------------------------------------------------------------------\u001b[0m",
      "\u001b[0;31mNameError\u001b[0m                                 Traceback (most recent call last)",
      "\u001b[1;32m/Users/dj/Documents/GitHub/Playground/Challenges/TicTacToe/tictactoe_1.ipynb Cell 8\u001b[0m line \u001b[0;36m7\n\u001b[1;32m     <a href='vscode-notebook-cell:/Users/dj/Documents/GitHub/Playground/Challenges/TicTacToe/tictactoe_1.ipynb#X10sZmlsZQ%3D%3D?line=72'>73</a>\u001b[0m winner \u001b[39m=\u001b[39m check(t, current_player)\n\u001b[1;32m     <a href='vscode-notebook-cell:/Users/dj/Documents/GitHub/Playground/Challenges/TicTacToe/tictactoe_1.ipynb#X10sZmlsZQ%3D%3D?line=73'>74</a>\u001b[0m \u001b[39mif\u001b[39;00m winner:\n\u001b[0;32m---> <a href='vscode-notebook-cell:/Users/dj/Documents/GitHub/Playground/Challenges/TicTacToe/tictactoe_1.ipynb#X10sZmlsZQ%3D%3D?line=74'>75</a>\u001b[0m     \u001b[39mprint\u001b[39m(\u001b[39mf\u001b[39m\u001b[39m\"\u001b[39m\u001b[39mCongratulation, player \u001b[39m\u001b[39m{\u001b[39;00mcurrent_play\u001b[39m}\u001b[39;00m\u001b[39m won!!!\u001b[39m\u001b[39m\"\u001b[39m)\n\u001b[1;32m     <a href='vscode-notebook-cell:/Users/dj/Documents/GitHub/Playground/Challenges/TicTacToe/tictactoe_1.ipynb#X10sZmlsZQ%3D%3D?line=75'>76</a>\u001b[0m     game_not_finsished \u001b[39m=\u001b[39m \u001b[39mFalse\u001b[39;00m\n\u001b[1;32m     <a href='vscode-notebook-cell:/Users/dj/Documents/GitHub/Playground/Challenges/TicTacToe/tictactoe_1.ipynb#X10sZmlsZQ%3D%3D?line=76'>77</a>\u001b[0m \u001b[39melse\u001b[39;00m:\n",
      "\u001b[0;31mNameError\u001b[0m: name 'current_play' is not defined"
     ]
    }
   ],
   "source": [
    "game_not_finsished = True\n",
    "first_round = True\n",
    "random_draw = True\n",
    "player_x = None; player_o = None;player_temp = None;current_player = None; example = None;t = None\n",
    "\n",
    "index_map = {\n",
    "    \"1\": (0,0),\n",
    "    \"2\": (0,1),\n",
    "    \"3\": (0,2),\n",
    "    \"4\": (1,0),\n",
    "    \"5\": (1,1),\n",
    "    \"6\": (1,2),\n",
    "    \"7\": (2,0),\n",
    "    \"8\": (2,1),\n",
    "    \"9\": (2,2),\n",
    "}\n",
    "\n",
    "\n",
    "def check_draw(dat):\n",
    "    # Chickly check for draw:\n",
    "    mask_draw = dat.eq('.').sum().sum()\n",
    "\n",
    "    if mask_draw == 0:\n",
    "        return True\n",
    "    else:\n",
    "        return False\n",
    "\n",
    "def check(dat, player):\n",
    "    mask = dat.eq(player)\n",
    "    count_rowmwise = max(mask.sum(axis=0)) # # Count the rows\n",
    "    count_columwise = max(mask.sum(axis=1)) # Count the columns\n",
    "    diag_sum = np.trace(mask) # Sum of the diagonal\n",
    "    anti_diag_sum = np.sum(np.diag(np.fliplr(mask))) # Sum of the anti diagonal\n",
    "\n",
    "    all_checks = [count_columwise, count_rowmwise, diag_sum, anti_diag_sum]\n",
    "\n",
    "    if 3 in all_checks:\n",
    "        return True\n",
    "    else:\n",
    "        return False\n",
    "\n",
    "\n",
    "while game_not_finsished:\n",
    "    if first_round:\n",
    "        print(\"Welcome to TicTacToe. Please select whether you want to be playedr x or o:\")\n",
    "        player_temp = input()\n",
    "        if player_temp == \"x\": \n",
    "            player_x = player_temp\n",
    "            player_o = 'o'\n",
    "        else:\n",
    "            player_x = 'x'\n",
    "            player_o = player_temp\n",
    "\n",
    "        print(f\"Thank you, you have chosen {player_temp}. Here are the rules. The game used in this round looks as follows:\")\n",
    "        example = pd.DataFrame(np.reshape(np.array([i for i in range(1,10)]), (3,3)))\n",
    "        print(example)\n",
    "        print('You simply have to enter the number of the field in order to make your next move. Whoever gets first 3 in a row, column or diagonal wins. Let us begin!')\n",
    "        t = pd.DataFrame(np.reshape(np.array([\".\" for i in range(0,9)]), (3,3)))\n",
    "        first_round = False\n",
    "\n",
    "    if random_draw:\n",
    "        print(\"The first player will be drawn automatically. And the first player is:\")\n",
    "        first_move = random.sample(['x', 'o'], k = 1)\n",
    "        if first_move[0] in ['x']:\n",
    "            print(f'****   x   ****')\n",
    "            current_player = player_x\n",
    "        else:\n",
    "            print(f'****   o   ****')\n",
    "            current_player = player_o\n",
    "        print('The game starts now.')\n",
    "        random_draw = False\n",
    "\n",
    "    print(f'Which is your next move player {current_player}? Plase select a number between 1-9 which corresponds to:\\n {example}')\n",
    "    next_move = input()\n",
    "    t.iloc[index_map[next_move]] = current_player\n",
    "\n",
    "    print(\"Thank you, you chose...\")\n",
    "\n",
    "    print(f\"{t}\")\n",
    "    \n",
    "    draw = check_draw(t)\n",
    "    if draw:\n",
    "        print(f'It is a draw. Please play again in another round. Good luck! :)')\n",
    "        game_not_finsished = False\n",
    "\n",
    "\n",
    "    winner = check(t, current_player)\n",
    "    if winner:\n",
    "        print(f'Congratulation, player {current_player} won!!!')\n",
    "        game_not_finsished = False\n",
    "    else:\n",
    "        print('Onto the next round.')\n",
    "        if current_player == 'x':\n",
    "            current_player = player_o\n",
    "        else:\n",
    "            current_player = player_x\n",
    "        \n",
    "\n",
    "    \n"
   ]
  },
  {
   "cell_type": "code",
   "execution_count": 36,
   "metadata": {},
   "outputs": [
    {
     "data": {
      "text/html": [
       "<div>\n",
       "<style scoped>\n",
       "    .dataframe tbody tr th:only-of-type {\n",
       "        vertical-align: middle;\n",
       "    }\n",
       "\n",
       "    .dataframe tbody tr th {\n",
       "        vertical-align: top;\n",
       "    }\n",
       "\n",
       "    .dataframe thead th {\n",
       "        text-align: right;\n",
       "    }\n",
       "</style>\n",
       "<table border=\"1\" class=\"dataframe\">\n",
       "  <thead>\n",
       "    <tr style=\"text-align: right;\">\n",
       "      <th></th>\n",
       "      <th>0</th>\n",
       "      <th>1</th>\n",
       "      <th>2</th>\n",
       "    </tr>\n",
       "  </thead>\n",
       "  <tbody>\n",
       "    <tr>\n",
       "      <th>0</th>\n",
       "      <td>x</td>\n",
       "      <td>o</td>\n",
       "      <td>x</td>\n",
       "    </tr>\n",
       "    <tr>\n",
       "      <th>1</th>\n",
       "      <td>o</td>\n",
       "      <td>x</td>\n",
       "      <td>x</td>\n",
       "    </tr>\n",
       "    <tr>\n",
       "      <th>2</th>\n",
       "      <td>o</td>\n",
       "      <td>x</td>\n",
       "      <td>o</td>\n",
       "    </tr>\n",
       "  </tbody>\n",
       "</table>\n",
       "</div>"
      ],
      "text/plain": [
       "   0  1  2\n",
       "0  x  o  x\n",
       "1  o  x  x\n",
       "2  o  x  o"
      ]
     },
     "execution_count": 36,
     "metadata": {},
     "output_type": "execute_result"
    }
   ],
   "source": [
    "t"
   ]
  },
  {
   "cell_type": "code",
   "execution_count": null,
   "metadata": {},
   "outputs": [],
   "source": []
  }
 ],
 "metadata": {
  "kernelspec": {
   "display_name": "base",
   "language": "python",
   "name": "python3"
  },
  "language_info": {
   "codemirror_mode": {
    "name": "ipython",
    "version": 3
   },
   "file_extension": ".py",
   "mimetype": "text/x-python",
   "name": "python",
   "nbconvert_exporter": "python",
   "pygments_lexer": "ipython3",
   "version": "3.9.18"
  }
 },
 "nbformat": 4,
 "nbformat_minor": 2
}
