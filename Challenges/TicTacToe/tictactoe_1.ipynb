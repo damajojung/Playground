{
 "cells": [
  {
   "cell_type": "markdown",
   "metadata": {},
   "source": [
    "# Challenge Tic Tac Toe"
   ]
  },
  {
   "cell_type": "code",
   "execution_count": 32,
   "metadata": {},
   "outputs": [],
   "source": [
    "import numpy as np\n",
    "import pandas as pd\n",
    "import random"
   ]
  },
  {
   "cell_type": "code",
   "execution_count": 2,
   "metadata": {},
   "outputs": [
    {
     "name": "stdout",
     "output_type": "stream",
     "text": [
      "Enter your name:\n",
      "Hello, David\n"
     ]
    }
   ],
   "source": [
    "print('Enter your name:')\n",
    "x = input()\n",
    "print('Hello, ' + x)"
   ]
  },
  {
   "cell_type": "code",
   "execution_count": 3,
   "metadata": {},
   "outputs": [],
   "source": [
    "t = pd.DataFrame(np.reshape(np.array([\".\" for i in range(0,9)]), (3,3)))"
   ]
  },
  {
   "cell_type": "code",
   "execution_count": 4,
   "metadata": {},
   "outputs": [
    {
     "data": {
      "text/html": [
       "<div>\n",
       "<style scoped>\n",
       "    .dataframe tbody tr th:only-of-type {\n",
       "        vertical-align: middle;\n",
       "    }\n",
       "\n",
       "    .dataframe tbody tr th {\n",
       "        vertical-align: top;\n",
       "    }\n",
       "\n",
       "    .dataframe thead th {\n",
       "        text-align: right;\n",
       "    }\n",
       "</style>\n",
       "<table border=\"1\" class=\"dataframe\">\n",
       "  <thead>\n",
       "    <tr style=\"text-align: right;\">\n",
       "      <th></th>\n",
       "      <th>0</th>\n",
       "      <th>1</th>\n",
       "      <th>2</th>\n",
       "    </tr>\n",
       "  </thead>\n",
       "  <tbody>\n",
       "    <tr>\n",
       "      <th>0</th>\n",
       "      <td>.</td>\n",
       "      <td>.</td>\n",
       "      <td>.</td>\n",
       "    </tr>\n",
       "    <tr>\n",
       "      <th>1</th>\n",
       "      <td>.</td>\n",
       "      <td>.</td>\n",
       "      <td>.</td>\n",
       "    </tr>\n",
       "    <tr>\n",
       "      <th>2</th>\n",
       "      <td>.</td>\n",
       "      <td>.</td>\n",
       "      <td>.</td>\n",
       "    </tr>\n",
       "  </tbody>\n",
       "</table>\n",
       "</div>"
      ],
      "text/plain": [
       "   0  1  2\n",
       "0  .  .  .\n",
       "1  .  .  .\n",
       "2  .  .  ."
      ]
     },
     "execution_count": 4,
     "metadata": {},
     "output_type": "execute_result"
    }
   ],
   "source": [
    "t"
   ]
  },
  {
   "cell_type": "code",
   "execution_count": 5,
   "metadata": {},
   "outputs": [
    {
     "name": "stdout",
     "output_type": "stream",
     "text": [
      "0    0\n",
      "1    1\n",
      "2    0\n",
      "dtype: int64\n",
      "0    0\n",
      "1    1\n",
      "2    0\n",
      "dtype: int64\n",
      "1\n",
      "1\n"
     ]
    }
   ],
   "source": [
    "t.iloc[1,1] = 'x'\n",
    "\n",
    "mask = t.eq('x')\n",
    "\n",
    "count_rowmwise = mask.sum(axis=0) # # Count the rows\n",
    "count_columwise = mask.sum(axis=1) # Count the columns\n",
    "\n",
    "diag_sum = np.trace(mask) # Sum of the diagonal\n",
    "\n",
    "anti_diag_sum = np.sum(np.diag(np.fliplr(mask))) # Sum of the anti diagonal\n",
    "\n",
    "\n",
    "print(count_rowmwise)\n",
    "print(count_columwise)\n",
    "print(diag_sum)\n",
    "print(anti_diag_sum)"
   ]
  },
  {
   "cell_type": "code",
   "execution_count": 26,
   "metadata": {},
   "outputs": [
    {
     "data": {
      "text/plain": [
       "'x'"
      ]
     },
     "execution_count": 26,
     "metadata": {},
     "output_type": "execute_result"
    }
   ],
   "source": [
    "test = {\n",
    "    \"1\": (0,0),\n",
    "    \"2\": (0,1),\n",
    "    \"3\": (0,2),\n",
    "    \"4\": (1,0),\n",
    "    \"5\": (1,1),\n",
    "    \"6\": (1,2),\n",
    "    \"7\": (2,0),\n",
    "    \"8\": (2,1),\n",
    "    \"9\": (2,2),\n",
    "}\n",
    "\n",
    "t.iloc[test[\"5\"]]"
   ]
  },
  {
   "cell_type": "code",
   "execution_count": 51,
   "metadata": {},
   "outputs": [
    {
     "name": "stdout",
     "output_type": "stream",
     "text": [
      "Welcome to TicTacToe. Please select whether you want to be playedr x or o:\n",
      "Thank you, you have chosen x. Here are the rules. The game used in this round looks as follows:\n",
      "   0  1  2\n",
      "0  1  2  3\n",
      "1  4  5  6\n",
      "2  7  8  9\n",
      "You simply have to enter the number of the field in order to make your next move. Whoever gets first 3 in a row, column or diagonal wins. Let us begin!\n",
      "The first player will be drawn automatically. And the first player is:\n"
     ]
    },
    {
     "ename": "NameError",
     "evalue": "name 'player_o' is not defined",
     "output_type": "error",
     "traceback": [
      "\u001b[0;31m---------------------------------------------------------------------------\u001b[0m",
      "\u001b[0;31mNameError\u001b[0m                                 Traceback (most recent call last)",
      "\u001b[1;32m/Users/dj/Documents/GitHub/Playground/Challenges/TicTacToe/tictactoe_1.ipynb Cell 8\u001b[0m line \u001b[0;36m2\n\u001b[1;32m     <a href='vscode-notebook-cell:/Users/dj/Documents/GitHub/Playground/Challenges/TicTacToe/tictactoe_1.ipynb#X12sZmlsZQ%3D%3D?line=20'>21</a>\u001b[0m \u001b[39mif\u001b[39;00m random_draw:\n\u001b[1;32m     <a href='vscode-notebook-cell:/Users/dj/Documents/GitHub/Playground/Challenges/TicTacToe/tictactoe_1.ipynb#X12sZmlsZQ%3D%3D?line=21'>22</a>\u001b[0m     \u001b[39mprint\u001b[39m(\u001b[39m\"\u001b[39m\u001b[39mThe first player will be drawn automatically. And the first player is:\u001b[39m\u001b[39m\"\u001b[39m)\n\u001b[0;32m---> <a href='vscode-notebook-cell:/Users/dj/Documents/GitHub/Playground/Challenges/TicTacToe/tictactoe_1.ipynb#X12sZmlsZQ%3D%3D?line=22'>23</a>\u001b[0m     first_move \u001b[39m=\u001b[39m random\u001b[39m.\u001b[39msample([player_x, player_o], k \u001b[39m=\u001b[39m \u001b[39m1\u001b[39m)\n\u001b[1;32m     <a href='vscode-notebook-cell:/Users/dj/Documents/GitHub/Playground/Challenges/TicTacToe/tictactoe_1.ipynb#X12sZmlsZQ%3D%3D?line=23'>24</a>\u001b[0m     \u001b[39mprint\u001b[39m(\u001b[39mf\u001b[39m\u001b[39m'\u001b[39m\u001b[39m****\u001b[39m\u001b[39m{\u001b[39;00mfirst_move\u001b[39m}\u001b[39;00m\u001b[39m****\u001b[39m\u001b[39m'\u001b[39m)\n\u001b[1;32m     <a href='vscode-notebook-cell:/Users/dj/Documents/GitHub/Playground/Challenges/TicTacToe/tictactoe_1.ipynb#X12sZmlsZQ%3D%3D?line=24'>25</a>\u001b[0m     random_draw \u001b[39m=\u001b[39m \u001b[39mFalse\u001b[39;00m\n",
      "\u001b[0;31mNameError\u001b[0m: name 'player_o' is not defined"
     ]
    }
   ],
   "source": [
    "game_not_finsished = True\n",
    "first_round = True\n",
    "random_draw = True\n",
    "\n",
    "while game_not_finsished:\n",
    "    if first_round:\n",
    "        print(\"Welcome to TicTacToe. Please select whether you want to be playedr x or o:\")\n",
    "        player_temp = input()\n",
    "        if player_temp == \"x\":\n",
    "            player_x = player_temp\n",
    "        else:\n",
    "            player_o = player_temp\n",
    "\n",
    "        print(f\"Thank you, you have chosen {player_temp}. Here are the rules. The game used in this round looks as follows:\")\n",
    "        example = pd.DataFrame(np.reshape(np.array([i for i in range(1,10)]), (3,3)))\n",
    "        print(example)\n",
    "        print('You simply have to enter the number of the field in order to make your next move. Whoever gets first 3 in a row, column or diagonal wins. Let us begin!')\n",
    "        first_round = False\n",
    "        game_not_finsished = False\n",
    "\n",
    "    if random_draw:\n",
    "        print(\"The first player will be drawn automatically. And the first player is:\")\n",
    "        first_move = random.sample([player_x, player_o], k = 1)\n",
    "        print(f'****{first_move}****')\n",
    "        random_draw = False\n"
   ]
  },
  {
   "cell_type": "code",
   "execution_count": null,
   "metadata": {},
   "outputs": [],
   "source": []
  },
  {
   "cell_type": "code",
   "execution_count": 50,
   "metadata": {},
   "outputs": [
    {
     "data": {
      "text/plain": [
       "[2]"
      ]
     },
     "execution_count": 50,
     "metadata": {},
     "output_type": "execute_result"
    }
   ],
   "source": [
    "random.sample([1,2,3], k = 1)"
   ]
  },
  {
   "cell_type": "code",
   "execution_count": null,
   "metadata": {},
   "outputs": [],
   "source": []
  }
 ],
 "metadata": {
  "kernelspec": {
   "display_name": "base",
   "language": "python",
   "name": "python3"
  },
  "language_info": {
   "codemirror_mode": {
    "name": "ipython",
    "version": 3
   },
   "file_extension": ".py",
   "mimetype": "text/x-python",
   "name": "python",
   "nbconvert_exporter": "python",
   "pygments_lexer": "ipython3",
   "version": "3.9.18"
  }
 },
 "nbformat": 4,
 "nbformat_minor": 2
}
