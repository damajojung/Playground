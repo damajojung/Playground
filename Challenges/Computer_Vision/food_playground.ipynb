{
 "cells": [
  {
   "cell_type": "markdown",
   "metadata": {},
   "source": [
    "# Food Recognition Challenge"
   ]
  },
  {
   "cell_type": "code",
   "execution_count": 4,
   "metadata": {},
   "outputs": [
    {
     "name": "stderr",
     "output_type": "stream",
     "text": []
    },
    {
     "ename": "OSError",
     "evalue": "[Errno 30] Read-only file system: '/kaggle'",
     "output_type": "error",
     "traceback": [
      "\u001b[0;31m---------------------------------------------------------------------------\u001b[0m",
      "\u001b[0;31mOSError\u001b[0m                                   Traceback (most recent call last)",
      "\u001b[1;32m/Users/dj/Documents/GitHub/Playground/Challenges/FoodRecognition/food_playground.ipynb Cell 2\u001b[0m line \u001b[0;36m4\n\u001b[1;32m      <a href='vscode-notebook-cell:/Users/dj/Documents/GitHub/Playground/Challenges/FoodRecognition/food_playground.ipynb#W1sZmlsZQ%3D%3D?line=0'>1</a>\u001b[0m \u001b[39mimport\u001b[39;00m \u001b[39mhub\u001b[39;00m\n\u001b[1;32m      <a href='vscode-notebook-cell:/Users/dj/Documents/GitHub/Playground/Challenges/FoodRecognition/food_playground.ipynb#W1sZmlsZQ%3D%3D?line=1'>2</a>\u001b[0m \u001b[39mimport\u001b[39;00m \u001b[39mos\u001b[39;00m\n\u001b[0;32m----> <a href='vscode-notebook-cell:/Users/dj/Documents/GitHub/Playground/Challenges/FoodRecognition/food_playground.ipynb#W1sZmlsZQ%3D%3D?line=3'>4</a>\u001b[0m ds \u001b[39m=\u001b[39m hub\u001b[39m.\u001b[39;49mdataset(\u001b[39m'\u001b[39;49m\u001b[39m/kaggle/input/food-recognition-2022/hub/train/\u001b[39;49m\u001b[39m'\u001b[39;49m)\n",
      "File \u001b[0;32m/opt/anaconda3/envs/playground/lib/python3.9/site-packages/deeplake/util/spinner.py:151\u001b[0m, in \u001b[0;36mspinner.<locals>.inner\u001b[0;34m(*args, **kwargs)\u001b[0m\n\u001b[1;32m    148\u001b[0m     spinner \u001b[39m=\u001b[39m Spinner()\n\u001b[1;32m    150\u001b[0m     \u001b[39mwith\u001b[39;00m run_spinner(spinner):\n\u001b[0;32m--> 151\u001b[0m         \u001b[39mreturn\u001b[39;00m func(\u001b[39m*\u001b[39;49margs, \u001b[39m*\u001b[39;49m\u001b[39m*\u001b[39;49mkwargs)\n\u001b[1;32m    152\u001b[0m \u001b[39melse\u001b[39;00m:\n\u001b[1;32m    153\u001b[0m     \u001b[39mreturn\u001b[39;00m func(\u001b[39m*\u001b[39margs, \u001b[39m*\u001b[39m\u001b[39m*\u001b[39mkwargs)\n",
      "File \u001b[0;32m/opt/anaconda3/envs/playground/lib/python3.9/site-packages/deeplake/api/dataset.py:294\u001b[0m, in \u001b[0;36mdataset.init\u001b[0;34m(path, runtime, read_only, overwrite, public, memory_cache_size, local_cache_size, creds, token, org_id, verbose, access_method, unlink, reset, check_integrity, lock_enabled, lock_timeout, index_params)\u001b[0m\n\u001b[1;32m    292\u001b[0m \u001b[39mexcept\u001b[39;00m \u001b[39mException\u001b[39;00m \u001b[39mas\u001b[39;00m e:\n\u001b[1;32m    293\u001b[0m     \u001b[39mif\u001b[39;00m create:\n\u001b[0;32m--> 294\u001b[0m         \u001b[39mraise\u001b[39;00m e\n\u001b[1;32m    295\u001b[0m     \u001b[39mif\u001b[39;00m access_method \u001b[39m==\u001b[39m \u001b[39m\"\u001b[39m\u001b[39mstream\u001b[39m\u001b[39m\"\u001b[39m:\n\u001b[1;32m    296\u001b[0m         \u001b[39mif\u001b[39;00m \u001b[39mnot\u001b[39;00m reset:\n",
      "File \u001b[0;32m/opt/anaconda3/envs/playground/lib/python3.9/site-packages/deeplake/api/dataset.py:287\u001b[0m, in \u001b[0;36mdataset.init\u001b[0;34m(path, runtime, read_only, overwrite, public, memory_cache_size, local_cache_size, creds, token, org_id, verbose, access_method, unlink, reset, check_integrity, lock_enabled, lock_timeout, index_params)\u001b[0m\n\u001b[1;32m    272\u001b[0m     dataset_kwargs\u001b[39m.\u001b[39mupdate(\n\u001b[1;32m    273\u001b[0m         {\n\u001b[1;32m    274\u001b[0m             \u001b[39m\"\u001b[39m\u001b[39maccess_method\u001b[39m\u001b[39m\"\u001b[39m: access_method,\n\u001b[0;32m   (...)\u001b[0m\n\u001b[1;32m    283\u001b[0m         }\n\u001b[1;32m    284\u001b[0m     )\n\u001b[1;32m    286\u001b[0m \u001b[39mtry\u001b[39;00m:\n\u001b[0;32m--> 287\u001b[0m     \u001b[39mreturn\u001b[39;00m dataset\u001b[39m.\u001b[39;49m_load(\n\u001b[1;32m    288\u001b[0m         dataset_kwargs, access_method, create, check_integrity\u001b[39m=\u001b[39;49mcheck_integrity\n\u001b[1;32m    289\u001b[0m     )\n\u001b[1;32m    290\u001b[0m \u001b[39mexcept\u001b[39;00m (AgreementError, CheckoutError, LockedException) \u001b[39mas\u001b[39;00m e:\n\u001b[1;32m    291\u001b[0m     \u001b[39mraise\u001b[39;00m e \u001b[39mfrom\u001b[39;00m \u001b[39mNone\u001b[39;00m\n",
      "File \u001b[0;32m/opt/anaconda3/envs/playground/lib/python3.9/site-packages/deeplake/api/dataset.py:733\u001b[0m, in \u001b[0;36mdataset._load\u001b[0;34m(dataset_kwargs, access_method, create, check_integrity)\u001b[0m\n\u001b[1;32m    730\u001b[0m \u001b[39m@staticmethod\u001b[39m\n\u001b[1;32m    731\u001b[0m \u001b[39mdef\u001b[39;00m \u001b[39m_load\u001b[39m(dataset_kwargs, access_method\u001b[39m=\u001b[39m\u001b[39mNone\u001b[39;00m, create\u001b[39m=\u001b[39m\u001b[39mFalse\u001b[39;00m, check_integrity\u001b[39m=\u001b[39m\u001b[39mNone\u001b[39;00m):\n\u001b[1;32m    732\u001b[0m     \u001b[39mif\u001b[39;00m access_method \u001b[39min\u001b[39;00m (\u001b[39m\"\u001b[39m\u001b[39mstream\u001b[39m\u001b[39m\"\u001b[39m, \u001b[39mNone\u001b[39;00m):\n\u001b[0;32m--> 733\u001b[0m         ret \u001b[39m=\u001b[39m dataset_factory(\u001b[39m*\u001b[39;49m\u001b[39m*\u001b[39;49mdataset_kwargs)\n\u001b[1;32m    734\u001b[0m         \u001b[39mif\u001b[39;00m create:\n\u001b[1;32m    735\u001b[0m             dataset_created(ret)\n",
      "File \u001b[0;32m/opt/anaconda3/envs/playground/lib/python3.9/site-packages/deeplake/core/dataset/__init__.py:23\u001b[0m, in \u001b[0;36mdataset_factory\u001b[0;34m(path, *args, **kwargs)\u001b[0m\n\u001b[1;32m     20\u001b[0m     clz \u001b[39m=\u001b[39m Dataset\n\u001b[1;32m     22\u001b[0m \u001b[39mif\u001b[39;00m clz \u001b[39min\u001b[39;00m {Dataset, DeepLakeCloudDataset}:\n\u001b[0;32m---> 23\u001b[0m     ds \u001b[39m=\u001b[39m clz(path\u001b[39m=\u001b[39;49mpath, \u001b[39m*\u001b[39;49margs, \u001b[39m*\u001b[39;49m\u001b[39m*\u001b[39;49mkwargs)\n\u001b[1;32m     24\u001b[0m     \u001b[39mif\u001b[39;00m ds\u001b[39m.\u001b[39mroot\u001b[39m.\u001b[39minfo\u001b[39m.\u001b[39mget(\u001b[39m\"\u001b[39m\u001b[39mvirtual-datasource\u001b[39m\u001b[39m\"\u001b[39m, \u001b[39mFalse\u001b[39;00m):\n\u001b[1;32m     25\u001b[0m         ds \u001b[39m=\u001b[39m ds\u001b[39m.\u001b[39m_get_view()\n",
      "File \u001b[0;32m/opt/anaconda3/envs/playground/lib/python3.9/site-packages/deeplake/core/dataset/dataset.py:276\u001b[0m, in \u001b[0;36mDataset.__init__\u001b[0;34m(self, storage, index, group_index, read_only, public, token, org_id, verbose, version_state, path, address, is_iteration, link_creds, pad_tensors, lock_enabled, lock_timeout, enabled_tensors, view_base, libdeeplake_dataset, index_params, **kwargs)\u001b[0m\n\u001b[1;32m    273\u001b[0m dct\u001b[39m.\u001b[39mupdate(d)\n\u001b[1;32m    275\u001b[0m \u001b[39mtry\u001b[39;00m:\n\u001b[0;32m--> 276\u001b[0m     \u001b[39mself\u001b[39;49m\u001b[39m.\u001b[39;49m_set_derived_attributes(address\u001b[39m=\u001b[39;49maddress)\n\u001b[1;32m    277\u001b[0m \u001b[39mexcept\u001b[39;00m LockedException:\n\u001b[1;32m    278\u001b[0m     \u001b[39mraise\u001b[39;00m LockedException(\n\u001b[1;32m    279\u001b[0m         \u001b[39m\"\u001b[39m\u001b[39mThis dataset cannot be open for writing as it is locked by another machine. Try loading the dataset with `read_only=True`.\u001b[39m\u001b[39m\"\u001b[39m\n\u001b[1;32m    280\u001b[0m     )\n",
      "File \u001b[0;32m/opt/anaconda3/envs/playground/lib/python3.9/site-packages/deeplake/core/dataset/dataset.py:2431\u001b[0m, in \u001b[0;36mDataset._set_derived_attributes\u001b[0;34m(self, verbose, address)\u001b[0m\n\u001b[1;32m   2429\u001b[0m \u001b[39mself\u001b[39m\u001b[39m.\u001b[39m_load_version_info(address)\n\u001b[1;32m   2430\u001b[0m \u001b[39mself\u001b[39m\u001b[39m.\u001b[39m_load_link_creds()\n\u001b[0;32m-> 2431\u001b[0m \u001b[39mself\u001b[39;49m\u001b[39m.\u001b[39;49m_set_read_only(\n\u001b[1;32m   2432\u001b[0m     \u001b[39mself\u001b[39;49m\u001b[39m.\u001b[39;49m_read_only, err\u001b[39m=\u001b[39;49m\u001b[39mself\u001b[39;49m\u001b[39m.\u001b[39;49m_read_only_error\n\u001b[1;32m   2433\u001b[0m )  \u001b[39m# TODO: weird fix for dataset unpickling\u001b[39;00m\n\u001b[1;32m   2434\u001b[0m \u001b[39mself\u001b[39m\u001b[39m.\u001b[39m_populate_meta(\n\u001b[1;32m   2435\u001b[0m     address, verbose\n\u001b[1;32m   2436\u001b[0m )  \u001b[39m# TODO: use the same scheme as `load_info`\u001b[39;00m\n\u001b[1;32m   2437\u001b[0m \u001b[39mif\u001b[39;00m \u001b[39mself\u001b[39m\u001b[39m.\u001b[39mindex\u001b[39m.\u001b[39mis_trivial():\n",
      "File \u001b[0;32m/opt/anaconda3/envs/playground/lib/python3.9/site-packages/deeplake/core/dataset/dataset.py:2022\u001b[0m, in \u001b[0;36mDataset._set_read_only\u001b[0;34m(self, value, err)\u001b[0m\n\u001b[1;32m   2020\u001b[0m \u001b[39melse\u001b[39;00m:\n\u001b[1;32m   2021\u001b[0m     \u001b[39mtry\u001b[39;00m:\n\u001b[0;32m-> 2022\u001b[0m         locked \u001b[39m=\u001b[39m \u001b[39mself\u001b[39;49m\u001b[39m.\u001b[39;49m_lock(err\u001b[39m=\u001b[39;49merr)\n\u001b[1;32m   2023\u001b[0m         \u001b[39mif\u001b[39;00m locked:\n\u001b[1;32m   2024\u001b[0m             \u001b[39mself\u001b[39m\u001b[39m.\u001b[39mstorage\u001b[39m.\u001b[39mdisable_readonly()\n",
      "File \u001b[0;32m/opt/anaconda3/envs/playground/lib/python3.9/site-packages/deeplake/core/dataset/dataset.py:1468\u001b[0m, in \u001b[0;36mDataset._lock\u001b[0;34m(self, err, verbose)\u001b[0m\n\u001b[1;32m   1465\u001b[0m \u001b[39mtry\u001b[39;00m:\n\u001b[1;32m   1466\u001b[0m     \u001b[39m# temporarily disable read only on base storage, to try to acquire lock, if exception, it will be again made readonly\u001b[39;00m\n\u001b[1;32m   1467\u001b[0m     storage\u001b[39m.\u001b[39mdisable_readonly()\n\u001b[0;32m-> 1468\u001b[0m     lock_dataset(\n\u001b[1;32m   1469\u001b[0m         \u001b[39mself\u001b[39;49m,\n\u001b[1;32m   1470\u001b[0m         lock_lost_callback\u001b[39m=\u001b[39;49m\u001b[39mself\u001b[39;49m\u001b[39m.\u001b[39;49m_lock_lost_handler,\n\u001b[1;32m   1471\u001b[0m     )\n\u001b[1;32m   1472\u001b[0m \u001b[39mexcept\u001b[39;00m LockedException \u001b[39mas\u001b[39;00m e:\n\u001b[1;32m   1473\u001b[0m     \u001b[39mself\u001b[39m\u001b[39m.\u001b[39m_set_read_only(\u001b[39mTrue\u001b[39;00m, \u001b[39mFalse\u001b[39;00m)\n",
      "File \u001b[0;32m/opt/anaconda3/envs/playground/lib/python3.9/site-packages/deeplake/core/lock.py:274\u001b[0m, in \u001b[0;36mlock_dataset\u001b[0;34m(dataset, lock_lost_callback, version)\u001b[0m\n\u001b[1;32m    272\u001b[0m     lock\u001b[39m.\u001b[39macquire()\n\u001b[1;32m    273\u001b[0m \u001b[39melse\u001b[39;00m:\n\u001b[0;32m--> 274\u001b[0m     lock \u001b[39m=\u001b[39m PersistentLock(\n\u001b[1;32m    275\u001b[0m         storage,\n\u001b[1;32m    276\u001b[0m         path\u001b[39m=\u001b[39;49m_get_lock_file_path(version),\n\u001b[1;32m    277\u001b[0m         lock_lost_callback\u001b[39m=\u001b[39;49mlock_lost_callback,\n\u001b[1;32m    278\u001b[0m         timeout\u001b[39m=\u001b[39;49mdataset\u001b[39m.\u001b[39;49m_lock_timeout,\n\u001b[1;32m    279\u001b[0m     )\n\u001b[1;32m    280\u001b[0m     _LOCKS[key] \u001b[39m=\u001b[39m lock\n\u001b[1;32m    281\u001b[0m _REFS[key]\u001b[39m.\u001b[39madd(\u001b[39mid\u001b[39m(dataset))\n",
      "File \u001b[0;32m/opt/anaconda3/envs/playground/lib/python3.9/site-packages/deeplake/core/lock.py:191\u001b[0m, in \u001b[0;36mPersistentLock.__init__\u001b[0;34m(self, storage, path, lock_lost_callback, timeout)\u001b[0m\n\u001b[1;32m    189\u001b[0m \u001b[39mself\u001b[39m\u001b[39m.\u001b[39macquired \u001b[39m=\u001b[39m \u001b[39mFalse\u001b[39;00m\n\u001b[1;32m    190\u001b[0m \u001b[39mself\u001b[39m\u001b[39m.\u001b[39mtimeout \u001b[39m=\u001b[39m timeout\n\u001b[0;32m--> 191\u001b[0m \u001b[39mself\u001b[39;49m\u001b[39m.\u001b[39;49macquire()\n\u001b[1;32m    192\u001b[0m atexit\u001b[39m.\u001b[39mregister(\u001b[39mself\u001b[39m\u001b[39m.\u001b[39mrelease)\n",
      "File \u001b[0;32m/opt/anaconda3/envs/playground/lib/python3.9/site-packages/deeplake/core/lock.py:201\u001b[0m, in \u001b[0;36mPersistentLock.acquire\u001b[0;34m(self)\u001b[0m\n\u001b[1;32m    199\u001b[0m \u001b[39mif\u001b[39;00m \u001b[39mself\u001b[39m\u001b[39m.\u001b[39macquired:\n\u001b[1;32m    200\u001b[0m     \u001b[39mreturn\u001b[39;00m\n\u001b[0;32m--> 201\u001b[0m \u001b[39mself\u001b[39;49m\u001b[39m.\u001b[39;49mlock\u001b[39m.\u001b[39;49macquire(timeout\u001b[39m=\u001b[39;49m\u001b[39mself\u001b[39;49m\u001b[39m.\u001b[39;49mtimeout)\n\u001b[1;32m    202\u001b[0m \u001b[39mself\u001b[39m\u001b[39m.\u001b[39m_thread \u001b[39m=\u001b[39m threading\u001b[39m.\u001b[39mThread(target\u001b[39m=\u001b[39m\u001b[39mself\u001b[39m\u001b[39m.\u001b[39m_lock_loop, daemon\u001b[39m=\u001b[39m\u001b[39mTrue\u001b[39;00m)\n\u001b[1;32m    203\u001b[0m \u001b[39mself\u001b[39m\u001b[39m.\u001b[39m_thread\u001b[39m.\u001b[39mstart()\n",
      "File \u001b[0;32m/opt/anaconda3/envs/playground/lib/python3.9/site-packages/deeplake/core/lock.py:110\u001b[0m, in \u001b[0;36mLock.acquire\u001b[0;34m(self, timeout)\u001b[0m\n\u001b[1;32m    107\u001b[0m         time\u001b[39m.\u001b[39msleep(\u001b[39mmin\u001b[39m(rem, \u001b[39mself\u001b[39m\u001b[39m.\u001b[39m_min_sleep))\n\u001b[1;32m    108\u001b[0m         \u001b[39mcontinue\u001b[39;00m\n\u001b[0;32m--> 110\u001b[0m \u001b[39mself\u001b[39;49m\u001b[39m.\u001b[39;49m_write_lock()\n\u001b[1;32m    111\u001b[0m time\u001b[39m.\u001b[39msleep(\u001b[39mself\u001b[39m\u001b[39m.\u001b[39m_lock_verify_interval)\n\u001b[1;32m    112\u001b[0m \u001b[39mtry\u001b[39;00m:\n",
      "File \u001b[0;32m/opt/anaconda3/envs/playground/lib/python3.9/site-packages/deeplake/core/lock.py:64\u001b[0m, in \u001b[0;36mLock._write_lock\u001b[0;34m(self)\u001b[0m\n\u001b[1;32m     62\u001b[0m     read_only \u001b[39m=\u001b[39m storage\u001b[39m.\u001b[39mread_only\n\u001b[1;32m     63\u001b[0m     storage\u001b[39m.\u001b[39mdisable_readonly()\n\u001b[0;32m---> 64\u001b[0m     storage[\u001b[39mself\u001b[39;49m\u001b[39m.\u001b[39;49mpath] \u001b[39m=\u001b[39m _get_lock_bytes(\u001b[39mself\u001b[39m\u001b[39m.\u001b[39mtag, \u001b[39mself\u001b[39m\u001b[39m.\u001b[39mduration)\n\u001b[1;32m     65\u001b[0m \u001b[39mfinally\u001b[39;00m:\n\u001b[1;32m     66\u001b[0m     \u001b[39mif\u001b[39;00m read_only:\n",
      "File \u001b[0;32m/opt/anaconda3/envs/playground/lib/python3.9/site-packages/deeplake/core/storage/local.py:102\u001b[0m, in \u001b[0;36mLocalProvider.__setitem__\u001b[0;34m(self, path, value)\u001b[0m\n\u001b[1;32m    100\u001b[0m     \u001b[39mraise\u001b[39;00m FileAtPathException(directory)\n\u001b[1;32m    101\u001b[0m \u001b[39mif\u001b[39;00m \u001b[39mnot\u001b[39;00m os\u001b[39m.\u001b[39mpath\u001b[39m.\u001b[39mexists(directory):\n\u001b[0;32m--> 102\u001b[0m     os\u001b[39m.\u001b[39;49mmakedirs(directory, exist_ok\u001b[39m=\u001b[39;49m\u001b[39mTrue\u001b[39;49;00m)\n\u001b[1;32m    103\u001b[0m \u001b[39mwith\u001b[39;00m \u001b[39mopen\u001b[39m(full_path, \u001b[39m\"\u001b[39m\u001b[39mwb\u001b[39m\u001b[39m\"\u001b[39m) \u001b[39mas\u001b[39;00m file:\n\u001b[1;32m    104\u001b[0m     file\u001b[39m.\u001b[39mwrite(value)\n",
      "File \u001b[0;32m/opt/anaconda3/envs/playground/lib/python3.9/os.py:215\u001b[0m, in \u001b[0;36mmakedirs\u001b[0;34m(name, mode, exist_ok)\u001b[0m\n\u001b[1;32m    213\u001b[0m \u001b[39mif\u001b[39;00m head \u001b[39mand\u001b[39;00m tail \u001b[39mand\u001b[39;00m \u001b[39mnot\u001b[39;00m path\u001b[39m.\u001b[39mexists(head):\n\u001b[1;32m    214\u001b[0m     \u001b[39mtry\u001b[39;00m:\n\u001b[0;32m--> 215\u001b[0m         makedirs(head, exist_ok\u001b[39m=\u001b[39;49mexist_ok)\n\u001b[1;32m    216\u001b[0m     \u001b[39mexcept\u001b[39;00m \u001b[39mFileExistsError\u001b[39;00m:\n\u001b[1;32m    217\u001b[0m         \u001b[39m# Defeats race condition when another thread created the path\u001b[39;00m\n\u001b[1;32m    218\u001b[0m         \u001b[39mpass\u001b[39;00m\n",
      "File \u001b[0;32m/opt/anaconda3/envs/playground/lib/python3.9/os.py:215\u001b[0m, in \u001b[0;36mmakedirs\u001b[0;34m(name, mode, exist_ok)\u001b[0m\n\u001b[1;32m    213\u001b[0m \u001b[39mif\u001b[39;00m head \u001b[39mand\u001b[39;00m tail \u001b[39mand\u001b[39;00m \u001b[39mnot\u001b[39;00m path\u001b[39m.\u001b[39mexists(head):\n\u001b[1;32m    214\u001b[0m     \u001b[39mtry\u001b[39;00m:\n\u001b[0;32m--> 215\u001b[0m         makedirs(head, exist_ok\u001b[39m=\u001b[39;49mexist_ok)\n\u001b[1;32m    216\u001b[0m     \u001b[39mexcept\u001b[39;00m \u001b[39mFileExistsError\u001b[39;00m:\n\u001b[1;32m    217\u001b[0m         \u001b[39m# Defeats race condition when another thread created the path\u001b[39;00m\n\u001b[1;32m    218\u001b[0m         \u001b[39mpass\u001b[39;00m\n",
      "    \u001b[0;31m[... skipping similar frames: makedirs at line 215 (1 times)]\u001b[0m\n",
      "File \u001b[0;32m/opt/anaconda3/envs/playground/lib/python3.9/os.py:215\u001b[0m, in \u001b[0;36mmakedirs\u001b[0;34m(name, mode, exist_ok)\u001b[0m\n\u001b[1;32m    213\u001b[0m \u001b[39mif\u001b[39;00m head \u001b[39mand\u001b[39;00m tail \u001b[39mand\u001b[39;00m \u001b[39mnot\u001b[39;00m path\u001b[39m.\u001b[39mexists(head):\n\u001b[1;32m    214\u001b[0m     \u001b[39mtry\u001b[39;00m:\n\u001b[0;32m--> 215\u001b[0m         makedirs(head, exist_ok\u001b[39m=\u001b[39;49mexist_ok)\n\u001b[1;32m    216\u001b[0m     \u001b[39mexcept\u001b[39;00m \u001b[39mFileExistsError\u001b[39;00m:\n\u001b[1;32m    217\u001b[0m         \u001b[39m# Defeats race condition when another thread created the path\u001b[39;00m\n\u001b[1;32m    218\u001b[0m         \u001b[39mpass\u001b[39;00m\n",
      "File \u001b[0;32m/opt/anaconda3/envs/playground/lib/python3.9/os.py:225\u001b[0m, in \u001b[0;36mmakedirs\u001b[0;34m(name, mode, exist_ok)\u001b[0m\n\u001b[1;32m    223\u001b[0m         \u001b[39mreturn\u001b[39;00m\n\u001b[1;32m    224\u001b[0m \u001b[39mtry\u001b[39;00m:\n\u001b[0;32m--> 225\u001b[0m     mkdir(name, mode)\n\u001b[1;32m    226\u001b[0m \u001b[39mexcept\u001b[39;00m \u001b[39mOSError\u001b[39;00m:\n\u001b[1;32m    227\u001b[0m     \u001b[39m# Cannot rely on checking for EEXIST, since the operating system\u001b[39;00m\n\u001b[1;32m    228\u001b[0m     \u001b[39m# could give priority to other errors like EACCES or EROFS\u001b[39;00m\n\u001b[1;32m    229\u001b[0m     \u001b[39mif\u001b[39;00m \u001b[39mnot\u001b[39;00m exist_ok \u001b[39mor\u001b[39;00m \u001b[39mnot\u001b[39;00m path\u001b[39m.\u001b[39misdir(name):\n",
      "\u001b[0;31mOSError\u001b[0m: [Errno 30] Read-only file system: '/kaggle'"
     ]
    }
   ],
   "source": [
    "import hub\n",
    "import os\n",
    "\n",
    "ds = hub.dataset('/kaggle/input/food-recognition-2022/hub/train/')"
   ]
  },
  {
   "cell_type": "code",
   "execution_count": 5,
   "metadata": {},
   "outputs": [
    {
     "ename": "FileNotFoundError",
     "evalue": "[Errno 2] No such file or directory: '/kaggle/input/food-recognition-2022'",
     "output_type": "error",
     "traceback": [
      "\u001b[0;31m---------------------------------------------------------------------------\u001b[0m",
      "\u001b[0;31mFileNotFoundError\u001b[0m                         Traceback (most recent call last)",
      "\u001b[1;32m/Users/dj/Documents/GitHub/Playground/Challenges/FoodRecognition/food_playground.ipynb Cell 3\u001b[0m line \u001b[0;36m1\n\u001b[0;32m----> <a href='vscode-notebook-cell:/Users/dj/Documents/GitHub/Playground/Challenges/FoodRecognition/food_playground.ipynb#W2sZmlsZQ%3D%3D?line=0'>1</a>\u001b[0m \u001b[39mprint\u001b[39m(os\u001b[39m.\u001b[39;49mlistdir(\u001b[39m'\u001b[39;49m\u001b[39m/kaggle/input/food-recognition-2022\u001b[39;49m\u001b[39m'\u001b[39;49m))\n",
      "\u001b[0;31mFileNotFoundError\u001b[0m: [Errno 2] No such file or directory: '/kaggle/input/food-recognition-2022'"
     ]
    }
   ],
   "source": [
    "print(os.listdir('/kaggle/input/food-recognition-2022'))"
   ]
  },
  {
   "cell_type": "code",
   "execution_count": null,
   "metadata": {},
   "outputs": [],
   "source": []
  }
 ],
 "metadata": {
  "kernelspec": {
   "display_name": "playground",
   "language": "python",
   "name": "python3"
  },
  "language_info": {
   "codemirror_mode": {
    "name": "ipython",
    "version": 3
   },
   "file_extension": ".py",
   "mimetype": "text/x-python",
   "name": "python",
   "nbconvert_exporter": "python",
   "pygments_lexer": "ipython3",
   "version": "3.9.18"
  }
 },
 "nbformat": 4,
 "nbformat_minor": 2
}
