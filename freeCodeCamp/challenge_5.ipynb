{
 "cells": [
  {
   "cell_type": "markdown",
   "metadata": {},
   "source": [
    "# Challenge 5"
   ]
  },
  {
   "cell_type": "code",
   "execution_count": 201,
   "metadata": {},
   "outputs": [],
   "source": [
    "import copy\n",
    "import random\n",
    "# Consider using the modules imported above.\n",
    "\n",
    "class Hat:\n",
    "    def __init__(self, **kwargs):\n",
    "        self.contents = []\n",
    "        for key, value in kwargs.items():\n",
    "            for i in range(0, value, 1):\n",
    "                self.contents.append(key)\n",
    "\n",
    "        self.conts_cop = self.contents.copy()\n",
    "\n",
    "    def draw(self, numb):\n",
    "        if numb >= len(self.conts_cop):\n",
    "            draw_selection = self.conts_cop\n",
    "        else:\n",
    "            draw_selection = random.sample(self.conts_cop, numb)\n",
    "        \n",
    "        for i in draw_selection:\n",
    "            if i in self.contents:\n",
    "                ind = self.contents.index(i)\n",
    "                self.contents.pop(ind)\n",
    "            else:\n",
    "                pass\n",
    "        return draw_selection\n",
    "\n",
    "def get_dic(input_list):\n",
    "    ex_tp = {}\n",
    "    for i in input_list:\n",
    "        ex_tp[i] = 0\n",
    "    \n",
    "    for i in input_list:\n",
    "        ex_tp[i] += 1\n",
    "\n",
    "    return ex_tp\n",
    "\n",
    "\n",
    "def experiment(hat, expected_balls, num_balls_drawn, num_experiments):\n",
    "    N = num_experiments;M = 0\n",
    "\n",
    "    for i in range(0,N,1):\n",
    "        sample = hat.draw(num_balls_drawn)\n",
    "        samp_dic = get_dic(sample)\n",
    "\n",
    "        indicator = []\n",
    "        for i in expected_balls:\n",
    "            if i not in samp_dic:\n",
    "                indicator.append(False)\n",
    "            elif expected_balls[i] <= samp_dic[i]:\n",
    "                indicator.append(True)\n",
    "            else:\n",
    "                indicator.append(False)\n",
    "            \n",
    "        if sum(indicator) == len(expected_balls):\n",
    "            M += 1\n",
    "    return (M / N)"
   ]
  },
  {
   "cell_type": "code",
   "execution_count": 202,
   "metadata": {},
   "outputs": [],
   "source": [
    "hat1 = Hat(yellow=3, blue=2, green=6)\n",
    "hat2 = Hat(red=5, orange=4)\n",
    "hat3 = Hat(red=5, orange=4, black=1, blue=0, pink=2, striped=9)"
   ]
  },
  {
   "cell_type": "code",
   "execution_count": 203,
   "metadata": {},
   "outputs": [
    {
     "name": "stdout",
     "output_type": "stream",
     "text": [
      "0.3865\n"
     ]
    }
   ],
   "source": [
    "hat = Hat(black=6, red=4, green=3)\n",
    "probability = experiment(hat=hat,\n",
    "                  expected_balls={\"red\":2,\"green\":1},\n",
    "                  num_balls_drawn=5,\n",
    "                  num_experiments=2000)\n",
    "\n",
    "print(probability)"
   ]
  },
  {
   "cell_type": "code",
   "execution_count": null,
   "metadata": {},
   "outputs": [],
   "source": []
  },
  {
   "cell_type": "code",
   "execution_count": null,
   "metadata": {},
   "outputs": [],
   "source": []
  },
  {
   "cell_type": "code",
   "execution_count": null,
   "metadata": {},
   "outputs": [],
   "source": []
  }
 ],
 "metadata": {
  "kernelspec": {
   "display_name": "Python 3.7.13 ('MasterThesis')",
   "language": "python",
   "name": "python3"
  },
  "language_info": {
   "codemirror_mode": {
    "name": "ipython",
    "version": 3
   },
   "file_extension": ".py",
   "mimetype": "text/x-python",
   "name": "python",
   "nbconvert_exporter": "python",
   "pygments_lexer": "ipython3",
   "version": "3.7.13"
  },
  "orig_nbformat": 4,
  "vscode": {
   "interpreter": {
    "hash": "06b0d7cc3ff6be5802ae025fed16569565f330a28b5df50b09d05391387a3b66"
   }
  }
 },
 "nbformat": 4,
 "nbformat_minor": 2
}
