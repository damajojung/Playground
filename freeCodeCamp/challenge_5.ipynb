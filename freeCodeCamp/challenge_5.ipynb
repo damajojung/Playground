{
 "cells": [
  {
   "cell_type": "markdown",
   "metadata": {},
   "source": [
    "# Challenge 5"
   ]
  },
  {
   "cell_type": "markdown",
   "metadata": {},
   "source": [
    "## With this version, the probability is correct, but the removal of the list is incorrect"
   ]
  },
  {
   "cell_type": "code",
   "execution_count": 186,
   "metadata": {},
   "outputs": [],
   "source": [
    "import copy\n",
    "import random\n",
    "# Consider using the modules imported above.\n",
    "\n",
    "class Hat:\n",
    "    def __init__(self, **kwargs):\n",
    "        self.contents = []\n",
    "        for key, value in kwargs.items():\n",
    "            for i in range(0, value, 1):\n",
    "                self.contents.append(key)\n",
    "\n",
    "    def draw(self, numb):\n",
    "        # print(\"before drawing\", self.contents)\n",
    "        if numb >= len(self.contents):\n",
    "            draw_selection = self.contents\n",
    "        else:\n",
    "            draw_selection = random.sample(self.contents, numb)\n",
    "        \n",
    "        # print(\"draw\", draw_selection)\n",
    "        \n",
    "        # for i in draw_selection:\n",
    "        #     if i in self.contents:\n",
    "        #         ind = self.contents.index(i)\n",
    "        #         self.contents.pop(ind)\n",
    "        #     else:\n",
    "        #         pass\n",
    "\n",
    "        # print(\"after drawing\", self.contents)\n",
    "        return draw_selection\n",
    "\n",
    "def get_dic(input_list):\n",
    "    ex_tp = {}\n",
    "    for i in input_list:\n",
    "        ex_tp[i] = 0\n",
    "    \n",
    "    for i in input_list:\n",
    "        ex_tp[i] += 1\n",
    "\n",
    "    return ex_tp\n",
    "\n",
    "\n",
    "def experiment(hat, expected_balls, num_balls_drawn, num_experiments):\n",
    "    N = num_experiments;M = 0\n",
    "\n",
    "    for i in range(0,N,1):\n",
    "        sample = hat.draw(num_balls_drawn)\n",
    "        samp_dic = get_dic(sample)\n",
    "\n",
    "        indicator = []\n",
    "        for i in expected_balls:\n",
    "            if i not in samp_dic:\n",
    "                indicator.append(False)\n",
    "\n",
    "            elif expected_balls[i] <= samp_dic[i]:\n",
    "                indicator.append(True)\n",
    "            else:\n",
    "                indicator.append(False)\n",
    "            \n",
    "        if sum(indicator) == len(expected_balls):\n",
    "            M += 1\n",
    "    return (M / N)"
   ]
  },
  {
   "cell_type": "markdown",
   "metadata": {},
   "source": [
    "## With this version, the probability is incorrect but the length of the self.contents list is correct"
   ]
  },
  {
   "cell_type": "code",
   "execution_count": null,
   "metadata": {},
   "outputs": [],
   "source": [
    "import copy\n",
    "import random\n",
    "# Consider using the modules imported above.\n",
    "\n",
    "class Hat:\n",
    "    def __init__(self, **kwargs):\n",
    "        self.contents = []\n",
    "        for key, value in kwargs.items():\n",
    "            for i in range(0, value, 1):\n",
    "                self.contents.append(key)\n",
    "\n",
    "    def draw(self, numb):\n",
    "        # print(\"before drawing\", self.contents)\n",
    "        if numb >= len(self.contents):\n",
    "            draw_selection = self.contents\n",
    "        else:\n",
    "            draw_selection = random.sample(self.contents, numb)\n",
    "        \n",
    "        # print(\"draw\", draw_selection)\n",
    "        \n",
    "        for i in draw_selection:\n",
    "            if i in self.contents:\n",
    "                ind = self.contents.index(i)\n",
    "                self.contents.pop(ind)\n",
    "            else:\n",
    "                pass\n",
    "\n",
    "        # print(\"after drawing\", self.contents)\n",
    "        return draw_selection\n",
    "\n",
    "def get_dic(input_list):\n",
    "    ex_tp = {}\n",
    "    for i in input_list:\n",
    "        ex_tp[i] = 0\n",
    "    \n",
    "    for i in input_list:\n",
    "        ex_tp[i] += 1\n",
    "\n",
    "    return ex_tp\n",
    "\n",
    "\n",
    "def experiment(hat, expected_balls, num_balls_drawn, num_experiments):\n",
    "    N = num_experiments;M = 0\n",
    "\n",
    "    for i in range(0,N,1):\n",
    "        sample = hat.draw(num_balls_drawn)\n",
    "        samp_dic = get_dic(sample)\n",
    "\n",
    "        indicator = []\n",
    "        for i in expected_balls:\n",
    "            if i not in samp_dic:\n",
    "                indicator.append(False)\n",
    "\n",
    "            elif expected_balls[i] <= samp_dic[i]:\n",
    "                indicator.append(True)\n",
    "            else:\n",
    "                indicator.append(False)\n",
    "            \n",
    "        if sum(indicator) == len(expected_balls):\n",
    "            M += 1\n",
    "    return (M / N)"
   ]
  },
  {
   "cell_type": "code",
   "execution_count": 187,
   "metadata": {},
   "outputs": [],
   "source": [
    "    # def test_hat_draw(self):\n",
    "    #     hat = prob_calculator.Hat(red=5,blue=2)\n",
    "    #     actual = hat.draw(2)\n",
    "    #     expected = ['blue', 'red']\n",
    "    #     self.assertEqual(actual, expected, 'Expected hat draw to return two random items from hat contents.')\n",
    "    #     actual = len(hat.contents)\n",
    "    #     expected = 5\n",
    "    #     self.assertEqual(actual, expected, 'Expected hat draw to reduce number of items in contents.')"
   ]
  },
  {
   "cell_type": "code",
   "execution_count": 188,
   "metadata": {},
   "outputs": [
    {
     "name": "stdout",
     "output_type": "stream",
     "text": [
      "['blue', 'red']\n"
     ]
    },
    {
     "data": {
      "text/plain": [
       "5"
      ]
     },
     "execution_count": 188,
     "metadata": {},
     "output_type": "execute_result"
    }
   ],
   "source": [
    "import unittest\n",
    "\n",
    "random.seed(95)\n",
    "hat = Hat(red=5,blue=2)\n",
    "actual = hat.draw(2)\n",
    "print(actual)\n",
    "len(hat.contents)"
   ]
  },
  {
   "cell_type": "code",
   "execution_count": 179,
   "metadata": {},
   "outputs": [
    {
     "name": "stdout",
     "output_type": "stream",
     "text": [
      "['red', 'red', 'red', 'red', 'blue', 'blue']\n"
     ]
    }
   ],
   "source": [
    "test = ['red', 'red', 'red', 'red', 'red', 'blue', 'blue']\n",
    "ind = test.index(\"red\")\n",
    "test.pop(ind)\n",
    "print(test)"
   ]
  },
  {
   "cell_type": "code",
   "execution_count": null,
   "metadata": {},
   "outputs": [],
   "source": []
  },
  {
   "cell_type": "code",
   "execution_count": null,
   "metadata": {},
   "outputs": [],
   "source": []
  },
  {
   "cell_type": "code",
   "execution_count": null,
   "metadata": {},
   "outputs": [],
   "source": []
  },
  {
   "cell_type": "code",
   "execution_count": 189,
   "metadata": {},
   "outputs": [],
   "source": [
    "hat = Hat(black=6, red=4, green=3)\n",
    "probability = experiment(hat=hat,\n",
    "                  expected_balls={\"red\":2,\"green\":1},\n",
    "                  num_balls_drawn=5,\n",
    "                  num_experiments=2000)"
   ]
  },
  {
   "cell_type": "code",
   "execution_count": 190,
   "metadata": {},
   "outputs": [
    {
     "data": {
      "text/plain": [
       "0.0005"
      ]
     },
     "execution_count": 190,
     "metadata": {},
     "output_type": "execute_result"
    }
   ],
   "source": [
    "probability"
   ]
  },
  {
   "cell_type": "code",
   "execution_count": null,
   "metadata": {},
   "outputs": [],
   "source": []
  },
  {
   "cell_type": "code",
   "execution_count": 141,
   "metadata": {},
   "outputs": [
    {
     "name": "stdout",
     "output_type": "stream",
     "text": [
      "2\n"
     ]
    }
   ],
   "source": [
    "samp = ['red', 'red', 'orange', 'orange']\n",
    "dr = ['red', 'orange']\n",
    "test = {'red': 2, 'green': 1}\n",
    "print(len(test))\n"
   ]
  },
  {
   "cell_type": "code",
   "execution_count": 90,
   "metadata": {},
   "outputs": [
    {
     "data": {
      "text/plain": [
       "{'orange', 'red'}"
      ]
     },
     "execution_count": 90,
     "metadata": {},
     "output_type": "execute_result"
    }
   ],
   "source": [
    "set(samp)"
   ]
  },
  {
   "cell_type": "code",
   "execution_count": 103,
   "metadata": {},
   "outputs": [
    {
     "name": "stdout",
     "output_type": "stream",
     "text": [
      "{'pink': 2, 'blue': 3}\n"
     ]
    }
   ],
   "source": [
    "def get_dic(input_list):\n",
    "    ex_tp = {}\n",
    "    for i in input_list:\n",
    "        ex_tp[i] = 0\n",
    "    \n",
    "    for i in input_list:\n",
    "        ex_tp[i] += 1\n",
    "\n",
    "    return ex_tp\n",
    "\n",
    "dr = get_dic([\"pink\", \"pink\", \"blue\", \"blue\", \"blue\"])\n",
    "print(dr)\n",
    "expected_balls={\"pink\":1,\"blue\":1}"
   ]
  },
  {
   "cell_type": "code",
   "execution_count": 108,
   "metadata": {},
   "outputs": [
    {
     "name": "stdout",
     "output_type": "stream",
     "text": [
      "dr {'pink': 2, 'blue': 3}\n",
      "expected_balls {'pink': 1, 'blue': 1}\n",
      "True\n",
      "True\n"
     ]
    }
   ],
   "source": [
    "print(\"dr\", dr)\n",
    "print(\"expected_balls\", expected_balls)\n",
    "\n",
    "for i in dr:\n",
    "    if expected_balls[i] <= dr[i]:\n",
    "        print(True)"
   ]
  },
  {
   "cell_type": "code",
   "execution_count": null,
   "metadata": {},
   "outputs": [],
   "source": []
  },
  {
   "cell_type": "code",
   "execution_count": 82,
   "metadata": {},
   "outputs": [
    {
     "name": "stdout",
     "output_type": "stream",
     "text": [
      "['black', 'black', 'black', 'black', 'black', 'black', 'red', 'red', 'red', 'red', 'green', 'green', 'green']\n",
      "<__main__.Hat object at 0x7f99713de450>\n",
      "{'red': 2, 'green': 1}\n",
      "5\n",
      "2000\n"
     ]
    }
   ],
   "source": [
    "hat = Hat(black=6, red=4, green=3)\n",
    "probability = experiment(hat=hat,\n",
    "                  expected_balls={\"red\":2,\"green\":1},\n",
    "                  num_balls_drawn=5,\n",
    "                  num_experiments=2000)"
   ]
  },
  {
   "cell_type": "code",
   "execution_count": null,
   "metadata": {},
   "outputs": [],
   "source": []
  },
  {
   "cell_type": "code",
   "execution_count": null,
   "metadata": {},
   "outputs": [],
   "source": []
  },
  {
   "cell_type": "code",
   "execution_count": null,
   "metadata": {},
   "outputs": [],
   "source": []
  }
 ],
 "metadata": {
  "kernelspec": {
   "display_name": "Python 3.7.13 ('MasterThesis')",
   "language": "python",
   "name": "python3"
  },
  "language_info": {
   "codemirror_mode": {
    "name": "ipython",
    "version": 3
   },
   "file_extension": ".py",
   "mimetype": "text/x-python",
   "name": "python",
   "nbconvert_exporter": "python",
   "pygments_lexer": "ipython3",
   "version": "3.7.13"
  },
  "orig_nbformat": 4,
  "vscode": {
   "interpreter": {
    "hash": "06b0d7cc3ff6be5802ae025fed16569565f330a28b5df50b09d05391387a3b66"
   }
  }
 },
 "nbformat": 4,
 "nbformat_minor": 2
}
