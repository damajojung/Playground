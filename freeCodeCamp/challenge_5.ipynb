{
 "cells": [
  {
   "cell_type": "markdown",
   "metadata": {},
   "source": [
    "# Challenge 5"
   ]
  },
  {
   "cell_type": "code",
   "execution_count": 18,
   "metadata": {},
   "outputs": [],
   "source": [
    "import copy\n",
    "import random\n",
    "# Consider using the modules imported above.\n",
    "\n",
    "class Hat:\n",
    "    def __init__(self, **kwargs):\n",
    "        self.contents = []\n",
    "        for key, value in kwargs.items():\n",
    "            for i in range(0, value, 1):\n",
    "                self.contents.append(key)\n",
    "        print(self.contents)\n",
    "\n",
    "\n",
    "# def experiment(hat, expected_balls, num_balls_drawn, num_experiments):"
   ]
  },
  {
   "cell_type": "code",
   "execution_count": 20,
   "metadata": {},
   "outputs": [
    {
     "name": "stdout",
     "output_type": "stream",
     "text": [
      "red: 5\n",
      "orange: 4\n",
      "['red', 'red', 'red', 'red', 'red', 'orange', 'orange', 'orange', 'orange']\n"
     ]
    }
   ],
   "source": [
    "# hat1 = Hat(yellow=3, blue=2, green=6)\n",
    "hat2 = Hat(red=5, orange=4)\n",
    "# hat3 = Hat(red=5, orange=4, black=1, blue=0, pink=2, striped=9)"
   ]
  },
  {
   "cell_type": "code",
   "execution_count": null,
   "metadata": {},
   "outputs": [],
   "source": []
  },
  {
   "cell_type": "code",
   "execution_count": null,
   "metadata": {},
   "outputs": [],
   "source": []
  }
 ],
 "metadata": {
  "kernelspec": {
   "display_name": "Python 3.7.13 ('MasterThesis')",
   "language": "python",
   "name": "python3"
  },
  "language_info": {
   "codemirror_mode": {
    "name": "ipython",
    "version": 3
   },
   "file_extension": ".py",
   "mimetype": "text/x-python",
   "name": "python",
   "nbconvert_exporter": "python",
   "pygments_lexer": "ipython3",
   "version": "3.7.13"
  },
  "orig_nbformat": 4,
  "vscode": {
   "interpreter": {
    "hash": "06b0d7cc3ff6be5802ae025fed16569565f330a28b5df50b09d05391387a3b66"
   }
  }
 },
 "nbformat": 4,
 "nbformat_minor": 2
}
