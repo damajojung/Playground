{
 "cells": [
  {
   "cell_type": "markdown",
   "metadata": {},
   "source": [
    "# FCC Webscaping Tutorial"
   ]
  },
  {
   "cell_type": "markdown",
   "metadata": {},
   "source": [
    "https://www.youtube.com/watch?v=XVv6mJpFOb0 "
   ]
  },
  {
   "cell_type": "markdown",
   "metadata": {},
   "source": [
    "This is a warm up with a regular file. "
   ]
  },
  {
   "cell_type": "code",
   "execution_count": 2,
   "metadata": {},
   "outputs": [],
   "source": [
    "from bs4 import BeautifulSoup"
   ]
  },
  {
   "cell_type": "code",
   "execution_count": 20,
   "metadata": {},
   "outputs": [
    {
     "name": "stdout",
     "output_type": "stream",
     "text": [
      "Python for beginners costs 20$\n",
      "Python Web Development costs 50$\n",
      "Python Machine Learning costs 100$\n"
     ]
    }
   ],
   "source": [
    "with open('home.html', 'r') as html_file:\n",
    "    # Print the whole file\n",
    "    content = html_file.read()\n",
    "    # print(content)\n",
    "\n",
    "    # Print the file but in a pretty way\n",
    "    soup = BeautifulSoup(content, 'lxml') # Specify the file and the method how you want to read it\n",
    "    # print(soup.prettify())\n",
    "\n",
    "    # Search for specific strings and print them\n",
    "    tags = soup.find('h5') # The find function searches for the first element and then stops searching for the other 'h5's\n",
    "    # print(tags)\n",
    "\n",
    "    courses_html_tags = soup.find_all('h5') # Now it finds all of them - LIST\n",
    "    # print(courses_html_tags)\n",
    "\n",
    "    # for courses in courses_html_tags:\n",
    "    #     print(courses.text) # Extract the text\n",
    "\n",
    "    ##### Check out text of button\n",
    "    course_cards = soup.find_all('div', class_='card') # All the buttons are in a 'div' apartment. These have a class = 'card' tag\n",
    "    for course in course_cards:\n",
    "        course_name = course.h5.text\n",
    "        course_price = course.a.text.split()[-1]\n",
    "\n",
    "        print(f'{course_name} costs {course_price}')"
   ]
  },
  {
   "cell_type": "code",
   "execution_count": null,
   "metadata": {},
   "outputs": [],
   "source": []
  },
  {
   "cell_type": "code",
   "execution_count": null,
   "metadata": {},
   "outputs": [],
   "source": []
  },
  {
   "cell_type": "markdown",
   "metadata": {},
   "source": [
    "# Website"
   ]
  },
  {
   "cell_type": "code",
   "execution_count": 21,
   "metadata": {},
   "outputs": [],
   "source": [
    "import requests"
   ]
  },
  {
   "cell_type": "code",
   "execution_count": 35,
   "metadata": {},
   "outputs": [
    {
     "name": "stdout",
     "output_type": "stream",
     "text": [
      "<div class=\"Div-sc-1cpunnt-0 VacancySerpItemUpdated__StyledSerpItem-sc-i0986f-1 hBFpng jVoBIW\" data-cy=\"vacancy-serp-item\"><div class=\"Div-sc-1cpunnt-0 Flex-sc-mjmi48-0 bHInWw\" data-cy=\"serp-item-77e90aec-905b-467d-8d89-9a6e1a607ec9\"><p class=\"P-sc-hyu5hk-0 Text__p2-sc-1lu7urs-10 Span-sc-1ybanni-0 Text__span-sc-1lu7urs-12 Text-sc-1lu7urs-13 VacancySerpItemUpdated___StyledText-sc-i0986f-3 geNnlb iAfDeY\"><span class=\"Span-sc-1ybanni-0 Text__span-sc-1lu7urs-12 Text-sc-1lu7urs-13 ftUOUz eEFkdA\">Published: 23 October 2023</span><span aria-hidden=\"true\" class=\"Span-sc-1ybanni-0\" title=\"23 October 2023\">23 Oct</span></p></div><button aria-label=\"Save\" class=\"Button-sc-zfgt48-0 IconButton__StyledButton-sc-4tlh7t-0 dbnjCw ktQjne\" data-cy=\"bookmark-icon-unchecked\" title=\"Save\" type=\"button\"><span class=\"Span-sc-1ybanni-0 iiJtIM\"><svg aria-hidden=\"true\" class=\"Svg-sc-t66izd-0 Icon__Svg-sc-1yrtjf1-0 cazQux\" fill=\"currentColor\" focusable=\"false\" viewbox=\"0 0 24 24\"><path d=\"M17 3H7c-1.1 0-2 .9-2 2v16l7-3 7 3V5c0-1.1-.9-2-2-2zm0 15-5-2.18L7 18V5h10v13z\"></path></svg></span></button><div class=\"Div-sc-1cpunnt-0 hzrWXY\"><span class=\"Span-sc-1ybanni-0 Text__span-sc-1lu7urs-12 Text-sc-1lu7urs-13 VacancySerpItemUpdated___StyledText2-sc-i0986f-4 doDVAK eqJMMs iDyMWN\">Software Engineer (Computer Vision)</span></div><div class=\"Div-sc-1cpunnt-0 Flex-sc-mjmi48-0 geAHTX\"><div class=\"Div-sc-1cpunnt-0 Grid-sc-18fqjd1-0 hiOkdu\"><span class=\"Span-sc-1ybanni-0 cKKlDN\"><svg aria-hidden=\"true\" class=\"Svg-sc-t66izd-0 Icon__Svg-sc-1yrtjf1-0 cazQux\" fill=\"currentColor\" focusable=\"false\" viewbox=\"0 0 24 24\"><path d=\"M12 12c.55 0 1.021-.196 1.413-.588.391-.391.587-.862.587-1.412a1.93 1.93 0 0 0-.587-1.413A1.928 1.928 0 0 0 12 8c-.55 0-1.02.196-1.412.587A1.927 1.927 0 0 0 10 10c0 .55.196 1.02.588 1.412.391.392.862.588 1.412.588zm0 7.35c2.033-1.867 3.542-3.563 4.525-5.088C17.508 12.737 18 11.383 18 10.2c0-1.817-.58-3.304-1.738-4.463C15.104 4.579 13.683 4 12 4c-1.683 0-3.104.579-4.263 1.737C6.579 6.896 6 8.383 6 10.2c0 1.183.492 2.537 1.475 4.062.983 1.525 2.492 3.221 4.525 5.088zM12 22c-2.683-2.283-4.687-4.404-6.012-6.363C4.663 13.679 4 11.867 4 10.2c0-2.5.804-4.492 2.413-5.975C8.021 2.742 9.883 2 12 2c2.117 0 3.979.742 5.587 2.225C19.196 5.708 20 7.7 20 10.2c0 1.667-.662 3.479-1.987 5.437-1.325 1.959-3.33 4.08-6.013 6.363z\"></path></svg></span><p class=\"P-sc-hyu5hk-0 Text__p2-sc-1lu7urs-10 Span-sc-1ybanni-0 Text__span-sc-1lu7urs-12 Text-sc-1lu7urs-13 cMsiEU\">Lenzburg</p></div><div class=\"Div-sc-1cpunnt-0 Grid-sc-18fqjd1-0 hiOkdu\"><span class=\"Span-sc-1ybanni-0 cKKlDN\"><svg aria-hidden=\"true\" class=\"Svg-sc-t66izd-0 Icon__Svg-sc-1yrtjf1-0 cazQux\" fill=\"currentColor\" focusable=\"false\" viewbox=\"0 0 24 24\"><path d=\"M14.625 16.025a.918.918 0 0 0 .675.275c.267 0 .5-.1.7-.3a.948.948 0 0 0 .275-.7.948.948 0 0 0-.275-.7l-3-3V7.975a.928.928 0 0 0-.287-.7A.993.993 0 0 0 12 7a.967.967 0 0 0-.712.287A.968.968 0 0 0 11 8v3.975a1.03 1.03 0 0 0 .3.725l3.325 3.325zM12 22a9.733 9.733 0 0 1-3.9-.788 10.092 10.092 0 0 1-3.175-2.137c-.9-.9-1.612-1.958-2.137-3.175A9.733 9.733 0 0 1 2 12a9.74 9.74 0 0 1 .788-3.9 10.092 10.092 0 0 1 2.137-3.175c.9-.9 1.958-1.613 3.175-2.138A9.743 9.743 0 0 1 12 2a9.74 9.74 0 0 1 3.9.787 10.105 10.105 0 0 1 3.175 2.138c.9.9 1.612 1.958 2.137 3.175A9.733 9.733 0 0 1 22 12a9.733 9.733 0 0 1-.788 3.9 10.092 10.092 0 0 1-2.137 3.175c-.9.9-1.958 1.612-3.175 2.137A9.733 9.733 0 0 1 12 22zm0-2c2.217 0 4.104-.779 5.663-2.337C19.221 16.104 20 14.217 20 12s-.779-4.104-2.337-5.663C16.104 4.779 14.217 4 12 4s-4.104.779-5.662 2.337C4.779 7.896 4 9.783 4 12s.78 4.104 2.338 5.663C7.896 19.221 9.783 20 12 20z\"></path></svg></span><p class=\"P-sc-hyu5hk-0 Text__p2-sc-1lu7urs-10 Span-sc-1ybanni-0 Text__span-sc-1lu7urs-12 Text-sc-1lu7urs-13 cMsiEU\">80% – 100%</p></div><div class=\"Div-sc-1cpunnt-0 Grid-sc-18fqjd1-0 hiOkdu\"><span class=\"Span-sc-1ybanni-0 cKKlDN\"><svg aria-hidden=\"true\" class=\"Svg-sc-t66izd-0 Icon__Svg-sc-1yrtjf1-0 cazQux\" fill=\"currentColor\" focusable=\"false\" viewbox=\"0 0 24 24\"><path d=\"M8 6V4c0-.55.196-1.021.588-1.413A1.925 1.925 0 0 1 10 2h4c.55 0 1.021.196 1.413.587.391.392.587.863.587 1.413v2h4c.55 0 1.021.196 1.413.588.391.391.587.862.587 1.412v11a1.93 1.93 0 0 1-.587 1.413A1.928 1.928 0 0 1 20 21H4c-.55 0-1.02-.196-1.412-.587A1.927 1.927 0 0 1 2 19V8c0-.55.196-1.02.588-1.412A1.923 1.923 0 0 1 4 6h4zm2 0h4V4h-4v2zm10 9h-5v1a.97.97 0 0 1-.287.712A.968.968 0 0 1 14 17h-4a.965.965 0 0 1-.712-.288A.965.965 0 0 1 9 16v-1H4v4h16v-4zm-9 0h2v-2h-2v2zm-7-2h5v-1c0-.283.096-.521.288-.713A.967.967 0 0 1 10 11h4a.97.97 0 0 1 .713.287A.97.97 0 0 1 15 12v1h5V8H4v5z\"></path></svg></span><p class=\"P-sc-hyu5hk-0 Text__p2-sc-1lu7urs-10 Span-sc-1ybanni-0 Text__span-sc-1lu7urs-12 Text-sc-1lu7urs-13 cMsiEU\">Unlimited employment</p></div></div><div class=\"Div-sc-1cpunnt-0 Grid-sc-18fqjd1-0 gNMZoz\"><p class=\"P-sc-hyu5hk-0 Text__p2-sc-1lu7urs-10 Span-sc-1ybanni-0 Text__span-sc-1lu7urs-12 Text-sc-1lu7urs-13 cMsiEU\"><strong>Hypothekarbank Lenzburg</strong></p><div class=\"Div-sc-1cpunnt-0 Flex-sc-mjmi48-0 ikHIje VacancySerpItemUpdated__StyledCompanyLogo-sc-i0986f-2 gSSAsv\"><picture><source srcset=\"https://media.jobs.ch/images/8e91f01f-e3a6-4683-8592-97c212f3f4d0?format=png&amp;dimensions=64x0 1x, https://media.jobs.ch/images/8e91f01f-e3a6-4683-8592-97c212f3f4d0?format=png&amp;dimensions=128x0 2x\"/><img alt=\"Hypothekarbank Lenzburg\" class=\"Img-sc-p5a0wu-0 Image-sc-16e0l4o-0 iyZAsx\" decoding=\"async\" loading=\"eager\" src=\"https://media.jobs.ch/images/8e91f01f-e3a6-4683-8592-97c212f3f4d0?format=png&amp;dimensions=48x0\"/> </picture></div></div></div>\n"
     ]
    }
   ],
   "source": [
    "html_text = requests.get('https://www.jobs.ch/en/vacancies/?term=python').text\n",
    "# print(html_text)\n",
    "\n",
    "soup = BeautifulSoup(html_text, 'lxml')\n",
    "jobs = soup.find('div', class_='Div-sc-1cpunnt-0 VacancySerpItemUpdated__StyledSerpItem-sc-i0986f-1 hBFpng jVoBIW')\n",
    "print((jobs))"
   ]
  },
  {
   "cell_type": "code",
   "execution_count": null,
   "metadata": {},
   "outputs": [],
   "source": []
  },
  {
   "cell_type": "code",
   "execution_count": 84,
   "metadata": {},
   "outputs": [
    {
     "name": "stdout",
     "output_type": "stream",
     "text": [
      "Data Science development and engineering to enhance a global Big Data Platform in the financial industry\n"
     ]
    }
   ],
   "source": [
    "html_text = requests.get('https://www.jobs.ch/en/vacancies/?term=python').text\n",
    "# print(html_text)\n",
    "\n",
    "soup = BeautifulSoup(html_text, 'lxml')\n",
    "jobs = soup.find('div', class_='Div-sc-1cpunnt-0')\n",
    "comp_name = jobs.find('div', class_='Div-sc-1cpunnt-0 Grid-sc-18fqjd1-0 gNMZoz')\n",
    "test = comp_name.find('strong').text\n",
    "# print((test))\n",
    "\n",
    "skills_top = jobs.find('ul', class_='Ul-sc-1n42qu0-0 Ul-sc-1otw97l-0 kEQKYo kNGQob')\n",
    "skills_low = skills_top.find('li', class_ = 'Li-sc-ennkmk-0 Li-sc-l8g2j9-0 hXmbQt')\n",
    "print(skills_low.span.text)"
   ]
  },
  {
   "cell_type": "code",
   "execution_count": null,
   "metadata": {},
   "outputs": [],
   "source": []
  },
  {
   "cell_type": "code",
   "execution_count": null,
   "metadata": {},
   "outputs": [],
   "source": []
  }
 ],
 "metadata": {
  "kernelspec": {
   "display_name": "playground",
   "language": "python",
   "name": "python3"
  },
  "language_info": {
   "codemirror_mode": {
    "name": "ipython",
    "version": 3
   },
   "file_extension": ".py",
   "mimetype": "text/x-python",
   "name": "python",
   "nbconvert_exporter": "python",
   "pygments_lexer": "ipython3",
   "version": "3.9.18"
  }
 },
 "nbformat": 4,
 "nbformat_minor": 2
}
