{
 "cells": [
  {
   "cell_type": "markdown",
   "metadata": {},
   "source": [
    "# FCC Webscaping Tutorial"
   ]
  },
  {
   "cell_type": "markdown",
   "metadata": {},
   "source": [
    "https://www.youtube.com/watch?v=XVv6mJpFOb0 "
   ]
  },
  {
   "cell_type": "code",
   "execution_count": 2,
   "metadata": {},
   "outputs": [],
   "source": [
    "from bs4 import BeautifulSoup"
   ]
  },
  {
   "cell_type": "code",
   "execution_count": 4,
   "metadata": {},
   "outputs": [
    {
     "name": "stdout",
     "output_type": "stream",
     "text": [
      "<!doctype html>\n",
      "<html lang=\"en\">\n",
      "   <head>\n",
      "      <meta charset=\"utf-8\">\n",
      "      <meta name=\"viewport\" content=\"width=device-width, initial-scale=1, shrink-to-fit=no\">\n",
      "      <link rel=\"stylesheet\" href=\"https://stackpath.bootstrapcdn.com/bootstrap/4.5.2/css/bootstrap.min.css\" integrity=\"sha384-JcKb8q3iqJ61gNV9KGb8thSsNjpSL0n8PARn9HuZOnIxN0hoP+VmmDGMN5t9UJ0Z\" crossorigin=\"anonymous\">\n",
      "      <title>My Courses</title>\n",
      "   </head>\n",
      "   <body>\n",
      "      <h1>Hello, Start Learning!</h1>\n",
      "      <div class=\"card\" id=\"card-python-for-beginners\">\n",
      "         <div class=\"card-header\">\n",
      "            Python\n",
      "         </div>\n",
      "         <div class=\"card-body\">\n",
      "            <h5 class=\"card-title\">Python for beginners</h5>\n",
      "            <p class=\"card-text\">If you are new to Python, this is the course that you should buy!</p>\n",
      "            <a href=\"#\" class=\"btn btn-primary\">Start for 20$</a>\n",
      "         </div>\n",
      "      </div>\n",
      "      <div class=\"card\" id=\"card-python-web-development\">\n",
      "         <div class=\"card-header\">\n",
      "            Python\n",
      "         </div>\n",
      "         <div class=\"card-body\">\n",
      "            <h5 class=\"card-title\">Python Web Development</h5>\n",
      "            <p class=\"card-text\">If you feel enough confident with python, you are ready to learn how to create your own website!</p>\n",
      "            <a href=\"#\" class=\"btn btn-primary\">Start for 50$</a>\n",
      "         </div>\n",
      "      </div>\n",
      "      <div class=\"card\" id=\"card-python-machine-learning\">\n",
      "         <div class=\"card-header\">\n",
      "            Python\n",
      "         </div>\n",
      "         <div class=\"card-body\">\n",
      "            <h5 class=\"card-title\">Python Machine Learning</h5>\n",
      "            <p class=\"card-text\">Become a Python Machine Learning master!</p>\n",
      "            <a href=\"#\" class=\"btn btn-primary\">Start for 100$</a>\n",
      "         </div>\n",
      "      </div>\n",
      "   </body>\n",
      "</html>\n"
     ]
    }
   ],
   "source": [
    "with open('home.html', 'r') as html_file:\n",
    "    content = html_file.read()\n",
    "    print(content)"
   ]
  },
  {
   "cell_type": "code",
   "execution_count": null,
   "metadata": {},
   "outputs": [],
   "source": []
  },
  {
   "cell_type": "code",
   "execution_count": null,
   "metadata": {},
   "outputs": [],
   "source": []
  },
  {
   "cell_type": "code",
   "execution_count": null,
   "metadata": {},
   "outputs": [],
   "source": []
  },
  {
   "cell_type": "code",
   "execution_count": null,
   "metadata": {},
   "outputs": [],
   "source": []
  },
  {
   "cell_type": "code",
   "execution_count": null,
   "metadata": {},
   "outputs": [],
   "source": []
  },
  {
   "cell_type": "code",
   "execution_count": null,
   "metadata": {},
   "outputs": [],
   "source": []
  }
 ],
 "metadata": {
  "kernelspec": {
   "display_name": "playground",
   "language": "python",
   "name": "python3"
  },
  "language_info": {
   "codemirror_mode": {
    "name": "ipython",
    "version": 3
   },
   "file_extension": ".py",
   "mimetype": "text/x-python",
   "name": "python",
   "nbconvert_exporter": "python",
   "pygments_lexer": "ipython3",
   "version": "3.9.18"
  }
 },
 "nbformat": 4,
 "nbformat_minor": 2
}
