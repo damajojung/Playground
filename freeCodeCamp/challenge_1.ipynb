{
 "cells": [
  {
   "cell_type": "markdown",
   "metadata": {},
   "source": [
    "# Challenge 1"
   ]
  },
  {
   "cell_type": "code",
   "execution_count": 1,
   "metadata": {},
   "outputs": [],
   "source": [
    "problems = [\"32 + 698\", \"3801 - 2\", \"45 + 43\", \"123 + 49\"]\n",
    "\n",
    "def get_int(x):\n",
    "    try:\n",
    "        x = int(x)\n",
    "    except ValueError:\n",
    "        x = \"No\"\n",
    "    return x\n",
    "\n",
    "def arithmetic_arranger(problems, calc = False):\n",
    "    ok = True\n",
    "    if len(problems) > 5:\n",
    "        arranged_problems = \"Error: Too many problems.\"\n",
    "        ok = False\n",
    "    \n",
    "    e1 = []; e2 = []; e3 = [];res = [];length = []\n",
    "\n",
    "    if ok:\n",
    "        for idx, i in enumerate(problems):\n",
    "            sub_list = i.split()\n",
    "            if len(sub_list[0]) > 4 or len(sub_list[2]) > 4:\n",
    "                arranged_problems = \"Error: Numbers cannot be more than four digits.\"\n",
    "                ok = False\n",
    "                break\n",
    "            elif sub_list[1] != \"+\" and sub_list[1] != \"-\":\n",
    "                arranged_problems = \"Error: Operator must be '+' or '-'.\"\n",
    "                ok = False\n",
    "                break\n",
    "            else:\n",
    "                if isinstance(get_int(sub_list[0]), int) and isinstance(get_int(sub_list[2]), int):\n",
    "                    e1.append(get_int(sub_list[0]));e2.append(sub_list[1]);e3.append(get_int(sub_list[2]))\n",
    "                else:\n",
    "                    arranged_problems = \"Error: Numbers must only contain digits.\"\n",
    "                    ok = False\n",
    "                if calc:\n",
    "                    if e2[idx] == \"+\":\n",
    "                        res.append(e1[idx] + e3[idx])\n",
    "                    else:\n",
    "                        res.append(e1[idx] - e3[idx])\n",
    "        \n",
    "    if ok:\n",
    "        for id, i in enumerate(e1):\n",
    "            one = len(str(i));two = len(str(e3[id]))\n",
    "            length.append(max(one, two))\n",
    "\n",
    "        upper_line = \"\";lower_line = \"\";dash_line = \"\";res_line = \"\"\n",
    "\n",
    "        for idx, i  in enumerate(e1):\n",
    "            if calc:\n",
    "                empty_string = (length[idx] + 2) * \" \" # biggest number + 2 spaces for sign & space\n",
    "                upper_string = empty_string[:(len(empty_string) - len(str(i)))] + str(e1[idx])\n",
    "                lower_string = empty_string[:(len(empty_string) - len(str(e3[idx])))] + str(e3[idx])\n",
    "                lower_string = e2[idx] + lower_string[1:]\n",
    "                dash_string = (length[idx] + 2) * \"-\"\n",
    "                res_string = empty_string[:(len(empty_string) - len(str(res[idx])))] + str(res[idx])\n",
    "                if idx != (len(length)-1):\n",
    "                    upper_line = upper_line + upper_string + 4 * \" \"\n",
    "                    lower_line = lower_line + lower_string + 4 * \" \"\n",
    "                    dash_line = dash_line + dash_string + 4 * \" \"\n",
    "                    res_line = res_line + res_string + 4 * \" \"\n",
    "                else:\n",
    "                    upper_line = upper_line + upper_string \n",
    "                    lower_line = lower_line + lower_string\n",
    "                    dash_line = dash_line + dash_string\n",
    "                    res_line = res_line + res_string\n",
    "            else: \n",
    "                empty_string = (length[idx] + 2) * \" \" # biggest number + 2 spaces for sign & space\n",
    "                upper_string = empty_string[:(len(empty_string) - len(str(i)))] + str(e1[idx])\n",
    "                lower_string = empty_string[:(len(empty_string) - len(str(e3[idx])))] + str(e3[idx])\n",
    "                lower_string = e2[idx] + lower_string[1:]\n",
    "                dash_string = (length[idx] + 2) * \"-\"\n",
    "                if idx != (len(length)-1):\n",
    "                    upper_line = upper_line + upper_string + 4 * \" \"\n",
    "                    lower_line = lower_line + lower_string + 4 * \" \"\n",
    "                    dash_line = dash_line + dash_string + 4 * \" \"\n",
    "                else:\n",
    "                    upper_line = upper_line + upper_string \n",
    "                    lower_line = lower_line + lower_string\n",
    "                    dash_line = dash_line + dash_string\n",
    "\n",
    "        if calc:\n",
    "            arranged_problems = \"\" + upper_line + \"\\n\" + lower_line + \"\\n\" + dash_line + \"\\n\" + res_line\n",
    "        else:\n",
    "            arranged_problems = \"\" + upper_line + \"\\n\" + lower_line + \"\\n\" + dash_line \n",
    "    \n",
    "    return arranged_problems"
   ]
  },
  {
   "cell_type": "code",
   "execution_count": 2,
   "metadata": {},
   "outputs": [
    {
     "name": "stdout",
     "output_type": "stream",
     "text": [
      "   32      3801      45      123\n",
      "+ 698    -    2    + 43    +  49\n",
      "-----    ------    ----    -----\n",
      "  730      3799      88      172\n"
     ]
    }
   ],
   "source": [
    "my_solution = arithmetic_arranger(problems, True)\n",
    "print(my_solution)"
   ]
  },
  {
   "cell_type": "code",
   "execution_count": 3,
   "metadata": {},
   "outputs": [
    {
     "name": "stdout",
     "output_type": "stream",
     "text": [
      "  32         1      9999      523\n",
      "+  8    - 3801    + 9999    -  49\n",
      "----    ------    ------    -----\n",
      "  40     -3800     19998      474\n"
     ]
    }
   ],
   "source": [
    "my_solution = arithmetic_arranger([\"32 + 8\", \"1 - 3801\", \"9999 + 9999\", \"523 - 49\"], True)\n",
    "print(my_solution)"
   ]
  },
  {
   "cell_type": "code",
   "execution_count": null,
   "metadata": {},
   "outputs": [],
   "source": []
  }
 ],
 "metadata": {
  "kernelspec": {
   "display_name": "Python 3.7.10 ('base')",
   "language": "python",
   "name": "python3"
  },
  "language_info": {
   "codemirror_mode": {
    "name": "ipython",
    "version": 3
   },
   "file_extension": ".py",
   "mimetype": "text/x-python",
   "name": "python",
   "nbconvert_exporter": "python",
   "pygments_lexer": "ipython3",
   "version": "3.7.10"
  },
  "orig_nbformat": 4,
  "vscode": {
   "interpreter": {
    "hash": "40d3a090f54c6569ab1632332b64b2c03c39dcf918b08424e98f38b5ae0af88f"
   }
  }
 },
 "nbformat": 4,
 "nbformat_minor": 2
}
