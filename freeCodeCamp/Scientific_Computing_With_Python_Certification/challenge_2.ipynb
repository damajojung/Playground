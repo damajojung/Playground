{
 "cells": [
  {
   "cell_type": "markdown",
   "metadata": {},
   "source": [
    "# Challenge 2"
   ]
  },
  {
   "cell_type": "code",
   "execution_count": 1,
   "metadata": {},
   "outputs": [],
   "source": [
    "from hashlib import new\n",
    "\n",
    "\n",
    "def hour_to_day(hours):\n",
    "    \"\"\"Transforming the given additional time into days, hours and minutes - returns a dictionnary\"\"\"\n",
    "    hour=int(hours.split(\":\")[0]);m = int(hours.split(\":\")[1])\n",
    "    days = hour // 24\n",
    "    new_hours = int(hour) - (days * 24)\n",
    "    return {\"day\": days, \"hour\": new_hours, \"minutes\": m}\n",
    "\n",
    "\n",
    "def time_calculator(start_dic, ampm, dur_dic):\n",
    "    new_day = start_dic[\"day\"] + dur_dic[\"day\"]\n",
    "    new_hour = start_dic[\"hour\"] + dur_dic[\"hour\"]\n",
    "    new_min = start_dic[\"minutes\"] + dur_dic[\"minutes\"]\n",
    "\n",
    "    # print(new_day, new_hour, new_min, ampm)\n",
    "\n",
    "    if new_hour >= 24:\n",
    "        new_day += 1;new_hour -= 24\n",
    "\n",
    "    if new_min >= 60: # Ensure that the minutes are transformed correctly\n",
    "        new_hour += 1;new_min -= 60\n",
    "    \n",
    "    # print(new_day, new_hour, new_min, ampm)\n",
    "    \n",
    "\n",
    "    if new_day == 0 and new_hour < 12: # Simplest case - no change of AM PM\n",
    "        if new_min < 10:\n",
    "            calculated_time = f\"{new_hour}:0{new_min} {ampm}\"\n",
    "        else:\n",
    "            calculated_time = f\"{new_hour}:{new_min} {ampm}\"\n",
    "\n",
    "        \n",
    "\n",
    "    elif new_day >= 1 and new_hour < 12: # danger zone\n",
    "        if ampm == \"PM\":\n",
    "            if new_min < 10:\n",
    "                calculated_time = f\"{new_hour}:0{new_min} PM\"\n",
    "                ampm = \"PM\"\n",
    "            else:\n",
    "                calculated_time = f\"{new_hour}:{new_min} PM\"\n",
    "                ampm = \"PM\"\n",
    "        else: \n",
    "            if new_min < 10:\n",
    "                calculated_time = f\"{new_hour}:0{new_min} AM\"\n",
    "                ampm = \"AM\"\n",
    "            else:\n",
    "                calculated_time = f\"{new_hour}:{new_min} AM\" # end danger zone\n",
    "                ampm = \"AM\"\n",
    "    \n",
    "    elif new_hour >= 12 and new_day == 0: # That only indicates a am pm change\n",
    "        rest = new_hour - 12\n",
    "        if rest == 0:\n",
    "            if ampm == \"PM\": # If the change falls 1 hour after 12\n",
    "                if new_min < 10:\n",
    "                    calculated_time = f\"{new_hour}:0{new_min} AM\"\n",
    "                    ampm = \"AM\"\n",
    "                else:\n",
    "                    calculated_time = f\"{new_hour}:{new_min} AM\"\n",
    "                    ampm = \"AM\"\n",
    "            elif ampm == \"AM\":\n",
    "                if new_min < 10:\n",
    "                    calculated_time = f\"{new_hour}:0{new_min} PM\"\n",
    "                    ampm = \"PM\"\n",
    "                else:\n",
    "                    calculated_time = f\"{new_hour}:{new_min} PM\"\n",
    "                    ampm = \"PM\"\n",
    "        elif rest <= 12: # For greater changes\n",
    "            if ampm == \"PM\":\n",
    "                if new_min < 10:\n",
    "                    # calculated_time = f\"{rest}:0{new_min} AM (next day)\"\n",
    "                    calculated_time = f\"{rest}:0{new_min} AM\"\n",
    "                    new_day += 1\n",
    "                    ampm = \"AM\"\n",
    "                else:\n",
    "                    # calculated_time = f\"{rest}:{new_min} AM (next day)\"\n",
    "                    calculated_time = f\"{rest}:{new_min} AM\"\n",
    "                    new_day += 1\n",
    "                    ampm = \"AM\"\n",
    "            elif ampm == \"AM\":\n",
    "                if new_min < 10:\n",
    "                    calculated_time = f\"{rest}:0{new_min} PM\"\n",
    "                    ampm = \"PM\"\n",
    "                else:\n",
    "                    calculated_time = f\"{rest}:{new_min} PM\"\n",
    "                    ampm = \"PM\"\n",
    "    \n",
    "    #### A lot of new days\n",
    "\n",
    "    elif new_hour >= 12 and new_day >= 1: # That only indicates a am pm change\n",
    "        rest = new_hour - 12\n",
    "        if rest == 0:\n",
    "            if ampm == \"PM\": # If the change falls 1 hour after 12\n",
    "                if new_min < 10:\n",
    "                    calculated_time = f\"{new_hour}:0{new_min} AM\"\n",
    "                    new_day += 1\n",
    "                    ampm = \"AM\"\n",
    "                else:\n",
    "                    calculated_time = f\"{new_hour}:{new_min} AM\"\n",
    "                    new_day += 1\n",
    "                    ampm = \"AM\"\n",
    "            elif ampm == \"AM\":\n",
    "                if new_min < 10:\n",
    "                    calculated_time = f\"{new_hour}:0{new_min} PM\"\n",
    "                    ampm = \"PM\"\n",
    "                else:\n",
    "                    calculated_time = f\"{new_hour}:{new_min} PM\"\n",
    "                    ampm = \"PM\"\n",
    "        elif rest <= 12: # For greater changes\n",
    "            if ampm == \"PM\":\n",
    "                if new_min < 10:\n",
    "                    # calculated_time = f\"{rest}:0{new_min} AM ({new_day + 1} days later)\"\n",
    "                    calculated_time = f\"{rest}:0{new_min} AM)\"\n",
    "                    new_day += 1\n",
    "                    ampm = \"AM\"\n",
    "                else:\n",
    "                    # calculated_time = f\"{rest}:{new_min} AM ({new_day + 1} days later)\"\n",
    "                    calculated_time = f\"{rest}:{new_min} AM\"\n",
    "                    new_day += 1\n",
    "                    ampm = \"AM\"\n",
    "            elif ampm == \"AM\":\n",
    "                if new_min < 10:\n",
    "                    calculated_time = f\"{rest}:0{new_min} PM\"\n",
    "                    ampm = \"PM\"\n",
    "                else:\n",
    "                    calculated_time = f\"{rest}:{new_min} PM\" \n",
    "                    ampm = \"PM\"\n",
    "\n",
    "    return calculated_time, new_day, new_hour, ampm\n",
    "\n",
    "def get_weekdays(string, days, hour, ampm):\n",
    "    string = string.capitalize()\n",
    "    days_small = [\"Monday\", \"Tuesday\", \"Wednesday\", \"Thursday\", \"Friday\", \"Saturday\", \"Sunday\"]\n",
    "\n",
    "    if hour >= 12:\n",
    "        hour -= 12#;days += 1\n",
    "    \n",
    "\n",
    "    if string in days_small:\n",
    "        ind = days_small.index(string)\n",
    "        new_ind = ind + days\n",
    "        if new_ind <= 6:\n",
    "            if hour == 12 and ampm == \"AM\": \n",
    "                days += 1\n",
    "                weekday = days_small[new_ind + 1]\n",
    "            elif hour == 12 and ampm == \"PM\":\n",
    "                weekday = days_small[new_ind + 1]\n",
    "            else:\n",
    "                weekday = days_small[new_ind]\n",
    "        else:\n",
    "            indicator_1 = days // 7\n",
    "            indicator_2 = days % 7\n",
    "\n",
    "            if indicator_1 == 0:\n",
    "                sub_stract = len(days_small) - ind\n",
    "                weekday = days_small[sub_stract]\n",
    "            else:\n",
    "                new_ind = ind + indicator_2\n",
    "                if new_ind <= 6:\n",
    "                    weekday = days_small[new_ind]\n",
    "                else:\n",
    "                    new_ind -= 7\n",
    "                    weekday = days_small[new_ind]\n",
    "\n",
    "    return weekday, days\n",
    "    \n",
    "\n",
    "\n",
    "def add_time(start, duration, extra = \"\"):\n",
    "    ampm = start.split()[1]\n",
    "    start_comps = start.split()[0]\n",
    "    start_dic = hour_to_day(start_comps)\n",
    "    dur_dic = hour_to_day(duration)\n",
    "\n",
    "    if extra == \"\":\n",
    "        calculated_time, new_day, new_hour, ampm = time_calculator(start_dic, ampm, dur_dic)\n",
    "        # print(\"Calculated ingredients without a weekday:\", calculated_time, new_day, new_hour, ampm)\n",
    "        if new_day == 1:\n",
    "            calculated_time = calculated_time + (\" (next day)\")\n",
    "        elif new_day > 1:\n",
    "            calculated_time = calculated_time + (f\" ({new_day} days later)\")\n",
    "\n",
    "    else:\n",
    "        calculated_time, new_day, new_hour, ampm = time_calculator(start_dic, ampm, dur_dic)\n",
    "        # print(\"Analysis:\", calculated_time, new_day, new_hour, ampm, extra) \n",
    "        weekday, days = get_weekdays(extra, new_day, new_hour, ampm)\n",
    "        # print(\"weekday is\", weekday, \"with days later:\", days)\n",
    "        # print(calculated_time, new_day, new_hour)\n",
    "        if new_day == 1:\n",
    "            calculated_time = calculated_time + f\", {weekday} (next day)\"\n",
    "        elif new_day > 1:\n",
    "            calculated_time = calculated_time + f\", {weekday} ({new_day} days later)\"\n",
    "        elif new_day == 0:\n",
    "            calculated_time = calculated_time + f\", {weekday}\"\n",
    "        \n",
    "\n",
    "    new_time = calculated_time\n",
    "    return new_time"
   ]
  },
  {
   "cell_type": "code",
   "execution_count": 2,
   "metadata": {},
   "outputs": [
    {
     "data": {
      "text/plain": [
       "'5:42 PM'"
      ]
     },
     "execution_count": 2,
     "metadata": {},
     "output_type": "execute_result"
    }
   ],
   "source": [
    "add_time(\"3:30 PM\", \"2:12\")\n",
    "# \"5:42 PM\""
   ]
  },
  {
   "cell_type": "code",
   "execution_count": 3,
   "metadata": {},
   "outputs": [
    {
     "data": {
      "text/plain": [
       "'3:07 PM'"
      ]
     },
     "execution_count": 3,
     "metadata": {},
     "output_type": "execute_result"
    }
   ],
   "source": [
    "add_time(\"11:55 AM\", \"3:12\")\n",
    "# \"3:07 PM\""
   ]
  },
  {
   "cell_type": "code",
   "execution_count": 4,
   "metadata": {},
   "outputs": [
    {
     "data": {
      "text/plain": [
       "'2:45 AM (next day)'"
      ]
     },
     "execution_count": 4,
     "metadata": {},
     "output_type": "execute_result"
    }
   ],
   "source": [
    "add_time(\"9:15 PM\", \"5:30\")\n",
    "# \"2:45 AM (next day)\""
   ]
  },
  {
   "cell_type": "code",
   "execution_count": 5,
   "metadata": {},
   "outputs": [
    {
     "data": {
      "text/plain": [
       "'12:05 PM'"
      ]
     },
     "execution_count": 5,
     "metadata": {},
     "output_type": "execute_result"
    }
   ],
   "source": [
    "add_time(\"11:40 AM\", \"0:25\")\n",
    "# \"12:05 PM\""
   ]
  },
  {
   "cell_type": "code",
   "execution_count": 6,
   "metadata": {},
   "outputs": [
    {
     "data": {
      "text/plain": [
       "'2:59 AM (next day)'"
      ]
     },
     "execution_count": 6,
     "metadata": {},
     "output_type": "execute_result"
    }
   ],
   "source": [
    "add_time(\"2:59 AM\", \"24:00\") \n",
    "# \"2:59 AM (next day)\""
   ]
  },
  {
   "cell_type": "code",
   "execution_count": 7,
   "metadata": {},
   "outputs": [
    {
     "data": {
      "text/plain": [
       "'12:04 AM (2 days later)'"
      ]
     },
     "execution_count": 7,
     "metadata": {},
     "output_type": "execute_result"
    }
   ],
   "source": [
    "add_time(\"11:59 PM\", \"24:05\") \n",
    "# \"12:04 AM (2 days later)\""
   ]
  },
  {
   "cell_type": "code",
   "execution_count": 8,
   "metadata": {},
   "outputs": [
    {
     "data": {
      "text/plain": [
       "'6:18 AM (20 days later)'"
      ]
     },
     "execution_count": 8,
     "metadata": {},
     "output_type": "execute_result"
    }
   ],
   "source": [
    "add_time(\"8:16 PM\", \"466:02\")\n",
    "# \"6:18 AM (20 days later)\""
   ]
  },
  {
   "cell_type": "code",
   "execution_count": 9,
   "metadata": {},
   "outputs": [
    {
     "data": {
      "text/plain": [
       "'5:01 AM'"
      ]
     },
     "execution_count": 9,
     "metadata": {},
     "output_type": "execute_result"
    }
   ],
   "source": [
    "add_time(\"5:01 AM\", \"0:00\")\n",
    "# \"5:01 AM\""
   ]
  },
  {
   "cell_type": "code",
   "execution_count": 10,
   "metadata": {},
   "outputs": [
    {
     "data": {
      "text/plain": [
       "'5:42 PM, Monday'"
      ]
     },
     "execution_count": 10,
     "metadata": {},
     "output_type": "execute_result"
    }
   ],
   "source": [
    "add_time(\"3:30 PM\", \"2:12\", \"Monday\")\n",
    "# \"5:42 PM, Monday\""
   ]
  },
  {
   "cell_type": "code",
   "execution_count": 11,
   "metadata": {},
   "outputs": [
    {
     "data": {
      "text/plain": [
       "'2:59 AM, Sunday (next day)'"
      ]
     },
     "execution_count": 11,
     "metadata": {},
     "output_type": "execute_result"
    }
   ],
   "source": [
    "add_time(\"2:59 AM\", \"24:00\", \"saturDay\")\n",
    "#  \"2:59 AM, Sunday (next day)\""
   ]
  },
  {
   "cell_type": "code",
   "execution_count": 12,
   "metadata": {},
   "outputs": [
    {
     "data": {
      "text/plain": [
       "'12:04 AM, Friday (2 days later)'"
      ]
     },
     "execution_count": 12,
     "metadata": {},
     "output_type": "execute_result"
    }
   ],
   "source": [
    "add_time(\"11:59 PM\", \"24:05\", \"Wednesday\") # repair #####################\n",
    "# \"12:04 AM, Friday (2 days later)\""
   ]
  },
  {
   "cell_type": "code",
   "execution_count": 13,
   "metadata": {},
   "outputs": [
    {
     "data": {
      "text/plain": [
       "'6:18 AM, Monday (20 days later)'"
      ]
     },
     "execution_count": 13,
     "metadata": {},
     "output_type": "execute_result"
    }
   ],
   "source": [
    "add_time(\"8:16 PM\", \"466:02\", \"tuesday\") # reapair\n",
    "# \"6:18 AM, Monday (20 days later)\""
   ]
  },
  {
   "cell_type": "code",
   "execution_count": null,
   "metadata": {},
   "outputs": [],
   "source": []
  }
 ],
 "metadata": {
  "kernelspec": {
   "display_name": "Python 3.7.10 ('base')",
   "language": "python",
   "name": "python3"
  },
  "language_info": {
   "codemirror_mode": {
    "name": "ipython",
    "version": 3
   },
   "file_extension": ".py",
   "mimetype": "text/x-python",
   "name": "python",
   "nbconvert_exporter": "python",
   "pygments_lexer": "ipython3",
   "version": "3.7.10"
  },
  "orig_nbformat": 4,
  "vscode": {
   "interpreter": {
    "hash": "40d3a090f54c6569ab1632332b64b2c03c39dcf918b08424e98f38b5ae0af88f"
   }
  }
 },
 "nbformat": 4,
 "nbformat_minor": 2
}
