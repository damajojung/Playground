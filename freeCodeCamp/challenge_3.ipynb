{
 "cells": [
  {
   "cell_type": "markdown",
   "metadata": {},
   "source": [
    "# freeCodeCamp - Scientific Computing with Python"
   ]
  },
  {
   "cell_type": "code",
   "execution_count": 1,
   "metadata": {},
   "outputs": [],
   "source": [
    "# import unittest\n",
    "# import budget\n",
    "# from budget import create_spend_chart\n",
    "\n",
    "\n",
    "# class UnitTests(unittest.TestCase):\n",
    "#     maxDiff = None\n",
    "#     def setUp(self):\n",
    "#         self.food = budget.Category(\"Food\")\n",
    "#         self.entertainment = budget.Category(\"Entertainment\")\n",
    "#         self.business = budget.Category(\"Business\")\n",
    "\n",
    "#     def test_deposit(self):\n",
    "#         self.food.deposit(900, \"deposit\")\n",
    "#         actual = self.food.ledger[0]\n",
    "#         expected = {\"amount\": 900, \"description\": \"deposit\"}\n",
    "#         self.assertEqual(actual, expected, 'Expected `deposit` method to create a specific object in the ledger instance variable.')\n",
    "\n",
    "#     def test_deposit_no_description(self):\n",
    "#         self.food.deposit(45.56)\n",
    "#         actual = self.food.ledger[0]\n",
    "#         expected = {\"amount\": 45.56, \"description\": \"\"}\n",
    "#         self.assertEqual(actual, expected, 'Expected calling `deposit` method with no description to create a blank description.')\n",
    "\n",
    "#     def test_withdraw(self):\n",
    "#         self.food.deposit(900, \"deposit\")\n",
    "#         self.food.withdraw(45.67, \"milk, cereal, eggs, bacon, bread\")\n",
    "#         actual = self.food.ledger[1]\n",
    "#         expected = {\"amount\": -45.67, \"description\": \"milk, cereal, eggs, bacon, bread\"}\n",
    "#         self.assertEqual(actual, expected, 'Expected `withdraw` method to create a specific object in the ledger instance variable.')\n",
    "\n",
    "#     def test_withdraw_no_description(self):\n",
    "#         self.food.deposit(900, \"deposit\")\n",
    "#         good_withdraw = self.food.withdraw(45.67)\n",
    "#         actual = self.food.ledger[1]\n",
    "#         expected = {\"amount\": -45.67, \"description\": \"\"}\n",
    "#         self.assertEqual(actual, expected, 'Expected `withdraw` method with no description to create a blank description.')\n",
    "#         self.assertEqual(good_withdraw, True, 'Expected `withdraw` method to return `True`.')\n",
    "\n",
    "#     def test_get_balance(self):\n",
    "#         self.food.deposit(900, \"deposit\")\n",
    "#         self.food.withdraw(45.67, \"milk, cereal, eggs, bacon, bread\")\n",
    "#         actual = self.food.get_balance()\n",
    "#         expected = 854.33\n",
    "#         self.assertEqual(actual, expected, 'Expected balance to be 854.33')\n",
    "\n",
    "#     def test_transfer(self):\n",
    "#         self.food.deposit(900, \"deposit\")\n",
    "#         self.food.withdraw(45.67, \"milk, cereal, eggs, bacon, bread\")\n",
    "#         transfer_amount = 20\n",
    "#         food_balance_before = self.food.get_balance()\n",
    "#         entertainment_balance_before = self.entertainment.get_balance()\n",
    "#         good_transfer = self.food.transfer(transfer_amount, self.entertainment)\n",
    "#         food_balance_after = self.food.get_balance()\n",
    "#         entertainment_balance_after = self.entertainment.get_balance()\n",
    "#         actual = self.food.ledger[2]\n",
    "#         expected = {\"amount\": -transfer_amount, \"description\": \"Transfer to Entertainment\"}\n",
    "#         self.assertEqual(actual, expected, 'Expected `transfer` method to create a specific ledger item in food object.')\n",
    "#         self.assertEqual(good_transfer, True, 'Expected `transfer` method to return `True`.')\n",
    "#         self.assertEqual(food_balance_before - food_balance_after, transfer_amount, 'Expected `transfer` method to reduce balance in food object.')\n",
    "#         self.assertEqual(entertainment_balance_after - entertainment_balance_before, transfer_amount, 'Expected `transfer` method to increase balance in entertainment object.')\n",
    "#         actual = self.entertainment.ledger[0]\n",
    "#         expected = {\"amount\": transfer_amount, \"description\": \"Transfer from Food\"}\n",
    "#         self.assertEqual(actual, expected, 'Expected `transfer` method to create a specific ledger item in entertainment object.')\n",
    "\n",
    "#     def test_check_funds(self):\n",
    "#         self.food.deposit(10, \"deposit\")\n",
    "#         actual = self.food.check_funds(20)\n",
    "#         expected = False\n",
    "#         self.assertEqual(actual, expected, 'Expected `check_funds` method to be False')\n",
    "#         actual = self.food.check_funds(10)\n",
    "#         expected = True\n",
    "#         self.assertEqual(actual, expected, 'Expected `check_funds` method to be True')\n",
    "\n",
    "#     def test_withdraw_no_funds(self):\n",
    "#         self.food.deposit(100, \"deposit\")\n",
    "#         good_withdraw = self.food.withdraw(100.10)\n",
    "#         self.assertEqual(good_withdraw, False, 'Expected `withdraw` method to return `False`.')\n",
    "\n",
    "#     def test_transfer_no_funds(self):\n",
    "#         self.food.deposit(100, \"deposit\")\n",
    "#         good_transfer = self.food.transfer(200, self.entertainment)\n",
    "#         self.assertEqual(good_transfer, False, 'Expected `transfer` method to return `False`.')\n",
    "\n",
    "#     def test_to_string(self): ############################\n",
    "#         self.food.deposit(900, \"deposit\")\n",
    "#         self.food.withdraw(45.67, \"milk, cereal, eggs, bacon, bread\")\n",
    "#         self.food.transfer(20, self.entertainment)\n",
    "#         actual = str(self.food)\n",
    "#         expected = f\"*************Food*************\\ndeposit                 900.00\\nmilk, cereal, eggs, bac -45.67\\nTransfer to Entertainme -20.00\\nTotal: 834.33\"\n",
    "#         self.assertEqual(actual, expected, 'Expected different string representation of object.')\n",
    "\n",
    "#     def test_create_spend_chart(self): ############################\n",
    "#         self.food.deposit(900, \"deposit\")\n",
    "#         self.entertainment.deposit(900, \"deposit\")\n",
    "#         self.business.deposit(900, \"deposit\")\n",
    "#         self.food.withdraw(105.55)\n",
    "#         self.entertainment.withdraw(33.40)\n",
    "#         self.business.withdraw(10.99)\n",
    "#         actual = create_spend_chart([self.business, self.food, self.entertainment])\n",
    "#         expected = \"Percentage spent by category\\n100|          \\n 90|          \\n 80|          \\n 70|    o     \\n 60|    o     \\n 50|    o     \\n 40|    o     \\n 30|    o     \\n 20|    o  o  \\n 10|    o  o  \\n  0| o  o  o  \\n    ----------\\n     B  F  E  \\n     u  o  n  \\n     s  o  t  \\n     i  d  e  \\n     n     r  \\n     e     t  \\n     s     a  \\n     s     i  \\n           n  \\n           m  \\n           e  \\n           n  \\n           t  \"\n",
    "#         self.assertEqual(actual, expected, 'Expected different chart representation. Check that all spacing is exact.')\n",
    "\n",
    "# if __name__ == \"__main__\":\n",
    "#     unittest.main()\n"
   ]
  },
  {
   "cell_type": "code",
   "execution_count": 79,
   "metadata": {},
   "outputs": [],
   "source": [
    "class Category:\n",
    "\n",
    "    def __init__(self, name):\n",
    "        self.name = name # Name of the category - food, clothing, and entertainment\n",
    "        self.name_list = [];self.name_list.append(self.name)\n",
    "        self.funds = 0\n",
    "        self.total_spent = 0\n",
    "        self.ledger = []\n",
    "\n",
    "    def __str__(self):\n",
    "        self.n = self.name\n",
    "        self.header = str(int((30 - len(self.n)) / 2) * \"*\" + self.n + int((30 - len(self.n)) / 2) * \"*\")\n",
    "        self.text = \"\"\n",
    "        for idx, i in enumerate(self.ledger):\n",
    "            if idx == 0:\n",
    "                self.text = self.text + self.header + \"\\n\"\n",
    "            self.string = i[\"description\"][:23]\n",
    "            self.number = \"{:.2f}\".format(i[\"amount\"])\n",
    "            self.line = self.string.ljust(30)\n",
    "            self.line_final = self.line[:(len(self.line) - len(self.number))] + self.number\n",
    "            self.text = self.text + str(self.line_final) + \"\\n\"\n",
    "            if idx == len(self.ledger)-1:\n",
    "                self.total = \"{:.2f}\".format(self.funds)\n",
    "                self.text = self.text + \"Total: \" + self.total + \"\\n\"\n",
    "        return f\"{self.text}\"\n",
    "\n",
    "    def deposit(self, amount, description = \"\"):\n",
    "        if len(description) == 0:\n",
    "            self.ledger.append({\"amount\": amount, \"description\": \"\"})\n",
    "            self.funds += amount\n",
    "        else:\n",
    "            self.ledger.append({\"amount\": amount, \"description\": description})\n",
    "            self.funds += amount\n",
    "        return self.ledger\n",
    "\n",
    "\n",
    "    def withdraw(self, amount, description = \"\"):\n",
    "        if self.funds - amount >= 0:\n",
    "            if len(description) == 0:\n",
    "                self.ledger.append({\"amount\": -amount, \"description\": \"\"})\n",
    "                self.funds -= amount\n",
    "                self.total_spent += amount\n",
    "                return True\n",
    "            else:\n",
    "                self.ledger.append({\"amount\": -amount, \"description\": description})\n",
    "                self.funds -= amount\n",
    "                self.total_spent += amount\n",
    "                return True\n",
    "        else:\n",
    "            return False\n",
    "\n",
    "        \n",
    "\n",
    "    def get_balance(self):\n",
    "        return self.funds\n",
    "\n",
    "    def transfer(self, amount, category):\n",
    "        if self.funds - amount >= 0:\n",
    "            self.withdraw(amount, f\"Transfer to {category.name}\")\n",
    "            self.total_spent += amount\n",
    "            category.deposit(amount, f\"Transfer from {self.name}\")\n",
    "            return True\n",
    "        else:\n",
    "            return False\n",
    "        \n",
    "\n",
    "    def check_funds(self, amount):\n",
    "        if amount > self.funds:\n",
    "            return False\n",
    "        else:\n",
    "            return True\n",
    "    \n",
    "\n",
    "# def create_spend_chart(categories):\n",
    "#     pass"
   ]
  },
  {
   "cell_type": "code",
   "execution_count": 80,
   "metadata": {},
   "outputs": [],
   "source": [
    "food = Category(\"Business\")\n",
    "clothings = Category(\"Food\")\n",
    "auto = Category(\"Entertainment\")"
   ]
  },
  {
   "cell_type": "code",
   "execution_count": 81,
   "metadata": {},
   "outputs": [
    {
     "data": {
      "text/plain": [
       "True"
      ]
     },
     "execution_count": 81,
     "metadata": {},
     "output_type": "execute_result"
    }
   ],
   "source": [
    "food.deposit(100, \"hallo\")\n",
    "clothings.deposit(100, \"hallo1\")\n",
    "auto.deposit(100, \"hallo2\")\n",
    "\n",
    "food.withdraw(3, \"bye\")\n",
    "clothings.withdraw(73, \"bye1\")\n",
    "auto.withdraw(23, \"bye2\")"
   ]
  },
  {
   "cell_type": "code",
   "execution_count": 82,
   "metadata": {},
   "outputs": [
    {
     "name": "stdout",
     "output_type": "stream",
     "text": [
      "***********Business***********\n",
      "hallo                   100.00\n",
      "bye                      -3.00\n",
      "Total: 97.00\n",
      "\n",
      "*************Food*************\n",
      "hallo1                  100.00\n",
      "bye1                    -73.00\n",
      "Total: 27.00\n",
      "\n",
      "********Entertainment********\n",
      "hallo2                  100.00\n",
      "bye2                    -23.00\n",
      "Total: 77.00\n",
      "\n"
     ]
    }
   ],
   "source": [
    "print((food));print((clothings));print((auto))"
   ]
  },
  {
   "cell_type": "code",
   "execution_count": null,
   "metadata": {},
   "outputs": [],
   "source": []
  },
  {
   "cell_type": "markdown",
   "metadata": {},
   "source": [
    "## String formation"
   ]
  },
  {
   "cell_type": "code",
   "execution_count": 57,
   "metadata": {},
   "outputs": [],
   "source": [
    "name = food.name\n",
    "header = str(int((30 - len(name)) / 2) * \"*\" + name + int((30 - len(name)) / 2) * \"*\")\n",
    "text = \"\"\n",
    "for idx, i in enumerate(food.ledger):\n",
    "    if idx == 0:\n",
    "        text = text + header + \"\\n\"\n",
    "    string = i[\"description\"][:23]\n",
    "    number = \"{:.2f}\".format(i[\"amount\"])\n",
    "    line = string.ljust(30)\n",
    "    line_final = line[:(len(line) - len(number))] + number\n",
    "    text = text + str(line_final) + \"\\n\"\n",
    "    if idx == len(food.ledger)-1:\n",
    "        total = \"{:.2f}\".format(food.funds)\n",
    "        text = text + \"Total: \" + total + \"\\n\"\n",
    "        "
   ]
  },
  {
   "cell_type": "code",
   "execution_count": 58,
   "metadata": {},
   "outputs": [
    {
     "name": "stdout",
     "output_type": "stream",
     "text": [
      "***********Business***********\n",
      "hallo                    30.00\n",
      "bye                      -1.00\n",
      "Total: 29.00\n",
      "\n"
     ]
    }
   ],
   "source": [
    "print(text)"
   ]
  },
  {
   "cell_type": "code",
   "execution_count": 8,
   "metadata": {},
   "outputs": [
    {
     "name": "stdout",
     "output_type": "stream",
     "text": [
      "test                      asdf\n",
      "30\n"
     ]
    }
   ],
   "source": [
    "a = \"test\".ljust(30)\n",
    "b = \"asdf\"\n",
    "c = a[:(len(a) - len(b))] + b\n",
    "print(c)\n",
    "print(len(c))"
   ]
  },
  {
   "cell_type": "markdown",
   "metadata": {},
   "source": [
    "### Function "
   ]
  },
  {
   "cell_type": "code",
   "execution_count": 105,
   "metadata": {},
   "outputs": [],
   "source": [
    "categories = [food, clothings, auto]\n",
    "def create_spend_chart(categories):\n",
    "    final_string = \"\"\n",
    "    # Getting data for o's\n",
    "    overall_spending = 0\n",
    "    percentages = []\n",
    "    for i in categories:\n",
    "        overall_spending += i.total_spent\n",
    "    for i in categories:\n",
    "        p = i.total_spent * 100 / overall_spending\n",
    "        percentages.append(int((p // 10) * 10))\n",
    "    # End getting data for o'set\n",
    "\n",
    "    numbers = [i for i in range(100,-10, -10)]\n",
    "    indices = [6, 9, 12] # By looking at the example output\n",
    "    final_string = final_string + \"Percentage spent by category\" + \"\\n\"\n",
    "    for i in numbers:\n",
    "        string = (str(i) + \"|\").rjust(4) # Creating the baseline\n",
    "        line = string.ljust(14)\n",
    "        if i in percentages: # checking whether one needs an o\n",
    "            index = [a for a, b in enumerate(percentages) if b == i]\n",
    "            if len(index) == 1:\n",
    "                target = indices[index[0]]\n",
    "                line = line[:target-1] + \"o\" + line[target:]\n",
    "                percentages[index[0]] = percentages[index[0]] - 10\n",
    "            else:\n",
    "                for q in index:\n",
    "                    target = indices[q]\n",
    "                    line = line[:target-1] + \"o\" + line[target:]\n",
    "                    percentages[q] = percentages[q] - 10\n",
    "\n",
    "        final_string = final_string + line +\"\\n\"\n",
    "    final_string = final_string + \"    ----------\" + \"\\n\"\n",
    "\n",
    "    cat_names = [food.name, clothings.name, auto.name]\n",
    "    len_cat_names =  [len(food.name), len(clothings.name), len(auto.name)]\n",
    "    max_nam = int(max(len_cat_names))\n",
    "    cat_names = [i.ljust(max_nam) for i in cat_names]\n",
    "\n",
    "    empty_line = \"\".ljust(14)\n",
    "    for i in range(0, max_nam, 1):\n",
    "        for idx, j in enumerate(indices):\n",
    "            word = cat_names[idx]\n",
    "            empty_line = empty_line[:j-1] + word[i] + empty_line[j:]\n",
    "        if i != (max_nam - 1):\n",
    "            final_string = final_string + empty_line + \"\\n\"\n",
    "        else:\n",
    "            final_string = final_string + empty_line\n",
    "    \n",
    "    \n",
    "    return final_string\n"
   ]
  },
  {
   "cell_type": "code",
   "execution_count": 106,
   "metadata": {},
   "outputs": [],
   "source": [
    "bar_chart = create_spend_chart(categories)"
   ]
  },
  {
   "cell_type": "code",
   "execution_count": 107,
   "metadata": {},
   "outputs": [
    {
     "name": "stdout",
     "output_type": "stream",
     "text": [
      "Percentage spent by category\n",
      "100|          \n",
      " 90|          \n",
      " 80|          \n",
      " 70|          \n",
      " 60|          \n",
      " 50| o        \n",
      " 40| o        \n",
      " 30| o  o     \n",
      " 20| o  o     \n",
      " 10| o  o  o  \n",
      "  0| o  o  o  \n",
      "    ----------\n",
      "     F  F  E  \n",
      "     o  o  n  \n",
      "     o  o  t  \n",
      "     d  d  e  \n",
      "           r  \n",
      "           t  \n",
      "           a  \n",
      "           i  \n",
      "           n  \n",
      "           m  \n",
      "           e  \n",
      "           n  \n",
      "           t  \n"
     ]
    }
   ],
   "source": [
    "print(bar_chart)"
   ]
  },
  {
   "cell_type": "code",
   "execution_count": null,
   "metadata": {},
   "outputs": [],
   "source": []
  },
  {
   "cell_type": "markdown",
   "metadata": {},
   "source": [
    "# Deployment "
   ]
  },
  {
   "cell_type": "code",
   "execution_count": null,
   "metadata": {},
   "outputs": [],
   "source": [
    "class Category:\n",
    "\n",
    "    def __init__(self, name):\n",
    "        self.name = name # Name of the category - food, clothing, and entertainment\n",
    "        self.name_list = [];self.name_list.append(self.name)\n",
    "        self.funds = 0\n",
    "        self.total_spent = 0\n",
    "        self.ledger = []\n",
    "\n",
    "    def __str__(self):\n",
    "        self.n = self.name\n",
    "        self.header = str(int((30 - len(self.n)) / 2) * \"*\" + self.n + int((30 - len(self.n)) / 2) * \"*\")\n",
    "        self.text = \"\"\n",
    "        for idx, i in enumerate(self.ledger):\n",
    "            if idx == 0:\n",
    "                self.text = self.text + self.header + \"\\n\"\n",
    "            self.string = i[\"description\"][:23]\n",
    "            self.number = \"{:.2f}\".format(i[\"amount\"])\n",
    "            self.line = self.string.ljust(30)\n",
    "            self.line_final = self.line[:(len(self.line) - len(self.number))] + self.number\n",
    "            self.text = self.text + str(self.line_final) + \"\\n\"\n",
    "            if idx == len(self.ledger)-1:\n",
    "                self.total = \"{:.2f}\".format(self.funds)\n",
    "                self.text = self.text + \"Total: \" + self.total\n",
    "        return f\"{self.text}\"\n",
    "\n",
    "    def deposit(self, amount, description = \"\"):\n",
    "        if len(description) == 0:\n",
    "            self.ledger.append({\"amount\": amount, \"description\": \"\"})\n",
    "            self.funds += amount\n",
    "        else:\n",
    "            self.ledger.append({\"amount\": amount, \"description\": description})\n",
    "            self.funds += amount\n",
    "        return self.ledger\n",
    "\n",
    "\n",
    "    def withdraw(self, amount, description = \"\"):\n",
    "        if self.funds - amount >= 0:\n",
    "            if len(description) == 0:\n",
    "                self.ledger.append({\"amount\": -amount, \"description\": \"\"})\n",
    "                self.funds -= amount\n",
    "                self.total_spent += amount\n",
    "                return True\n",
    "            else:\n",
    "                self.ledger.append({\"amount\": -amount, \"description\": description})\n",
    "                self.funds -= amount\n",
    "                self.total_spent += amount\n",
    "                return True\n",
    "        else:\n",
    "            return False\n",
    "\n",
    "        \n",
    "\n",
    "    def get_balance(self):\n",
    "        return self.funds\n",
    "\n",
    "    def transfer(self, amount, category):\n",
    "        if self.funds - amount >= 0:\n",
    "            self.withdraw(amount, f\"Transfer to {category.name}\")\n",
    "            self.total_spent += amount\n",
    "            category.deposit(amount, f\"Transfer from {self.name}\")\n",
    "            return True\n",
    "        else:\n",
    "            return False\n",
    "        \n",
    "\n",
    "    def check_funds(self, amount):\n",
    "        if amount > self.funds:\n",
    "            return False\n",
    "        else:\n",
    "            return True\n",
    "    \n",
    "# categories = [food, clothings, auto]\n",
    "def create_spend_chart(categories):\n",
    "    final_string = \"\"\n",
    "    # Getting data for o's\n",
    "    overall_spending = 0\n",
    "    percentages = []\n",
    "    for i in categories:\n",
    "        overall_spending += i.total_spent\n",
    "    for i in categories:\n",
    "        p = i.total_spent * 100 / overall_spending\n",
    "        percentages.append(int((p // 10) * 10))\n",
    "    # End getting data for o'set\n",
    "\n",
    "    numbers = [i for i in range(100,-10, -10)]\n",
    "    indices = [6, 9, 12] # By looking at the example output\n",
    "    final_string = final_string + \"Percentage spent by category\" + \"\\n\"\n",
    "    for i in numbers:\n",
    "        string = (str(i) + \"|\").rjust(4) # Creating the baseline\n",
    "        line = string.ljust(14)\n",
    "        if i in percentages: # checking whether one needs an o\n",
    "            index = [a for a, b in enumerate(percentages) if b == i]\n",
    "            if len(index) == 1:\n",
    "                target = indices[index[0]]\n",
    "                line = line[:target-1] + \"o\" + line[target:]\n",
    "                percentages[index[0]] = percentages[index[0]] - 10\n",
    "            else:\n",
    "                for q in index:\n",
    "                    target = indices[q]\n",
    "                    line = line[:target-1] + \"o\" + line[target:]\n",
    "                    percentages[q] = percentages[q] - 10\n",
    "\n",
    "        final_string = final_string + line +\"\\n\"\n",
    "    final_string = final_string + \"    ----------\" + \"\\n\"\n",
    "\n",
    "    cat_names = [i.name for i in categories]\n",
    "    len_cat_names =  [len(i) for i in cat_names]\n",
    "    max_nam = int(max(len_cat_names))\n",
    "    cat_names = [i.ljust(max_nam) for i in cat_names]\n",
    "\n",
    "    empty_line = \"\".ljust(14)\n",
    "    for i in range(0, max_nam, 1):\n",
    "        for idx, j in enumerate(indices):\n",
    "            word = cat_names[idx]\n",
    "            empty_line = empty_line[:j-1] + word[i] + empty_line[j:]\n",
    "        if i != (max_nam - 1):\n",
    "            final_string = final_string + empty_line + \"\\n\"\n",
    "        else:\n",
    "            final_string = final_string + empty_line\n",
    "    \n",
    "    return final_string\n"
   ]
  },
  {
   "cell_type": "markdown",
   "metadata": {},
   "source": [
    "# Validation "
   ]
  },
  {
   "cell_type": "code",
   "execution_count": 99,
   "metadata": {},
   "outputs": [],
   "source": [
    "food = Category(\"Food\")\n",
    "entertainment = Category(\"Entertainment\")\n",
    "business = Category(\"Business\")"
   ]
  },
  {
   "cell_type": "code",
   "execution_count": 100,
   "metadata": {},
   "outputs": [
    {
     "data": {
      "text/plain": [
       "True"
      ]
     },
     "execution_count": 100,
     "metadata": {},
     "output_type": "execute_result"
    }
   ],
   "source": [
    "food.deposit(900, \"deposit\")\n",
    "entertainment.deposit(900, \"deposit\")\n",
    "business.deposit(900, \"deposit\")\n",
    "food.withdraw(105.55)\n",
    "entertainment.withdraw(33.40)\n",
    "business.withdraw(10.99)"
   ]
  },
  {
   "cell_type": "code",
   "execution_count": 102,
   "metadata": {},
   "outputs": [
    {
     "name": "stdout",
     "output_type": "stream",
     "text": [
      "*************Food*************\n",
      "deposit                 900.00\n",
      "                       -105.55\n",
      "Total: 794.45\n",
      "\n"
     ]
    }
   ],
   "source": [
    "print(food)"
   ]
  },
  {
   "cell_type": "code",
   "execution_count": null,
   "metadata": {},
   "outputs": [],
   "source": []
  },
  {
   "cell_type": "code",
   "execution_count": null,
   "metadata": {},
   "outputs": [],
   "source": []
  },
  {
   "cell_type": "code",
   "execution_count": 97,
   "metadata": {},
   "outputs": [
    {
     "name": "stdout",
     "output_type": "stream",
     "text": [
      "Percentage spent by category\n",
      "100|          \n",
      " 90|          \n",
      " 80|          \n",
      " 70|    o     \n",
      " 60|    o     \n",
      " 50|    o     \n",
      " 40|    o     \n",
      " 30|    o     \n",
      " 20|    o  o  \n",
      " 10|    o  o  \n",
      "  0| o  o  o  \n",
      "    ----------\n",
      "     B  F  E  \n",
      "     u  o  n  \n",
      "     s  o  t  \n",
      "     i  d  e  \n",
      "     n     r  \n",
      "     e     t  \n",
      "     s     a  \n",
      "     s     i  \n",
      "           n  \n",
      "           m  \n",
      "           e  \n",
      "           n  \n",
      "           t  \n"
     ]
    }
   ],
   "source": [
    "expected = \"Percentage spent by category\\n100|          \\n 90|          \\n 80|          \\n 70|    o     \\n 60|    o     \\n 50|    o     \\n 40|    o     \\n 30|    o     \\n 20|    o  o  \\n 10|    o  o  \\n  0| o  o  o  \\n    ----------\\n     B  F  E  \\n     u  o  n  \\n     s  o  t  \\n     i  d  e  \\n     n     r  \\n     e     t  \\n     s     a  \\n     s     i  \\n           n  \\n           m  \\n           e  \\n           n  \\n           t  \"\n",
    "print(expected)"
   ]
  },
  {
   "cell_type": "code",
   "execution_count": 98,
   "metadata": {},
   "outputs": [
    {
     "name": "stdout",
     "output_type": "stream",
     "text": [
      "Percentage spent by category\n",
      "100|          \n",
      " 90|          \n",
      " 80|          \n",
      " 70|    o     \n",
      " 60|    o     \n",
      " 50|    o     \n",
      " 40|    o     \n",
      " 30|    o     \n",
      " 20|    o  o  \n",
      " 10|    o  o  \n",
      "  0| o  o  o  \n",
      "    ----------\n",
      "     B  F  E  \n",
      "     u  o  n  \n",
      "     s  o  t  \n",
      "     i  d  e  \n",
      "     n     r  \n",
      "     e     t  \n",
      "     s     a  \n",
      "     s     i  \n",
      "           n  \n",
      "           m  \n",
      "           e  \n",
      "           n  \n",
      "           t  \n",
      "\n"
     ]
    }
   ],
   "source": [
    "print(bar_chart)"
   ]
  },
  {
   "cell_type": "code",
   "execution_count": null,
   "metadata": {},
   "outputs": [],
   "source": []
  },
  {
   "cell_type": "code",
   "execution_count": null,
   "metadata": {},
   "outputs": [],
   "source": [
    "\"'Perc[364 chars]         m  \\n           e  \\n           n  \\n           t  \\n'\"\n",
    "\"'Perc[364 chars]         m  \\n           e  \\n           n  \\n           t  '\""
   ]
  },
  {
   "cell_type": "code",
   "execution_count": null,
   "metadata": {},
   "outputs": [],
   "source": [
    "'****[77 chars]s, bac -45.67\\nTransfer to Entertainme -20.00\\nTotal: 834.33\\n'\n",
    "'****[77 chars]s, bac -45.67\\nTransfer to Entertainme -20.00\\nTotal: 834.33'"
   ]
  },
  {
   "cell_type": "code",
   "execution_count": null,
   "metadata": {},
   "outputs": [],
   "source": []
  }
 ],
 "metadata": {
  "kernelspec": {
   "display_name": "Python 3.7.10 ('base')",
   "language": "python",
   "name": "python3"
  },
  "language_info": {
   "codemirror_mode": {
    "name": "ipython",
    "version": 3
   },
   "file_extension": ".py",
   "mimetype": "text/x-python",
   "name": "python",
   "nbconvert_exporter": "python",
   "pygments_lexer": "ipython3",
   "version": "3.7.10"
  },
  "orig_nbformat": 4,
  "vscode": {
   "interpreter": {
    "hash": "40d3a090f54c6569ab1632332b64b2c03c39dcf918b08424e98f38b5ae0af88f"
   }
  }
 },
 "nbformat": 4,
 "nbformat_minor": 2
}
