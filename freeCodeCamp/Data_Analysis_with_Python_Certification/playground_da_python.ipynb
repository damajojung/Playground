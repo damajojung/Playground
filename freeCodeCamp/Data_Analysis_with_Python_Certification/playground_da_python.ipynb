{
 "cells": [
  {
   "cell_type": "markdown",
   "metadata": {},
   "source": [
    "# Challenges"
   ]
  },
  {
   "cell_type": "markdown",
   "metadata": {},
   "source": [
    "## Challenge 1"
   ]
  },
  {
   "cell_type": "code",
   "execution_count": 2,
   "metadata": {},
   "outputs": [],
   "source": [
    "import numpy as np"
   ]
  },
  {
   "cell_type": "code",
   "execution_count": 15,
   "metadata": {},
   "outputs": [],
   "source": [
    "l = [0,1,2,3,4,5,6,7,8]"
   ]
  },
  {
   "cell_type": "code",
   "execution_count": 71,
   "metadata": {},
   "outputs": [],
   "source": [
    "\n",
    "def calculate(calc_list):\n",
    "    if len(calc_list) != 9:\n",
    "        raise ValueError(\"List must contain nine numbers.\")\n",
    "    else:\n",
    "        np_arr = np.array(calc_list)\n",
    "        np_arr = np_arr.reshape((3, 3))\n",
    "\n",
    "        # Mean\n",
    "        final_mean = [np.apply_along_axis(np.mean,0, np_arr).tolist(), np.apply_along_axis(np.mean,1, np_arr).tolist(), np.apply_along_axis(np.mean,0, np_arr.flatten()).tolist()]\n",
    "\n",
    "        # Variance\n",
    "        final_var = [np.apply_along_axis(np.var,0, np_arr).tolist(), np.apply_along_axis(np.var,1, np_arr).tolist(), np.apply_along_axis(np.var,0, np_arr.flatten()).tolist()]\n",
    "\n",
    "        # Std\n",
    "        final_std = [np.apply_along_axis(np.std,0, np_arr).tolist(), np.apply_along_axis(np.std,1, np_arr).tolist(), np.apply_along_axis(np.std,0, np_arr.flatten()).tolist()]\n",
    "\n",
    "        # Max\n",
    "        final_max= [np.apply_along_axis(np.max,0, np_arr).tolist(), np.apply_along_axis(np.max,1, np_arr).tolist(), np.apply_along_axis(np.max,0, np_arr.flatten()).tolist()]\n",
    "\n",
    "        # Min\n",
    "        final_min = [np.apply_along_axis(np.min,0, np_arr).tolist(), np.apply_along_axis(np.min,1, np_arr).tolist(), np.apply_along_axis(np.min,0, np_arr.flatten()).tolist()]\n",
    "\n",
    "        # Sum\n",
    "        final_sum = [np.apply_along_axis(np.sum,0, np_arr).tolist(), np.apply_along_axis(np.sum,1, np_arr).tolist(), np.apply_along_axis(np.sum,0, np_arr.flatten()).tolist()]\n",
    "\n",
    "        d = {\n",
    "            'mean': final_mean,\n",
    "            'variance': final_var,\n",
    "            'standard deviation': final_std,\n",
    "            'max': final_max,\n",
    "            'min': final_min,\n",
    "            'sum': final_sum\n",
    "        }\n",
    "\n",
    "        return d"
   ]
  },
  {
   "cell_type": "code",
   "execution_count": 75,
   "metadata": {},
   "outputs": [
    {
     "name": "stdout",
     "output_type": "stream",
     "text": [
      "{'mean': [[3.0, 4.0, 5.0], [1.0, 4.0, 7.0], 4.0], 'variance': [[6.0, 6.0, 6.0], [0.6666666666666666, 0.6666666666666666, 0.6666666666666666], 6.666666666666667], 'standard deviation': [[2.449489742783178, 2.449489742783178, 2.449489742783178], [0.816496580927726, 0.816496580927726, 0.816496580927726], 2.581988897471611], 'max': [[6, 7, 8], [2, 5, 8], 8], 'min': [[0, 1, 2], [0, 3, 6], 0], 'sum': [[9, 12, 15], [3, 12, 21], 36]}\n"
     ]
    }
   ],
   "source": [
    "final_test = calculate([0,1,2,3,4,5,6,7,8])\n",
    "print(final_test)"
   ]
  },
  {
   "cell_type": "code",
   "execution_count": null,
   "metadata": {},
   "outputs": [],
   "source": []
  },
  {
   "cell_type": "markdown",
   "metadata": {},
   "source": [
    "## Challenge 2"
   ]
  },
  {
   "cell_type": "code",
   "execution_count": null,
   "metadata": {},
   "outputs": [],
   "source": [
    "#"
   ]
  },
  {
   "cell_type": "code",
   "execution_count": null,
   "metadata": {},
   "outputs": [],
   "source": []
  },
  {
   "cell_type": "code",
   "execution_count": null,
   "metadata": {},
   "outputs": [],
   "source": []
  },
  {
   "cell_type": "code",
   "execution_count": null,
   "metadata": {},
   "outputs": [],
   "source": []
  },
  {
   "cell_type": "code",
   "execution_count": null,
   "metadata": {},
   "outputs": [],
   "source": []
  }
 ],
 "metadata": {
  "kernelspec": {
   "display_name": "base",
   "language": "python",
   "name": "python3"
  },
  "language_info": {
   "codemirror_mode": {
    "name": "ipython",
    "version": 3
   },
   "file_extension": ".py",
   "mimetype": "text/x-python",
   "name": "python",
   "nbconvert_exporter": "python",
   "pygments_lexer": "ipython3",
   "version": "3.7.10"
  }
 },
 "nbformat": 4,
 "nbformat_minor": 2
}
