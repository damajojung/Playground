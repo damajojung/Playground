{
 "cells": [
  {
   "cell_type": "markdown",
   "metadata": {},
   "source": [
    "# Challenges"
   ]
  },
  {
   "cell_type": "markdown",
   "metadata": {},
   "source": [
    "## Challenge 1"
   ]
  },
  {
   "cell_type": "code",
   "execution_count": 76,
   "metadata": {},
   "outputs": [],
   "source": [
    "import numpy as np\n",
    "import pandas as pd"
   ]
  },
  {
   "cell_type": "code",
   "execution_count": 15,
   "metadata": {},
   "outputs": [],
   "source": [
    "l = [0,1,2,3,4,5,6,7,8]"
   ]
  },
  {
   "cell_type": "code",
   "execution_count": 71,
   "metadata": {},
   "outputs": [],
   "source": [
    "\n",
    "def calculate(calc_list):\n",
    "    if len(calc_list) != 9:\n",
    "        raise ValueError(\"List must contain nine numbers.\")\n",
    "    else:\n",
    "        np_arr = np.array(calc_list)\n",
    "        np_arr = np_arr.reshape((3, 3))\n",
    "\n",
    "        # Mean\n",
    "        final_mean = [np.apply_along_axis(np.mean,0, np_arr).tolist(), np.apply_along_axis(np.mean,1, np_arr).tolist(), np.apply_along_axis(np.mean,0, np_arr.flatten()).tolist()]\n",
    "\n",
    "        # Variance\n",
    "        final_var = [np.apply_along_axis(np.var,0, np_arr).tolist(), np.apply_along_axis(np.var,1, np_arr).tolist(), np.apply_along_axis(np.var,0, np_arr.flatten()).tolist()]\n",
    "\n",
    "        # Std\n",
    "        final_std = [np.apply_along_axis(np.std,0, np_arr).tolist(), np.apply_along_axis(np.std,1, np_arr).tolist(), np.apply_along_axis(np.std,0, np_arr.flatten()).tolist()]\n",
    "\n",
    "        # Max\n",
    "        final_max= [np.apply_along_axis(np.max,0, np_arr).tolist(), np.apply_along_axis(np.max,1, np_arr).tolist(), np.apply_along_axis(np.max,0, np_arr.flatten()).tolist()]\n",
    "\n",
    "        # Min\n",
    "        final_min = [np.apply_along_axis(np.min,0, np_arr).tolist(), np.apply_along_axis(np.min,1, np_arr).tolist(), np.apply_along_axis(np.min,0, np_arr.flatten()).tolist()]\n",
    "\n",
    "        # Sum\n",
    "        final_sum = [np.apply_along_axis(np.sum,0, np_arr).tolist(), np.apply_along_axis(np.sum,1, np_arr).tolist(), np.apply_along_axis(np.sum,0, np_arr.flatten()).tolist()]\n",
    "\n",
    "        d = {\n",
    "            'mean': final_mean,\n",
    "            'variance': final_var,\n",
    "            'standard deviation': final_std,\n",
    "            'max': final_max,\n",
    "            'min': final_min,\n",
    "            'sum': final_sum\n",
    "        }\n",
    "\n",
    "        return d"
   ]
  },
  {
   "cell_type": "code",
   "execution_count": 75,
   "metadata": {},
   "outputs": [
    {
     "name": "stdout",
     "output_type": "stream",
     "text": [
      "{'mean': [[3.0, 4.0, 5.0], [1.0, 4.0, 7.0], 4.0], 'variance': [[6.0, 6.0, 6.0], [0.6666666666666666, 0.6666666666666666, 0.6666666666666666], 6.666666666666667], 'standard deviation': [[2.449489742783178, 2.449489742783178, 2.449489742783178], [0.816496580927726, 0.816496580927726, 0.816496580927726], 2.581988897471611], 'max': [[6, 7, 8], [2, 5, 8], 8], 'min': [[0, 1, 2], [0, 3, 6], 0], 'sum': [[9, 12, 15], [3, 12, 21], 36]}\n"
     ]
    }
   ],
   "source": [
    "final_test = calculate([0,1,2,3,4,5,6,7,8])\n",
    "print(final_test)"
   ]
  },
  {
   "cell_type": "code",
   "execution_count": null,
   "metadata": {},
   "outputs": [],
   "source": []
  },
  {
   "cell_type": "markdown",
   "metadata": {},
   "source": [
    "## Challenge 2"
   ]
  },
  {
   "cell_type": "code",
   "execution_count": null,
   "metadata": {},
   "outputs": [],
   "source": [
    "# Example code that is useful for the following questions:\n",
    "\n",
    "# (df.query('age in [35, 38, 55]')\n",
    "#    .assign(new_column = df[\"age\"]/df[\"fare\"],\n",
    "#            new_column_1 = df[\"age\"]/df[\"fare\"])\n",
    "#    .loc[:,[\"survived\", \"sex\", \"class\", \"embark_town\", \"fare\", \"new_column\", \"new_column_1\"]]\n",
    "#    .groupby([\"embark_town\", \"sex\"])\n",
    "#    .quantile([0.25,0.75])\n",
    "#    # .max(\"fare\")\n",
    "#    # .sort_values([\"new_column\"])\n",
    "#    # .pivot_table(...)\n",
    "#    .rename(columns={'new_column': 'fraction'})\n",
    "# )"
   ]
  },
  {
   "cell_type": "code",
   "execution_count": 179,
   "metadata": {},
   "outputs": [
    {
     "data": {
      "text/html": [
       "<div>\n",
       "<style scoped>\n",
       "    .dataframe tbody tr th:only-of-type {\n",
       "        vertical-align: middle;\n",
       "    }\n",
       "\n",
       "    .dataframe tbody tr th {\n",
       "        vertical-align: top;\n",
       "    }\n",
       "\n",
       "    .dataframe thead th {\n",
       "        text-align: right;\n",
       "    }\n",
       "</style>\n",
       "<table border=\"1\" class=\"dataframe\">\n",
       "  <thead>\n",
       "    <tr style=\"text-align: right;\">\n",
       "      <th></th>\n",
       "      <th>age</th>\n",
       "      <th>workclass</th>\n",
       "      <th>fnlwgt</th>\n",
       "      <th>education</th>\n",
       "      <th>education-num</th>\n",
       "      <th>marital-status</th>\n",
       "      <th>occupation</th>\n",
       "      <th>relationship</th>\n",
       "      <th>race</th>\n",
       "      <th>sex</th>\n",
       "      <th>capital-gain</th>\n",
       "      <th>capital-loss</th>\n",
       "      <th>hours-per-week</th>\n",
       "      <th>native-country</th>\n",
       "      <th>salary</th>\n",
       "    </tr>\n",
       "  </thead>\n",
       "  <tbody>\n",
       "    <tr>\n",
       "      <th>0</th>\n",
       "      <td>39</td>\n",
       "      <td>State-gov</td>\n",
       "      <td>77516</td>\n",
       "      <td>Bachelors</td>\n",
       "      <td>13</td>\n",
       "      <td>Never-married</td>\n",
       "      <td>Adm-clerical</td>\n",
       "      <td>Not-in-family</td>\n",
       "      <td>White</td>\n",
       "      <td>Male</td>\n",
       "      <td>2174</td>\n",
       "      <td>0</td>\n",
       "      <td>40</td>\n",
       "      <td>United-States</td>\n",
       "      <td>&lt;=50K</td>\n",
       "    </tr>\n",
       "    <tr>\n",
       "      <th>1</th>\n",
       "      <td>50</td>\n",
       "      <td>Self-emp-not-inc</td>\n",
       "      <td>83311</td>\n",
       "      <td>Bachelors</td>\n",
       "      <td>13</td>\n",
       "      <td>Married-civ-spouse</td>\n",
       "      <td>Exec-managerial</td>\n",
       "      <td>Husband</td>\n",
       "      <td>White</td>\n",
       "      <td>Male</td>\n",
       "      <td>0</td>\n",
       "      <td>0</td>\n",
       "      <td>13</td>\n",
       "      <td>United-States</td>\n",
       "      <td>&lt;=50K</td>\n",
       "    </tr>\n",
       "    <tr>\n",
       "      <th>2</th>\n",
       "      <td>38</td>\n",
       "      <td>Private</td>\n",
       "      <td>215646</td>\n",
       "      <td>HS-grad</td>\n",
       "      <td>9</td>\n",
       "      <td>Divorced</td>\n",
       "      <td>Handlers-cleaners</td>\n",
       "      <td>Not-in-family</td>\n",
       "      <td>White</td>\n",
       "      <td>Male</td>\n",
       "      <td>0</td>\n",
       "      <td>0</td>\n",
       "      <td>40</td>\n",
       "      <td>United-States</td>\n",
       "      <td>&lt;=50K</td>\n",
       "    </tr>\n",
       "    <tr>\n",
       "      <th>3</th>\n",
       "      <td>53</td>\n",
       "      <td>Private</td>\n",
       "      <td>234721</td>\n",
       "      <td>11th</td>\n",
       "      <td>7</td>\n",
       "      <td>Married-civ-spouse</td>\n",
       "      <td>Handlers-cleaners</td>\n",
       "      <td>Husband</td>\n",
       "      <td>Black</td>\n",
       "      <td>Male</td>\n",
       "      <td>0</td>\n",
       "      <td>0</td>\n",
       "      <td>40</td>\n",
       "      <td>United-States</td>\n",
       "      <td>&lt;=50K</td>\n",
       "    </tr>\n",
       "    <tr>\n",
       "      <th>4</th>\n",
       "      <td>28</td>\n",
       "      <td>Private</td>\n",
       "      <td>338409</td>\n",
       "      <td>Bachelors</td>\n",
       "      <td>13</td>\n",
       "      <td>Married-civ-spouse</td>\n",
       "      <td>Prof-specialty</td>\n",
       "      <td>Wife</td>\n",
       "      <td>Black</td>\n",
       "      <td>Female</td>\n",
       "      <td>0</td>\n",
       "      <td>0</td>\n",
       "      <td>40</td>\n",
       "      <td>Cuba</td>\n",
       "      <td>&lt;=50K</td>\n",
       "    </tr>\n",
       "  </tbody>\n",
       "</table>\n",
       "</div>"
      ],
      "text/plain": [
       "   age         workclass  fnlwgt  education  education-num  \\\n",
       "0   39         State-gov   77516  Bachelors             13   \n",
       "1   50  Self-emp-not-inc   83311  Bachelors             13   \n",
       "2   38           Private  215646    HS-grad              9   \n",
       "3   53           Private  234721       11th              7   \n",
       "4   28           Private  338409  Bachelors             13   \n",
       "\n",
       "       marital-status         occupation   relationship   race     sex  \\\n",
       "0       Never-married       Adm-clerical  Not-in-family  White    Male   \n",
       "1  Married-civ-spouse    Exec-managerial        Husband  White    Male   \n",
       "2            Divorced  Handlers-cleaners  Not-in-family  White    Male   \n",
       "3  Married-civ-spouse  Handlers-cleaners        Husband  Black    Male   \n",
       "4  Married-civ-spouse     Prof-specialty           Wife  Black  Female   \n",
       "\n",
       "   capital-gain  capital-loss  hours-per-week native-country salary  \n",
       "0          2174             0              40  United-States  <=50K  \n",
       "1             0             0              13  United-States  <=50K  \n",
       "2             0             0              40  United-States  <=50K  \n",
       "3             0             0              40  United-States  <=50K  \n",
       "4             0             0              40           Cuba  <=50K  "
      ]
     },
     "execution_count": 179,
     "metadata": {},
     "output_type": "execute_result"
    }
   ],
   "source": [
    "df = pd.read_csv('challenge_2.csv')\n",
    "df.head()"
   ]
  },
  {
   "cell_type": "code",
   "execution_count": 83,
   "metadata": {},
   "outputs": [],
   "source": [
    "# How many people of each race are represented in this dataset? This should be a Pandas series with race names as the index labels. (race column)\n",
    "\n",
    "r_counts = pd.Series(df.value_counts('race'))"
   ]
  },
  {
   "cell_type": "code",
   "execution_count": 100,
   "metadata": {},
   "outputs": [
    {
     "data": {
      "text/plain": [
       "age    39.433547\n",
       "dtype: float64"
      ]
     },
     "execution_count": 100,
     "metadata": {},
     "output_type": "execute_result"
    }
   ],
   "source": [
    "# What is the average age of men?\n",
    "(df.query('sex in [\"Male\"]')\n",
    "   .loc[:,[\"sex\", \"age\"]]\n",
    "   .mean()\n",
    ")"
   ]
  },
  {
   "cell_type": "code",
   "execution_count": 105,
   "metadata": {},
   "outputs": [
    {
     "data": {
      "text/plain": [
       "0.16446055096587942"
      ]
     },
     "execution_count": 105,
     "metadata": {},
     "output_type": "execute_result"
    }
   ],
   "source": [
    "# What is the percentage of people who have a Bachelor's degree?\n",
    "\n",
    "pd.Series(df.value_counts('education', normalize=True))[\"Bachelors\"]"
   ]
  },
  {
   "cell_type": "code",
   "execution_count": 109,
   "metadata": {},
   "outputs": [
    {
     "data": {
      "text/plain": [
       "0.46535843011613937"
      ]
     },
     "execution_count": 109,
     "metadata": {},
     "output_type": "execute_result"
    }
   ],
   "source": [
    "# What percentage of people with advanced education (Bachelors, Masters, or Doctorate) make more than 50K?\n",
    "(df.query('education in [\"Bachelors\", \"Masters\", \"Doctorate\"]')\n",
    "   .value_counts('salary', normalize=True)\n",
    ")[\">50K\"]"
   ]
  },
  {
   "cell_type": "code",
   "execution_count": 113,
   "metadata": {},
   "outputs": [
    {
     "data": {
      "text/plain": [
       "0.173713601914639"
      ]
     },
     "execution_count": 113,
     "metadata": {},
     "output_type": "execute_result"
    }
   ],
   "source": [
    "# What percentage of people without advanced education make more than 50K?\n",
    "# What percentage of people with advanced education (Bachelors, Masters, or Doctorate) make more than 50K?\n",
    "(df.query('education not in [\"Bachelors\", \"Masters\", \"Doctorate\"]')\n",
    "   .value_counts('salary', normalize=True)\n",
    ")[\">50K\"]"
   ]
  },
  {
   "cell_type": "code",
   "execution_count": 116,
   "metadata": {},
   "outputs": [
    {
     "data": {
      "text/plain": [
       "hours-per-week    1\n",
       "dtype: int64"
      ]
     },
     "execution_count": 116,
     "metadata": {},
     "output_type": "execute_result"
    }
   ],
   "source": [
    "# What is the minimum number of hours a person works per week?\n",
    "\n",
    "(df.loc[:,[\"hours-per-week\"]]\n",
    "   .min()\n",
    ")"
   ]
  },
  {
   "cell_type": "code",
   "execution_count": 124,
   "metadata": {},
   "outputs": [
    {
     "data": {
      "text/plain": [
       "0.1"
      ]
     },
     "execution_count": 124,
     "metadata": {},
     "output_type": "execute_result"
    }
   ],
   "source": [
    "# What percentage of the people who work the minimum number of hours per week have a salary of more than 50K?\n",
    "(df.query('`hours-per-week` in [1]')\n",
    "   .value_counts('salary', normalize=True)\n",
    ")[\">50K\"]"
   ]
  },
  {
   "cell_type": "code",
   "execution_count": null,
   "metadata": {},
   "outputs": [],
   "source": []
  },
  {
   "cell_type": "code",
   "execution_count": 174,
   "metadata": {},
   "outputs": [
    {
     "data": {
      "text/plain": [
       "native-country  salary\n",
       "?               <=50K      437\n",
       "                >50K       146\n",
       "Cambodia        <=50K       12\n",
       "                >50K         7\n",
       "Canada          <=50K       82\n",
       "                          ... \n",
       "United-States   >50K      7171\n",
       "Vietnam         <=50K       62\n",
       "                >50K         5\n",
       "Yugoslavia      <=50K       10\n",
       "                >50K         6\n",
       "Name: salary, Length: 82, dtype: int64"
      ]
     },
     "execution_count": 174,
     "metadata": {},
     "output_type": "execute_result"
    }
   ],
   "source": [
    "# What country has the highest percentage of people that earn >50K and what is that percentage?\n",
    "(df.groupby([\"native-country\", \"salary\"])['salary'].count()\n",
    ")"
   ]
  },
  {
   "cell_type": "code",
   "execution_count": 258,
   "metadata": {},
   "outputs": [],
   "source": [
    "total = df.shape[0]\n",
    "\n",
    "detail_aggr = (df.assign(country_sum = 1)\n",
    " .query('salary in [\">50K\"]')\n",
    " .loc[:,[\"native-country\", 'salary', \"country_sum\"]]\n",
    " .groupby([\"native-country\", 'salary'])\n",
    " .count()\n",
    ")"
   ]
  },
  {
   "cell_type": "code",
   "execution_count": 260,
   "metadata": {},
   "outputs": [],
   "source": [
    "total = df.shape[0]\n",
    "\n",
    "combined = (df.assign(country_sum = 1)\n",
    " .loc[:,[\"native-country\", \"country_sum\"]]\n",
    " .groupby([\"native-country\"])\n",
    " .count()\n",
    " .merge(detail_aggr, left_on=\"native-country\", right_on=\"native-country\")\n",
    ")"
   ]
  },
  {
   "cell_type": "code",
   "execution_count": 263,
   "metadata": {},
   "outputs": [
    {
     "data": {
      "text/html": [
       "<div>\n",
       "<style scoped>\n",
       "    .dataframe tbody tr th:only-of-type {\n",
       "        vertical-align: middle;\n",
       "    }\n",
       "\n",
       "    .dataframe tbody tr th {\n",
       "        vertical-align: top;\n",
       "    }\n",
       "\n",
       "    .dataframe thead th {\n",
       "        text-align: right;\n",
       "    }\n",
       "</style>\n",
       "<table border=\"1\" class=\"dataframe\">\n",
       "  <thead>\n",
       "    <tr style=\"text-align: right;\">\n",
       "      <th></th>\n",
       "      <th>country_sum_x</th>\n",
       "      <th>country_sum_y</th>\n",
       "      <th>proz</th>\n",
       "    </tr>\n",
       "    <tr>\n",
       "      <th>native-country</th>\n",
       "      <th></th>\n",
       "      <th></th>\n",
       "      <th></th>\n",
       "    </tr>\n",
       "  </thead>\n",
       "  <tbody>\n",
       "    <tr>\n",
       "      <th>Iran</th>\n",
       "      <td>43</td>\n",
       "      <td>18</td>\n",
       "      <td>0.418605</td>\n",
       "    </tr>\n",
       "    <tr>\n",
       "      <th>France</th>\n",
       "      <td>29</td>\n",
       "      <td>12</td>\n",
       "      <td>0.413793</td>\n",
       "    </tr>\n",
       "    <tr>\n",
       "      <th>India</th>\n",
       "      <td>100</td>\n",
       "      <td>40</td>\n",
       "      <td>0.400000</td>\n",
       "    </tr>\n",
       "    <tr>\n",
       "      <th>Taiwan</th>\n",
       "      <td>51</td>\n",
       "      <td>20</td>\n",
       "      <td>0.392157</td>\n",
       "    </tr>\n",
       "    <tr>\n",
       "      <th>Japan</th>\n",
       "      <td>62</td>\n",
       "      <td>24</td>\n",
       "      <td>0.387097</td>\n",
       "    </tr>\n",
       "    <tr>\n",
       "      <th>Yugoslavia</th>\n",
       "      <td>16</td>\n",
       "      <td>6</td>\n",
       "      <td>0.375000</td>\n",
       "    </tr>\n",
       "    <tr>\n",
       "      <th>Cambodia</th>\n",
       "      <td>19</td>\n",
       "      <td>7</td>\n",
       "      <td>0.368421</td>\n",
       "    </tr>\n",
       "    <tr>\n",
       "      <th>Italy</th>\n",
       "      <td>73</td>\n",
       "      <td>25</td>\n",
       "      <td>0.342466</td>\n",
       "    </tr>\n",
       "    <tr>\n",
       "      <th>England</th>\n",
       "      <td>90</td>\n",
       "      <td>30</td>\n",
       "      <td>0.333333</td>\n",
       "    </tr>\n",
       "    <tr>\n",
       "      <th>Canada</th>\n",
       "      <td>121</td>\n",
       "      <td>39</td>\n",
       "      <td>0.322314</td>\n",
       "    </tr>\n",
       "    <tr>\n",
       "      <th>Germany</th>\n",
       "      <td>137</td>\n",
       "      <td>44</td>\n",
       "      <td>0.321168</td>\n",
       "    </tr>\n",
       "    <tr>\n",
       "      <th>Philippines</th>\n",
       "      <td>198</td>\n",
       "      <td>61</td>\n",
       "      <td>0.308081</td>\n",
       "    </tr>\n",
       "    <tr>\n",
       "      <th>Hong</th>\n",
       "      <td>20</td>\n",
       "      <td>6</td>\n",
       "      <td>0.300000</td>\n",
       "    </tr>\n",
       "    <tr>\n",
       "      <th>Greece</th>\n",
       "      <td>29</td>\n",
       "      <td>8</td>\n",
       "      <td>0.275862</td>\n",
       "    </tr>\n",
       "    <tr>\n",
       "      <th>China</th>\n",
       "      <td>75</td>\n",
       "      <td>20</td>\n",
       "      <td>0.266667</td>\n",
       "    </tr>\n",
       "    <tr>\n",
       "      <th>Cuba</th>\n",
       "      <td>95</td>\n",
       "      <td>25</td>\n",
       "      <td>0.263158</td>\n",
       "    </tr>\n",
       "    <tr>\n",
       "      <th>?</th>\n",
       "      <td>583</td>\n",
       "      <td>146</td>\n",
       "      <td>0.250429</td>\n",
       "    </tr>\n",
       "    <tr>\n",
       "      <th>Scotland</th>\n",
       "      <td>12</td>\n",
       "      <td>3</td>\n",
       "      <td>0.250000</td>\n",
       "    </tr>\n",
       "    <tr>\n",
       "      <th>United-States</th>\n",
       "      <td>29170</td>\n",
       "      <td>7171</td>\n",
       "      <td>0.245835</td>\n",
       "    </tr>\n",
       "    <tr>\n",
       "      <th>Hungary</th>\n",
       "      <td>13</td>\n",
       "      <td>3</td>\n",
       "      <td>0.230769</td>\n",
       "    </tr>\n",
       "    <tr>\n",
       "      <th>Ireland</th>\n",
       "      <td>24</td>\n",
       "      <td>5</td>\n",
       "      <td>0.208333</td>\n",
       "    </tr>\n",
       "    <tr>\n",
       "      <th>South</th>\n",
       "      <td>80</td>\n",
       "      <td>16</td>\n",
       "      <td>0.200000</td>\n",
       "    </tr>\n",
       "    <tr>\n",
       "      <th>Poland</th>\n",
       "      <td>60</td>\n",
       "      <td>12</td>\n",
       "      <td>0.200000</td>\n",
       "    </tr>\n",
       "    <tr>\n",
       "      <th>Thailand</th>\n",
       "      <td>18</td>\n",
       "      <td>3</td>\n",
       "      <td>0.166667</td>\n",
       "    </tr>\n",
       "    <tr>\n",
       "      <th>Ecuador</th>\n",
       "      <td>28</td>\n",
       "      <td>4</td>\n",
       "      <td>0.142857</td>\n",
       "    </tr>\n",
       "    <tr>\n",
       "      <th>Jamaica</th>\n",
       "      <td>81</td>\n",
       "      <td>10</td>\n",
       "      <td>0.123457</td>\n",
       "    </tr>\n",
       "    <tr>\n",
       "      <th>Laos</th>\n",
       "      <td>18</td>\n",
       "      <td>2</td>\n",
       "      <td>0.111111</td>\n",
       "    </tr>\n",
       "    <tr>\n",
       "      <th>Portugal</th>\n",
       "      <td>37</td>\n",
       "      <td>4</td>\n",
       "      <td>0.108108</td>\n",
       "    </tr>\n",
       "    <tr>\n",
       "      <th>Puerto-Rico</th>\n",
       "      <td>114</td>\n",
       "      <td>12</td>\n",
       "      <td>0.105263</td>\n",
       "    </tr>\n",
       "    <tr>\n",
       "      <th>Trinadad&amp;Tobago</th>\n",
       "      <td>19</td>\n",
       "      <td>2</td>\n",
       "      <td>0.105263</td>\n",
       "    </tr>\n",
       "    <tr>\n",
       "      <th>Haiti</th>\n",
       "      <td>44</td>\n",
       "      <td>4</td>\n",
       "      <td>0.090909</td>\n",
       "    </tr>\n",
       "    <tr>\n",
       "      <th>El-Salvador</th>\n",
       "      <td>106</td>\n",
       "      <td>9</td>\n",
       "      <td>0.084906</td>\n",
       "    </tr>\n",
       "    <tr>\n",
       "      <th>Honduras</th>\n",
       "      <td>13</td>\n",
       "      <td>1</td>\n",
       "      <td>0.076923</td>\n",
       "    </tr>\n",
       "    <tr>\n",
       "      <th>Vietnam</th>\n",
       "      <td>67</td>\n",
       "      <td>5</td>\n",
       "      <td>0.074627</td>\n",
       "    </tr>\n",
       "    <tr>\n",
       "      <th>Peru</th>\n",
       "      <td>31</td>\n",
       "      <td>2</td>\n",
       "      <td>0.064516</td>\n",
       "    </tr>\n",
       "    <tr>\n",
       "      <th>Nicaragua</th>\n",
       "      <td>34</td>\n",
       "      <td>2</td>\n",
       "      <td>0.058824</td>\n",
       "    </tr>\n",
       "    <tr>\n",
       "      <th>Mexico</th>\n",
       "      <td>643</td>\n",
       "      <td>33</td>\n",
       "      <td>0.051322</td>\n",
       "    </tr>\n",
       "    <tr>\n",
       "      <th>Guatemala</th>\n",
       "      <td>64</td>\n",
       "      <td>3</td>\n",
       "      <td>0.046875</td>\n",
       "    </tr>\n",
       "    <tr>\n",
       "      <th>Columbia</th>\n",
       "      <td>59</td>\n",
       "      <td>2</td>\n",
       "      <td>0.033898</td>\n",
       "    </tr>\n",
       "    <tr>\n",
       "      <th>Dominican-Republic</th>\n",
       "      <td>70</td>\n",
       "      <td>2</td>\n",
       "      <td>0.028571</td>\n",
       "    </tr>\n",
       "  </tbody>\n",
       "</table>\n",
       "</div>"
      ],
      "text/plain": [
       "                    country_sum_x  country_sum_y      proz\n",
       "native-country                                            \n",
       "Iran                           43             18  0.418605\n",
       "France                         29             12  0.413793\n",
       "India                         100             40  0.400000\n",
       "Taiwan                         51             20  0.392157\n",
       "Japan                          62             24  0.387097\n",
       "Yugoslavia                     16              6  0.375000\n",
       "Cambodia                       19              7  0.368421\n",
       "Italy                          73             25  0.342466\n",
       "England                        90             30  0.333333\n",
       "Canada                        121             39  0.322314\n",
       "Germany                       137             44  0.321168\n",
       "Philippines                   198             61  0.308081\n",
       "Hong                           20              6  0.300000\n",
       "Greece                         29              8  0.275862\n",
       "China                          75             20  0.266667\n",
       "Cuba                           95             25  0.263158\n",
       "?                             583            146  0.250429\n",
       "Scotland                       12              3  0.250000\n",
       "United-States               29170           7171  0.245835\n",
       "Hungary                        13              3  0.230769\n",
       "Ireland                        24              5  0.208333\n",
       "South                          80             16  0.200000\n",
       "Poland                         60             12  0.200000\n",
       "Thailand                       18              3  0.166667\n",
       "Ecuador                        28              4  0.142857\n",
       "Jamaica                        81             10  0.123457\n",
       "Laos                           18              2  0.111111\n",
       "Portugal                       37              4  0.108108\n",
       "Puerto-Rico                   114             12  0.105263\n",
       "Trinadad&Tobago                19              2  0.105263\n",
       "Haiti                          44              4  0.090909\n",
       "El-Salvador                   106              9  0.084906\n",
       "Honduras                       13              1  0.076923\n",
       "Vietnam                        67              5  0.074627\n",
       "Peru                           31              2  0.064516\n",
       "Nicaragua                      34              2  0.058824\n",
       "Mexico                        643             33  0.051322\n",
       "Guatemala                      64              3  0.046875\n",
       "Columbia                       59              2  0.033898\n",
       "Dominican-Republic             70              2  0.028571"
      ]
     },
     "execution_count": 263,
     "metadata": {},
     "output_type": "execute_result"
    }
   ],
   "source": [
    "(combined.assign(proz = combined['country_sum_y'] / combined['country_sum_x'])\n",
    ".sort_values('proz', ascending=False)\n",
    ")"
   ]
  },
  {
   "cell_type": "code",
   "execution_count": 236,
   "metadata": {},
   "outputs": [],
   "source": [
    "# total = df.shape[0]\n",
    "\n",
    "# (df.assign(country_sum = 1)\n",
    "#  .loc[:,[\"native-country\", \"country_sum\"]]\n",
    "#  .groupby([\"native-country\"])\n",
    "#  .count()\n",
    "#  .merge(df, left_on=\"native-country\", right_on=\"native-country\")\n",
    "#  .loc[:,[\"native-country\", \"country_sum\", \"salary\"]]\n",
    "# )"
   ]
  },
  {
   "cell_type": "code",
   "execution_count": null,
   "metadata": {},
   "outputs": [],
   "source": []
  },
  {
   "cell_type": "code",
   "execution_count": null,
   "metadata": {},
   "outputs": [],
   "source": []
  },
  {
   "cell_type": "code",
   "execution_count": null,
   "metadata": {},
   "outputs": [],
   "source": []
  },
  {
   "cell_type": "code",
   "execution_count": null,
   "metadata": {},
   "outputs": [],
   "source": []
  },
  {
   "cell_type": "code",
   "execution_count": null,
   "metadata": {},
   "outputs": [],
   "source": []
  },
  {
   "cell_type": "code",
   "execution_count": null,
   "metadata": {},
   "outputs": [],
   "source": []
  },
  {
   "cell_type": "code",
   "execution_count": null,
   "metadata": {},
   "outputs": [],
   "source": []
  },
  {
   "cell_type": "code",
   "execution_count": null,
   "metadata": {},
   "outputs": [],
   "source": []
  }
 ],
 "metadata": {
  "kernelspec": {
   "display_name": "base",
   "language": "python",
   "name": "python3"
  },
  "language_info": {
   "codemirror_mode": {
    "name": "ipython",
    "version": 3
   },
   "file_extension": ".py",
   "mimetype": "text/x-python",
   "name": "python",
   "nbconvert_exporter": "python",
   "pygments_lexer": "ipython3",
   "version": "3.7.10"
  }
 },
 "nbformat": 4,
 "nbformat_minor": 2
}
