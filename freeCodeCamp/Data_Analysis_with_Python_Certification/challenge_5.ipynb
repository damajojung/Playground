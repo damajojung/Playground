{
 "cells": [
  {
   "cell_type": "markdown",
   "metadata": {},
   "source": [
    "# Challenge 5"
   ]
  },
  {
   "cell_type": "code",
   "execution_count": 1,
   "metadata": {},
   "outputs": [],
   "source": [
    "import pandas as pd\n",
    "import matplotlib.pyplot as plt\n",
    "from scipy.stats import linregress"
   ]
  },
  {
   "cell_type": "code",
   "execution_count": 2,
   "metadata": {},
   "outputs": [
    {
     "data": {
      "text/html": [
       "<div>\n",
       "<style scoped>\n",
       "    .dataframe tbody tr th:only-of-type {\n",
       "        vertical-align: middle;\n",
       "    }\n",
       "\n",
       "    .dataframe tbody tr th {\n",
       "        vertical-align: top;\n",
       "    }\n",
       "\n",
       "    .dataframe thead th {\n",
       "        text-align: right;\n",
       "    }\n",
       "</style>\n",
       "<table border=\"1\" class=\"dataframe\">\n",
       "  <thead>\n",
       "    <tr style=\"text-align: right;\">\n",
       "      <th></th>\n",
       "      <th>Year</th>\n",
       "      <th>CSIRO Adjusted Sea Level</th>\n",
       "      <th>Lower Error Bound</th>\n",
       "      <th>Upper Error Bound</th>\n",
       "      <th>NOAA Adjusted Sea Level</th>\n",
       "    </tr>\n",
       "  </thead>\n",
       "  <tbody>\n",
       "    <tr>\n",
       "      <th>0</th>\n",
       "      <td>1880</td>\n",
       "      <td>0.000000</td>\n",
       "      <td>-0.952756</td>\n",
       "      <td>0.952756</td>\n",
       "      <td>NaN</td>\n",
       "    </tr>\n",
       "    <tr>\n",
       "      <th>1</th>\n",
       "      <td>1881</td>\n",
       "      <td>0.220472</td>\n",
       "      <td>-0.732283</td>\n",
       "      <td>1.173228</td>\n",
       "      <td>NaN</td>\n",
       "    </tr>\n",
       "    <tr>\n",
       "      <th>2</th>\n",
       "      <td>1882</td>\n",
       "      <td>-0.440945</td>\n",
       "      <td>-1.346457</td>\n",
       "      <td>0.464567</td>\n",
       "      <td>NaN</td>\n",
       "    </tr>\n",
       "    <tr>\n",
       "      <th>3</th>\n",
       "      <td>1883</td>\n",
       "      <td>-0.232283</td>\n",
       "      <td>-1.129921</td>\n",
       "      <td>0.665354</td>\n",
       "      <td>NaN</td>\n",
       "    </tr>\n",
       "    <tr>\n",
       "      <th>4</th>\n",
       "      <td>1884</td>\n",
       "      <td>0.590551</td>\n",
       "      <td>-0.283465</td>\n",
       "      <td>1.464567</td>\n",
       "      <td>NaN</td>\n",
       "    </tr>\n",
       "  </tbody>\n",
       "</table>\n",
       "</div>"
      ],
      "text/plain": [
       "   Year  CSIRO Adjusted Sea Level  Lower Error Bound  Upper Error Bound  \\\n",
       "0  1880                  0.000000          -0.952756           0.952756   \n",
       "1  1881                  0.220472          -0.732283           1.173228   \n",
       "2  1882                 -0.440945          -1.346457           0.464567   \n",
       "3  1883                 -0.232283          -1.129921           0.665354   \n",
       "4  1884                  0.590551          -0.283465           1.464567   \n",
       "\n",
       "   NOAA Adjusted Sea Level  \n",
       "0                      NaN  \n",
       "1                      NaN  \n",
       "2                      NaN  \n",
       "3                      NaN  \n",
       "4                      NaN  "
      ]
     },
     "execution_count": 2,
     "metadata": {},
     "output_type": "execute_result"
    }
   ],
   "source": [
    "df = pd.read_csv('epa-sea-level.csv')\n",
    "df.head()"
   ]
  },
  {
   "cell_type": "code",
   "execution_count": null,
   "metadata": {},
   "outputs": [],
   "source": []
  },
  {
   "cell_type": "markdown",
   "metadata": {},
   "source": [
    "# Scatterplot"
   ]
  },
  {
   "cell_type": "code",
   "execution_count": 3,
   "metadata": {},
   "outputs": [
    {
     "data": {
      "image/png": "[encoded data removed]",
      "text/plain": [
       "<Figure size 432x288 with 1 Axes>"
      ]
     },
     "metadata": {
      "needs_background": "light"
     },
     "output_type": "display_data"
    }
   ],
   "source": [
    "# Create a figure and axis\n",
    "fig, ax = plt.subplots()\n",
    "\n",
    "# Create the scatterplot\n",
    "ax.scatter(df['Year'], df['CSIRO Adjusted Sea Level']) # , c='b', marker='o', label='Random Data'\n",
    "\n",
    "# Set labels and title\n",
    "# ax.set_xlabel('X-axis')\n",
    "# ax.set_ylabel('Y-axis')\n",
    "# ax.set_title('Scatterplot Example')\n",
    "\n",
    "# Add a legend\n",
    "# ax.legend()\n",
    "\n",
    "# Show the plot\n",
    "plt.show()\n"
   ]
  },
  {
   "cell_type": "code",
   "execution_count": null,
   "metadata": {},
   "outputs": [],
   "source": []
  },
  {
   "cell_type": "markdown",
   "metadata": {},
   "source": [
    "# Lingress"
   ]
  },
  {
   "cell_type": "code",
   "execution_count": 4,
   "metadata": {},
   "outputs": [
    {
     "data": {
      "image/png": "[encoded data removed]",
      "text/plain": [
       "<Figure size 432x288 with 1 Axes>"
      ]
     },
     "metadata": {
      "needs_background": "light"
     },
     "output_type": "display_data"
    }
   ],
   "source": [
    "x = df['Year']\n",
    "y = df['CSIRO Adjusted Sea Level']\n",
    "res = linregress(x, y) # slope, intercept, r_value, p_value, std_err\n",
    "\n",
    "plt.plot(x, y, 'o', label='original data')\n",
    "plt.plot(x, res.intercept + res.slope*x, 'r', label='fitted line')\n",
    "plt.legend()\n",
    "plt.show()"
   ]
  },
  {
   "cell_type": "code",
   "execution_count": 5,
   "metadata": {},
   "outputs": [
    {
     "data": {
      "text/plain": [
       "8.599340656833178"
      ]
     },
     "execution_count": 5,
     "metadata": {},
     "output_type": "execute_result"
    }
   ],
   "source": [
    "new_input = 2025\n",
    "predicted_value = res.slope * new_input + res.intercept\n",
    "predicted_value"
   ]
  },
  {
   "cell_type": "code",
   "execution_count": 6,
   "metadata": {},
   "outputs": [
    {
     "data": {
      "image/png": "[encoded data removed]",
      "text/plain": [
       "<Figure size 432x288 with 1 Axes>"
      ]
     },
     "metadata": {
      "needs_background": "light"
     },
     "output_type": "display_data"
    }
   ],
   "source": [
    "x = df['Year']\n",
    "y = df['CSIRO Adjusted Sea Level']\n",
    "\n",
    "# Fit a linear regression model using linregress\n",
    "slope, intercept, r_value, p_value, std_err = linregress(x, y)\n",
    "\n",
    "# Make predictions for new input values\n",
    "new_input = pd.Series(2050)\n",
    "predicted_value = slope * new_input + intercept\n",
    "\n",
    "# Plot the data points\n",
    "plt.scatter(x, y, label='Data')\n",
    "\n",
    "# Plot the prediction\n",
    "# plt.scatter(new_input, predicted_value, label='Prediction', color='g')\n",
    "\n",
    "x = x.append(pd.Series(range(2014,2051)))\n",
    "y = y.append(pd.Series(predicted_value))\n",
    "\n",
    "# Plot the regression line\n",
    "plt.plot(x, slope * x + intercept, label='Linear Regression', color='r')\n",
    "\n",
    "# Annotate the prediction point\n",
    "# plt.annotate(f'Predicted: {predicted_value:.2f}', (new_input, predicted_value), textcoords=\"offset points\", xytext=(10,10), ha='center')\n",
    "\n",
    "# Add labels and legend\n",
    "plt.xlabel('Year')\n",
    "plt.ylabel('Sea Level (inches)')\n",
    "plt.title('Rise in Sea Level')\n",
    "plt.legend()\n",
    "\n",
    "# Show the plot\n",
    "plt.show()"
   ]
  },
  {
   "cell_type": "code",
   "execution_count": 7,
   "metadata": {},
   "outputs": [
    {
     "data": {
      "text/plain": [
       "0     -0.542124\n",
       "1     -0.479079\n",
       "2     -0.416035\n",
       "3     -0.352990\n",
       "4     -0.289946\n",
       "        ...    \n",
       "32     9.923277\n",
       "33     9.986322\n",
       "34    10.049366\n",
       "35    10.112411\n",
       "36    10.175455\n",
       "Length: 171, dtype: float64"
      ]
     },
     "execution_count": 7,
     "metadata": {},
     "output_type": "execute_result"
    }
   ],
   "source": [
    "slope * x + intercept"
   ]
  },
  {
   "cell_type": "code",
   "execution_count": null,
   "metadata": {},
   "outputs": [],
   "source": []
  },
  {
   "cell_type": "markdown",
   "metadata": {},
   "source": [
    "# New Prediction with Data from 2000 onwards"
   ]
  },
  {
   "cell_type": "code",
   "execution_count": 8,
   "metadata": {},
   "outputs": [],
   "source": [
    "df_small = (df.query('Year >= 2000')\n",
    ")"
   ]
  },
  {
   "cell_type": "code",
   "execution_count": 9,
   "metadata": {},
   "outputs": [
    {
     "data": {
      "image/png": "[encoded data removed]",
      "text/plain": [
       "<Figure size 432x288 with 1 Axes>"
      ]
     },
     "metadata": {
      "needs_background": "light"
     },
     "output_type": "display_data"
    }
   ],
   "source": [
    "x_small = df_small['Year']\n",
    "y_small = df_small['CSIRO Adjusted Sea Level']\n",
    "\n",
    "# Fit a linear regression model using linregress\n",
    "slope_small, intercept_small, r_value, p_value, std_err = linregress(x_small, y_small)\n",
    "\n",
    "# Make predictions for new input values\n",
    "new_input = 2050\n",
    "predicted_value_small = slope_small * new_input + intercept_small\n",
    "\n",
    "# Plot the data points\n",
    "plt.scatter(x_small, y_small, label='Data')\n",
    "\n",
    "# Plot the prediction\n",
    "plt.scatter(new_input, predicted_value_small, label='Prediction', color='g')\n",
    "\n",
    "x_small = x_small.append(pd.Series(2050))\n",
    "y_small = y_small.append(pd.Series(predicted_value))\n",
    "\n",
    "# Plot the regression line\n",
    "plt.plot(x_small, slope_small * x_small + intercept_small, label='Linear Regression', color='r')\n",
    "\n",
    "# Annotate the prediction point\n",
    "plt.annotate(f'Predicted: {predicted_value_small:.2f}', (new_input, predicted_value_small), textcoords=\"offset points\", xytext=(10,10), ha='center')\n",
    "\n",
    "# Add labels and legend\n",
    "plt.xlabel('Year')\n",
    "plt.ylabel('Sea Level (inches)')\n",
    "plt.title('Rise in Sea Level')\n",
    "plt.legend()\n",
    "\n",
    "# Show the plot\n",
    "plt.show()"
   ]
  },
  {
   "cell_type": "code",
   "execution_count": null,
   "metadata": {},
   "outputs": [],
   "source": []
  },
  {
   "cell_type": "markdown",
   "metadata": {},
   "source": [
    "# Combining everything into one plot"
   ]
  },
  {
   "cell_type": "code",
   "execution_count": 10,
   "metadata": {},
   "outputs": [
    {
     "data": {
      "image/png": "[encoded data removed]",
      "text/plain": [
       "<Figure size 432x288 with 1 Axes>"
      ]
     },
     "metadata": {
      "needs_background": "light"
     },
     "output_type": "display_data"
    }
   ],
   "source": [
    "x = df['Year']\n",
    "y = df['CSIRO Adjusted Sea Level']\n",
    "\n",
    "# Fit a linear regression model using linregress\n",
    "slope, intercept, r_value, p_value, std_err = linregress(x, y)\n",
    "\n",
    "# Make predictions for new input values\n",
    "new_input = 2050\n",
    "predicted_value = slope * new_input + intercept\n",
    "\n",
    "# Plot the data points\n",
    "plt.scatter(x, y, label='Data')\n",
    "\n",
    "# Plot the prediction\n",
    "plt.scatter(new_input, predicted_value, label='Prediction', color='g')\n",
    "\n",
    "x = x.append(pd.Series(2050))\n",
    "y = y.append(pd.Series(predicted_value))\n",
    "\n",
    "# Plot the regression line\n",
    "plt.plot(x, slope * x + intercept, label='Linear Regression 1', color='r')\n",
    "\n",
    "# ------------------------ Small\n",
    "\n",
    "\n",
    "x_small = x_small.append(pd.Series(2050))\n",
    "y_small = y_small.append(pd.Series(predicted_value))\n",
    "\n",
    "# Plot the regression line\n",
    "plt.plot(x_small, slope_small * x_small + intercept_small, label='Linear Regression 2', color='r')\n",
    "\n",
    "# Plot the prediction\n",
    "plt.scatter(new_input, predicted_value_small, label='Prediction', color='g')\n",
    "\n",
    "# Annotate the prediction point\n",
    "plt.annotate(f'Predicted: {predicted_value:.2f}', (new_input, predicted_value), textcoords=\"offset points\", xytext=(10,10), ha='center')\n",
    "\n",
    "\n",
    "# Annotate the prediction point\n",
    "plt.annotate(f'Predicted: {predicted_value_small:.2f}', (new_input, predicted_value_small), textcoords=\"offset points\", xytext=(10,10), ha='center')\n",
    "\n",
    "\n",
    "# Add labels and legend\n",
    "plt.xlabel('Year')\n",
    "plt.ylabel('Sea Level (inches)')\n",
    "plt.title('Rise in Sea Level')\n",
    "plt.legend()\n",
    "\n",
    "# Show the plot\n",
    "plt.show()"
   ]
  },
  {
   "cell_type": "code",
   "execution_count": null,
   "metadata": {},
   "outputs": [],
   "source": []
  },
  {
   "cell_type": "markdown",
   "metadata": {},
   "source": [
    "# Code for deployment"
   ]
  },
  {
   "cell_type": "code",
   "execution_count": 11,
   "metadata": {},
   "outputs": [],
   "source": [
    "import pandas as pd\n",
    "import matplotlib.pyplot as plt\n",
    "from scipy.stats import linregress\n",
    "\n",
    "\n",
    "def draw_plot():\n",
    "\n",
    "  # Data\n",
    "  # Read data from file\n",
    "  df = pd.read_csv('epa-sea-level.csv')\n",
    "\n",
    "  x = df['Year']\n",
    "  y = df['CSIRO Adjusted Sea Level']\n",
    "\n",
    "  df_small = (df.query('Year >= 2000'))\n",
    "\n",
    "  x_small = df_small['Year']\n",
    "  y_small = df_small['CSIRO Adjusted Sea Level']\n",
    "\n",
    "  # Regression 1\n",
    "  # Fit a linear regression model using linregress\n",
    "  slope, intercept, r_value, p_value, std_err = linregress(x, y)\n",
    "\n",
    "  # Make predictions for new input values\n",
    "  new_input = pd.Series(range(2014, 2051))\n",
    "  predicted_value = slope * new_input + intercept\n",
    "\n",
    "  # Regression 2\n",
    "  # Fit a linear regression model using linregress\n",
    "  slope_small, intercept_small, r_value, p_value, std_err = linregress(\n",
    "      x_small, y_small)\n",
    "\n",
    "  # Make predictions for new input values\n",
    "  new_input = pd.Series(range(2014, 2051))\n",
    "  predicted_value_small = slope_small * new_input + intercept_small\n",
    "\n",
    "  # Combine\n",
    "  x = x._append(pd.Series(range(2014, 2051)))\n",
    "  y = y._append(pd.Series(predicted_value))\n",
    "  x_small = x_small._append(pd.Series(range(2014, 2051)))\n",
    "  y_small = y_small._append(pd.Series(predicted_value))\n",
    "\n",
    "  # Plot\n",
    "\n",
    "  # Regression 1\n",
    "\n",
    "  # Create scatter plot\n",
    "  # Create a figure and axis\n",
    "  fig, ax = plt.subplots()\n",
    "  ax.scatter(df['Year'], df['CSIRO Adjusted Sea Level'])\n",
    "\n",
    "  # Plot the regression line\n",
    "  plt.plot(x, slope * x + intercept, label='Linear Regression 1', color='r')\n",
    "\n",
    "  # Regression 2\n",
    "\n",
    "  # Plot the regression line\n",
    "  plt.plot(x_small,\n",
    "           slope_small * x_small + intercept_small,\n",
    "           label='Linear Regression 2',\n",
    "           color='r')\n",
    "\n",
    "  plt.xlabel('Year')\n",
    "  plt.ylabel('Sea Level (inches)')\n",
    "  plt.title('Rise in Sea Level')\n",
    "  plt.legend()\n",
    "\n",
    "  # Save plot and return data for testing (DO NOT MODIFY)\n",
    "  plt.savefig('sea_level_plot.png')\n",
    "  return plt.gca()\n"
   ]
  },
  {
   "cell_type": "code",
   "execution_count": null,
   "metadata": {},
   "outputs": [],
   "source": []
  },
  {
   "cell_type": "code",
   "execution_count": null,
   "metadata": {},
   "outputs": [],
   "source": []
  },
  {
   "cell_type": "code",
   "execution_count": null,
   "metadata": {},
   "outputs": [],
   "source": []
  }
 ],
 "metadata": {
  "kernelspec": {
   "display_name": "base",
   "language": "python",
   "name": "python3"
  },
  "language_info": {
   "codemirror_mode": {
    "name": "ipython",
    "version": 3
   },
   "file_extension": ".py",
   "mimetype": "text/x-python",
   "name": "python",
   "nbconvert_exporter": "python",
   "pygments_lexer": "ipython3",
   "version": "3.7.10"
  }
 },
 "nbformat": 4,
 "nbformat_minor": 2
}
