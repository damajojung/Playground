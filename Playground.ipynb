{
 "cells": [
  {
   "cell_type": "markdown",
   "metadata": {},
   "source": [
    "# Private Playbround"
   ]
  },
  {
   "cell_type": "code",
   "execution_count": 1,
   "metadata": {},
   "outputs": [],
   "source": [
    "import numpy as np\n",
    "import pandas as pd \n",
    "import torch\n",
    "import matplotlib.pyplot as plt\n",
    "import seaborn as sns\n",
    "from scipy import stats"
   ]
  },
  {
   "cell_type": "code",
   "execution_count": 2,
   "metadata": {},
   "outputs": [],
   "source": [
    "a = np.arange(0,10,1)"
   ]
  },
  {
   "cell_type": "code",
   "execution_count": 3,
   "metadata": {},
   "outputs": [
    {
     "data": {
      "text/plain": [
       "array([0, 1, 2, 3, 4, 5, 6, 7, 8, 9])"
      ]
     },
     "execution_count": 3,
     "metadata": {},
     "output_type": "execute_result"
    }
   ],
   "source": [
    "a"
   ]
  },
  {
   "cell_type": "code",
   "execution_count": 4,
   "metadata": {},
   "outputs": [],
   "source": [
    "test = 'Hallo'"
   ]
  },
  {
   "cell_type": "code",
   "execution_count": 5,
   "metadata": {},
   "outputs": [
    {
     "data": {
      "text/plain": [
       "'all'"
      ]
     },
     "execution_count": 5,
     "metadata": {},
     "output_type": "execute_result"
    }
   ],
   "source": [
    "test[1:-1]"
   ]
  },
  {
   "cell_type": "code",
   "execution_count": 28,
   "metadata": {},
   "outputs": [
    {
     "name": "stdout",
     "output_type": "stream",
     "text": [
      "1\n",
      "1\n",
      "1\n",
      "1\n",
      "1\n",
      "1\n",
      "1\n"
     ]
    }
   ],
   "source": [
    "for i in test:\n",
    "    for j in test:\n",
    "        if i == j:\n",
    "            print(1)"
   ]
  },
  {
   "cell_type": "code",
   "execution_count": 27,
   "metadata": {},
   "outputs": [
    {
     "name": "stdout",
     "output_type": "stream",
     "text": [
      "banana\n",
      "banan\n",
      "bana\n",
      "ban\n",
      "ba\n",
      "b\n"
     ]
    }
   ],
   "source": [
    "st = 'banana'\n",
    "\n",
    "for i in range(0,len(st)):\n",
    "    if i == 0:\n",
    "        print(st)\n",
    "    else:\n",
    "        print(st[:-(i)])"
   ]
  },
  {
   "cell_type": "code",
   "execution_count": 25,
   "metadata": {},
   "outputs": [
    {
     "data": {
      "text/plain": [
       "''"
      ]
     },
     "execution_count": 25,
     "metadata": {},
     "output_type": "execute_result"
    }
   ],
   "source": [
    "st[:0]"
   ]
  },
  {
   "cell_type": "code",
   "execution_count": null,
   "metadata": {},
   "outputs": [],
   "source": []
  },
  {
   "cell_type": "code",
   "execution_count": null,
   "metadata": {},
   "outputs": [],
   "source": []
  },
  {
   "cell_type": "code",
   "execution_count": null,
   "metadata": {},
   "outputs": [],
   "source": []
  },
  {
   "cell_type": "markdown",
   "metadata": {},
   "source": [
    "# Minion Game "
   ]
  },
  {
   "cell_type": "code",
   "execution_count": 77,
   "metadata": {},
   "outputs": [
    {
     "name": "stdout",
     "output_type": "stream",
     "text": [
      "[]\n",
      "['AAAA', 'AAA', 'AA', 'A']\n",
      "AAAA 1\n",
      "AAA 2\n",
      "AA 3\n",
      "A 4\n",
      "0\n",
      "10\n",
      "Kevin 10\n"
     ]
    }
   ],
   "source": [
    "def get_subs(s):\n",
    "    l = []\n",
    "    for i in range(0,len(s)):\n",
    "        if i == 0:\n",
    "            l.append(s)\n",
    "        else:\n",
    "            l.append(s[:-(i)])\n",
    "    return l\n",
    "\n",
    "def getNum(p,s):\n",
    "    lp = len(p)\n",
    "    lw = len(s)\n",
    "    c = 0\n",
    "    for i in range(0, lw):\n",
    "        if i != lw:\n",
    "            if s[i: i + lp] == p:\n",
    "                c += 1\n",
    "    \n",
    "    return c\n",
    "\n",
    "def minion_game(string):\n",
    "    # your code goes here\n",
    "    vowels = ['A', 'E', 'I', 'O', 'U']\n",
    "    s_list = []\n",
    "    k_list = []\n",
    "    \n",
    "    for idx, i in enumerate(string):\n",
    "        if i not in vowels:\n",
    "            sub = string[idx:]\n",
    "            l = get_subs(sub)\n",
    "            for j in l:\n",
    "                if j not in s_list:\n",
    "                    s_list.append(j)\n",
    "        else:\n",
    "            sub = string[idx:]\n",
    "            l = get_subs(sub)\n",
    "            for j in l:\n",
    "                if j not in k_list:\n",
    "                    k_list.append(j)\n",
    "\n",
    "    print(s_list)\n",
    "    print(k_list)\n",
    "    \n",
    "    stu = 0;kev= 0\n",
    "    for i in s_list:\n",
    "        stu += getNum(i, string)\n",
    "        \n",
    "    for i in k_list:\n",
    "        print(i, getNum(i, string))\n",
    "        kev +=  getNum(i, string)\n",
    "    \n",
    "    print(stu)\n",
    "    print(kev)\n",
    "    \n",
    "    if stu > kev:\n",
    "        print(f'Stuart {stu}')\n",
    "    elif stu < kev:\n",
    "        print(f'Kevin {kev}')\n",
    "    else:\n",
    "        print('Draw')\n",
    "    \n",
    "minion_game('AAAA')"
   ]
  },
  {
   "cell_type": "code",
   "execution_count": 71,
   "metadata": {},
   "outputs": [
    {
     "data": {
      "text/plain": [
       "2"
      ]
     },
     "execution_count": 71,
     "metadata": {},
     "output_type": "execute_result"
    }
   ],
   "source": [
    "'AAAA'.count('AA')"
   ]
  },
  {
   "cell_type": "code",
   "execution_count": 37,
   "metadata": {},
   "outputs": [
    {
     "data": {
      "text/plain": [
       "2"
      ]
     },
     "execution_count": 37,
     "metadata": {},
     "output_type": "execute_result"
    }
   ],
   "source": [
    "len('AAAA'.split('AA'))-1"
   ]
  },
  {
   "cell_type": "code",
   "execution_count": 39,
   "metadata": {},
   "outputs": [
    {
     "data": {
      "text/plain": [
       "['', '', '', '', '']"
      ]
     },
     "execution_count": 39,
     "metadata": {},
     "output_type": "execute_result"
    }
   ],
   "source": [
    "'AAAA'.split('A')"
   ]
  },
  {
   "cell_type": "code",
   "execution_count": 42,
   "metadata": {},
   "outputs": [
    {
     "data": {
      "text/plain": [
       "3"
      ]
     },
     "execution_count": 42,
     "metadata": {},
     "output_type": "execute_result"
    }
   ],
   "source": [
    "def countFreq(pat, txt):\n",
    "    M = len(pat)\n",
    "    N = len(txt)\n",
    "    res = 0\n",
    "     \n",
    "    # A loop to slide pat[] one by one\n",
    "    for i in range(N - M + 1):\n",
    "         \n",
    "        # For current index i, check\n",
    "        # for pattern match\n",
    "        j = 0\n",
    "        while j < M:\n",
    "            if (txt[i + j] != pat[j]):\n",
    "                break\n",
    "            j += 1\n",
    " \n",
    "        if (j == M):\n",
    "            res += 1\n",
    "            j = 0\n",
    "    return res\n",
    "\n",
    "countFreq('AA', 'AAAA')"
   ]
  },
  {
   "cell_type": "code",
   "execution_count": null,
   "metadata": {},
   "outputs": [],
   "source": []
  },
  {
   "cell_type": "code",
   "execution_count": 67,
   "metadata": {},
   "outputs": [],
   "source": [
    "\n",
    "def getNum(p,s):\n",
    "    lp = len(p)\n",
    "    lw = len(s)\n",
    "    c = 0\n",
    "    for i in range(0, lw):\n",
    "        if i != lw:\n",
    "            if s[i: i + lp] == p:\n",
    "                c += 1\n",
    "    \n",
    "    return c"
   ]
  },
  {
   "cell_type": "code",
   "execution_count": 68,
   "metadata": {},
   "outputs": [
    {
     "data": {
      "text/plain": [
       "3"
      ]
     },
     "execution_count": 68,
     "metadata": {},
     "output_type": "execute_result"
    }
   ],
   "source": [
    "getNum('A', 'BANANA')"
   ]
  },
  {
   "cell_type": "code",
   "execution_count": 4,
   "metadata": {},
   "outputs": [
    {
     "name": "stdout",
     "output_type": "stream",
     "text": [
      "{1, 2, 3, 4, 5, 6, 7, 8, 9, 10}\n"
     ]
    }
   ],
   "source": [
    "a = [1,2,3,4,5,6]\n",
    "b = [5,6,7,8,9,10]\n",
    "\n",
    "print(set(a).union(set(b)))"
   ]
  },
  {
   "cell_type": "code",
   "execution_count": 7,
   "metadata": {},
   "outputs": [
    {
     "name": "stdout",
     "output_type": "stream",
     "text": [
      "{'6', ' ', '1', '8', '4', '9', '7', '5', '2', '3'}\n"
     ]
    }
   ],
   "source": [
    "a = '1 2 3 4 5 6'\n",
    "b = '5 6 7 8 9 55'\n",
    "\n",
    "print(set(a).union(set(b)))"
   ]
  },
  {
   "cell_type": "code",
   "execution_count": 11,
   "metadata": {},
   "outputs": [
    {
     "data": {
      "text/plain": [
       "['5', '6', '7', '8', '9', '55']"
      ]
     },
     "execution_count": 11,
     "metadata": {},
     "output_type": "execute_result"
    }
   ],
   "source": [
    "b.split(' ')"
   ]
  },
  {
   "cell_type": "code",
   "execution_count": 30,
   "metadata": {},
   "outputs": [
    {
     "name": "stdout",
     "output_type": "stream",
     "text": [
      "BA\n",
      "CA\n",
      "AD\n"
     ]
    }
   ],
   "source": [
    "s = 'AABCAAADA'\n",
    "k  = 3\n",
    "ind = [i for i in range(0,len(s)+k, k)]\n",
    "\n",
    "for i in range(k):\n",
    "    sub = s[ind[i]: ind[i+1]]\n",
    "    print(''.join(i for i in set(sub)))\n"
   ]
  },
  {
   "cell_type": "code",
   "execution_count": 36,
   "metadata": {},
   "outputs": [
    {
     "name": "stdout",
     "output_type": "stream",
     "text": [
      "9248\n",
      "0\n",
      "KAGOFENXQICRHYMSDLJWBTUVZP\n",
      "1156\n",
      "KAGOFENXQICRHYSMDLJWBUTVZP\n",
      "2312\n",
      "KAGOFENXQICRHYMSDLJWBUTVZP\n",
      "3468\n",
      "KAGOFENXQICRHYMSDLJWBTUVZP\n",
      "4624\n",
      "KAGOFENXQICRHYSMDLJWBUTVZP\n",
      "5780\n",
      "KAGOFENXQICRHYSMDLJWBUTVZP\n",
      "6936\n",
      "KAGOFENXQICRHYSMDLJWBTUVZP\n",
      "8092\n",
      "KAGOFENXQICRHYSMDLJWBUTVZP\n",
      "9248\n"
     ]
    },
    {
     "ename": "IndexError",
     "evalue": "list index out of range",
     "output_type": "error",
     "traceback": [
      "\u001b[0;31m---------------------------------------------------------------------------\u001b[0m",
      "\u001b[0;31mIndexError\u001b[0m                                Traceback (most recent call last)",
      "\u001b[0;32m/var/folders/9r/pl8035cn4cjb59msrdwcrvhr0000gn/T/ipykernel_1681/3356432417.py\u001b[0m in \u001b[0;36m<module>\u001b[0;34m\u001b[0m\n\u001b[1;32m      6\u001b[0m \u001b[0;32mfor\u001b[0m \u001b[0mi\u001b[0m \u001b[0;32min\u001b[0m \u001b[0mrange\u001b[0m\u001b[0;34m(\u001b[0m\u001b[0mk\u001b[0m\u001b[0;34m)\u001b[0m\u001b[0;34m:\u001b[0m\u001b[0;34m\u001b[0m\u001b[0;34m\u001b[0m\u001b[0m\n\u001b[1;32m      7\u001b[0m     \u001b[0mprint\u001b[0m\u001b[0;34m(\u001b[0m\u001b[0mind\u001b[0m\u001b[0;34m[\u001b[0m\u001b[0mi\u001b[0m\u001b[0;34m]\u001b[0m\u001b[0;34m)\u001b[0m\u001b[0;34m\u001b[0m\u001b[0;34m\u001b[0m\u001b[0m\n\u001b[0;32m----> 8\u001b[0;31m     \u001b[0msub\u001b[0m \u001b[0;34m=\u001b[0m \u001b[0ms\u001b[0m\u001b[0;34m[\u001b[0m\u001b[0mind\u001b[0m\u001b[0;34m[\u001b[0m\u001b[0mi\u001b[0m\u001b[0;34m]\u001b[0m\u001b[0;34m:\u001b[0m \u001b[0mind\u001b[0m\u001b[0;34m[\u001b[0m\u001b[0mi\u001b[0m\u001b[0;34m+\u001b[0m\u001b[0;36m1\u001b[0m\u001b[0;34m]\u001b[0m\u001b[0;34m]\u001b[0m\u001b[0;34m\u001b[0m\u001b[0;34m\u001b[0m\u001b[0m\n\u001b[0m\u001b[1;32m      9\u001b[0m     \u001b[0mprint\u001b[0m\u001b[0;34m(\u001b[0m\u001b[0;34m''\u001b[0m\u001b[0;34m.\u001b[0m\u001b[0mjoin\u001b[0m\u001b[0;34m(\u001b[0m\u001b[0mi\u001b[0m \u001b[0;32mfor\u001b[0m \u001b[0mi\u001b[0m \u001b[0;32min\u001b[0m \u001b[0mset\u001b[0m\u001b[0;34m(\u001b[0m\u001b[0msub\u001b[0m\u001b[0;34m)\u001b[0m\u001b[0;34m)\u001b[0m\u001b[0;34m)\u001b[0m\u001b[0;34m\u001b[0m\u001b[0;34m\u001b[0m\u001b[0m\n",
      "\u001b[0;31mIndexError\u001b[0m: list index out of range"
     ]
    }
   ],
   "source": [
    "s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n",
    "k  = 1156\n",
    "ind = [i for i in range(0,len(s)+k, k)]\n",
    "print(len(s))\n",
    "\n",
    "for i in range(k):\n",
    "    print(ind[i])\n",
    "    sub = s[ind[i]: ind[i+1]]\n",
    "    print(''.join(i for i in set(sub)))"
   ]
  },
  {
   "cell_type": "code",
   "execution_count": 71,
   "metadata": {},
   "outputs": [],
   "source": [
    "s = '1222311'\n",
    "\n",
    "c = 0\n",
    "n = 'a'\n",
    "str = ''\n",
    "for idx, i in enumerate(s):\n",
    "    if idx == 0:\n",
    "        n = i\n",
    "        c += 1\n",
    "    elif idx != 0 and idx != len(s)-1 and i == n:\n",
    "        c += 1\n",
    "    elif idx != 0 and idx != len(s)-1 and i != n:\n",
    "        str += (f'({c}, {n}) ')\n",
    "        c = 1;n = i\n",
    "    elif idx != 0 and idx == (len(s)-1) and i != n:\n",
    "        str +=(f'({c}, {n}) ')\n",
    "    elif idx != 0 and idx == (len(s)-1) and i == n:\n",
    "        str +=(f'({c+1}, {n})')"
   ]
  },
  {
   "cell_type": "code",
   "execution_count": 72,
   "metadata": {},
   "outputs": [
    {
     "data": {
      "text/plain": [
       "'(1, 1) (3, 2) (1, 3) (2, 1)'"
      ]
     },
     "execution_count": 72,
     "metadata": {},
     "output_type": "execute_result"
    }
   ],
   "source": [
    "str"
   ]
  },
  {
   "cell_type": "code",
   "execution_count": null,
   "metadata": {},
   "outputs": [],
   "source": []
  },
  {
   "cell_type": "markdown",
   "metadata": {},
   "source": [
    "# Test"
   ]
  },
  {
   "cell_type": "code",
   "execution_count": 7,
   "metadata": {},
   "outputs": [
    {
     "name": "stdout",
     "output_type": "stream",
     "text": [
      "1\n",
      "7\n"
     ]
    }
   ],
   "source": [
    "t = '12374'\n",
    "test = ['1','7','8','9']\n",
    "\n",
    "for i in t:\n",
    "    if i in test:\n",
    "        print(i)"
   ]
  },
  {
   "cell_type": "code",
   "execution_count": 13,
   "metadata": {},
   "outputs": [
    {
     "data": {
      "text/plain": [
       "4"
      ]
     },
     "execution_count": 13,
     "metadata": {},
     "output_type": "execute_result"
    }
   ],
   "source": [
    "def closedPaths(number):\n",
    "    # Write your code here\n",
    "    number = str(number)\n",
    "    counter = 0\n",
    "    one = ['0','4','6','9']\n",
    "    two = ['8']\n",
    "    for i in number:\n",
    "        if i in one:\n",
    "            counter += 1\n",
    "        elif i in two:\n",
    "            counter += 2\n",
    "    return(counter)\n",
    "\n",
    "\n",
    "a = closedPaths(6308)\n",
    "a"
   ]
  },
  {
   "cell_type": "code",
   "execution_count": null,
   "metadata": {},
   "outputs": [],
   "source": []
  },
  {
   "cell_type": "markdown",
   "metadata": {},
   "source": [
    "# October Coding"
   ]
  },
  {
   "cell_type": "code",
   "execution_count": 6,
   "metadata": {},
   "outputs": [
    {
     "name": "stdout",
     "output_type": "stream",
     "text": [
      "1\n",
      "2\n",
      "Fizz\n",
      "4\n",
      "Buzz\n",
      "Fizz\n",
      "7\n",
      "8\n",
      "Fizz\n",
      "Buzz\n",
      "11\n",
      "Fizz\n",
      "13\n",
      "14\n",
      "FizzBuzz\n",
      "16\n",
      "17\n",
      "Fizz\n",
      "19\n",
      "Buzz\n"
     ]
    }
   ],
   "source": [
    "n = 20\n",
    "for i in range(1,n+1):\n",
    "    if i % 3 == 0 and i % 5 == 0:\n",
    "        print(\"FizzBuzz\")\n",
    "    elif i % 3 == 0 and i % 5 != 0:\n",
    "        print(\"Fizz\")\n",
    "    elif i % 3 != 0 and i % 5 == 0:\n",
    "        print(\"Buzz\")\n",
    "    else:\n",
    "        print(i)"
   ]
  },
  {
   "cell_type": "code",
   "execution_count": null,
   "metadata": {},
   "outputs": [],
   "source": []
  },
  {
   "cell_type": "markdown",
   "metadata": {},
   "source": [
    "# FreeCodeCamp Coding"
   ]
  },
  {
   "cell_type": "code",
   "execution_count": 1,
   "metadata": {},
   "outputs": [
    {
     "name": "stdout",
     "output_type": "stream",
     "text": [
      "Before: None\n",
      "Loop: 3 3\n",
      "Loop: 41 3\n",
      "Loop: 12 3\n",
      "Loop: 9 3\n",
      "Loop: 74 3\n",
      "Loop: 15 3\n",
      "Smallest: 3\n"
     ]
    }
   ],
   "source": [
    "smallest = None\n",
    "print(\"Before:\", smallest)\n",
    "for itervar in [3, 41, 12, 9, 74, 15]:\n",
    "    if smallest is None or itervar < smallest:\n",
    "        smallest = itervar\n",
    "    print(\"Loop:\", itervar, smallest)\n",
    "print(\"Smallest:\", smallest)"
   ]
  },
  {
   "cell_type": "code",
   "execution_count": 2,
   "metadata": {},
   "outputs": [],
   "source": [
    "word = \"bananana\"\n",
    "i = word.find(\"na\")"
   ]
  },
  {
   "cell_type": "code",
   "execution_count": null,
   "metadata": {},
   "outputs": [],
   "source": []
  },
  {
   "cell_type": "code",
   "execution_count": null,
   "metadata": {},
   "outputs": [],
   "source": []
  },
  {
   "cell_type": "code",
   "execution_count": null,
   "metadata": {},
   "outputs": [],
   "source": []
  },
  {
   "cell_type": "code",
   "execution_count": null,
   "metadata": {},
   "outputs": [],
   "source": []
  },
  {
   "cell_type": "code",
   "execution_count": null,
   "metadata": {},
   "outputs": [],
   "source": []
  },
  {
   "cell_type": "code",
   "execution_count": null,
   "metadata": {},
   "outputs": [],
   "source": []
  },
  {
   "cell_type": "code",
   "execution_count": null,
   "metadata": {},
   "outputs": [],
   "source": []
  },
  {
   "cell_type": "code",
   "execution_count": null,
   "metadata": {},
   "outputs": [],
   "source": []
  },
  {
   "cell_type": "code",
   "execution_count": null,
   "metadata": {},
   "outputs": [],
   "source": []
  },
  {
   "cell_type": "code",
   "execution_count": null,
   "metadata": {},
   "outputs": [],
   "source": []
  }
 ],
 "metadata": {
  "kernelspec": {
   "display_name": "Python 3.7.13 ('MasterThesis')",
   "language": "python",
   "name": "python3"
  },
  "language_info": {
   "codemirror_mode": {
    "name": "ipython",
    "version": 3
   },
   "file_extension": ".py",
   "mimetype": "text/x-python",
   "name": "python",
   "nbconvert_exporter": "python",
   "pygments_lexer": "ipython3",
   "version": "3.7.13"
  },
  "orig_nbformat": 4,
  "vscode": {
   "interpreter": {
    "hash": "06b0d7cc3ff6be5802ae025fed16569565f330a28b5df50b09d05391387a3b66"
   }
  }
 },
 "nbformat": 4,
 "nbformat_minor": 2
}
