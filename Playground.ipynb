{
 "cells": [
  {
   "cell_type": "markdown",
   "metadata": {},
   "source": [
    "# Private Playbround"
   ]
  },
  {
   "cell_type": "code",
   "execution_count": 1,
   "metadata": {},
   "outputs": [],
   "source": [
    "import numpy as np\n",
    "import pandas as pd \n",
    "import torch\n",
    "import matplotlib.pyplot as plt\n",
    "import seaborn as sns\n",
    "from scipy import stats"
   ]
  },
  {
   "cell_type": "code",
   "execution_count": 2,
   "metadata": {},
   "outputs": [],
   "source": [
    "a = np.arange(0,10,1)"
   ]
  },
  {
   "cell_type": "code",
   "execution_count": 3,
   "metadata": {},
   "outputs": [
    {
     "data": {
      "text/plain": [
       "array([0, 1, 2, 3, 4, 5, 6, 7, 8, 9])"
      ]
     },
     "execution_count": 3,
     "metadata": {},
     "output_type": "execute_result"
    }
   ],
   "source": [
    "a"
   ]
  },
  {
   "cell_type": "code",
   "execution_count": 4,
   "metadata": {},
   "outputs": [],
   "source": [
    "test = 'Hallo'"
   ]
  },
  {
   "cell_type": "code",
   "execution_count": 5,
   "metadata": {},
   "outputs": [
    {
     "data": {
      "text/plain": [
       "'all'"
      ]
     },
     "execution_count": 5,
     "metadata": {},
     "output_type": "execute_result"
    }
   ],
   "source": [
    "test[1:-1]"
   ]
  },
  {
   "cell_type": "code",
   "execution_count": 28,
   "metadata": {},
   "outputs": [
    {
     "name": "stdout",
     "output_type": "stream",
     "text": [
      "1\n",
      "1\n",
      "1\n",
      "1\n",
      "1\n",
      "1\n",
      "1\n"
     ]
    }
   ],
   "source": [
    "for i in test:\n",
    "    for j in test:\n",
    "        if i == j:\n",
    "            print(1)"
   ]
  },
  {
   "cell_type": "code",
   "execution_count": 27,
   "metadata": {},
   "outputs": [
    {
     "name": "stdout",
     "output_type": "stream",
     "text": [
      "banana\n",
      "banan\n",
      "bana\n",
      "ban\n",
      "ba\n",
      "b\n"
     ]
    }
   ],
   "source": [
    "st = 'banana'\n",
    "\n",
    "for i in range(0,len(st)):\n",
    "    if i == 0:\n",
    "        print(st)\n",
    "    else:\n",
    "        print(st[:-(i)])"
   ]
  },
  {
   "cell_type": "code",
   "execution_count": 25,
   "metadata": {},
   "outputs": [
    {
     "data": {
      "text/plain": [
       "''"
      ]
     },
     "execution_count": 25,
     "metadata": {},
     "output_type": "execute_result"
    }
   ],
   "source": [
    "st[:0]"
   ]
  },
  {
   "cell_type": "code",
   "execution_count": null,
   "metadata": {},
   "outputs": [],
   "source": []
  },
  {
   "cell_type": "code",
   "execution_count": null,
   "metadata": {},
   "outputs": [],
   "source": []
  },
  {
   "cell_type": "code",
   "execution_count": null,
   "metadata": {},
   "outputs": [],
   "source": []
  },
  {
   "cell_type": "markdown",
   "metadata": {},
   "source": [
    "# Minion Game "
   ]
  },
  {
   "cell_type": "code",
   "execution_count": 77,
   "metadata": {},
   "outputs": [
    {
     "name": "stdout",
     "output_type": "stream",
     "text": [
      "[]\n",
      "['AAAA', 'AAA', 'AA', 'A']\n",
      "AAAA 1\n",
      "AAA 2\n",
      "AA 3\n",
      "A 4\n",
      "0\n",
      "10\n",
      "Kevin 10\n"
     ]
    }
   ],
   "source": [
    "def get_subs(s):\n",
    "    l = []\n",
    "    for i in range(0,len(s)):\n",
    "        if i == 0:\n",
    "            l.append(s)\n",
    "        else:\n",
    "            l.append(s[:-(i)])\n",
    "    return l\n",
    "\n",
    "def getNum(p,s):\n",
    "    lp = len(p)\n",
    "    lw = len(s)\n",
    "    c = 0\n",
    "    for i in range(0, lw):\n",
    "        if i != lw:\n",
    "            if s[i: i + lp] == p:\n",
    "                c += 1\n",
    "    \n",
    "    return c\n",
    "\n",
    "def minion_game(string):\n",
    "    # your code goes here\n",
    "    vowels = ['A', 'E', 'I', 'O', 'U']\n",
    "    s_list = []\n",
    "    k_list = []\n",
    "    \n",
    "    for idx, i in enumerate(string):\n",
    "        if i not in vowels:\n",
    "            sub = string[idx:]\n",
    "            l = get_subs(sub)\n",
    "            for j in l:\n",
    "                if j not in s_list:\n",
    "                    s_list.append(j)\n",
    "        else:\n",
    "            sub = string[idx:]\n",
    "            l = get_subs(sub)\n",
    "            for j in l:\n",
    "                if j not in k_list:\n",
    "                    k_list.append(j)\n",
    "\n",
    "    print(s_list)\n",
    "    print(k_list)\n",
    "    \n",
    "    stu = 0;kev= 0\n",
    "    for i in s_list:\n",
    "        stu += getNum(i, string)\n",
    "        \n",
    "    for i in k_list:\n",
    "        print(i, getNum(i, string))\n",
    "        kev +=  getNum(i, string)\n",
    "    \n",
    "    print(stu)\n",
    "    print(kev)\n",
    "    \n",
    "    if stu > kev:\n",
    "        print(f'Stuart {stu}')\n",
    "    elif stu < kev:\n",
    "        print(f'Kevin {kev}')\n",
    "    else:\n",
    "        print('Draw')\n",
    "    \n",
    "minion_game('AAAA')"
   ]
  },
  {
   "cell_type": "code",
   "execution_count": 71,
   "metadata": {},
   "outputs": [
    {
     "data": {
      "text/plain": [
       "2"
      ]
     },
     "execution_count": 71,
     "metadata": {},
     "output_type": "execute_result"
    }
   ],
   "source": [
    "'AAAA'.count('AA')"
   ]
  },
  {
   "cell_type": "code",
   "execution_count": 37,
   "metadata": {},
   "outputs": [
    {
     "data": {
      "text/plain": [
       "2"
      ]
     },
     "execution_count": 37,
     "metadata": {},
     "output_type": "execute_result"
    }
   ],
   "source": [
    "len('AAAA'.split('AA'))-1"
   ]
  },
  {
   "cell_type": "code",
   "execution_count": 39,
   "metadata": {},
   "outputs": [
    {
     "data": {
      "text/plain": [
       "['', '', '', '', '']"
      ]
     },
     "execution_count": 39,
     "metadata": {},
     "output_type": "execute_result"
    }
   ],
   "source": [
    "'AAAA'.split('A')"
   ]
  },
  {
   "cell_type": "code",
   "execution_count": 42,
   "metadata": {},
   "outputs": [
    {
     "data": {
      "text/plain": [
       "3"
      ]
     },
     "execution_count": 42,
     "metadata": {},
     "output_type": "execute_result"
    }
   ],
   "source": [
    "def countFreq(pat, txt):\n",
    "    M = len(pat)\n",
    "    N = len(txt)\n",
    "    res = 0\n",
    "     \n",
    "    # A loop to slide pat[] one by one\n",
    "    for i in range(N - M + 1):\n",
    "         \n",
    "        # For current index i, check\n",
    "        # for pattern match\n",
    "        j = 0\n",
    "        while j < M:\n",
    "            if (txt[i + j] != pat[j]):\n",
    "                break\n",
    "            j += 1\n",
    " \n",
    "        if (j == M):\n",
    "            res += 1\n",
    "            j = 0\n",
    "    return res\n",
    "\n",
    "countFreq('AA', 'AAAA')"
   ]
  },
  {
   "cell_type": "code",
   "execution_count": null,
   "metadata": {},
   "outputs": [],
   "source": []
  },
  {
   "cell_type": "code",
   "execution_count": 67,
   "metadata": {},
   "outputs": [],
   "source": [
    "\n",
    "def getNum(p,s):\n",
    "    lp = len(p)\n",
    "    lw = len(s)\n",
    "    c = 0\n",
    "    for i in range(0, lw):\n",
    "        if i != lw:\n",
    "            if s[i: i + lp] == p:\n",
    "                c += 1\n",
    "    \n",
    "    return c"
   ]
  },
  {
   "cell_type": "code",
   "execution_count": 68,
   "metadata": {},
   "outputs": [
    {
     "data": {
      "text/plain": [
       "3"
      ]
     },
     "execution_count": 68,
     "metadata": {},
     "output_type": "execute_result"
    }
   ],
   "source": [
    "getNum('A', 'BANANA')"
   ]
  },
  {
   "cell_type": "code",
   "execution_count": 4,
   "metadata": {},
   "outputs": [
    {
     "name": "stdout",
     "output_type": "stream",
     "text": [
      "{1, 2, 3, 4, 5, 6, 7, 8, 9, 10}\n"
     ]
    }
   ],
   "source": [
    "a = [1,2,3,4,5,6]\n",
    "b = [5,6,7,8,9,10]\n",
    "\n",
    "print(set(a).union(set(b)))"
   ]
  },
  {
   "cell_type": "code",
   "execution_count": 7,
   "metadata": {},
   "outputs": [
    {
     "name": "stdout",
     "output_type": "stream",
     "text": [
      "{'6', ' ', '1', '8', '4', '9', '7', '5', '2', '3'}\n"
     ]
    }
   ],
   "source": [
    "a = '1 2 3 4 5 6'\n",
    "b = '5 6 7 8 9 55'\n",
    "\n",
    "print(set(a).union(set(b)))"
   ]
  },
  {
   "cell_type": "code",
   "execution_count": 11,
   "metadata": {},
   "outputs": [
    {
     "data": {
      "text/plain": [
       "['5', '6', '7', '8', '9', '55']"
      ]
     },
     "execution_count": 11,
     "metadata": {},
     "output_type": "execute_result"
    }
   ],
   "source": [
    "b.split(' ')"
   ]
  },
  {
   "cell_type": "code",
   "execution_count": 30,
   "metadata": {},
   "outputs": [
    {
     "name": "stdout",
     "output_type": "stream",
     "text": [
      "BA\n",
      "CA\n",
      "AD\n"
     ]
    }
   ],
   "source": [
    "s = 'AABCAAADA'\n",
    "k  = 3\n",
    "ind = [i for i in range(0,len(s)+k, k)]\n",
    "\n",
    "for i in range(k):\n",
    "    sub = s[ind[i]: ind[i+1]]\n",
    "    print(''.join(i for i in set(sub)))\n"
   ]
  },
  {
   "cell_type": "code",
   "execution_count": 36,
   "metadata": {},
   "outputs": [
    {
     "name": "stdout",
     "output_type": "stream",
     "text": [
      "9248\n",
      "0\n",
      "KAGOFENXQICRHYMSDLJWBTUVZP\n",
      "1156\n",
      "KAGOFENXQICRHYSMDLJWBUTVZP\n",
      "2312\n",
      "KAGOFENXQICRHYMSDLJWBUTVZP\n",
      "3468\n",
      "KAGOFENXQICRHYMSDLJWBTUVZP\n",
      "4624\n",
      "KAGOFENXQICRHYSMDLJWBUTVZP\n",
      "5780\n",
      "KAGOFENXQICRHYSMDLJWBUTVZP\n",
      "6936\n",
      "KAGOFENXQICRHYSMDLJWBTUVZP\n",
      "8092\n",
      "KAGOFENXQICRHYSMDLJWBUTVZP\n",
      "9248\n"
     ]
    },
    {
     "ename": "IndexError",
     "evalue": "list index out of range",
     "output_type": "error",
     "traceback": [
      "\u001b[0;31m---------------------------------------------------------------------------\u001b[0m",
      "\u001b[0;31mIndexError\u001b[0m                                Traceback (most recent call last)",
      "\u001b[0;32m/var/folders/9r/pl8035cn4cjb59msrdwcrvhr0000gn/T/ipykernel_1681/3356432417.py\u001b[0m in \u001b[0;36m<module>\u001b[0;34m\u001b[0m\n\u001b[1;32m      6\u001b[0m \u001b[0;32mfor\u001b[0m \u001b[0mi\u001b[0m \u001b[0;32min\u001b[0m \u001b[0mrange\u001b[0m\u001b[0;34m(\u001b[0m\u001b[0mk\u001b[0m\u001b[0;34m)\u001b[0m\u001b[0;34m:\u001b[0m\u001b[0;34m\u001b[0m\u001b[0;34m\u001b[0m\u001b[0m\n\u001b[1;32m      7\u001b[0m     \u001b[0mprint\u001b[0m\u001b[0;34m(\u001b[0m\u001b[0mind\u001b[0m\u001b[0;34m[\u001b[0m\u001b[0mi\u001b[0m\u001b[0;34m]\u001b[0m\u001b[0;34m)\u001b[0m\u001b[0;34m\u001b[0m\u001b[0;34m\u001b[0m\u001b[0m\n\u001b[0;32m----> 8\u001b[0;31m     \u001b[0msub\u001b[0m \u001b[0;34m=\u001b[0m \u001b[0ms\u001b[0m\u001b[0;34m[\u001b[0m\u001b[0mind\u001b[0m\u001b[0;34m[\u001b[0m\u001b[0mi\u001b[0m\u001b[0;34m]\u001b[0m\u001b[0;34m:\u001b[0m \u001b[0mind\u001b[0m\u001b[0;34m[\u001b[0m\u001b[0mi\u001b[0m\u001b[0;34m+\u001b[0m\u001b[0;36m1\u001b[0m\u001b[0;34m]\u001b[0m\u001b[0;34m]\u001b[0m\u001b[0;34m\u001b[0m\u001b[0;34m\u001b[0m\u001b[0m\n\u001b[0m\u001b[1;32m      9\u001b[0m     \u001b[0mprint\u001b[0m\u001b[0;34m(\u001b[0m\u001b[0;34m''\u001b[0m\u001b[0;34m.\u001b[0m\u001b[0mjoin\u001b[0m\u001b[0;34m(\u001b[0m\u001b[0mi\u001b[0m \u001b[0;32mfor\u001b[0m \u001b[0mi\u001b[0m \u001b[0;32min\u001b[0m \u001b[0mset\u001b[0m\u001b[0;34m(\u001b[0m\u001b[0msub\u001b[0m\u001b[0;34m)\u001b[0m\u001b[0;34m)\u001b[0m\u001b[0;34m)\u001b[0m\u001b[0;34m\u001b[0m\u001b[0;34m\u001b[0m\u001b[0m\n",
      "\u001b[0;31mIndexError\u001b[0m: list index out of range"
     ]
    }
   ],
   "source": [
    "s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n",
    "k  = 1156\n",
    "ind = [i for i in range(0,len(s)+k, k)]\n",
    "print(len(s))\n",
    "\n",
    "for i in range(k):\n",
    "    print(ind[i])\n",
    "    sub = s[ind[i]: ind[i+1]]\n",
    "    print(''.join(i for i in set(sub)))"
   ]
  },
  {
   "cell_type": "code",
   "execution_count": 71,
   "metadata": {},
   "outputs": [],
   "source": [
    "s = '1222311'\n",
    "\n",
    "c = 0\n",
    "n = 'a'\n",
    "str = ''\n",
    "for idx, i in enumerate(s):\n",
    "    if idx == 0:\n",
    "        n = i\n",
    "        c += 1\n",
    "    elif idx != 0 and idx != len(s)-1 and i == n:\n",
    "        c += 1\n",
    "    elif idx != 0 and idx != len(s)-1 and i != n:\n",
    "        str += (f'({c}, {n}) ')\n",
    "        c = 1;n = i\n",
    "    elif idx != 0 and idx == (len(s)-1) and i != n:\n",
    "        str +=(f'({c}, {n}) ')\n",
    "    elif idx != 0 and idx == (len(s)-1) and i == n:\n",
    "        str +=(f'({c+1}, {n})')"
   ]
  },
  {
   "cell_type": "code",
   "execution_count": 72,
   "metadata": {},
   "outputs": [
    {
     "data": {
      "text/plain": [
       "'(1, 1) (3, 2) (1, 3) (2, 1)'"
      ]
     },
     "execution_count": 72,
     "metadata": {},
     "output_type": "execute_result"
    }
   ],
   "source": [
    "str"
   ]
  },
  {
   "cell_type": "code",
   "execution_count": null,
   "metadata": {},
   "outputs": [],
   "source": []
  },
  {
   "cell_type": "markdown",
   "metadata": {},
   "source": [
    "# Test"
   ]
  },
  {
   "cell_type": "code",
   "execution_count": 7,
   "metadata": {},
   "outputs": [
    {
     "name": "stdout",
     "output_type": "stream",
     "text": [
      "1\n",
      "7\n"
     ]
    }
   ],
   "source": [
    "t = '12374'\n",
    "test = ['1','7','8','9']\n",
    "\n",
    "for i in t:\n",
    "    if i in test:\n",
    "        print(i)"
   ]
  },
  {
   "cell_type": "code",
   "execution_count": 13,
   "metadata": {},
   "outputs": [
    {
     "data": {
      "text/plain": [
       "4"
      ]
     },
     "execution_count": 13,
     "metadata": {},
     "output_type": "execute_result"
    }
   ],
   "source": [
    "def closedPaths(number):\n",
    "    # Write your code here\n",
    "    number = str(number)\n",
    "    counter = 0\n",
    "    one = ['0','4','6','9']\n",
    "    two = ['8']\n",
    "    for i in number:\n",
    "        if i in one:\n",
    "            counter += 1\n",
    "        elif i in two:\n",
    "            counter += 2\n",
    "    return(counter)\n",
    "\n",
    "\n",
    "a = closedPaths(6308)\n",
    "a"
   ]
  },
  {
   "cell_type": "code",
   "execution_count": null,
   "metadata": {},
   "outputs": [],
   "source": []
  },
  {
   "cell_type": "markdown",
   "metadata": {},
   "source": [
    "# October Coding"
   ]
  },
  {
   "cell_type": "code",
   "execution_count": 6,
   "metadata": {},
   "outputs": [
    {
     "name": "stdout",
     "output_type": "stream",
     "text": [
      "1\n",
      "2\n",
      "Fizz\n",
      "4\n",
      "Buzz\n",
      "Fizz\n",
      "7\n",
      "8\n",
      "Fizz\n",
      "Buzz\n",
      "11\n",
      "Fizz\n",
      "13\n",
      "14\n",
      "FizzBuzz\n",
      "16\n",
      "17\n",
      "Fizz\n",
      "19\n",
      "Buzz\n"
     ]
    }
   ],
   "source": [
    "n = 20\n",
    "for i in range(1,n+1):\n",
    "    if i % 3 == 0 and i % 5 == 0:\n",
    "        print(\"FizzBuzz\")\n",
    "    elif i % 3 == 0 and i % 5 != 0:\n",
    "        print(\"Fizz\")\n",
    "    elif i % 3 != 0 and i % 5 == 0:\n",
    "        print(\"Buzz\")\n",
    "    else:\n",
    "        print(i)"
   ]
  },
  {
   "cell_type": "code",
   "execution_count": null,
   "metadata": {},
   "outputs": [],
   "source": []
  },
  {
   "cell_type": "markdown",
   "metadata": {},
   "source": [
    "# FreeCodeCamp Coding"
   ]
  },
  {
   "cell_type": "code",
   "execution_count": 1,
   "metadata": {},
   "outputs": [
    {
     "name": "stdout",
     "output_type": "stream",
     "text": [
      "Before: None\n",
      "Loop: 3 3\n",
      "Loop: 41 3\n",
      "Loop: 12 3\n",
      "Loop: 9 3\n",
      "Loop: 74 3\n",
      "Loop: 15 3\n",
      "Smallest: 3\n"
     ]
    }
   ],
   "source": [
    "smallest = None\n",
    "print(\"Before:\", smallest)\n",
    "for itervar in [3, 41, 12, 9, 74, 15]:\n",
    "    if smallest is None or itervar < smallest:\n",
    "        smallest = itervar\n",
    "    print(\"Loop:\", itervar, smallest)\n",
    "print(\"Smallest:\", smallest)"
   ]
  },
  {
   "cell_type": "code",
   "execution_count": 3,
   "metadata": {},
   "outputs": [
    {
     "name": "stdout",
     "output_type": "stream",
     "text": [
      "2\n"
     ]
    }
   ],
   "source": [
    "word = \"bananana\"\n",
    "i = word.find(\"na\") # Find me the first Substring and give mit its index\n",
    "print(i)"
   ]
  },
  {
   "cell_type": "markdown",
   "metadata": {},
   "source": [
    "# Dictionary "
   ]
  },
  {
   "cell_type": "code",
   "execution_count": 4,
   "metadata": {},
   "outputs": [
    {
     "name": "stdout",
     "output_type": "stream",
     "text": [
      "0\n"
     ]
    }
   ],
   "source": [
    "counts = { 'quincy' : 1 , 'mrugesh' : 42, 'beau': 100, '0': 10}\n",
    "print(counts.get('kris', 0)) # Get the value of kris if it is there and if not, return 0"
   ]
  },
  {
   "cell_type": "markdown",
   "metadata": {},
   "source": [
    "# Web browser"
   ]
  },
  {
   "cell_type": "code",
   "execution_count": 5,
   "metadata": {},
   "outputs": [
    {
     "name": "stdout",
     "output_type": "stream",
     "text": [
      "HTTP/1.1 200 OK\n",
      "Date: Fri, 14 Oct 2022 09:15:33 GMT\n",
      "Server: Apache/2.4.18 (Ubuntu)\n",
      "Last-Modified: Sat, 13 May 2017 11:22:22 GMT\n",
      "ETag: \"a7-54f6609245537\"\n",
      "Accept-Ranges: bytes\n",
      "Content-Length: 167\n",
      "Cache-Control: max-age=0, no-cache, no-store, must-revalidate\n",
      "Pragma: no-cache\n",
      "Expires: Wed, 11 Jan 1984 05:00:00 GMT\n",
      "Connection: close\n",
      "Content-Type: text/plain\n",
      "\n",
      "But soft what light through yonder window breaks\n",
      "It is the east and Juliet is the sun\n",
      "Arise fair sun and kill the envious moon\n",
      "Who is already sick and pale with grief\n"
     ]
    }
   ],
   "source": [
    "import socket\n",
    "\n",
    "mysock = socket.socket(socket.AF_INET, socket.SOCK_STREAM)\n",
    "mysock.connect(('data.pr4e.org', 80))\n",
    "cmd = 'GET http://data.pr4e.org/romeo.txt HTTP/1.0\\r\\n\\r\\n'.encode()\n",
    "mysock.send(cmd)\n",
    "\n",
    "while True:\n",
    "    data = mysock.recv(512)\n",
    "    if len(data) < 1:\n",
    "        break\n",
    "    print(data.decode(),end='')\n",
    "mysock.close()"
   ]
  },
  {
   "cell_type": "code",
   "execution_count": 6,
   "metadata": {},
   "outputs": [
    {
     "name": "stdout",
     "output_type": "stream",
     "text": [
      "But soft what light through yonder window breaks\n",
      "It is the east and Juliet is the sun\n",
      "Arise fair sun and kill the envious moon\n",
      "Who is already sick and pale with grief\n"
     ]
    }
   ],
   "source": [
    "import urllib.request\n",
    "fhand = urllib.request.urlopen('http://data.pr4e.org/romeo.txt')\n",
    "for line in fhand:\n",
    "    print(line.decode().strip())"
   ]
  },
  {
   "cell_type": "code",
   "execution_count": 10,
   "metadata": {},
   "outputs": [
    {
     "data": {
      "text/plain": [
       "['__add__',\n",
       " '__class__',\n",
       " '__contains__',\n",
       " '__delattr__',\n",
       " '__delitem__',\n",
       " '__dir__',\n",
       " '__doc__',\n",
       " '__eq__',\n",
       " '__format__',\n",
       " '__ge__',\n",
       " '__getattribute__',\n",
       " '__getitem__',\n",
       " '__gt__',\n",
       " '__hash__',\n",
       " '__iadd__',\n",
       " '__imul__',\n",
       " '__init__',\n",
       " '__init_subclass__',\n",
       " '__iter__',\n",
       " '__le__',\n",
       " '__len__',\n",
       " '__lt__',\n",
       " '__mul__',\n",
       " '__ne__',\n",
       " '__new__',\n",
       " '__reduce__',\n",
       " '__reduce_ex__',\n",
       " '__repr__',\n",
       " '__reversed__',\n",
       " '__rmul__',\n",
       " '__setattr__',\n",
       " '__setitem__',\n",
       " '__sizeof__',\n",
       " '__str__',\n",
       " '__subclasshook__',\n",
       " 'append',\n",
       " 'clear',\n",
       " 'copy',\n",
       " 'count',\n",
       " 'extend',\n",
       " 'index',\n",
       " 'insert',\n",
       " 'pop',\n",
       " 'remove',\n",
       " 'reverse',\n",
       " 'sort']"
      ]
     },
     "execution_count": 10,
     "metadata": {},
     "output_type": "execute_result"
    }
   ],
   "source": [
    "x = list()\n",
    "dir(x)"
   ]
  },
  {
   "cell_type": "code",
   "execution_count": null,
   "metadata": {},
   "outputs": [],
   "source": []
  },
  {
   "cell_type": "markdown",
   "metadata": {},
   "source": [
    "# FreeCodeCamp Challenge 1"
   ]
  },
  {
   "cell_type": "markdown",
   "metadata": {},
   "source": [
    "## Variant 1"
   ]
  },
  {
   "cell_type": "code",
   "execution_count": 2,
   "metadata": {},
   "outputs": [
    {
     "name": "stdout",
     "output_type": "stream",
     "text": [
      "String successfully transformed into int.\n",
      "It continues.\n"
     ]
    }
   ],
   "source": [
    "x = \"1\"\n",
    "\n",
    "try:\n",
    "  x = int(x)\n",
    "  print(\"String successfully transformed into int.\")\n",
    "except ValueError:\n",
    "  raise ValueError(\"Only integers are allowed\")\n",
    "\n",
    "# if not type(x) is int:\n",
    "#   raise TypeError(\"Only integers are allowed\")\n",
    "\n",
    "print(\"It continues.\")"
   ]
  },
  {
   "cell_type": "code",
   "execution_count": 3,
   "metadata": {},
   "outputs": [],
   "source": [
    "problems = [\"32 + 698\", \"3801 - 2\", \"45 + 43\", \"123 + 49\"]\n",
    "\n",
    "def get_int(x):\n",
    "    try:\n",
    "        x = int(x)\n",
    "    except ValueError:\n",
    "        raise ValueError(\"Only integers are allowed\")\n",
    "    return x"
   ]
  },
  {
   "cell_type": "code",
   "execution_count": 190,
   "metadata": {},
   "outputs": [],
   "source": [
    "def arithmetic_arranger(problems, calc):\n",
    "    if len(problems) > 5:\n",
    "        print(\"Too many calculations!\")\n",
    "    \n",
    "    e1 = []; e2 = []; e3 = [];res = []\n",
    "\n",
    "    for idx, i in enumerate(problems):\n",
    "        sub_list = i.split()\n",
    "        if len(sub_list[0]) > 4 or len(sub_list[2]) > 4:\n",
    "            print(\"Number too big\")\n",
    "        elif sub_list[1] != \"+\" and sub_list[1] != \"-\":\n",
    "            print(\"Only + or - are allowed.\")\n",
    "        else:\n",
    "            e1.append(get_int(sub_list[0]));e2.append(sub_list[1]);e3.append(get_int(sub_list[2]))\n",
    "            if calc:\n",
    "                if e2[idx] == \"+\":\n",
    "                    res.append(e1[idx] + e3[idx])\n",
    "                else:\n",
    "                    res.append(e1[idx] - e3[idx])\n",
    "        \n",
    "    print(e1)\n",
    "    print(e2)\n",
    "    print(e3)\n",
    "    print(res)\n",
    "\n",
    "    blocks = []\n",
    "\n",
    "    for idx, i  in enumerate(e1):\n",
    "        if calc:\n",
    "            empty_string = \"      \" # 6 spaces\n",
    "            upper_string = empty_string[:(len(empty_string) - len(str(i)))] + str(i)\n",
    "            lower_string = empty_string[:(len(empty_string) - len(str(e3[idx])))] + str(e3[idx])\n",
    "            lower_string = e2[idx] + lower_string[1:]\n",
    "            res_string = empty_string = empty_string[:(len(empty_string) - len(str(res[idx])))] + str(res[idx])\n",
    "            final_string = upper_string + \"\\n\" + lower_string + \"\\n\" + \"------\" + \"\\n\" + res_string\n",
    "            blocks.append(final_string)\n",
    "        else: \n",
    "            empty_string = \"      \" # 6 spaces\n",
    "            upper_string = empty_string[:(len(empty_string) - len(str(i)))] + str(i)\n",
    "            lower_string = empty_string[:(len(empty_string) - len(str(e3[idx])))] + str(e3[idx])\n",
    "            lower_string = e2[idx] + lower_string[1:]\n",
    "            final_string = upper_string + \"\\n\" + lower_string + \"\\n\" + \"------\"\n",
    "            blocks.append(final_string)\n",
    "    \n",
    "    arranged_problems = \"\"\n",
    "    for i in blocks:\n",
    "        arranged_problems = arranged_problems + i + \"    \"\n",
    "    \n",
    "    print(type(arranged_problems))\n",
    "    return arranged_problems # in the end"
   ]
  },
  {
   "cell_type": "code",
   "execution_count": 191,
   "metadata": {},
   "outputs": [
    {
     "name": "stdout",
     "output_type": "stream",
     "text": [
      "[32, 3801, 45, 123]\n",
      "['+', '-', '+', '+']\n",
      "[698, 2, 43, 49]\n",
      "[730, 3799, 88, 172]\n",
      "<class 'str'>\n"
     ]
    }
   ],
   "source": [
    "final_solution = arithmetic_arranger(problems, calc = True)"
   ]
  },
  {
   "cell_type": "code",
   "execution_count": 192,
   "metadata": {},
   "outputs": [
    {
     "name": "stdout",
     "output_type": "stream",
     "text": [
      "    32\n",
      "+  698\n",
      "------\n",
      "   730      3801\n",
      "-    2\n",
      "------\n",
      "  3799        45\n",
      "+   43\n",
      "------\n",
      "    88       123\n",
      "+   49\n",
      "------\n",
      "   172    \n"
     ]
    }
   ],
   "source": [
    "print(final_solution)"
   ]
  },
  {
   "cell_type": "code",
   "execution_count": null,
   "metadata": {},
   "outputs": [],
   "source": []
  },
  {
   "cell_type": "markdown",
   "metadata": {},
   "source": [
    "## Variant 2"
   ]
  },
  {
   "cell_type": "code",
   "execution_count": 13,
   "metadata": {},
   "outputs": [],
   "source": [
    "problems = [\"32 + 698\", \"3801 - 2\", \"45 + 43\", \"123 + 49\"]\n",
    "\n",
    "def get_int(x):\n",
    "    try:\n",
    "        x = int(x)\n",
    "    except ValueError:\n",
    "        raise ValueError(\"Only integers are allowed\")\n",
    "    return x"
   ]
  },
  {
   "cell_type": "code",
   "execution_count": 45,
   "metadata": {},
   "outputs": [],
   "source": [
    "def arithmetic_arranger(problems, calc = False):\n",
    "    if len(problems) > 5:\n",
    "        print(\"Too many calculations!\")\n",
    "    \n",
    "    e1 = []; e2 = []; e3 = [];res = [];length = []\n",
    "\n",
    "    for idx, i in enumerate(problems):\n",
    "        sub_list = i.split()\n",
    "        if len(sub_list[0]) > 4 or len(sub_list[2]) > 4:\n",
    "            print(\"Number too big\")\n",
    "        elif sub_list[1] != \"+\" and sub_list[1] != \"-\":\n",
    "            print(\"Only + or - are allowed.\")\n",
    "        else:\n",
    "            e1.append(get_int(sub_list[0]));e2.append(sub_list[1]);e3.append(get_int(sub_list[2]))\n",
    "            if calc:\n",
    "                if e2[idx] == \"+\":\n",
    "                    res.append(e1[idx] + e3[idx])\n",
    "                else:\n",
    "                    res.append(e1[idx] - e3[idx])\n",
    "        \n",
    "\n",
    "    for id, i in enumerate(e1):\n",
    "        one = len(str(i));two = len(str(e3[id]))\n",
    "        length.append(max(one, two))\n",
    "\n",
    "    # print(e1)\n",
    "    # print(e2)\n",
    "    # print(e3)\n",
    "    # print(res)\n",
    "    # print(length)\n",
    "\n",
    "    upper_line = \"\";lower_line = \"\";dash_line = \"\";res_line = \"\"\n",
    "\n",
    "    for idx, i  in enumerate(e1):\n",
    "        if calc:\n",
    "            empty_string = (length[idx] + 2) * \" \" # biggest number + 2 spaces for sign & space\n",
    "            upper_string = empty_string[:(len(empty_string) - len(str(i)))] + str(e1[idx])\n",
    "            lower_string = empty_string[:(len(empty_string) - len(str(e3[idx])))] + str(e3[idx])\n",
    "            lower_string = e2[idx] + lower_string[1:]\n",
    "            dash_string = (length[idx] + 2) * \"-\"\n",
    "            res_string = empty_string[:(len(empty_string) - len(str(res[idx])))] + str(res[idx])\n",
    "            upper_line = upper_line + upper_string + 4 * \" \"\n",
    "            lower_line = lower_line + lower_string + 4 * \" \"\n",
    "            dash_line = dash_line + dash_string + 4 * \" \"\n",
    "            res_line = res_line + res_string + 4 * \" \"\n",
    "        else: \n",
    "            empty_string = (length[idx] + 2) * \" \" # biggest number + 2 spaces for sign & space\n",
    "            upper_string = empty_string[:(len(empty_string) - len(str(i)))] + str(e1[idx])\n",
    "            lower_string = empty_string[:(len(empty_string) - len(str(e3[idx])))] + str(e3[idx])\n",
    "            lower_string = e2[idx] + lower_string[1:]\n",
    "            dash_string = (length[idx] + 2) * \"-\"\n",
    "            upper_line = upper_line + upper_string + 4 * \" \"\n",
    "            lower_line = lower_line + lower_string + 4 * \" \"\n",
    "            dash_line = dash_line + dash_string + 4 * \" \"\n",
    "    \n",
    "    # print(upper_line)\n",
    "    # print(lower_line)\n",
    "    # print(dash_line)\n",
    "    # print(res_line)\n",
    "\n",
    "    if calc:\n",
    "        arranged_problems = \"\" + upper_line + \"\\n\" + lower_line + \"\\n\" + dash_line + \"\\n\" + res_line\n",
    "    else:\n",
    "        arranged_problems = \"\" + upper_line + \"\\n\" + lower_line + \"\\n\" + dash_line \n",
    "    \n",
    "    print((arranged_problems))\n",
    "    return arranged_problems # in the end"
   ]
  },
  {
   "cell_type": "code",
   "execution_count": 46,
   "metadata": {},
   "outputs": [
    {
     "name": "stdout",
     "output_type": "stream",
     "text": [
      "   32      3801      45      123    \n",
      "+ 698    -    2    + 43    +  49    \n",
      "-----    ------    ----    -----    \n"
     ]
    },
    {
     "data": {
      "text/plain": [
       "'   32      3801      45      123    \\n+ 698    -    2    + 43    +  49    \\n-----    ------    ----    -----    '"
      ]
     },
     "execution_count": 46,
     "metadata": {},
     "output_type": "execute_result"
    }
   ],
   "source": [
    "arithmetic_arranger(problems)"
   ]
  },
  {
   "cell_type": "code",
   "execution_count": 47,
   "metadata": {},
   "outputs": [
    {
     "name": "stdout",
     "output_type": "stream",
     "text": [
      "  32         1      9999      523    \n",
      "+  8    - 3801    + 9999    -  49    \n",
      "----    ------    ------    -----    \n",
      "  40     -3800     19998      474    \n"
     ]
    },
    {
     "data": {
      "text/plain": [
       "'  32         1      9999      523    \\n+  8    - 3801    + 9999    -  49    \\n----    ------    ------    -----    \\n  40     -3800     19998      474    '"
      ]
     },
     "execution_count": 47,
     "metadata": {},
     "output_type": "execute_result"
    }
   ],
   "source": [
    "arithmetic_arranger([\"32 + 8\", \"1 - 3801\", \"9999 + 9999\", \"523 - 49\"], True)"
   ]
  },
  {
   "cell_type": "code",
   "execution_count": null,
   "metadata": {},
   "outputs": [],
   "source": []
  },
  {
   "cell_type": "code",
   "execution_count": null,
   "metadata": {},
   "outputs": [],
   "source": []
  },
  {
   "cell_type": "code",
   "execution_count": null,
   "metadata": {},
   "outputs": [],
   "source": []
  },
  {
   "cell_type": "code",
   "execution_count": null,
   "metadata": {},
   "outputs": [],
   "source": []
  },
  {
   "cell_type": "code",
   "execution_count": null,
   "metadata": {},
   "outputs": [],
   "source": []
  },
  {
   "cell_type": "code",
   "execution_count": null,
   "metadata": {},
   "outputs": [],
   "source": []
  }
 ],
 "metadata": {
  "kernelspec": {
   "display_name": "Python 3.7.13 ('MasterThesis')",
   "language": "python",
   "name": "python3"
  },
  "language_info": {
   "codemirror_mode": {
    "name": "ipython",
    "version": 3
   },
   "file_extension": ".py",
   "mimetype": "text/x-python",
   "name": "python",
   "nbconvert_exporter": "python",
   "pygments_lexer": "ipython3",
   "version": "3.7.13"
  },
  "orig_nbformat": 4,
  "vscode": {
   "interpreter": {
    "hash": "06b0d7cc3ff6be5802ae025fed16569565f330a28b5df50b09d05391387a3b66"
   }
  }
 },
 "nbformat": 4,
 "nbformat_minor": 2
}
