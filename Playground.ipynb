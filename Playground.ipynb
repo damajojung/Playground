{
 "cells": [
  {
   "cell_type": "markdown",
   "metadata": {},
   "source": [
    "# Private Playbround"
   ]
  },
  {
   "cell_type": "code",
   "execution_count": 1,
   "metadata": {},
   "outputs": [],
   "source": [
    "import numpy as np\n",
    "import pandas as pd \n",
    "import torch\n",
    "import matplotlib.pyplot as plt\n",
    "import seaborn as sns\n",
    "from scipy import stats"
   ]
  },
  {
   "cell_type": "code",
   "execution_count": 2,
   "metadata": {},
   "outputs": [],
   "source": [
    "a = np.arange(0,10,1)"
   ]
  },
  {
   "cell_type": "code",
   "execution_count": 3,
   "metadata": {},
   "outputs": [
    {
     "data": {
      "text/plain": [
       "array([0, 1, 2, 3, 4, 5, 6, 7, 8, 9])"
      ]
     },
     "execution_count": 3,
     "metadata": {},
     "output_type": "execute_result"
    }
   ],
   "source": [
    "a"
   ]
  },
  {
   "cell_type": "code",
   "execution_count": 4,
   "metadata": {},
   "outputs": [],
   "source": [
    "test = 'Hallo'"
   ]
  },
  {
   "cell_type": "code",
   "execution_count": 5,
   "metadata": {},
   "outputs": [
    {
     "data": {
      "text/plain": [
       "'all'"
      ]
     },
     "execution_count": 5,
     "metadata": {},
     "output_type": "execute_result"
    }
   ],
   "source": [
    "test[1:-1]"
   ]
  },
  {
   "cell_type": "code",
   "execution_count": 28,
   "metadata": {},
   "outputs": [
    {
     "name": "stdout",
     "output_type": "stream",
     "text": [
      "1\n",
      "1\n",
      "1\n",
      "1\n",
      "1\n",
      "1\n",
      "1\n"
     ]
    }
   ],
   "source": [
    "for i in test:\n",
    "    for j in test:\n",
    "        if i == j:\n",
    "            print(1)"
   ]
  },
  {
   "cell_type": "code",
   "execution_count": 27,
   "metadata": {},
   "outputs": [
    {
     "name": "stdout",
     "output_type": "stream",
     "text": [
      "banana\n",
      "banan\n",
      "bana\n",
      "ban\n",
      "ba\n",
      "b\n"
     ]
    }
   ],
   "source": [
    "st = 'banana'\n",
    "\n",
    "for i in range(0,len(st)):\n",
    "    if i == 0:\n",
    "        print(st)\n",
    "    else:\n",
    "        print(st[:-(i)])"
   ]
  },
  {
   "cell_type": "code",
   "execution_count": 25,
   "metadata": {},
   "outputs": [
    {
     "data": {
      "text/plain": [
       "''"
      ]
     },
     "execution_count": 25,
     "metadata": {},
     "output_type": "execute_result"
    }
   ],
   "source": [
    "st[:0]"
   ]
  },
  {
   "cell_type": "code",
   "execution_count": null,
   "metadata": {},
   "outputs": [],
   "source": []
  },
  {
   "cell_type": "code",
   "execution_count": null,
   "metadata": {},
   "outputs": [],
   "source": []
  },
  {
   "cell_type": "code",
   "execution_count": null,
   "metadata": {},
   "outputs": [],
   "source": []
  },
  {
   "cell_type": "markdown",
   "metadata": {},
   "source": [
    "# Minion Game "
   ]
  },
  {
   "cell_type": "code",
   "execution_count": 77,
   "metadata": {},
   "outputs": [
    {
     "name": "stdout",
     "output_type": "stream",
     "text": [
      "[]\n",
      "['AAAA', 'AAA', 'AA', 'A']\n",
      "AAAA 1\n",
      "AAA 2\n",
      "AA 3\n",
      "A 4\n",
      "0\n",
      "10\n",
      "Kevin 10\n"
     ]
    }
   ],
   "source": [
    "def get_subs(s):\n",
    "    l = []\n",
    "    for i in range(0,len(s)):\n",
    "        if i == 0:\n",
    "            l.append(s)\n",
    "        else:\n",
    "            l.append(s[:-(i)])\n",
    "    return l\n",
    "\n",
    "def getNum(p,s):\n",
    "    lp = len(p)\n",
    "    lw = len(s)\n",
    "    c = 0\n",
    "    for i in range(0, lw):\n",
    "        if i != lw:\n",
    "            if s[i: i + lp] == p:\n",
    "                c += 1\n",
    "    \n",
    "    return c\n",
    "\n",
    "def minion_game(string):\n",
    "    # your code goes here\n",
    "    vowels = ['A', 'E', 'I', 'O', 'U']\n",
    "    s_list = []\n",
    "    k_list = []\n",
    "    \n",
    "    for idx, i in enumerate(string):\n",
    "        if i not in vowels:\n",
    "            sub = string[idx:]\n",
    "            l = get_subs(sub)\n",
    "            for j in l:\n",
    "                if j not in s_list:\n",
    "                    s_list.append(j)\n",
    "        else:\n",
    "            sub = string[idx:]\n",
    "            l = get_subs(sub)\n",
    "            for j in l:\n",
    "                if j not in k_list:\n",
    "                    k_list.append(j)\n",
    "\n",
    "    print(s_list)\n",
    "    print(k_list)\n",
    "    \n",
    "    stu = 0;kev= 0\n",
    "    for i in s_list:\n",
    "        stu += getNum(i, string)\n",
    "        \n",
    "    for i in k_list:\n",
    "        print(i, getNum(i, string))\n",
    "        kev +=  getNum(i, string)\n",
    "    \n",
    "    print(stu)\n",
    "    print(kev)\n",
    "    \n",
    "    if stu > kev:\n",
    "        print(f'Stuart {stu}')\n",
    "    elif stu < kev:\n",
    "        print(f'Kevin {kev}')\n",
    "    else:\n",
    "        print('Draw')\n",
    "    \n",
    "minion_game('AAAA')"
   ]
  },
  {
   "cell_type": "code",
   "execution_count": 71,
   "metadata": {},
   "outputs": [
    {
     "data": {
      "text/plain": [
       "2"
      ]
     },
     "execution_count": 71,
     "metadata": {},
     "output_type": "execute_result"
    }
   ],
   "source": [
    "'AAAA'.count('AA')"
   ]
  },
  {
   "cell_type": "code",
   "execution_count": 37,
   "metadata": {},
   "outputs": [
    {
     "data": {
      "text/plain": [
       "2"
      ]
     },
     "execution_count": 37,
     "metadata": {},
     "output_type": "execute_result"
    }
   ],
   "source": [
    "len('AAAA'.split('AA'))-1"
   ]
  },
  {
   "cell_type": "code",
   "execution_count": 39,
   "metadata": {},
   "outputs": [
    {
     "data": {
      "text/plain": [
       "['', '', '', '', '']"
      ]
     },
     "execution_count": 39,
     "metadata": {},
     "output_type": "execute_result"
    }
   ],
   "source": [
    "'AAAA'.split('A')"
   ]
  },
  {
   "cell_type": "code",
   "execution_count": 42,
   "metadata": {},
   "outputs": [
    {
     "data": {
      "text/plain": [
       "3"
      ]
     },
     "execution_count": 42,
     "metadata": {},
     "output_type": "execute_result"
    }
   ],
   "source": [
    "def countFreq(pat, txt):\n",
    "    M = len(pat)\n",
    "    N = len(txt)\n",
    "    res = 0\n",
    "     \n",
    "    # A loop to slide pat[] one by one\n",
    "    for i in range(N - M + 1):\n",
    "         \n",
    "        # For current index i, check\n",
    "        # for pattern match\n",
    "        j = 0\n",
    "        while j < M:\n",
    "            if (txt[i + j] != pat[j]):\n",
    "                break\n",
    "            j += 1\n",
    " \n",
    "        if (j == M):\n",
    "            res += 1\n",
    "            j = 0\n",
    "    return res\n",
    "\n",
    "countFreq('AA', 'AAAA')"
   ]
  },
  {
   "cell_type": "code",
   "execution_count": null,
   "metadata": {},
   "outputs": [],
   "source": []
  },
  {
   "cell_type": "code",
   "execution_count": 67,
   "metadata": {},
   "outputs": [],
   "source": [
    "\n",
    "def getNum(p,s):\n",
    "    lp = len(p)\n",
    "    lw = len(s)\n",
    "    c = 0\n",
    "    for i in range(0, lw):\n",
    "        if i != lw:\n",
    "            if s[i: i + lp] == p:\n",
    "                c += 1\n",
    "    \n",
    "    return c"
   ]
  },
  {
   "cell_type": "code",
   "execution_count": 68,
   "metadata": {},
   "outputs": [
    {
     "data": {
      "text/plain": [
       "3"
      ]
     },
     "execution_count": 68,
     "metadata": {},
     "output_type": "execute_result"
    }
   ],
   "source": [
    "getNum('A', 'BANANA')"
   ]
  },
  {
   "cell_type": "code",
   "execution_count": 4,
   "metadata": {},
   "outputs": [
    {
     "name": "stdout",
     "output_type": "stream",
     "text": [
      "{1, 2, 3, 4, 5, 6, 7, 8, 9, 10}\n"
     ]
    }
   ],
   "source": [
    "a = [1,2,3,4,5,6]\n",
    "b = [5,6,7,8,9,10]\n",
    "\n",
    "print(set(a).union(set(b)))"
   ]
  },
  {
   "cell_type": "code",
   "execution_count": 7,
   "metadata": {},
   "outputs": [
    {
     "name": "stdout",
     "output_type": "stream",
     "text": [
      "{'6', ' ', '1', '8', '4', '9', '7', '5', '2', '3'}\n"
     ]
    }
   ],
   "source": [
    "a = '1 2 3 4 5 6'\n",
    "b = '5 6 7 8 9 55'\n",
    "\n",
    "print(set(a).union(set(b)))"
   ]
  },
  {
   "cell_type": "code",
   "execution_count": 11,
   "metadata": {},
   "outputs": [
    {
     "data": {
      "text/plain": [
       "['5', '6', '7', '8', '9', '55']"
      ]
     },
     "execution_count": 11,
     "metadata": {},
     "output_type": "execute_result"
    }
   ],
   "source": [
    "b.split(' ')"
   ]
  },
  {
   "cell_type": "code",
   "execution_count": 30,
   "metadata": {},
   "outputs": [
    {
     "name": "stdout",
     "output_type": "stream",
     "text": [
      "BA\n",
      "CA\n",
      "AD\n"
     ]
    }
   ],
   "source": [
    "s = 'AABCAAADA'\n",
    "k  = 3\n",
    "ind = [i for i in range(0,len(s)+k, k)]\n",
    "\n",
    "for i in range(k):\n",
    "    sub = s[ind[i]: ind[i+1]]\n",
    "    print(''.join(i for i in set(sub)))\n"
   ]
  },
  {
   "cell_type": "code",
   "execution_count": 36,
   "metadata": {},
   "outputs": [
    {
     "name": "stdout",
     "output_type": "stream",
     "text": [
      "9248\n",
      "0\n",
      "KAGOFENXQICRHYMSDLJWBTUVZP\n",
      "1156\n",
      "KAGOFENXQICRHYSMDLJWBUTVZP\n",
      "2312\n",
      "KAGOFENXQICRHYMSDLJWBUTVZP\n",
      "3468\n",
      "KAGOFENXQICRHYMSDLJWBTUVZP\n",
      "4624\n",
      "KAGOFENXQICRHYSMDLJWBUTVZP\n",
      "5780\n",
      "KAGOFENXQICRHYSMDLJWBUTVZP\n",
      "6936\n",
      "KAGOFENXQICRHYSMDLJWBTUVZP\n",
      "8092\n",
      "KAGOFENXQICRHYSMDLJWBUTVZP\n",
      "9248\n"
     ]
    },
    {
     "ename": "IndexError",
     "evalue": "list index out of range",
     "output_type": "error",
     "traceback": [
      "\u001b[0;31m---------------------------------------------------------------------------\u001b[0m",
      "\u001b[0;31mIndexError\u001b[0m                                Traceback (most recent call last)",
      "\u001b[0;32m/var/folders/9r/pl8035cn4cjb59msrdwcrvhr0000gn/T/ipykernel_1681/3356432417.py\u001b[0m in \u001b[0;36m<module>\u001b[0;34m\u001b[0m\n\u001b[1;32m      6\u001b[0m \u001b[0;32mfor\u001b[0m \u001b[0mi\u001b[0m \u001b[0;32min\u001b[0m \u001b[0mrange\u001b[0m\u001b[0;34m(\u001b[0m\u001b[0mk\u001b[0m\u001b[0;34m)\u001b[0m\u001b[0;34m:\u001b[0m\u001b[0;34m\u001b[0m\u001b[0;34m\u001b[0m\u001b[0m\n\u001b[1;32m      7\u001b[0m     \u001b[0mprint\u001b[0m\u001b[0;34m(\u001b[0m\u001b[0mind\u001b[0m\u001b[0;34m[\u001b[0m\u001b[0mi\u001b[0m\u001b[0;34m]\u001b[0m\u001b[0;34m)\u001b[0m\u001b[0;34m\u001b[0m\u001b[0;34m\u001b[0m\u001b[0m\n\u001b[0;32m----> 8\u001b[0;31m     \u001b[0msub\u001b[0m \u001b[0;34m=\u001b[0m \u001b[0ms\u001b[0m\u001b[0;34m[\u001b[0m\u001b[0mind\u001b[0m\u001b[0;34m[\u001b[0m\u001b[0mi\u001b[0m\u001b[0;34m]\u001b[0m\u001b[0;34m:\u001b[0m \u001b[0mind\u001b[0m\u001b[0;34m[\u001b[0m\u001b[0mi\u001b[0m\u001b[0;34m+\u001b[0m\u001b[0;36m1\u001b[0m\u001b[0;34m]\u001b[0m\u001b[0;34m]\u001b[0m\u001b[0;34m\u001b[0m\u001b[0;34m\u001b[0m\u001b[0m\n\u001b[0m\u001b[1;32m      9\u001b[0m     \u001b[0mprint\u001b[0m\u001b[0;34m(\u001b[0m\u001b[0;34m''\u001b[0m\u001b[0;34m.\u001b[0m\u001b[0mjoin\u001b[0m\u001b[0;34m(\u001b[0m\u001b[0mi\u001b[0m \u001b[0;32mfor\u001b[0m \u001b[0mi\u001b[0m \u001b[0;32min\u001b[0m \u001b[0mset\u001b[0m\u001b[0;34m(\u001b[0m\u001b[0msub\u001b[0m\u001b[0;34m)\u001b[0m\u001b[0;34m)\u001b[0m\u001b[0;34m)\u001b[0m\u001b[0;34m\u001b[0m\u001b[0;34m\u001b[0m\u001b[0m\n",
      "\u001b[0;31mIndexError\u001b[0m: list index out of range"
     ]
    }
   ],
   "source": [
    "s = 'NBRJIOWCYEZOJBKGBEYOJFYCNMESGGXTHOERDAUDFVRQWEZZIXPRDOVQCZKIGKBPYGJDGFGNAAEYEFXOCPHHFCZHBKPJUSBUAKYJPGWRICROHQCKFJRKLRTPDIAZDBTFNTOECLXMPOBXFDJKNCXAVQRYBSZGVTLLOAPSNNFCDGBILKVANSBIKSJLMIRIDDTUDKMSXTUDBWLNIGNVAQGLJPWVZQFDTYXYLLQKHMNIKZVTHLOIBWVMLTINJPQEQPEBCWLJJZUTAPOHAFRCBOQPIACTQUYGLCJNZUZKVTFXKUFNZYRCPHRXITQYPQGATPQULPGHKLEUFLJGMAJDICAQYSQNJWOELEAYVGHHTODBBNHPNSSXVSNTNDIYBWEMCENZMUIFIMGMBQBQKUOHOBCBHLZIJFXOJKNXGYFRKNDNDEDQYRXPVAQCLSKUXHKJTYGAYNRKBWXGCAWDUUSPWIRHADDALOJGORGMFZYGXVMAXLDRFVGBFZKIDPIQDTWTKFHPGFXECMEAXJTCGAFLBRTEGDUMWRFHYPYEUWIXIOZFXSJDSORWFKANQXZMOFTMUUSQSBPAROHRHQWBGNXNAAAQXCCLHYZDUTVMULOMZVDGNZKVPHIPHKHGMLTVJSAFMWRIHFWIABRPDBKSKUJUFQATBUPNOPSCNMNURJFUNWLQZWKLQTFXLIRMCIBSZWXNIKJBVOXIMJALFKXXFEXQMOFQWILVEIKMSUQNINYVWYIDLHDQMAJAQQTOYELDMWRGQHVAXTXVUGBHPEZBGIEWAXMZBXEPTXVLFQMEMJZIRCPHIOKOZOMZNYAOYEDRCAFJTRPHCQPWTGDBUPSVGGXTHXKFEPYIQDTLWKSZAHVVNAXJRRFXZERGDBNHQORITMTQWLRXUOSHQRTHKYFKEYQHBGRRUICNXVFTJWSDKNNAGGKRGPDKNVROBIHVTLLSJQLSPGXBVKEBSOSYDXKSTEIUORSJDFBMVPGMVDOQQSRIGMJLJTFEXNZMGTVJYXXVODIJHYBXQUFYIQLUKQYJFXXLQTXQSUMGYURHUSEKOLKXCXROPPXWPVHFQGYKDKSBGLKAFOMTBWQFVJVKZTGOQPVIWTUZDMCLZMLECZXFXQLSZICYBIOTYKDWFXXLLBWKNKORJOWJGJBFSEGVOWROGUMOUJZFKVSZHIQTWNCEYDKQJSMAODOXZBLTMKBZHTYRBPKAEMECRQVDKHDZMRWLUJHHTIGCBGTEVDEBRLGLBBOMIRNWKLJHUQQPAYRDELICQODKZLVDMLRWCGSOREXLWNCXLTASGKUXZZHALEFZPYWREOHVSFIPUKOIGQAMBWLCXSEKYKKNKGGPWOMPVXGPJWZRMZEPXRTVMYFKKPYUXELUSALPXTHIPGADGETDXMAJMGUWXSTXWERRECIDXPMMWMRESKJPZMZLUVKTNDQLJHEOLNTKEFYCTQILCUBBGCPAXZTMCKZLTEBHTVRZCQCWGKHKEKMMOBONCIZGUBTPHVYASQZWIDSQOCAUOOJFPXSTHUZDVTVEQTEKLFGTJBLZFMVTAEASETLLPNRMGMQWFWGRBOMMPYLUMJOOPOGTJUHAHYMNKCLRYRKCFZOXZCRLNHZCYIYHCFIJFWYPZJIZCVDJUUGTWAGLHHNFPLPTSZEXVCOWNXYPUBBOVJJTJRERYSYOFNJYMOVKQKGEJEVDIYTDICXRVDKTVJJDWTBLHYVZKDFVKBASBTXJXWBSALOXUXATQDEZEBZQEGMQHOKJIIUHGXCGLQEHNGAGMGHSHIIOPWGYLRJVBECHBEOOWUWMCWUQFBIOKREBPLZAEJVFPYOSEEHDADPDBJVGKEVWXBXMMZNSKIXZIORPSYSTDHYFQTNCXIBUMYJYZWTJGQIRGCGZCASGJQLZJYDJJEFXFOVGMOQTHYKNCSOFSGLBYYCKYHTJOAGTPEZBURWDSIRUAHZUOMVOKZYJHTSVUBQLFROZLLDDTWXUDZOTLMIWNIHUCBRYCJJHDXHOKKREIQALPQFBCPXQZEMBFGBKPMRSMYIWKZASQAGFRNGVEFNDLAHTGIDVVUQHVYFHAGCSIIXBXGXBNKEZKLUSWXQTRGCOGHWINYAYIAZFIWGVHMWTAQOWNERHMTXSATBQTDODDNILMQJTFFOFYCDLGUUUNUNNPQFJTTOZHXKTPTOUBEZZJCMRYJMLDBBSRGDMCSLLRYGGTUDUAEVJJIDHRPTWSWOLEUXGOLRHLXNETSBWXWFGGKNZBIVTGMELGERWPLDCISIELLAIKHQQSFQTONPUZTFHXZFOMISWBBAOMCYWKQPEVHZJUOGWINFHMLYYVQXYRXOGAMEMCVQYCPJZGPXQDEXRRXSNOPNHOCPOOWCTRSTWKCVQSUGXYFQQDKFTZSAQUSGLOJEFBXBLZYDTUJSTRJLUTSPVKRLHJTSXCWFGVIRWHXQBIKWZVJVRBKOOCBVLUPLXNQDIAWEHTWLCHJDCVZVYJJMNKJBFAMCNEHVEDCOZYBDHKGMHHHGTRUGBEHIEVKUBTPGXRWYSXBZJJLRRVZKMTSPZAYGXKAZEPHDJDBBCCCNLQGCLFOZBHQAJOGGBIFFAMKJRLMVNQJAGPFTXTSYCLALZJUCRBJRQTCHEQDTHOWPFBLCWFCBQDMSMIUFKEXAXBJESMZBCVSIWDKVJPWZSKRGTMNFSKFROOXIDXJFSBPRHAMQRKPLUJRPXGUPTBGHSEPXDAEVDUMKWACNKSYHDRYAXVPQYXZQDOPGOUCUQQEMTHBFBZMESNGPIVIGSHZWYQCOMGICZPQSWRXZQMFKZLCJIKRATSYRJDGVLQAKFQCDICCAOJLPWNAEZRFSKFMVKUSWKSGSJLVRNARBJCSGRSMQLRLXZZSJVNHFFQZOBVHOXBRIDJQXDDPOWCMVBGHWTQEZGDPHAXVXYMGDXWCAZSPWWDTYJCWFTCGZIVHIUEIUTQAQMCROWIMTLFTWKRBDWHCEFLOZSWWLMWBBAURZCDUPKPMUINXEXCICPZDHVZUKXWNYQEZVHVKTKWOSMNZJRHNHGQQEQLQNJDNBJOWSJJLTHZOVPNEGWTNFKGLCRDPCIFDRTALDLWYSYOONDUVAOLHARUCKXRMFYPWSRHVCFVXDKLSNFOPVZWVSQXCPRQUPFSJZZGBHCYMMLFBTVROWPMOILSXEIUWPMFOOMSVQSHEGOFZJYPHQDXAPPZVZTRPGZFUNZRDUYHANMBYNQGDWDFLVEIUYALGBTCOUTROTYOIMPHBIPGEULRRQZMQBZWCUASPTJDMJUVYLEZTVGZPRQHJSVZVWXARXSISELFNHCLTILMDTOUMGBWYYXWVVYOUQWNUJSKRWVKGIYJBODOVHMVHJRCEPSZIQOEAIOTEKFKUFVYUAMPJAKRJEVQVORDEFIGNWZTIEDFMADGCRVMRHDALYQHOJMVOUBBTDUDJZIVBLBECYQTIVWTVOCKYPHMLKQENKKZMSWNGARKYHGGCCCYQGKQVTDHDTNTFZSRUQFAQYMRISZKWBKPIWFFPKOVFCOLDIEXYLZPKMGSGHEDJRSTPZYHKPCRTQCWAJUYUTPGFXYOFFRQYLJNMJUWYWOROSOOBKPYDEELEFZJMSZKFKXRTUQUSGNHADXENMCTTIEXNFGBZHLERLVMFNGXTUGUZEYNSCGLKMKARSBQZPWQARFFFLEAHLWHPUWJYCXJQHLHCOZBDVUDOZKVMRWUCSDTPZCPDZATJLCLADOFYKLMLXKYOGUQAXLRYOHDPHYAVANXDCCDONRALBYZJSSKRDDRTKULUSNPUBMZFQCTETTRVTSGNMQGSUXNGTAANOPJPDIWUMRAGNRDGLJWYCCSYCFEXGFNUWWLAHJWTAWBNPEWAQSAUWSSYAWYGDLCAJPCQYYMAUNOJUKLKEMGAGYBGUZOAMQAVHEOHCAIYNYJJIWTOIZORZPXWQOWCEWAOCOVGQDEDBPNLLIZWKQNLHMHYADCHBCVDSQJIWPMXGBLSLMQXCFJKTSKWWMDXRABJSMSOCGOKJZEWLUWQZFCVZORVCUTTWWDOKXFODTZOUDKHYGZZNBUNPLISHDLFBQUMNBASWZGQDRZDZZENAZASMKKWQXBRQXDFYGAUFGMKZOPZNUOPTQHHATDQTHKLEPQDVQZBZONYCDZPXPESFOZIJFACMKNSAGXVYXYXNMYPRZEOPKGUAHCKOFOCPEVRKSNKRNIEBITSHZGWMOTMYXYMCPPUTKLFEAPWOZAPHUKPVSNHHGWFEWTILICEUOLZODVECVWKRGZNYMUHVSMZPGJAQMHLASKQVHVACRKWZJJXXFFSYTTPBDPSPYFRTPHQYCQAVAWULHSLPZFPSZEWEVQVUVMPMVFKYYMTYLQMSIZHJEYDFCZJAPGUMSLYOQIOOXJPIZDAJCKSGIWONXXNPEJBYUAOKKCBHOSRNVSXZERHMNVBNVOCBXDZRFQESUHBIZTYWLVXROEFECHRXVTYTYZMERQYMXZUYSSUFPRWEYCIAJBXGUXZUYMAQEYCEYYCSTZAISYOQCYSLZRUVOVQNHSDORHSRFWJYVJJOKXGMYZYZQUVHPNWZFZNYGHPNDBMZKVPUUXHUWHUPDRYSGURLVEMDNBQRCCSPZHLWEUQDDKUGDSZJMQXJXJMKKCDNHVEICPEJKXMNJIUNAVWOLTXKCLXNNACWWGFAXLLJIXXSHTFHOBXBXWOZHNOVNQTLYYOYMZHUZGOGBTQRXNVUKJVRWKOLCIXDILBUMKPLRDSSZIKWXFSHQNZOZPZCXYFGLIAYSRJLXDGWLSULZOSPDTDDJEFIDMOOURMOKYCHBIFPABAZRSQVOVYZZFHETYVNRHDBFFLJPSYPWAQNUIKIFKHFPRLIPGXIQDLXIWGAREPPGICBSPJYZTFPKQZBXZJPCUMMTTMMZEBGOFHGUSEWLLLXCMYBNJQPGCCBVQNXUQDIXMRSEXOQJBNNPOODXGUDKYGIPTFLLKWJWNDAMTQVWGILUYQTELZPJFXYBEMMOIVKXAKJTDFPLPDFOTAUEZLQFKQIOCUCMSMJSZTOEYDPPGWDCWAIWLYDWRLMTHPGBDRUEKKIINXYWTDYSFGQRHTPYGDTPUBRYTNEDXNOMMOIITICZRSSYNJYVMTKHXDHSQLXPALCPBKZXVBWMTQMGZKDLFNUCRBUJPSZRFDIHPHGKKCWFSINTUQGAEBCXEZIVRJPYMXHEHNORRNXJXMESDLUJOYGUXQQQCHPOEWUNMLHDYGPXSTRVGLEUMMRLDJCFQTVWRSKDDRHBXYAPRSLYFRURELDJUHQMALJRDTXGKGJJEKYVELVJFSBJFGUCNKONVXGBQDJCLVLPHMLLZIWECXPIFJKSTYHRYQUQVFTHAGWJUJUWSRAUQSEWDQQZRYSPOMFJRAQUJPDDYAZSTCNJUTHZKYYBYQQOEXZYYSSHHXMFZMYSQNEMGLLSLKTLCLBHLBFJTZSAYGHYUHSKUWYDKKVXWRLYCMHNNOYINSKOZSMVZGGWDGZPQWMMNXNSKWFZLGIAAUOBMCXOJFKOLLDCHPQXPFPBCWANEKNFFEGTGDJPKVDWGIAQASPPYESCCURJFEOMIWHRCRIMMMKVWKLWDCLDIDFKYWTFCJTNGAEKROWGCHBZTOVYQJBYMIKMGGTJRMYZPEJISGOVPRUIFPHXYIXNTKBZQVKHJIHYMSHFYXCNPWYWNFWOPTDIFEKVBUFLDOLPGUWHUYWLWUJKZFARBDBGHLELGLYJBJAHGZQAZNNWHWIJCIAFNBNWNRHVEFEFREPZFFBFSODCKLLOVNVKQJGFCOAHVGOONDNSLOXFCAHPNUDKJZUAKBHMRIVMOKBDPQWAFVGJWPALMEWVFQXPTFDKPZZFLCJCSFDZALLYCLMORIMWAJNWORGFSHLFJWHEBMFDZSECEQSXAEWCOJYECHMWOXBAVJGWVNBXGHZMZTJZYFEORCUTLGQCFTCAEKYCXCZDLYPLTBMTGQHZVEVGMNIUGMULWVNWZMZKMRVFSIZAAIAVOVCBIMVQZRBXMQTLEVYQOTYIDZIEJKZYHDZRQWKRNNQCEMPIJNBXJBFMCPSLCSLLXMFNIPGWCXYGLPRUDURMVYAXNTKRNWDMKICTZIRBHRKSGDMJXFXSDARTVDMIBPWMZYFYHYCOPMJVPXHMDEGIGZBBEQLGFISHGZHPXJGMVPJMMQARXIADHDHMTSUBCOIJNPYMBGAWVLLKCLBBUDGDHNRCILDKZLVODUCECECAQPKSBNVXTBCCRUEZHILJVHXYDCEFGHFWWRQZHLYAPDCIZGJGOUPKDPKGTPMZYTYWLOYUCYUTBYBAEMJVGAHMRTSKKGMIAKHNYFHCFBVJZYJFKUCTVLFMFXZPGLAGVHTVOAYTDTCEUOJEIOZFZGSEGRWMEWSZDNUTNUOSQTWKJHQTVSZVYTBEMXQQTKRYXLTMIIEYDAKMKAFFSECTZEXLBQBXASXYGRMOZROETYQDAXLVENODRNPVDSUENRETIQJJJZPFXFIZDVUHJIKCWBZBUTFHNLCXENJNMYULEFKJAFSJPEONGNPCJWLWKPTOCCDODYBHDLSDSKPIOFXWSOYDLLZVAVLCZOSCOTLRHDXZNOJETHANVBRIMSDNPQRPFKTTDFNKKMMAAVGVEGKCJBKWWQLNGCCNMYHSFWEPISRIOXFUGPWPTJNPZACHDHVRHELMASDIKXSYUXVAORSHAFYBGDJLMGCTKQHMIMUSJOTENOGBFYJIEHJMMUXYABRMTAYBNUUWKNCXDJZIHKSNTCBGYAEBEYNXYOZNKVKXIMUNVVXFFQUBUWJSWPTANJYOXZBJUNGEADRXYOCGGXHAVSTTHOWVXULWVOIPCOTCRMZSAEYHDHJAZETGTPDQLQPGFXVHNQJFCKZFQZOVGZVHEPPXGTPSLEYQDWXROIYTTXYLWOHCNCLRTAQAVGSHMSXQQXHFFFYACYMYMVCBZPVTPLVNRPUEJTWAQDFWIDYMDKKRHOSHDPCUBZHUODAXXWXNZELJJKVMWHDGVYNANRXQQELEINDHKBULHIXRUSDSCJYZHNAWEZNWDAANNEUZHRNOBKHVELPIWOIFDKBIJOEOQHCENYFWPSMSEUNLHDTDTDIWNLGYCNNSUPYJPEFHYTZFPNSWSLBNRLLEXUDBHSTDHSMYWTFWOFBEUTAOHEBYROEQIJRPBLUKDIJBDOXSTBWPUYDDEGDWVIMFTEXVPRFUCOXFFUXAVVQSUVXYCBWZJJGCPDZGXFAZVXECTEDRZVJVQGWUJUVSDCXUFYAEFCDBBKFVQKMRFXPYFLSPFOJLQIFXHICMKHPMTVHLFVDNUSLZFFOMVAZNIHNPPREZYTNUQWFYTILNCYNHFDWBDVQOCDFTUJVTFIPVHUTAFEOJEDRKGPNMKDCPHHIBTDWYOLTVINVPTLYYORKXGXLRCNIJWSLPWJNMXHHFWEUPQSPGKBDSYOLBDTMAMZPKJFWGMFNILHZDBRKNSNGRETUHNIHBIZLREJZSOMCBTBFWSPMLCUEGNAQAIXBQYOJCXIWNUYRPCWOULAHPUNYJPQMAPPQOECSDKPTHPKYRGMOTOVKKLKUCAGCQVTGBXYFJPYQFKPWQDKLSIVCVIYXIEAACVGDSFKBWKUBULYMQKXIUVNPDLNLSPMUKSZEZMHWWBZTOZFFKDPEYCWBQJOKAAGKVFQWTXSQBSJPRQWDTMKTQGUGRJSRLYBIGTFZQZRTTAJNRHQMTAGMGCUZNNQZLTJRMORDOIWJLHWEPNQKPYYYBTXOGOPTHZLUPEZFMVPZFLDWAWIQUHOXANMIBBBLCOFSSEXHBMIIYOEYMPQIWGGYUUIXXLIAANSUTRDXEOFECMEOBVWZDCZXYHVWUDWWTQROHWLLKTROFWEITBJWFIWEPRALWYIPOBEXXRLKKCARYFZTIIQNQMTHFVTBVDTLEZJDQUNDWQUXVUSDEISXWOGDLBHHECSIBBMTXBWURTTONLTTWOSUCZYNCHWJJPRMSFFQJEMCXFRMSMFOAALEBJSDSOMBFGNYNUQWYCZVJSHDEPSFRDJSODVIUKJZQYZFSRCRVBOEVYKZPCGGHQYXVVFPFQRXOSDIKHBHKQMFQWEFALLJDLIAGPSOFJNVDSDPZHXJXLOPJVULIHWLUENAVFQCQEXUWCLYJIHIVYZEVTRDCNQWTDZOJPSZVPVSUHQFRZQNZPTULNXNAPMWTLKECDFYUBSQKIYDJOQJDMFQZDEBSSXNDKRFNZFJAXCMHAPROICTWHKVMQYHIWWNGOUVPAEPXGDFISYWCCQYLCVYSUHAQDPYTJTIJZZHICOQXOPZQHABJVBDRIFJMUHFDCQNEPWMUMERAVSSCSVNQXQHHVRVPADVDTIHIGVCSBVUXOOBILPYKHISFBNUBQRGLBPUHKYBOUXNKNQUZFVJPDDUERQFJIOVJDRTORUENUTZHJUGRPSGSVAYOQFYYTVKXODNFZTVTMUDVOJMDDSXZUXNLDNLYKVXAYKGADDTRXWNMIBRLWRMQQCDTRPUCMRCLEKNHNGBLFOZNRSANLPGCRJXIYRKLLPYPZLYPTZCYPDNHVQUJFCLWMIEKCRXNIVEJICYCCCCRFQABIXKNZXLLHRYLIVASTECBHCFLFIEKAFNICZXBWIPGZNRKISCBWGFFJKSOSXASCOCGNZJMHASJNJTYDXZCGGHPRAFJZFEDTGLJIUVRVPAKYVIEVKGBQPSHPXTQCZTYFEHPBEHYTJITHTXCFFFVVXFMUADWZYWEDDWGHDECOOWVHVXMBEKWBRIVRLUQKQWPWSVDXBIMREJZZJNCNZYPQJKJUGZGXWXTQUYQVGCNMLOOWDQKFRZXALHUSGDPECKXXKNURPHFCXTZDKLIDKFDVMZPVCEBFQYEBLYUCIZHFVIIHTSKFYNAMMQJRWLYPLESZCOBKPKSKSARNVDSTQVHFNTYLGYCRCUQEIURAEJKZLEOGHJBAGLHVEFIKFLBHHUNSQESWNCXBIMHQXJSDUZAAGIKLTNSDJFVZMNWBRTCAFKSEVKHRJJRRSDCNQWQADLZPAXRSRVSYFKDCWMTFWMWOPABIWUIZFJRIHKAAFUYNGBPCQLJMXHCPHFZFZHEHSXPBHRBPLCCRFRVVEEJELLTUTSZSBFBVDSZMJADUEFNKZKFDOPHBCCXVUWQXERVJKUVTWBQBGFLFQQLGHSKKVHHRGXRKPMVBISWETOFAUQHMJSUSNGEKQMDWJUIYIDBQVYVRMCR'\n",
    "k  = 1156\n",
    "ind = [i for i in range(0,len(s)+k, k)]\n",
    "print(len(s))\n",
    "\n",
    "for i in range(k):\n",
    "    print(ind[i])\n",
    "    sub = s[ind[i]: ind[i+1]]\n",
    "    print(''.join(i for i in set(sub)))"
   ]
  },
  {
   "cell_type": "code",
   "execution_count": 71,
   "metadata": {},
   "outputs": [],
   "source": [
    "s = '1222311'\n",
    "\n",
    "c = 0\n",
    "n = 'a'\n",
    "str = ''\n",
    "for idx, i in enumerate(s):\n",
    "    if idx == 0:\n",
    "        n = i\n",
    "        c += 1\n",
    "    elif idx != 0 and idx != len(s)-1 and i == n:\n",
    "        c += 1\n",
    "    elif idx != 0 and idx != len(s)-1 and i != n:\n",
    "        str += (f'({c}, {n}) ')\n",
    "        c = 1;n = i\n",
    "    elif idx != 0 and idx == (len(s)-1) and i != n:\n",
    "        str +=(f'({c}, {n}) ')\n",
    "    elif idx != 0 and idx == (len(s)-1) and i == n:\n",
    "        str +=(f'({c+1}, {n})')"
   ]
  },
  {
   "cell_type": "code",
   "execution_count": 72,
   "metadata": {},
   "outputs": [
    {
     "data": {
      "text/plain": [
       "'(1, 1) (3, 2) (1, 3) (2, 1)'"
      ]
     },
     "execution_count": 72,
     "metadata": {},
     "output_type": "execute_result"
    }
   ],
   "source": [
    "str"
   ]
  },
  {
   "cell_type": "code",
   "execution_count": null,
   "metadata": {},
   "outputs": [],
   "source": []
  },
  {
   "cell_type": "markdown",
   "metadata": {},
   "source": [
    "# Test"
   ]
  },
  {
   "cell_type": "code",
   "execution_count": 7,
   "metadata": {},
   "outputs": [
    {
     "name": "stdout",
     "output_type": "stream",
     "text": [
      "1\n",
      "7\n"
     ]
    }
   ],
   "source": [
    "t = '12374'\n",
    "test = ['1','7','8','9']\n",
    "\n",
    "for i in t:\n",
    "    if i in test:\n",
    "        print(i)"
   ]
  },
  {
   "cell_type": "code",
   "execution_count": 13,
   "metadata": {},
   "outputs": [
    {
     "data": {
      "text/plain": [
       "4"
      ]
     },
     "execution_count": 13,
     "metadata": {},
     "output_type": "execute_result"
    }
   ],
   "source": [
    "def closedPaths(number):\n",
    "    # Write your code here\n",
    "    number = str(number)\n",
    "    counter = 0\n",
    "    one = ['0','4','6','9']\n",
    "    two = ['8']\n",
    "    for i in number:\n",
    "        if i in one:\n",
    "            counter += 1\n",
    "        elif i in two:\n",
    "            counter += 2\n",
    "    return(counter)\n",
    "\n",
    "\n",
    "a = closedPaths(6308)\n",
    "a"
   ]
  },
  {
   "cell_type": "code",
   "execution_count": null,
   "metadata": {},
   "outputs": [],
   "source": []
  },
  {
   "cell_type": "markdown",
   "metadata": {},
   "source": [
    "# October Coding"
   ]
  },
  {
   "cell_type": "code",
   "execution_count": 6,
   "metadata": {},
   "outputs": [
    {
     "name": "stdout",
     "output_type": "stream",
     "text": [
      "1\n",
      "2\n",
      "Fizz\n",
      "4\n",
      "Buzz\n",
      "Fizz\n",
      "7\n",
      "8\n",
      "Fizz\n",
      "Buzz\n",
      "11\n",
      "Fizz\n",
      "13\n",
      "14\n",
      "FizzBuzz\n",
      "16\n",
      "17\n",
      "Fizz\n",
      "19\n",
      "Buzz\n"
     ]
    }
   ],
   "source": [
    "n = 20\n",
    "for i in range(1,n+1):\n",
    "    if i % 3 == 0 and i % 5 == 0:\n",
    "        print(\"FizzBuzz\")\n",
    "    elif i % 3 == 0 and i % 5 != 0:\n",
    "        print(\"Fizz\")\n",
    "    elif i % 3 != 0 and i % 5 == 0:\n",
    "        print(\"Buzz\")\n",
    "    else:\n",
    "        print(i)"
   ]
  },
  {
   "cell_type": "code",
   "execution_count": null,
   "metadata": {},
   "outputs": [],
   "source": []
  },
  {
   "cell_type": "markdown",
   "metadata": {},
   "source": [
    "# FreeCodeCamp Coding"
   ]
  },
  {
   "cell_type": "code",
   "execution_count": 1,
   "metadata": {},
   "outputs": [
    {
     "name": "stdout",
     "output_type": "stream",
     "text": [
      "Before: None\n",
      "Loop: 3 3\n",
      "Loop: 41 3\n",
      "Loop: 12 3\n",
      "Loop: 9 3\n",
      "Loop: 74 3\n",
      "Loop: 15 3\n",
      "Smallest: 3\n"
     ]
    }
   ],
   "source": [
    "smallest = None\n",
    "print(\"Before:\", smallest)\n",
    "for itervar in [3, 41, 12, 9, 74, 15]:\n",
    "    if smallest is None or itervar < smallest:\n",
    "        smallest = itervar\n",
    "    print(\"Loop:\", itervar, smallest)\n",
    "print(\"Smallest:\", smallest)"
   ]
  },
  {
   "cell_type": "code",
   "execution_count": 3,
   "metadata": {},
   "outputs": [
    {
     "name": "stdout",
     "output_type": "stream",
     "text": [
      "2\n"
     ]
    }
   ],
   "source": [
    "word = \"bananana\"\n",
    "i = word.find(\"na\") # Find me the first Substring and give mit its index\n",
    "print(i)"
   ]
  },
  {
   "cell_type": "markdown",
   "metadata": {},
   "source": [
    "# Dictionary "
   ]
  },
  {
   "cell_type": "code",
   "execution_count": 4,
   "metadata": {},
   "outputs": [
    {
     "name": "stdout",
     "output_type": "stream",
     "text": [
      "0\n"
     ]
    }
   ],
   "source": [
    "counts = { 'quincy' : 1 , 'mrugesh' : 42, 'beau': 100, '0': 10}\n",
    "print(counts.get('kris', 0)) # Get the value of kris if it is there and if not, return 0"
   ]
  },
  {
   "cell_type": "markdown",
   "metadata": {},
   "source": [
    "# Web browser"
   ]
  },
  {
   "cell_type": "code",
   "execution_count": 5,
   "metadata": {},
   "outputs": [
    {
     "name": "stdout",
     "output_type": "stream",
     "text": [
      "HTTP/1.1 200 OK\n",
      "Date: Fri, 14 Oct 2022 09:15:33 GMT\n",
      "Server: Apache/2.4.18 (Ubuntu)\n",
      "Last-Modified: Sat, 13 May 2017 11:22:22 GMT\n",
      "ETag: \"a7-54f6609245537\"\n",
      "Accept-Ranges: bytes\n",
      "Content-Length: 167\n",
      "Cache-Control: max-age=0, no-cache, no-store, must-revalidate\n",
      "Pragma: no-cache\n",
      "Expires: Wed, 11 Jan 1984 05:00:00 GMT\n",
      "Connection: close\n",
      "Content-Type: text/plain\n",
      "\n",
      "But soft what light through yonder window breaks\n",
      "It is the east and Juliet is the sun\n",
      "Arise fair sun and kill the envious moon\n",
      "Who is already sick and pale with grief\n"
     ]
    }
   ],
   "source": [
    "import socket\n",
    "\n",
    "mysock = socket.socket(socket.AF_INET, socket.SOCK_STREAM)\n",
    "mysock.connect(('data.pr4e.org', 80))\n",
    "cmd = 'GET http://data.pr4e.org/romeo.txt HTTP/1.0\\r\\n\\r\\n'.encode()\n",
    "mysock.send(cmd)\n",
    "\n",
    "while True:\n",
    "    data = mysock.recv(512)\n",
    "    if len(data) < 1:\n",
    "        break\n",
    "    print(data.decode(),end='')\n",
    "mysock.close()"
   ]
  },
  {
   "cell_type": "code",
   "execution_count": 6,
   "metadata": {},
   "outputs": [
    {
     "name": "stdout",
     "output_type": "stream",
     "text": [
      "But soft what light through yonder window breaks\n",
      "It is the east and Juliet is the sun\n",
      "Arise fair sun and kill the envious moon\n",
      "Who is already sick and pale with grief\n"
     ]
    }
   ],
   "source": [
    "import urllib.request\n",
    "fhand = urllib.request.urlopen('http://data.pr4e.org/romeo.txt')\n",
    "for line in fhand:\n",
    "    print(line.decode().strip())"
   ]
  },
  {
   "cell_type": "code",
   "execution_count": 10,
   "metadata": {},
   "outputs": [
    {
     "data": {
      "text/plain": [
       "['__add__',\n",
       " '__class__',\n",
       " '__contains__',\n",
       " '__delattr__',\n",
       " '__delitem__',\n",
       " '__dir__',\n",
       " '__doc__',\n",
       " '__eq__',\n",
       " '__format__',\n",
       " '__ge__',\n",
       " '__getattribute__',\n",
       " '__getitem__',\n",
       " '__gt__',\n",
       " '__hash__',\n",
       " '__iadd__',\n",
       " '__imul__',\n",
       " '__init__',\n",
       " '__init_subclass__',\n",
       " '__iter__',\n",
       " '__le__',\n",
       " '__len__',\n",
       " '__lt__',\n",
       " '__mul__',\n",
       " '__ne__',\n",
       " '__new__',\n",
       " '__reduce__',\n",
       " '__reduce_ex__',\n",
       " '__repr__',\n",
       " '__reversed__',\n",
       " '__rmul__',\n",
       " '__setattr__',\n",
       " '__setitem__',\n",
       " '__sizeof__',\n",
       " '__str__',\n",
       " '__subclasshook__',\n",
       " 'append',\n",
       " 'clear',\n",
       " 'copy',\n",
       " 'count',\n",
       " 'extend',\n",
       " 'index',\n",
       " 'insert',\n",
       " 'pop',\n",
       " 'remove',\n",
       " 'reverse',\n",
       " 'sort']"
      ]
     },
     "execution_count": 10,
     "metadata": {},
     "output_type": "execute_result"
    }
   ],
   "source": [
    "x = list()\n",
    "dir(x)"
   ]
  },
  {
   "cell_type": "code",
   "execution_count": null,
   "metadata": {},
   "outputs": [],
   "source": []
  },
  {
   "cell_type": "markdown",
   "metadata": {},
   "source": [
    "# FreeCodeCamp Challenge 1"
   ]
  },
  {
   "cell_type": "markdown",
   "metadata": {},
   "source": [
    "## Variant 1"
   ]
  },
  {
   "cell_type": "code",
   "execution_count": 2,
   "metadata": {},
   "outputs": [
    {
     "name": "stdout",
     "output_type": "stream",
     "text": [
      "String successfully transformed into int.\n",
      "It continues.\n"
     ]
    }
   ],
   "source": [
    "x = \"1\"\n",
    "\n",
    "try:\n",
    "  x = int(x)\n",
    "  print(\"String successfully transformed into int.\")\n",
    "except ValueError:\n",
    "  raise ValueError(\"Only integers are allowed\")\n",
    "\n",
    "# if not type(x) is int:\n",
    "#   raise TypeError(\"Only integers are allowed\")\n",
    "\n",
    "print(\"It continues.\")"
   ]
  },
  {
   "cell_type": "code",
   "execution_count": 3,
   "metadata": {},
   "outputs": [],
   "source": [
    "problems = [\"32 + 698\", \"3801 - 2\", \"45 + 43\", \"123 + 49\"]\n",
    "\n",
    "def get_int(x):\n",
    "    try:\n",
    "        x = int(x)\n",
    "    except ValueError:\n",
    "        raise ValueError(\"Only integers are allowed\")\n",
    "    return x"
   ]
  },
  {
   "cell_type": "code",
   "execution_count": 190,
   "metadata": {},
   "outputs": [],
   "source": [
    "def arithmetic_arranger(problems, calc):\n",
    "    if len(problems) > 5:\n",
    "        print(\"Too many calculations!\")\n",
    "    \n",
    "    e1 = []; e2 = []; e3 = [];res = []\n",
    "\n",
    "    for idx, i in enumerate(problems):\n",
    "        sub_list = i.split()\n",
    "        if len(sub_list[0]) > 4 or len(sub_list[2]) > 4:\n",
    "            print(\"Number too big\")\n",
    "        elif sub_list[1] != \"+\" and sub_list[1] != \"-\":\n",
    "            print(\"Only + or - are allowed.\")\n",
    "        else:\n",
    "            e1.append(get_int(sub_list[0]));e2.append(sub_list[1]);e3.append(get_int(sub_list[2]))\n",
    "            if calc:\n",
    "                if e2[idx] == \"+\":\n",
    "                    res.append(e1[idx] + e3[idx])\n",
    "                else:\n",
    "                    res.append(e1[idx] - e3[idx])\n",
    "        \n",
    "    print(e1)\n",
    "    print(e2)\n",
    "    print(e3)\n",
    "    print(res)\n",
    "\n",
    "    blocks = []\n",
    "\n",
    "    for idx, i  in enumerate(e1):\n",
    "        if calc:\n",
    "            empty_string = \"      \" # 6 spaces\n",
    "            upper_string = empty_string[:(len(empty_string) - len(str(i)))] + str(i)\n",
    "            lower_string = empty_string[:(len(empty_string) - len(str(e3[idx])))] + str(e3[idx])\n",
    "            lower_string = e2[idx] + lower_string[1:]\n",
    "            res_string = empty_string = empty_string[:(len(empty_string) - len(str(res[idx])))] + str(res[idx])\n",
    "            final_string = upper_string + \"\\n\" + lower_string + \"\\n\" + \"------\" + \"\\n\" + res_string\n",
    "            blocks.append(final_string)\n",
    "        else: \n",
    "            empty_string = \"      \" # 6 spaces\n",
    "            upper_string = empty_string[:(len(empty_string) - len(str(i)))] + str(i)\n",
    "            lower_string = empty_string[:(len(empty_string) - len(str(e3[idx])))] + str(e3[idx])\n",
    "            lower_string = e2[idx] + lower_string[1:]\n",
    "            final_string = upper_string + \"\\n\" + lower_string + \"\\n\" + \"------\"\n",
    "            blocks.append(final_string)\n",
    "    \n",
    "    arranged_problems = \"\"\n",
    "    for i in blocks:\n",
    "        arranged_problems = arranged_problems + i + \"    \"\n",
    "    \n",
    "    print(type(arranged_problems))\n",
    "    return arranged_problems # in the end"
   ]
  },
  {
   "cell_type": "code",
   "execution_count": 191,
   "metadata": {},
   "outputs": [
    {
     "name": "stdout",
     "output_type": "stream",
     "text": [
      "[32, 3801, 45, 123]\n",
      "['+', '-', '+', '+']\n",
      "[698, 2, 43, 49]\n",
      "[730, 3799, 88, 172]\n",
      "<class 'str'>\n"
     ]
    }
   ],
   "source": [
    "final_solution = arithmetic_arranger(problems, calc = True)"
   ]
  },
  {
   "cell_type": "code",
   "execution_count": 192,
   "metadata": {},
   "outputs": [
    {
     "name": "stdout",
     "output_type": "stream",
     "text": [
      "    32\n",
      "+  698\n",
      "------\n",
      "   730      3801\n",
      "-    2\n",
      "------\n",
      "  3799        45\n",
      "+   43\n",
      "------\n",
      "    88       123\n",
      "+   49\n",
      "------\n",
      "   172    \n"
     ]
    }
   ],
   "source": [
    "print(final_solution)"
   ]
  },
  {
   "cell_type": "code",
   "execution_count": null,
   "metadata": {},
   "outputs": [],
   "source": []
  },
  {
   "cell_type": "markdown",
   "metadata": {},
   "source": [
    "## Variant 2"
   ]
  },
  {
   "cell_type": "code",
   "execution_count": 28,
   "metadata": {},
   "outputs": [],
   "source": [
    "# p = [\"3801 - 2\", \"123 + 49\"]\n",
    "# p1 = [['1 + 2', '1 - 9380']]\n",
    "# print(p1[0])"
   ]
  },
  {
   "cell_type": "code",
   "execution_count": 69,
   "metadata": {},
   "outputs": [],
   "source": [
    "problems = [\"32 + 698\", \"3801 - 2\", \"45 + 43\", \"123 + 49\"]\n",
    "\n",
    "def get_int(x):\n",
    "    try:\n",
    "        x = int(x)\n",
    "    except ValueError:\n",
    "        x = \"No\"\n",
    "    return x\n",
    "\n",
    "def arithmetic_arranger(problems, calc = False):\n",
    "    ok = True\n",
    "    if len(problems) > 5:\n",
    "        arranged_problems = \"Error: Too many problems.\"\n",
    "        ok = False\n",
    "    \n",
    "    e1 = []; e2 = []; e3 = [];res = [];length = []\n",
    "\n",
    "    if ok:\n",
    "        for idx, i in enumerate(problems):\n",
    "            sub_list = i.split()\n",
    "            if len(sub_list[0]) > 4 or len(sub_list[2]) > 4:\n",
    "                arranged_problems = \"Error: Numbers cannot be more than four digits.\"\n",
    "                ok = False\n",
    "                break\n",
    "            elif sub_list[1] != \"+\" and sub_list[1] != \"-\":\n",
    "                arranged_problems = \"Error: Operator must be '+' or '-'.\"\n",
    "                ok = False\n",
    "                break\n",
    "            else:\n",
    "                if isinstance(get_int(sub_list[0]), int) and isinstance(get_int(sub_list[2]), int):\n",
    "                    e1.append(get_int(sub_list[0]));e2.append(sub_list[1]);e3.append(get_int(sub_list[2]))\n",
    "                else:\n",
    "                    arranged_problems = \"Error: Numbers must only contain digits.\"\n",
    "                    ok = False\n",
    "                if calc:\n",
    "                    if e2[idx] == \"+\":\n",
    "                        res.append(e1[idx] + e3[idx])\n",
    "                    else:\n",
    "                        res.append(e1[idx] - e3[idx])\n",
    "        \n",
    "    if ok:\n",
    "        for id, i in enumerate(e1):\n",
    "            one = len(str(i));two = len(str(e3[id]))\n",
    "            length.append(max(one, two))\n",
    "\n",
    "        upper_line = \"\";lower_line = \"\";dash_line = \"\";res_line = \"\"\n",
    "\n",
    "        for idx, i  in enumerate(e1):\n",
    "            if calc:\n",
    "                empty_string = (length[idx] + 2) * \" \" # biggest number + 2 spaces for sign & space\n",
    "                upper_string = empty_string[:(len(empty_string) - len(str(i)))] + str(e1[idx])\n",
    "                lower_string = empty_string[:(len(empty_string) - len(str(e3[idx])))] + str(e3[idx])\n",
    "                lower_string = e2[idx] + lower_string[1:]\n",
    "                dash_string = (length[idx] + 2) * \"-\"\n",
    "                res_string = empty_string[:(len(empty_string) - len(str(res[idx])))] + str(res[idx])\n",
    "                if idx != (len(length)-1):\n",
    "                    upper_line = upper_line + upper_string + 4 * \" \"\n",
    "                    lower_line = lower_line + lower_string + 4 * \" \"\n",
    "                    dash_line = dash_line + dash_string + 4 * \" \"\n",
    "                    res_line = res_line + res_string + 4 * \" \"\n",
    "                else:\n",
    "                    upper_line = upper_line + upper_string \n",
    "                    lower_line = lower_line + lower_string\n",
    "                    dash_line = dash_line + dash_string\n",
    "                    res_line = res_line + res_string\n",
    "            else: \n",
    "                empty_string = (length[idx] + 2) * \" \" # biggest number + 2 spaces for sign & space\n",
    "                upper_string = empty_string[:(len(empty_string) - len(str(i)))] + str(e1[idx])\n",
    "                lower_string = empty_string[:(len(empty_string) - len(str(e3[idx])))] + str(e3[idx])\n",
    "                lower_string = e2[idx] + lower_string[1:]\n",
    "                dash_string = (length[idx] + 2) * \"-\"\n",
    "                if idx != (len(length)-1):\n",
    "                    upper_line = upper_line + upper_string + 4 * \" \"\n",
    "                    lower_line = lower_line + lower_string + 4 * \" \"\n",
    "                    dash_line = dash_line + dash_string + 4 * \" \"\n",
    "                else:\n",
    "                    upper_line = upper_line + upper_string \n",
    "                    lower_line = lower_line + lower_string\n",
    "                    dash_line = dash_line + dash_string\n",
    "\n",
    "        if calc:\n",
    "            arranged_problems = \"\" + upper_line + \"\\n\" + lower_line + \"\\n\" + dash_line + \"\\n\" + res_line\n",
    "        else:\n",
    "            arranged_problems = \"\" + upper_line + \"\\n\" + lower_line + \"\\n\" + dash_line \n",
    "    \n",
    "    return arranged_problems"
   ]
  },
  {
   "cell_type": "code",
   "execution_count": 70,
   "metadata": {},
   "outputs": [
    {
     "name": "stdout",
     "output_type": "stream",
     "text": [
      "   32      3801      45      123\n",
      "+ 698    -    2    + 43    +  49\n",
      "-----    ------    ----    -----\n",
      "  730      3799      88      172\n"
     ]
    }
   ],
   "source": [
    "my_solution = arithmetic_arranger(problems, True)\n",
    "print(my_solution)"
   ]
  },
  {
   "cell_type": "code",
   "execution_count": 71,
   "metadata": {},
   "outputs": [
    {
     "name": "stdout",
     "output_type": "stream",
     "text": [
      "  32         1      9999      523\n",
      "+  8    - 3801    + 9999    -  49\n",
      "----    ------    ------    -----\n",
      "  40     -3800     19998      474\n"
     ]
    }
   ],
   "source": [
    "my_solution = arithmetic_arranger([\"32 + 8\", \"1 - 3801\", \"9999 + 9999\", \"523 - 49\"], True)\n",
    "print(my_solution)"
   ]
  },
  {
   "cell_type": "code",
   "execution_count": null,
   "metadata": {},
   "outputs": [],
   "source": []
  },
  {
   "cell_type": "markdown",
   "metadata": {},
   "source": [
    "# Challenge 2"
   ]
  },
  {
   "cell_type": "markdown",
   "metadata": {},
   "source": [
    "# First Approach"
   ]
  },
  {
   "cell_type": "code",
   "execution_count": 219,
   "metadata": {},
   "outputs": [],
   "source": [
    "def hour_to_day(hours):\n",
    "    \"\"\"Transforming the given additional time into days, hours and minutes - returns a dictionnary\"\"\"\n",
    "    hour=int(hours.split(\":\")[0]);m = int(hours.split(\":\")[1])\n",
    "    days = hour // 24\n",
    "    new_hours = int(hour) - (days * 24)\n",
    "    return {\"day\": days, \"hour\": new_hours, \"minutes\": m}\n",
    "\n",
    "def add_time(start, duration, extra = None):\n",
    "    ampm = start.split()[1]\n",
    "    start = [int(i) for i in start.split()[0].split(\":\")]\n",
    "    duration = [int(i) for i in duration.split()[0].split(\":\")]\n",
    "    \n",
    "    new_hour = start[0] + duration[0];new_min = start[1] + duration[1]\n",
    "\n",
    "\n",
    "    new_time = str(new_hour) + \":\" + str(new_min) + \" \" + ampm\n",
    "    return new_time"
   ]
  },
  {
   "cell_type": "markdown",
   "metadata": {},
   "source": [
    "# Second Approach"
   ]
  },
  {
   "cell_type": "code",
   "execution_count": 60,
   "metadata": {},
   "outputs": [],
   "source": [
    "\n",
    "\n",
    "from hashlib import new\n",
    "\n",
    "\n",
    "def hour_to_day(hours):\n",
    "    \"\"\"Transforming the given additional time into days, hours and minutes - returns a dictionnary\"\"\"\n",
    "    hour=int(hours.split(\":\")[0]);m = int(hours.split(\":\")[1])\n",
    "    days = hour // 24\n",
    "    new_hours = int(hour) - (days * 24)\n",
    "    return {\"day\": days, \"hour\": new_hours, \"minutes\": m}\n",
    "\n",
    "\n",
    "def time_calculator(start_dic, ampm, dur_dic):\n",
    "    new_day = start_dic[\"day\"] + dur_dic[\"day\"]\n",
    "    new_hour = start_dic[\"hour\"] + dur_dic[\"hour\"]\n",
    "    new_min = start_dic[\"minutes\"] + dur_dic[\"minutes\"]\n",
    "\n",
    "    if new_hour >= 24:\n",
    "        new_day += 1;new_hour -= 24\n",
    "\n",
    "    if new_min >= 60: # Ensure that the minutes are transformed correctly\n",
    "        new_hour += 1;new_min -= 60\n",
    "    \n",
    "\n",
    "    if new_day == 0 and new_hour < 12: # Simplest case - no change of AM PM\n",
    "        if new_min < 10:\n",
    "            calculated_time = f\"{new_hour}:0{new_min} {ampm}\"\n",
    "        else:\n",
    "            calculated_time = f\"{new_hour}:{new_min} {ampm}\"\n",
    "\n",
    "        \n",
    "\n",
    "    elif new_day >= 1 and new_hour < 12:\n",
    "        if ampm == \"PM\":\n",
    "            if new_min < 10:\n",
    "                calculated_time = f\"{new_hour}:0{new_min} AM\"\n",
    "                ampm = \"AM\"\n",
    "            else:\n",
    "                calculated_time = f\"{new_hour}:{new_min} AM\"\n",
    "                ampm = \"AM\"\n",
    "        else: \n",
    "            if new_min < 10:\n",
    "                calculated_time = f\"{new_hour}:0{new_min} PM\"\n",
    "                ampm = \"PM\"\n",
    "            else:\n",
    "                calculated_time = f\"{new_hour}:{new_min} PM\"\n",
    "                ampm = \"PM\"\n",
    "    \n",
    "    elif new_hour >= 12 and new_day == 0: # That only indicates a am pm change\n",
    "        rest = new_hour - 12\n",
    "        if rest == 0:\n",
    "            if ampm == \"PM\": # If the change falls 1 hour after 12\n",
    "                if new_min < 10:\n",
    "                    calculated_time = f\"{new_hour}:0{new_min} AM\"\n",
    "                    ampm = \"AM\"\n",
    "                else:\n",
    "                    calculated_time = f\"{new_hour}:{new_min} AM\"\n",
    "                    ampm = \"AM\"\n",
    "            elif ampm == \"AM\":\n",
    "                if new_min < 10:\n",
    "                    calculated_time = f\"{new_hour}:0{new_min} PM\"\n",
    "                    ampm = \"PM\"\n",
    "                else:\n",
    "                    calculated_time = f\"{new_hour}:{new_min} PM\"\n",
    "                    ampm = \"PM\"\n",
    "        elif rest <= 12: # For greater changes\n",
    "            if ampm == \"PM\":\n",
    "                if new_min < 10:\n",
    "                    # calculated_time = f\"{rest}:0{new_min} AM (next day)\"\n",
    "                    calculated_time = f\"{rest}:0{new_min} AM\"\n",
    "                    new_day += 1\n",
    "                    ampm = \"AM\"\n",
    "                else:\n",
    "                    # calculated_time = f\"{rest}:{new_min} AM (next day)\"\n",
    "                    calculated_time = f\"{rest}:{new_min} AM\"\n",
    "                    new_day += 1\n",
    "                    ampm = \"AM\"\n",
    "            elif ampm == \"AM\":\n",
    "                if new_min < 10:\n",
    "                    calculated_time = f\"{rest}:0{new_min} PM\"\n",
    "                    ampm = \"PM\"\n",
    "                else:\n",
    "                    calculated_time = f\"{rest}:{new_min} PM\"\n",
    "                    ampm = \"PM\"\n",
    "    \n",
    "    #### A lot of new days\n",
    "\n",
    "    elif new_hour >= 12 and new_day >= 1: # That only indicates a am pm change\n",
    "        rest = new_hour - 12\n",
    "        if rest == 0:\n",
    "            if ampm == \"PM\": # If the change falls 1 hour after 12\n",
    "                if new_min < 10:\n",
    "                    calculated_time = f\"{new_hour}:0{new_min} AM\"\n",
    "                    ampm = \"AM\"\n",
    "                else:\n",
    "                    calculated_time = f\"{new_hour}:{new_min} AM\"\n",
    "                    ampm = \"AM\"\n",
    "            elif ampm == \"AM\":\n",
    "                if new_min < 10:\n",
    "                    calculated_time = f\"{new_hour}:0{new_min} PM\"\n",
    "                    ampm = \"PM\"\n",
    "                else:\n",
    "                    calculated_time = f\"{new_hour}:{new_min} PM\"\n",
    "                    ampm = \"PM\"\n",
    "        elif rest <= 12: # For greater changes\n",
    "            if ampm == \"PM\":\n",
    "                if new_min < 10:\n",
    "                    # calculated_time = f\"{rest}:0{new_min} AM ({new_day + 1} days later)\"\n",
    "                    calculated_time = f\"{rest}:0{new_min} AM)\"\n",
    "                    new_day += 1\n",
    "                    ampm = \"AM\"\n",
    "                else:\n",
    "                    # calculated_time = f\"{rest}:{new_min} AM ({new_day + 1} days later)\"\n",
    "                    calculated_time = f\"{rest}:{new_min} AM\"\n",
    "                    new_day += 1\n",
    "                    ampm = \"AM\"\n",
    "            elif ampm == \"AM\":\n",
    "                if new_min < 10:\n",
    "                    calculated_time = f\"{rest}:0{new_min} PM\"\n",
    "                    ampm = \"PM\"\n",
    "                else:\n",
    "                    calculated_time = f\"{rest}:{new_min} PM\" \n",
    "                    ampm = \"PM\"\n",
    "\n",
    "    return calculated_time, new_day, new_hour, ampm\n",
    "\n",
    "def get_weekdays(string, days, hour, ampm):\n",
    "    string = string.capitalize()\n",
    "    days_small = [\"Monday\", \"Tuesday\", \"Wednesday\", \"Thursday\", \"Friday\", \"Saturday\", \"Sunday\"]\n",
    "\n",
    "    if hour >= 12:\n",
    "        hour -= 12;days += 1\n",
    "    \n",
    "\n",
    "    if string in days_small:\n",
    "        ind = days_small.index(string)\n",
    "        new_ind = ind + days\n",
    "        if new_ind <= 6:\n",
    "            if hour == 12 and ampm == \"AM\": \n",
    "                days += 1\n",
    "                weekday = days_small[new_ind + 1]\n",
    "            elif hour == 12 and ampm == \"PM\":\n",
    "                weekday = days_small[new_ind + 1]\n",
    "            else:\n",
    "                weekday = days_small[new_ind]\n",
    "        else:\n",
    "            indicator_1 = days // 7\n",
    "            indicator_2 = days % 7\n",
    "\n",
    "            if indicator_1 == 0:\n",
    "                sub_stract = len(days_small) - ind\n",
    "                weekday = days_small[sub_stract]\n",
    "            else:\n",
    "                new_ind = ind + indicator_2\n",
    "                if new_ind <= 6:\n",
    "                    weekday = days_small[new_ind]\n",
    "                else:\n",
    "                    new_ind -= 7\n",
    "                    weekday = days_small[new_ind]\n",
    "\n",
    "    return weekday, days\n",
    "    \n",
    "\n",
    "\n",
    "def add_time(start, duration, extra = \"\"):\n",
    "    ampm = start.split()[1]\n",
    "    start_comps = start.split()[0]\n",
    "    start_dic = hour_to_day(start_comps)\n",
    "    dur_dic = hour_to_day(duration)\n",
    "\n",
    "    if extra == \"\":\n",
    "        calculated_time, new_day, new_hour, ampm = time_calculator(start_dic, ampm, dur_dic)\n",
    "        print(\"cal time:\", calculated_time, new_day, new_hour, ampm)\n",
    "        if new_day == 1:\n",
    "            calculated_time = calculated_time + (\" (next day)\")\n",
    "    else:\n",
    "        calculated_time, new_day, new_hour, ampm = time_calculator(start_dic, ampm, dur_dic)\n",
    "        print(\"Analysis:\", calculated_time, new_day, new_hour, ampm, extra) \n",
    "        weekday, days = get_weekdays(extra, new_day, new_hour, ampm)\n",
    "        print(\"weekday is\", weekday, \"with days later:\", days)\n",
    "        print(calculated_time, new_day, new_hour)\n",
    "        if new_day == 1:\n",
    "            calculated_time = calculated_time + f\" {weekday} (next day)\"\n",
    "        elif new_day > 1:\n",
    "            calculated_time = calculated_time + f\", {weekday} ({new_day} days later)\"\n",
    "        \n",
    "\n",
    "    new_time = calculated_time\n",
    "    return new_time"
   ]
  },
  {
   "cell_type": "code",
   "execution_count": 61,
   "metadata": {},
   "outputs": [
    {
     "name": "stdout",
     "output_type": "stream",
     "text": [
      "Analysis: 6:18 AM 20 18 AM tuesday\n",
      "weekday is Tuesday with days later: 21\n",
      "6:18 AM 20 18\n"
     ]
    },
    {
     "data": {
      "text/plain": [
       "'6:18 AM, Tuesday (20 days later)'"
      ]
     },
     "execution_count": 61,
     "metadata": {},
     "output_type": "execute_result"
    }
   ],
   "source": [
    "add_time(\"8:16 PM\", \"466:02\", \"tuesday\")\n",
    "#  \"6:18 AM, Monday (20 days later)\""
   ]
  },
  {
   "cell_type": "code",
   "execution_count": 45,
   "metadata": {},
   "outputs": [
    {
     "name": "stdout",
     "output_type": "stream",
     "text": [
      "cal time: 5:00 AM 1 5 AM\n"
     ]
    },
    {
     "data": {
      "text/plain": [
       "'5:00 AM (next day)'"
      ]
     },
     "execution_count": 45,
     "metadata": {},
     "output_type": "execute_result"
    }
   ],
   "source": [
    "add_time(\"11:30 PM\", \"17:30\")"
   ]
  },
  {
   "cell_type": "code",
   "execution_count": 46,
   "metadata": {},
   "outputs": [
    {
     "name": "stdout",
     "output_type": "stream",
     "text": [
      "cal time: 6:10 PM 0 6 PM\n"
     ]
    },
    {
     "data": {
      "text/plain": [
       "'6:10 PM'"
      ]
     },
     "execution_count": 46,
     "metadata": {},
     "output_type": "execute_result"
    }
   ],
   "source": [
    "add_time(\"3:00 PM\", \"3:10\")\n",
    "# Returns: 6:10 PM"
   ]
  },
  {
   "cell_type": "code",
   "execution_count": 47,
   "metadata": {},
   "outputs": [
    {
     "name": "stdout",
     "output_type": "stream",
     "text": [
      "Analysis: 2:02 PM 0 14 PM Monday\n",
      "weekday is Tuesday with days later: 1\n"
     ]
    },
    {
     "data": {
      "text/plain": [
       "'2:02 PM'"
      ]
     },
     "execution_count": 47,
     "metadata": {},
     "output_type": "execute_result"
    }
   ],
   "source": [
    "add_time(\"11:30 AM\", \"2:32\", \"Monday\")\n",
    "# Returns: 2:02 PM, Monday"
   ]
  },
  {
   "cell_type": "code",
   "execution_count": 48,
   "metadata": {},
   "outputs": [
    {
     "name": "stdout",
     "output_type": "stream",
     "text": [
      "cal time: 12:03 PM 0 12 PM\n"
     ]
    },
    {
     "data": {
      "text/plain": [
       "'12:03 PM'"
      ]
     },
     "execution_count": 48,
     "metadata": {},
     "output_type": "execute_result"
    }
   ],
   "source": [
    "add_time(\"11:43 AM\", \"00:20\")\n",
    "# Returns: 12:03 PM"
   ]
  },
  {
   "cell_type": "code",
   "execution_count": 49,
   "metadata": {},
   "outputs": [
    {
     "name": "stdout",
     "output_type": "stream",
     "text": [
      "cal time: 1:40 AM 1 13 AM\n"
     ]
    },
    {
     "data": {
      "text/plain": [
       "'1:40 AM (next day)'"
      ]
     },
     "execution_count": 49,
     "metadata": {},
     "output_type": "execute_result"
    }
   ],
   "source": [
    "add_time(\"10:10 PM\", \"3:30\")\n",
    "# Returns: 1:40 AM (next day)"
   ]
  },
  {
   "cell_type": "code",
   "execution_count": null,
   "metadata": {},
   "outputs": [],
   "source": []
  },
  {
   "cell_type": "code",
   "execution_count": null,
   "metadata": {},
   "outputs": [],
   "source": []
  },
  {
   "cell_type": "code",
   "execution_count": null,
   "metadata": {},
   "outputs": [],
   "source": []
  },
  {
   "cell_type": "code",
   "execution_count": null,
   "metadata": {},
   "outputs": [],
   "source": []
  },
  {
   "cell_type": "code",
   "execution_count": 42,
   "metadata": {},
   "outputs": [
    {
     "name": "stdout",
     "output_type": "stream",
     "text": [
      "1 12 3 PM\n",
      "12:03 AM 1 12 AM\n",
      "Analysis: 12:03 AM 1 12 AM tueSday\n",
      "weekday is Thursday with days later: 2\n"
     ]
    },
    {
     "data": {
      "text/plain": [
       "'12:03 AM'"
      ]
     },
     "execution_count": 42,
     "metadata": {},
     "output_type": "execute_result"
    }
   ],
   "source": [
    "add_time(\"11:43 PM\", \"24:20\", \"tueSday\")\n",
    "# Returns: 12:03 AM, Thursday (2 days later)"
   ]
  },
  {
   "cell_type": "code",
   "execution_count": 54,
   "metadata": {},
   "outputs": [
    {
     "data": {
      "text/plain": [
       "'7:42 AM (9 days later)'"
      ]
     },
     "execution_count": 54,
     "metadata": {},
     "output_type": "execute_result"
    }
   ],
   "source": [
    "add_time(\"6:30 PM\", \"205:12\")\n",
    "# Returns: 7:42 AM (9 days later)"
   ]
  },
  {
   "cell_type": "code",
   "execution_count": 55,
   "metadata": {},
   "outputs": [
    {
     "name": "stdout",
     "output_type": "stream",
     "text": [
      "Analysis: 6:18 AM (20 days later) 19 18 AM tuesday\n",
      "weekday is Monday with days later: 20\n"
     ]
    },
    {
     "data": {
      "text/plain": [
       "'6:18 AM (20 days later)'"
      ]
     },
     "execution_count": 55,
     "metadata": {},
     "output_type": "execute_result"
    }
   ],
   "source": [
    "add_time(\"8:16 PM\", \"466:02\", \"tuesday\")"
   ]
  },
  {
   "cell_type": "code",
   "execution_count": 56,
   "metadata": {},
   "outputs": [
    {
     "name": "stdout",
     "output_type": "stream",
     "text": [
      "2\n",
      "6\n"
     ]
    }
   ],
   "source": [
    "print(20 // 7)\n",
    "print(20 % 7)"
   ]
  },
  {
   "cell_type": "code",
   "execution_count": 45,
   "metadata": {},
   "outputs": [
    {
     "data": {
      "text/plain": [
       "19.416666666666668"
      ]
     },
     "execution_count": 45,
     "metadata": {},
     "output_type": "execute_result"
    }
   ],
   "source": [
    "466 / 24"
   ]
  },
  {
   "cell_type": "code",
   "execution_count": null,
   "metadata": {},
   "outputs": [],
   "source": []
  },
  {
   "cell_type": "code",
   "execution_count": null,
   "metadata": {},
   "outputs": [],
   "source": []
  },
  {
   "cell_type": "code",
   "execution_count": null,
   "metadata": {},
   "outputs": [],
   "source": []
  }
 ],
 "metadata": {
  "kernelspec": {
   "display_name": "Python 3.7.13 ('MasterThesis')",
   "language": "python",
   "name": "python3"
  },
  "language_info": {
   "codemirror_mode": {
    "name": "ipython",
    "version": 3
   },
   "file_extension": ".py",
   "mimetype": "text/x-python",
   "name": "python",
   "nbconvert_exporter": "python",
   "pygments_lexer": "ipython3",
   "version": "3.7.13"
  },
  "orig_nbformat": 4,
  "vscode": {
   "interpreter": {
    "hash": "06b0d7cc3ff6be5802ae025fed16569565f330a28b5df50b09d05391387a3b66"
   }
  }
 },
 "nbformat": 4,
 "nbformat_minor": 2
}
