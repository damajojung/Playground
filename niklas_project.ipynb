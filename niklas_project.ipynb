{
 "cells": [
  {
   "cell_type": "code",
   "execution_count": null,
   "metadata": {},
   "outputs": [],
   "source": []
  },
  {
   "cell_type": "code",
   "execution_count": 5,
   "metadata": {},
   "outputs": [],
   "source": [
    "import requests\n",
    "from bs4 import BeautifulSoup\n",
    "import subprocess\n",
    "import os"
   ]
  },
  {
   "cell_type": "code",
   "execution_count": 6,
   "metadata": {},
   "outputs": [
    {
     "name": "stderr",
     "output_type": "stream",
     "text": [
      "Screenshot of 'https://en.wikipedia.org/wiki/Lion' written to 'screenshot1.png'\n"
     ]
    },
    {
     "name": "stdout",
     "output_type": "stream",
     "text": [
      "Failed to compare images due to Command '['compare', 'screenshot1.png', 'screenshot2.png', 'difference.png']' returned non-zero exit status 2.\n",
      "Screenshots taken and comparison done. Check the difference image.\n"
     ]
    },
    {
     "name": "stderr",
     "output_type": "stream",
     "text": [
      "Screenshot of 'https://en.wikipedia.org/wiki/Tiger' written to 'screenshot2.png'\n",
      "compare: no decode delegate for this image format `PNG' @ error/constitute.c/ReadImage/746.\n"
     ]
    }
   ],
   "source": [
    "\n",
    "def scrape_website(url):\n",
    "    try:\n",
    "        # Send a GET request to the URL\n",
    "        response = requests.get(url)\n",
    "        # Parse the HTML content\n",
    "        soup = BeautifulSoup(response.text, 'html.parser')\n",
    "        # Extract and print all the URLs\n",
    "        for link in soup.find_all('a'):\n",
    "            print(link.get('href'))\n",
    "    except Exception as e:\n",
    "        print(f\"Failed to scrape {url} due to {e}\")\n",
    "\n",
    "def take_screenshot(url, filename):\n",
    "    try:\n",
    "        # Using subprocess to call shot-scraper command\n",
    "        subprocess.run(['shot-scraper', url, '--output', filename], check=True)\n",
    "    except Exception as e:\n",
    "        print(f\"Failed to take screenshot of {url} due to {e}\")\n",
    "\n",
    "def compare_screenshots(image1, image2, diff_image):\n",
    "    try:\n",
    "        # Using ImageMagick's compare tool\n",
    "        subprocess.run(['compare', image1, image2, diff_image], check=True)\n",
    "    except Exception as e:\n",
    "        print(f\"Failed to compare images due to {e}\")\n",
    "\n",
    "# URLs of the websites to scrape and take screenshots\n",
    "url1 = 'https://en.wikipedia.org/wiki/Lion'\n",
    "url2 = 'https://en.wikipedia.org/wiki/Tiger'\n",
    "\n",
    "# Take screenshots\n",
    "screenshot1 = 'screenshot1.png'\n",
    "screenshot2 = 'screenshot2.png'\n",
    "take_screenshot(url1, screenshot1)\n",
    "take_screenshot(url2, screenshot2)\n",
    "\n",
    "# Compare the screenshots\n",
    "diff_image = 'difference.png'\n",
    "compare_screenshots(screenshot1, screenshot2, diff_image)\n",
    "\n",
    "print(\"Screenshots taken and comparison done. Check the difference image.\")"
   ]
  },
  {
   "cell_type": "code",
   "execution_count": null,
   "metadata": {},
   "outputs": [],
   "source": []
  },
  {
   "cell_type": "code",
   "execution_count": null,
   "metadata": {},
   "outputs": [],
   "source": []
  }
 ],
 "metadata": {
  "kernelspec": {
   "display_name": "playground",
   "language": "python",
   "name": "python3"
  },
  "language_info": {
   "codemirror_mode": {
    "name": "ipython",
    "version": 3
   },
   "file_extension": ".py",
   "mimetype": "text/x-python",
   "name": "python",
   "nbconvert_exporter": "python",
   "pygments_lexer": "ipython3",
   "version": "3.9.18"
  }
 },
 "nbformat": 4,
 "nbformat_minor": 2
}
