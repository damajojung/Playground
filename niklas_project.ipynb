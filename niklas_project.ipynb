{
 "cells": [
  {
   "cell_type": "code",
   "execution_count": null,
   "metadata": {},
   "outputs": [],
   "source": []
  },
  {
   "cell_type": "code",
   "execution_count": null,
   "metadata": {},
   "outputs": [],
   "source": [
    "import requests\n",
    "from bs4 import BeautifulSoup\n",
    "import subprocess\n",
    "import os"
   ]
  },
  {
   "cell_type": "code",
   "execution_count": null,
   "metadata": {},
   "outputs": [],
   "source": [
    "\n",
    "\n",
    "def scrape_website(url):\n",
    "    try:\n",
    "        # Send a GET request to the URL\n",
    "        response = requests.get(url)\n",
    "        # Parse the HTML content\n",
    "        soup = BeautifulSoup(response.text, 'html.parser')\n",
    "        # Extract and print all the URLs\n",
    "        for link in soup.find_all('a'):\n",
    "            print(link.get('href'))\n",
    "    except Exception as e:\n",
    "        print(f\"Failed to scrape {url} due to {e}\")\n",
    "\n",
    "def take_screenshot(url, filename):\n",
    "    try:\n",
    "        # Using subprocess to call shot-scraper command\n",
    "        subprocess.run(['shot-scraper', url, '--output', filename], check=True)\n",
    "    except Exception as e:\n",
    "        print(f\"Failed to take screenshot of {url} due to {e}\")\n",
    "\n",
    "def compare_screenshots(image1, image2, diff_image):\n",
    "    try:\n",
    "        # Using ImageMagick's compare tool\n",
    "        subprocess.run(['compare', image1, image2, diff_image], check=True)\n",
    "    except Exception as e:\n",
    "        print(f\"Failed to compare images due to {e}\")\n",
    "\n",
    "# URLs of the websites to scrape and take screenshots\n",
    "url1 = 'https://www.example1.com/'\n",
    "url2 = 'https://www.example2.com/'\n",
    "\n",
    "# Take screenshots\n",
    "screenshot1 = 'screenshot1.png'\n",
    "screenshot2 = 'screenshot2.png'\n",
    "take_screenshot(url1, screenshot1)\n",
    "take_screenshot(url2, screenshot2)\n",
    "\n",
    "# Compare the screenshots\n",
    "diff_image = 'difference.png'\n",
    "compare_screenshots(screenshot1, screenshot2, diff_image)\n",
    "\n",
    "print(\"Screenshots taken and comparison done. Check the difference image.\")"
   ]
  },
  {
   "cell_type": "code",
   "execution_count": null,
   "metadata": {},
   "outputs": [],
   "source": []
  },
  {
   "cell_type": "code",
   "execution_count": null,
   "metadata": {},
   "outputs": [],
   "source": []
  }
 ],
 "metadata": {
  "language_info": {
   "name": "python"
  }
 },
 "nbformat": 4,
 "nbformat_minor": 2
}
