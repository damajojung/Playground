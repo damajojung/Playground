{
 "cells": [
  {
   "cell_type": "markdown",
   "metadata": {},
   "source": [
    "# Schweizer Naehrwert Datenbank"
   ]
  },
  {
   "cell_type": "code",
   "execution_count": 1,
   "metadata": {},
   "outputs": [],
   "source": [
    "import requests"
   ]
  },
  {
   "cell_type": "code",
   "execution_count": 2,
   "metadata": {},
   "outputs": [],
   "source": [
    "\n",
    "# Base URL for the Swiss Food Composition Database API\n",
    "base_url = \"https://api.webapp.prod.blv.foodcase-services.com/BLV_WebApp_WS/webresources/BLV-api\"\n",
    "\n",
    "def get_food_data(endpoint):\n",
    "    \"\"\"\n",
    "    Fetch data from the specified endpoint of the Swiss Food Composition Database API.\n",
    "    \n",
    "    Args:\n",
    "        endpoint (str): The API endpoint to fetch data from.\n",
    "    \n",
    "    Returns:\n",
    "        dict: The JSON response from the API.\n",
    "    \"\"\"\n",
    "    url = f\"{base_url}/{endpoint}\"\n",
    "    try:\n",
    "        response = requests.get(url)\n",
    "        response.raise_for_status()  # Raise an exception for HTTP errors\n",
    "        return response.json()  # Parse the JSON response\n",
    "    except requests.exceptions.HTTPError as http_err:\n",
    "        print(f\"HTTP error occurred: {http_err}\")\n",
    "    except Exception as err:\n",
    "        print(f\"Other error occurred: {err}\")\n",
    "    return None\n",
    "\n",
    "# if __name__ == \"__main__\":\n",
    "#     # Example endpoint to get food data\n",
    "#     endpoint = \"foods\"\n",
    "    \n",
    "#     # Fetch data from the API\n",
    "#     data = get_food_data(endpoint)\n",
    "    \n",
    "#     if data:\n",
    "#         # Print the fetched data\n",
    "#         print(data)\n",
    "#     else:\n",
    "#         print(\"Failed to fetch data from the API\")\n"
   ]
  },
  {
   "cell_type": "code",
   "execution_count": 8,
   "metadata": {},
   "outputs": [],
   "source": [
    "# Fetch data from the API\n",
    "endpoint = \"foods\"\n",
    "dat = get_food_data(endpoint)"
   ]
  },
  {
   "cell_type": "code",
   "execution_count": 11,
   "metadata": {},
   "outputs": [
    {
     "data": {
      "text/plain": [
       "{'id': 340526,\n",
       " 'foodName': 'Ahornsirup',\n",
       " 'generic': True,\n",
       " 'categoryNames': 'Zucker und Süssstoffe',\n",
       " 'amount': 0.0,\n",
       " 'foodid': 14093,\n",
       " 'valueTypeCode': ''}"
      ]
     },
     "execution_count": 11,
     "metadata": {},
     "output_type": "execute_result"
    }
   ],
   "source": [
    "dat[2]"
   ]
  },
  {
   "cell_type": "code",
   "execution_count": 16,
   "metadata": {},
   "outputs": [
    {
     "data": {
      "text/plain": [
       "'Ahornsirup'"
      ]
     },
     "execution_count": 16,
     "metadata": {},
     "output_type": "execute_result"
    }
   ],
   "source": [
    "dat[2]['foodName'] # type = dict"
   ]
  },
  {
   "cell_type": "code",
   "execution_count": 17,
   "metadata": {},
   "outputs": [
    {
     "data": {
      "text/plain": [
       "20"
      ]
     },
     "execution_count": 17,
     "metadata": {},
     "output_type": "execute_result"
    }
   ],
   "source": [
    "len(dat)"
   ]
  },
  {
   "cell_type": "code",
   "execution_count": 20,
   "metadata": {},
   "outputs": [
    {
     "data": {
      "text/plain": [
       "{'id': 340035,\n",
       " 'foodName': 'Apfelmus, gezuckert (Konserve)',\n",
       " 'generic': True,\n",
       " 'categoryNames': 'Früchte gekocht (inkl. Konserven)',\n",
       " 'amount': 0.0,\n",
       " 'foodid': 627,\n",
       " 'valueTypeCode': ''}"
      ]
     },
     "execution_count": 20,
     "metadata": {},
     "output_type": "execute_result"
    }
   ],
   "source": [
    "dat[19]"
   ]
  },
  {
   "cell_type": "code",
   "execution_count": null,
   "metadata": {},
   "outputs": [],
   "source": []
  },
  {
   "cell_type": "code",
   "execution_count": null,
   "metadata": {},
   "outputs": [],
   "source": []
  },
  {
   "cell_type": "code",
   "execution_count": null,
   "metadata": {},
   "outputs": [],
   "source": []
  },
  {
   "cell_type": "code",
   "execution_count": null,
   "metadata": {},
   "outputs": [],
   "source": []
  },
  {
   "cell_type": "code",
   "execution_count": null,
   "metadata": {},
   "outputs": [],
   "source": []
  },
  {
   "cell_type": "code",
   "execution_count": null,
   "metadata": {},
   "outputs": [],
   "source": []
  },
  {
   "cell_type": "code",
   "execution_count": null,
   "metadata": {},
   "outputs": [],
   "source": []
  },
  {
   "cell_type": "code",
   "execution_count": null,
   "metadata": {},
   "outputs": [],
   "source": []
  },
  {
   "cell_type": "code",
   "execution_count": null,
   "metadata": {},
   "outputs": [],
   "source": []
  }
 ],
 "metadata": {
  "kernelspec": {
   "display_name": "playground",
   "language": "python",
   "name": "python3"
  },
  "language_info": {
   "codemirror_mode": {
    "name": "ipython",
    "version": 3
   },
   "file_extension": ".py",
   "mimetype": "text/x-python",
   "name": "python",
   "nbconvert_exporter": "python",
   "pygments_lexer": "ipython3",
   "version": "3.9.18"
  }
 },
 "nbformat": 4,
 "nbformat_minor": 2
}
