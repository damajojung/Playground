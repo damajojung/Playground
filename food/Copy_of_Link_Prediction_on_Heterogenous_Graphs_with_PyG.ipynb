{
  "nbformat": 4,
  "nbformat_minor": 0,
  "metadata": {
    "colab": {
      "provenance": []
    },
    "kernelspec": {
      "name": "python3",
      "display_name": "Python 3"
    },
    "language_info": {
      "name": "python"
    },
    "accelerator": "GPU",
    "gpuClass": "standard"
  },
  "cells": [
    {
      "cell_type": "code",
      "source": [
        "import torch\n",
        "from torch import Tensor\n",
        "import numpy as np\n",
        "import pandas as pd\n",
        "print(torch.__version__)"
      ],
      "metadata": {
        "colab": {
          "base_uri": "https://localhost:8080/"
        },
        "id": "uh7LaSzfwcj2",
        "outputId": "c22f1146-5626-4c94-870e-b791b0e1a644"
      },
      "execution_count": null,
      "outputs": [
        {
          "output_type": "stream",
          "name": "stdout",
          "text": [
            "1.13.1+cu116\n"
          ]
        }
      ]
    },
    {
      "cell_type": "code",
      "execution_count": null,
      "metadata": {
        "id": "AsWUrVh7vZtM",
        "colab": {
          "base_uri": "https://localhost:8080/"
        },
        "outputId": "14686e56-c588-42a9-d02c-805cf81ca95e"
      },
      "outputs": [
        {
          "output_type": "stream",
          "name": "stdout",
          "text": [
            "Looking in indexes: https://pypi.org/simple, https://us-python.pkg.dev/colab-wheels/public/simple/\n",
            "Looking in links: https://data.pyg.org/whl/torch-1.13.1+cu116.html\n",
            "Requirement already satisfied: torch-scatter in /usr/local/lib/python3.9/dist-packages (2.1.1+pt113cu116)\n",
            "Looking in indexes: https://pypi.org/simple, https://us-python.pkg.dev/colab-wheels/public/simple/\n",
            "Looking in links: https://data.pyg.org/whl/torch-1.13.1+cu116.html\n",
            "Requirement already satisfied: torch-sparse in /usr/local/lib/python3.9/dist-packages (0.6.17+pt113cu116)\n",
            "Requirement already satisfied: scipy in /usr/local/lib/python3.9/dist-packages (from torch-sparse) (1.10.1)\n",
            "Requirement already satisfied: numpy<1.27.0,>=1.19.5 in /usr/local/lib/python3.9/dist-packages (from scipy->torch-sparse) (1.22.4)\n",
            "Looking in indexes: https://pypi.org/simple, https://us-python.pkg.dev/colab-wheels/public/simple/\n",
            "Looking in links: https://data.pyg.org/whl/nightly/torch-1.13.1+cu116.html\n",
            "Requirement already satisfied: pyg-lib in /usr/local/lib/python3.9/dist-packages (0.1.0.dev20230321+pt113cu116)\n",
            "Looking in indexes: https://pypi.org/simple, https://us-python.pkg.dev/colab-wheels/public/simple/\n",
            "Collecting git+https://github.com/pyg-team/pytorch_geometric.git\n",
            "  Cloning https://github.com/pyg-team/pytorch_geometric.git to /tmp/pip-req-build-lb5znog7\n",
            "  Running command git clone --filter=blob:none --quiet https://github.com/pyg-team/pytorch_geometric.git /tmp/pip-req-build-lb5znog7\n",
            "  Resolved https://github.com/pyg-team/pytorch_geometric.git to commit e4966f1d1317d8018460415e8d6c6e46e10fbe33\n",
            "  Installing build dependencies ... \u001b[?25l\u001b[?25hdone\n",
            "  Getting requirements to build wheel ... \u001b[?25l\u001b[?25hdone\n",
            "  Preparing metadata (pyproject.toml) ... \u001b[?25l\u001b[?25hdone\n",
            "Requirement already satisfied: numpy in /usr/local/lib/python3.9/dist-packages (from torch-geometric==2.3.0) (1.22.4)\n",
            "Requirement already satisfied: requests in /usr/local/lib/python3.9/dist-packages (from torch-geometric==2.3.0) (2.27.1)\n",
            "Requirement already satisfied: psutil>=5.8.0 in /usr/local/lib/python3.9/dist-packages (from torch-geometric==2.3.0) (5.9.4)\n",
            "Requirement already satisfied: scikit-learn in /usr/local/lib/python3.9/dist-packages (from torch-geometric==2.3.0) (1.2.2)\n",
            "Requirement already satisfied: jinja2 in /usr/local/lib/python3.9/dist-packages (from torch-geometric==2.3.0) (3.1.2)\n",
            "Requirement already satisfied: pyparsing in /usr/local/lib/python3.9/dist-packages (from torch-geometric==2.3.0) (3.0.9)\n",
            "Requirement already satisfied: tqdm in /usr/local/lib/python3.9/dist-packages (from torch-geometric==2.3.0) (4.65.0)\n",
            "Requirement already satisfied: scipy in /usr/local/lib/python3.9/dist-packages (from torch-geometric==2.3.0) (1.10.1)\n",
            "Requirement already satisfied: MarkupSafe>=2.0 in /usr/local/lib/python3.9/dist-packages (from jinja2->torch-geometric==2.3.0) (2.1.2)\n",
            "Requirement already satisfied: idna<4,>=2.5 in /usr/local/lib/python3.9/dist-packages (from requests->torch-geometric==2.3.0) (3.4)\n",
            "Requirement already satisfied: charset-normalizer~=2.0.0 in /usr/local/lib/python3.9/dist-packages (from requests->torch-geometric==2.3.0) (2.0.12)\n",
            "Requirement already satisfied: certifi>=2017.4.17 in /usr/local/lib/python3.9/dist-packages (from requests->torch-geometric==2.3.0) (2022.12.7)\n",
            "Requirement already satisfied: urllib3<1.27,>=1.21.1 in /usr/local/lib/python3.9/dist-packages (from requests->torch-geometric==2.3.0) (1.26.15)\n",
            "Requirement already satisfied: joblib>=1.1.1 in /usr/local/lib/python3.9/dist-packages (from scikit-learn->torch-geometric==2.3.0) (1.1.1)\n",
            "Requirement already satisfied: threadpoolctl>=2.0.0 in /usr/local/lib/python3.9/dist-packages (from scikit-learn->torch-geometric==2.3.0) (3.1.0)\n"
          ]
        }
      ],
      "source": [
        "# Install required packages.\n",
        "import os\n",
        "os.environ['TORCH'] = torch.__version__\n",
        "\n",
        "!pip install torch-scatter -f https://data.pyg.org/whl/torch-${TORCH}.html\n",
        "!pip install torch-sparse -f https://data.pyg.org/whl/torch-${TORCH}.html\n",
        "!pip install pyg-lib -f https://data.pyg.org/whl/nightly/torch-${TORCH}.html\n",
        "!pip install git+https://github.com/pyg-team/pytorch_geometric.git"
      ]
    },
    {
      "cell_type": "markdown",
      "source": [
        "## Heterogeneous Graph Creation\n",
        "\n",
        "First, we download the dataset to an arbitrary folder (in this case, the current directory):"
      ],
      "metadata": {
        "id": "N_pshZh8Y3dw"
      }
    },
    {
      "cell_type": "code",
      "source": [
        "# Import everything\n",
        "from torch_geometric.data import download_url, extract_zip\n",
        "import pandas as pd\n",
        "import torch\n",
        "import torch.nn.functional as F\n",
        "import torch_geometric.transforms as T\n",
        "from torch_geometric.transforms import RandomLinkSplit, ToUndirected\n",
        "from torch_geometric.data import Data\n",
        "from torch_geometric.nn import GCNConv\n",
        "from torch_geometric.nn import SAGEConv\n",
        "from itertools import combinations\n",
        "from sklearn.metrics.pairwise import cosine_similarity\n",
        "from sklearn.metrics import accuracy_score,roc_auc_score, precision_score\n",
        "from torch_geometric.utils import negative_sampling\n",
        "import matplotlib.pyplot as plt\n",
        "# device = torch.device(\"cuda:0\")\n",
        "# torch.set_default_tensor_type(device)"
      ],
      "metadata": {
        "id": "ciYr7NWEv5_o"
      },
      "execution_count": null,
      "outputs": []
    },
    {
      "cell_type": "markdown",
      "source": [
        "Before we create the heterogeneous graph, let’s take a look at the data."
      ],
      "metadata": {
        "id": "B89RD_evY7uu"
      }
    },
    {
      "cell_type": "code",
      "source": [
        "edge_url=\"https://raw.githubusercontent.com/lamypark/FlavorGraph/master/input/edges_191120.csv\"\n",
        "edges_df=pd.read_csv(edge_url)\n",
        "print(edges_df.edge_type.value_counts())\n",
        "##########################################\n",
        "edges_df = edges_df.iloc[:111355,:]\n",
        "##########################################\n",
        "edges_df.head()"
      ],
      "metadata": {
        "colab": {
          "base_uri": "https://localhost:8080/",
          "height": 278
        },
        "id": "fwDRLP0phYA8",
        "outputId": "e6ee2d55-23bc-466e-e02c-b05947b5c725"
      },
      "execution_count": null,
      "outputs": [
        {
          "output_type": "stream",
          "name": "stdout",
          "text": [
            "ingr-ingr     111355\n",
            "ingr-fcomp     35440\n",
            "ingr-dcomp       384\n",
            "Name: edge_type, dtype: int64\n"
          ]
        },
        {
          "output_type": "execute_result",
          "data": {
            "text/plain": [
              "   id_1  id_2     score  edge_type\n",
              "0  5063  6083  0.337742  ingr-ingr\n",
              "1   244  4620  0.093855  ingr-ingr\n",
              "2  2253  6753  0.107870  ingr-ingr\n",
              "3  2813  6228  0.092569  ingr-ingr\n",
              "4  3016  6314  0.123897  ingr-ingr"
            ],
            "text/html": [
              "\n",
              "  <div id=\"df-04e46e6b-a51b-4ff7-8774-cd6e551b10b5\">\n",
              "    <div class=\"colab-df-container\">\n",
              "      <div>\n",
              "<style scoped>\n",
              "    .dataframe tbody tr th:only-of-type {\n",
              "        vertical-align: middle;\n",
              "    }\n",
              "\n",
              "    .dataframe tbody tr th {\n",
              "        vertical-align: top;\n",
              "    }\n",
              "\n",
              "    .dataframe thead th {\n",
              "        text-align: right;\n",
              "    }\n",
              "</style>\n",
              "<table border=\"1\" class=\"dataframe\">\n",
              "  <thead>\n",
              "    <tr style=\"text-align: right;\">\n",
              "      <th></th>\n",
              "      <th>id_1</th>\n",
              "      <th>id_2</th>\n",
              "      <th>score</th>\n",
              "      <th>edge_type</th>\n",
              "    </tr>\n",
              "  </thead>\n",
              "  <tbody>\n",
              "    <tr>\n",
              "      <th>0</th>\n",
              "      <td>5063</td>\n",
              "      <td>6083</td>\n",
              "      <td>0.337742</td>\n",
              "      <td>ingr-ingr</td>\n",
              "    </tr>\n",
              "    <tr>\n",
              "      <th>1</th>\n",
              "      <td>244</td>\n",
              "      <td>4620</td>\n",
              "      <td>0.093855</td>\n",
              "      <td>ingr-ingr</td>\n",
              "    </tr>\n",
              "    <tr>\n",
              "      <th>2</th>\n",
              "      <td>2253</td>\n",
              "      <td>6753</td>\n",
              "      <td>0.107870</td>\n",
              "      <td>ingr-ingr</td>\n",
              "    </tr>\n",
              "    <tr>\n",
              "      <th>3</th>\n",
              "      <td>2813</td>\n",
              "      <td>6228</td>\n",
              "      <td>0.092569</td>\n",
              "      <td>ingr-ingr</td>\n",
              "    </tr>\n",
              "    <tr>\n",
              "      <th>4</th>\n",
              "      <td>3016</td>\n",
              "      <td>6314</td>\n",
              "      <td>0.123897</td>\n",
              "      <td>ingr-ingr</td>\n",
              "    </tr>\n",
              "  </tbody>\n",
              "</table>\n",
              "</div>\n",
              "      <button class=\"colab-df-convert\" onclick=\"convertToInteractive('df-04e46e6b-a51b-4ff7-8774-cd6e551b10b5')\"\n",
              "              title=\"Convert this dataframe to an interactive table.\"\n",
              "              style=\"display:none;\">\n",
              "        \n",
              "  <svg xmlns=\"http://www.w3.org/2000/svg\" height=\"24px\"viewBox=\"0 0 24 24\"\n",
              "       width=\"24px\">\n",
              "    <path d=\"M0 0h24v24H0V0z\" fill=\"none\"/>\n",
              "    <path d=\"M18.56 5.44l.94 2.06.94-2.06 2.06-.94-2.06-.94-.94-2.06-.94 2.06-2.06.94zm-11 1L8.5 8.5l.94-2.06 2.06-.94-2.06-.94L8.5 2.5l-.94 2.06-2.06.94zm10 10l.94 2.06.94-2.06 2.06-.94-2.06-.94-.94-2.06-.94 2.06-2.06.94z\"/><path d=\"M17.41 7.96l-1.37-1.37c-.4-.4-.92-.59-1.43-.59-.52 0-1.04.2-1.43.59L10.3 9.45l-7.72 7.72c-.78.78-.78 2.05 0 2.83L4 21.41c.39.39.9.59 1.41.59.51 0 1.02-.2 1.41-.59l7.78-7.78 2.81-2.81c.8-.78.8-2.07 0-2.86zM5.41 20L4 18.59l7.72-7.72 1.47 1.35L5.41 20z\"/>\n",
              "  </svg>\n",
              "      </button>\n",
              "      \n",
              "  <style>\n",
              "    .colab-df-container {\n",
              "      display:flex;\n",
              "      flex-wrap:wrap;\n",
              "      gap: 12px;\n",
              "    }\n",
              "\n",
              "    .colab-df-convert {\n",
              "      background-color: #E8F0FE;\n",
              "      border: none;\n",
              "      border-radius: 50%;\n",
              "      cursor: pointer;\n",
              "      display: none;\n",
              "      fill: #1967D2;\n",
              "      height: 32px;\n",
              "      padding: 0 0 0 0;\n",
              "      width: 32px;\n",
              "    }\n",
              "\n",
              "    .colab-df-convert:hover {\n",
              "      background-color: #E2EBFA;\n",
              "      box-shadow: 0px 1px 2px rgba(60, 64, 67, 0.3), 0px 1px 3px 1px rgba(60, 64, 67, 0.15);\n",
              "      fill: #174EA6;\n",
              "    }\n",
              "\n",
              "    [theme=dark] .colab-df-convert {\n",
              "      background-color: #3B4455;\n",
              "      fill: #D2E3FC;\n",
              "    }\n",
              "\n",
              "    [theme=dark] .colab-df-convert:hover {\n",
              "      background-color: #434B5C;\n",
              "      box-shadow: 0px 1px 3px 1px rgba(0, 0, 0, 0.15);\n",
              "      filter: drop-shadow(0px 1px 2px rgba(0, 0, 0, 0.3));\n",
              "      fill: #FFFFFF;\n",
              "    }\n",
              "  </style>\n",
              "\n",
              "      <script>\n",
              "        const buttonEl =\n",
              "          document.querySelector('#df-04e46e6b-a51b-4ff7-8774-cd6e551b10b5 button.colab-df-convert');\n",
              "        buttonEl.style.display =\n",
              "          google.colab.kernel.accessAllowed ? 'block' : 'none';\n",
              "\n",
              "        async function convertToInteractive(key) {\n",
              "          const element = document.querySelector('#df-04e46e6b-a51b-4ff7-8774-cd6e551b10b5');\n",
              "          const dataTable =\n",
              "            await google.colab.kernel.invokeFunction('convertToInteractive',\n",
              "                                                     [key], {});\n",
              "          if (!dataTable) return;\n",
              "\n",
              "          const docLinkHtml = 'Like what you see? Visit the ' +\n",
              "            '<a target=\"_blank\" href=https://colab.research.google.com/notebooks/data_table.ipynb>data table notebook</a>'\n",
              "            + ' to learn more about interactive tables.';\n",
              "          element.innerHTML = '';\n",
              "          dataTable['output_type'] = 'display_data';\n",
              "          await google.colab.output.renderOutput(dataTable, element);\n",
              "          const docLink = document.createElement('div');\n",
              "          docLink.innerHTML = docLinkHtml;\n",
              "          element.appendChild(docLink);\n",
              "        }\n",
              "      </script>\n",
              "    </div>\n",
              "  </div>\n",
              "  "
            ]
          },
          "metadata": {},
          "execution_count": 82
        }
      ]
    },
    {
      "cell_type": "markdown",
      "source": [
        "We have over a hundred thousand ingredient ingredient edges, let' just use that data for prediction."
      ],
      "metadata": {
        "id": "O4rF7WLd6HZY"
      }
    },
    {
      "cell_type": "code",
      "source": [
        "# Check we only too the right edges\n",
        "print(edges_df.edge_type.value_counts())"
      ],
      "metadata": {
        "colab": {
          "base_uri": "https://localhost:8080/"
        },
        "id": "aBKF2OR2tVKj",
        "outputId": "486d5c9d-9ba2-4fce-d9a6-65c18a096ab0"
      },
      "execution_count": null,
      "outputs": [
        {
          "output_type": "stream",
          "name": "stdout",
          "text": [
            "ingr-ingr    111355\n",
            "Name: edge_type, dtype: int64\n"
          ]
        }
      ]
    },
    {
      "cell_type": "code",
      "source": [
        "# Include nodes\n",
        "node_url=\"https://raw.githubusercontent.com/lamypark/FlavorGraph/master/input/nodes_191120.csv\"\n",
        "nodes_df=pd.read_csv(node_url)\n",
        "print(nodes_df.shape)\n",
        "nodes_df.head()"
      ],
      "metadata": {
        "colab": {
          "base_uri": "https://localhost:8080/",
          "height": 224
        },
        "id": "F3kAXbD3hqWo",
        "outputId": "30dd337c-26d5-4f50-f203-d0474278e98a"
      },
      "execution_count": null,
      "outputs": [
        {
          "output_type": "stream",
          "name": "stdout",
          "text": [
            "(8298, 5)\n"
          ]
        },
        {
          "output_type": "execute_result",
          "data": {
            "text/plain": [
              "   node_id                    name  id   node_type  is_hub\n",
              "0        0       1%_fat_buttermilk NaN  ingredient  no_hub\n",
              "1        1   1%_fat_cottage_cheese NaN  ingredient  no_hub\n",
              "2        3               10%_cream NaN  ingredient  no_hub\n",
              "3        4               100%_bran NaN  ingredient  no_hub\n",
              "4        5  10_inch_flour_tortilla NaN  ingredient  no_hub"
            ],
            "text/html": [
              "\n",
              "  <div id=\"df-593c4e1f-fef1-4113-ab71-319a68f52b89\">\n",
              "    <div class=\"colab-df-container\">\n",
              "      <div>\n",
              "<style scoped>\n",
              "    .dataframe tbody tr th:only-of-type {\n",
              "        vertical-align: middle;\n",
              "    }\n",
              "\n",
              "    .dataframe tbody tr th {\n",
              "        vertical-align: top;\n",
              "    }\n",
              "\n",
              "    .dataframe thead th {\n",
              "        text-align: right;\n",
              "    }\n",
              "</style>\n",
              "<table border=\"1\" class=\"dataframe\">\n",
              "  <thead>\n",
              "    <tr style=\"text-align: right;\">\n",
              "      <th></th>\n",
              "      <th>node_id</th>\n",
              "      <th>name</th>\n",
              "      <th>id</th>\n",
              "      <th>node_type</th>\n",
              "      <th>is_hub</th>\n",
              "    </tr>\n",
              "  </thead>\n",
              "  <tbody>\n",
              "    <tr>\n",
              "      <th>0</th>\n",
              "      <td>0</td>\n",
              "      <td>1%_fat_buttermilk</td>\n",
              "      <td>NaN</td>\n",
              "      <td>ingredient</td>\n",
              "      <td>no_hub</td>\n",
              "    </tr>\n",
              "    <tr>\n",
              "      <th>1</th>\n",
              "      <td>1</td>\n",
              "      <td>1%_fat_cottage_cheese</td>\n",
              "      <td>NaN</td>\n",
              "      <td>ingredient</td>\n",
              "      <td>no_hub</td>\n",
              "    </tr>\n",
              "    <tr>\n",
              "      <th>2</th>\n",
              "      <td>3</td>\n",
              "      <td>10%_cream</td>\n",
              "      <td>NaN</td>\n",
              "      <td>ingredient</td>\n",
              "      <td>no_hub</td>\n",
              "    </tr>\n",
              "    <tr>\n",
              "      <th>3</th>\n",
              "      <td>4</td>\n",
              "      <td>100%_bran</td>\n",
              "      <td>NaN</td>\n",
              "      <td>ingredient</td>\n",
              "      <td>no_hub</td>\n",
              "    </tr>\n",
              "    <tr>\n",
              "      <th>4</th>\n",
              "      <td>5</td>\n",
              "      <td>10_inch_flour_tortilla</td>\n",
              "      <td>NaN</td>\n",
              "      <td>ingredient</td>\n",
              "      <td>no_hub</td>\n",
              "    </tr>\n",
              "  </tbody>\n",
              "</table>\n",
              "</div>\n",
              "      <button class=\"colab-df-convert\" onclick=\"convertToInteractive('df-593c4e1f-fef1-4113-ab71-319a68f52b89')\"\n",
              "              title=\"Convert this dataframe to an interactive table.\"\n",
              "              style=\"display:none;\">\n",
              "        \n",
              "  <svg xmlns=\"http://www.w3.org/2000/svg\" height=\"24px\"viewBox=\"0 0 24 24\"\n",
              "       width=\"24px\">\n",
              "    <path d=\"M0 0h24v24H0V0z\" fill=\"none\"/>\n",
              "    <path d=\"M18.56 5.44l.94 2.06.94-2.06 2.06-.94-2.06-.94-.94-2.06-.94 2.06-2.06.94zm-11 1L8.5 8.5l.94-2.06 2.06-.94-2.06-.94L8.5 2.5l-.94 2.06-2.06.94zm10 10l.94 2.06.94-2.06 2.06-.94-2.06-.94-.94-2.06-.94 2.06-2.06.94z\"/><path d=\"M17.41 7.96l-1.37-1.37c-.4-.4-.92-.59-1.43-.59-.52 0-1.04.2-1.43.59L10.3 9.45l-7.72 7.72c-.78.78-.78 2.05 0 2.83L4 21.41c.39.39.9.59 1.41.59.51 0 1.02-.2 1.41-.59l7.78-7.78 2.81-2.81c.8-.78.8-2.07 0-2.86zM5.41 20L4 18.59l7.72-7.72 1.47 1.35L5.41 20z\"/>\n",
              "  </svg>\n",
              "      </button>\n",
              "      \n",
              "  <style>\n",
              "    .colab-df-container {\n",
              "      display:flex;\n",
              "      flex-wrap:wrap;\n",
              "      gap: 12px;\n",
              "    }\n",
              "\n",
              "    .colab-df-convert {\n",
              "      background-color: #E8F0FE;\n",
              "      border: none;\n",
              "      border-radius: 50%;\n",
              "      cursor: pointer;\n",
              "      display: none;\n",
              "      fill: #1967D2;\n",
              "      height: 32px;\n",
              "      padding: 0 0 0 0;\n",
              "      width: 32px;\n",
              "    }\n",
              "\n",
              "    .colab-df-convert:hover {\n",
              "      background-color: #E2EBFA;\n",
              "      box-shadow: 0px 1px 2px rgba(60, 64, 67, 0.3), 0px 1px 3px 1px rgba(60, 64, 67, 0.15);\n",
              "      fill: #174EA6;\n",
              "    }\n",
              "\n",
              "    [theme=dark] .colab-df-convert {\n",
              "      background-color: #3B4455;\n",
              "      fill: #D2E3FC;\n",
              "    }\n",
              "\n",
              "    [theme=dark] .colab-df-convert:hover {\n",
              "      background-color: #434B5C;\n",
              "      box-shadow: 0px 1px 3px 1px rgba(0, 0, 0, 0.15);\n",
              "      filter: drop-shadow(0px 1px 2px rgba(0, 0, 0, 0.3));\n",
              "      fill: #FFFFFF;\n",
              "    }\n",
              "  </style>\n",
              "\n",
              "      <script>\n",
              "        const buttonEl =\n",
              "          document.querySelector('#df-593c4e1f-fef1-4113-ab71-319a68f52b89 button.colab-df-convert');\n",
              "        buttonEl.style.display =\n",
              "          google.colab.kernel.accessAllowed ? 'block' : 'none';\n",
              "\n",
              "        async function convertToInteractive(key) {\n",
              "          const element = document.querySelector('#df-593c4e1f-fef1-4113-ab71-319a68f52b89');\n",
              "          const dataTable =\n",
              "            await google.colab.kernel.invokeFunction('convertToInteractive',\n",
              "                                                     [key], {});\n",
              "          if (!dataTable) return;\n",
              "\n",
              "          const docLinkHtml = 'Like what you see? Visit the ' +\n",
              "            '<a target=\"_blank\" href=https://colab.research.google.com/notebooks/data_table.ipynb>data table notebook</a>'\n",
              "            + ' to learn more about interactive tables.';\n",
              "          element.innerHTML = '';\n",
              "          dataTable['output_type'] = 'display_data';\n",
              "          await google.colab.output.renderOutput(dataTable, element);\n",
              "          const docLink = document.createElement('div');\n",
              "          docLink.innerHTML = docLinkHtml;\n",
              "          element.appendChild(docLink);\n",
              "        }\n",
              "      </script>\n",
              "    </div>\n",
              "  </div>\n",
              "  "
            ]
          },
          "metadata": {},
          "execution_count": 84
        }
      ]
    },
    {
      "cell_type": "code",
      "source": [
        "# How many types do we have\n",
        "nodes_df.node_type.value_counts()"
      ],
      "metadata": {
        "colab": {
          "base_uri": "https://localhost:8080/"
        },
        "id": "l0Aj2gDjf38v",
        "outputId": "6d7f6155-9ea7-4592-9ffb-8be7d2d7b55e"
      },
      "execution_count": null,
      "outputs": [
        {
          "output_type": "execute_result",
          "data": {
            "text/plain": [
              "ingredient    6653\n",
              "compound      1645\n",
              "Name: node_type, dtype: int64"
            ]
          },
          "metadata": {},
          "execution_count": 85
        }
      ]
    },
    {
      "cell_type": "code",
      "source": [
        "# Just take the ingredients\n",
        "nodes_df = nodes_df[nodes_df['node_id'].isin(\n",
        "    (set(edges_df.id_1.values).union(set(edges_df.id_2.values))))]\n",
        "nodes_df.node_type.value_counts()"
      ],
      "metadata": {
        "colab": {
          "base_uri": "https://localhost:8080/"
        },
        "id": "tUpe1Zs7SsiL",
        "outputId": "eefadd47-4c05-4ea7-8de8-705db25f82ca"
      },
      "execution_count": null,
      "outputs": [
        {
          "output_type": "execute_result",
          "data": {
            "text/plain": [
              "ingredient    6653\n",
              "Name: node_type, dtype: int64"
            ]
          },
          "metadata": {},
          "execution_count": 86
        }
      ]
    },
    {
      "cell_type": "code",
      "source": [
        "# This block just loads the data\n",
        "\n",
        "flavorGraph = Data()\n",
        "# flavorGraph = flavorGraph.to(device)\n",
        "\n",
        "edge_weight = torch.Tensor(edges_df.score.values)\n",
        "node_index = torch.Tensor(nodes_df.node_id.values)\n",
        "\n",
        "node_map = dict()\n",
        "for i in range(len(node_index)):\n",
        "  node_map[(int(node_index[i]))] = i\n",
        "\n",
        "edge_index = torch.Tensor([edges_df.id_1.apply(lambda x: node_map[x]).values,\n",
        "                           edges_df.id_2.apply(lambda x: node_map[x]).values])\n",
        "\n",
        "flavorGraph.x = node_index.view(node_index.size(0), -1)\n",
        "flavorGraph.edge_index = edge_index.type(torch.int64)\n",
        "flavorGraph.edge_weight = edge_weight\n",
        "\n",
        "flavorGraph.validate(raise_on_error=True)\n",
        "flavorGraph = ToUndirected()(flavorGraph)\n",
        "\n",
        "print(flavorGraph.is_undirected())\n",
        "\n",
        "# TrainTest Split for Edge Prediction\n",
        "transform = RandomLinkSplit(is_undirected=True,add_negative_train_samples=False,disjoint_train_ratio=0.35)\n",
        "\n",
        "train_data, val_data,test_data = transform(flavorGraph)"
      ],
      "metadata": {
        "id": "rpmii6HnUWRL",
        "colab": {
          "base_uri": "https://localhost:8080/"
        },
        "outputId": "2bfd0c35-5572-4db2-a6f8-632371118ff5"
      },
      "execution_count": null,
      "outputs": [
        {
          "output_type": "stream",
          "name": "stdout",
          "text": [
            "True\n"
          ]
        }
      ]
    },
    {
      "cell_type": "code",
      "source": [
        "train_data, val_data, test_data"
      ],
      "metadata": {
        "id": "wbs84x0Zju0t",
        "outputId": "3dc18bd7-b7df-4883-ed63-9295bc25057c",
        "colab": {
          "base_uri": "https://localhost:8080/"
        }
      },
      "execution_count": null,
      "outputs": [
        {
          "output_type": "execute_result",
          "data": {
            "text/plain": [
              "(Data(x=[6653, 1], edge_index=[2, 101334], edge_weight=[101334], edge_label=[27282], edge_label_index=[2, 27282]),\n",
              " Data(x=[6653, 1], edge_index=[2, 155898], edge_weight=[155898], edge_label=[22270], edge_label_index=[2, 22270]),\n",
              " Data(x=[6653, 1], edge_index=[2, 178168], edge_weight=[178168], edge_label=[44542], edge_label_index=[2, 44542]))"
            ]
          },
          "metadata": {},
          "execution_count": 88
        }
      ]
    },
    {
      "cell_type": "markdown",
      "source": [
        "wow look at us we did it."
      ],
      "metadata": {
        "id": "YyAVHLCveA0E"
      }
    },
    {
      "cell_type": "markdown",
      "source": [
        "We see that the edges are undirected with id of nodes, the type of connection, and the weight between the nodes."
      ],
      "metadata": {
        "id": "SlP_dAjkKhPe"
      }
    },
    {
      "cell_type": "code",
      "source": [
        "# Define the main class of the model\n",
        "class Net(torch.nn.Module):\n",
        "    def __init__(self, in_channels, hidden_channels, out_channels):\n",
        "        super().__init__()\n",
        "        # The main GNN layers, two graph conv layers\n",
        "        self.conv1 = GCNConv(in_channels, hidden_channels)\n",
        "        self.conv2 = GCNConv(hidden_channels, out_channels)\n",
        "\n",
        "    def encode(self, x, edge_index):\n",
        "        x = self.conv1(x, edge_index).relu()\n",
        "        return self.conv2(x, edge_index)\n",
        "\n",
        "    # Simple dot product based decoder\n",
        "    def decode(self, z, edge_label_index):\n",
        "        return (z[edge_label_index[0]] * z[edge_label_index[1]]).sum(dim=-1)\n",
        "\n",
        "    # def decode_all(self, z):\n",
        "    #     prob_adj = z @ z.t()\n",
        "    #     return (prob_adj > 0).nonzero(as_tuple=False).t()\n",
        "\n",
        "    # Want probabilities out to easily interpret results\n",
        "    def decode_all(self, z):\n",
        "      prob_adj = z @ z.t()\n",
        "      prob_adj = torch.sigmoid(prob_adj)  # Apply sigmoid function to get probabilities\n",
        "      return prob_adj\n",
        "\n",
        "model = Net(flavorGraph.num_features, 128, 64)\n",
        "# model.to(device)\n",
        "optimizer = torch.optim.Adam(params=model.parameters(), lr=0.01)\n",
        "criterion = torch.nn.BCEWithLogitsLoss()\n",
        "\n",
        "\n",
        "def train():\n",
        "    model.train()\n",
        "    optimizer.zero_grad()\n",
        "    z = model.encode(train_data.x, train_data.edge_index)\n",
        "\n",
        "    # We perform a new round of negative sampling for every training epoch:\n",
        "    neg_edge_index = negative_sampling(\n",
        "        edge_index=train_data.edge_index, num_nodes=train_data.num_nodes,\n",
        "        num_neg_samples=train_data.edge_label_index.size(1), method='sparse')\n",
        "\n",
        "    edge_label_index = torch.cat(\n",
        "        [train_data.edge_label_index, neg_edge_index],\n",
        "        dim=-1,\n",
        "    )\n",
        "    edge_label = torch.cat([\n",
        "        train_data.edge_label,\n",
        "        train_data.edge_label.new_zeros(neg_edge_index.size(1))\n",
        "    ], dim=0)\n",
        "\n",
        "    out = model.decode(z, edge_label_index).view(-1)\n",
        "    loss = criterion(out, edge_label)\n",
        "    loss.backward()\n",
        "    optimizer.step()\n",
        "    return loss\n",
        "\n",
        "\n",
        "@torch.no_grad()\n",
        "def test(data):\n",
        "    model.eval()\n",
        "    z = model.encode(data.x, data.edge_index)\n",
        "    out = model.decode(z, data.edge_label_index).view(-1).sigmoid()\n",
        "    y = data.edge_label.cpu().numpy()\n",
        "    pred = out.cpu().numpy()\n",
        "    return roc_auc_score(y, pred)\n",
        "\n",
        "validationMetrics_GCN = []\n",
        "\n",
        "best_val_auc = final_test_auc = 0\n",
        "for epoch in range(1, 150):\n",
        "    loss = train()\n",
        "    val_auc = test(val_data)\n",
        "    test_auc = test(test_data)\n",
        "    if val_auc > best_val_auc:\n",
        "        best_val_auc = val_auc\n",
        "        final_test_auc = test_auc\n",
        "    validationMetrics_GCN.append([val_auc, test_auc])\n",
        "    print(f'Epoch: {epoch:03d}, Loss: {loss:.4f}, Val: {val_auc:.4f}, '\n",
        "          f'Test: {test_auc:.4f}')\n",
        "\n",
        "print(f'Final Test: {final_test_auc:.4f}')\n",
        "\n",
        "z = model.encode(test_data.x, test_data.edge_index)\n",
        "final_edge_probs_GCN = model.decode_all(z)"
      ],
      "metadata": {
        "colab": {
          "base_uri": "https://localhost:8080/"
        },
        "id": "_tN7VAquNV6p",
        "outputId": "e3407bb7-8ecb-4bbe-af94-69b8a75b39e3"
      },
      "execution_count": null,
      "outputs": [
        {
          "output_type": "stream",
          "name": "stdout",
          "text": [
            "Epoch: 001, Loss: 4112019.5000, Val: 0.5000, Test: 0.5000\n",
            "Epoch: 002, Loss: 1317638.1250, Val: 0.5000, Test: 0.5000\n",
            "Epoch: 003, Loss: 405787.5625, Val: 0.5000, Test: 0.5000\n",
            "Epoch: 004, Loss: 437794.3125, Val: 0.5000, Test: 0.5000\n",
            "Epoch: 005, Loss: 650239.5625, Val: 0.5000, Test: 0.5000\n",
            "Epoch: 006, Loss: 695464.5000, Val: 0.5000, Test: 0.5000\n",
            "Epoch: 007, Loss: 598844.8750, Val: 0.5000, Test: 0.5000\n",
            "Epoch: 008, Loss: 467914.7812, Val: 0.5000, Test: 0.5000\n",
            "Epoch: 009, Loss: 348674.6562, Val: 0.5000, Test: 0.5000\n",
            "Epoch: 010, Loss: 261872.5938, Val: 0.5000, Test: 0.5000\n",
            "Epoch: 011, Loss: 201963.5469, Val: 0.5000, Test: 0.5000\n",
            "Epoch: 012, Loss: 160028.9688, Val: 0.5000, Test: 0.5000\n",
            "Epoch: 013, Loss: 129191.5625, Val: 0.5000, Test: 0.5000\n",
            "Epoch: 014, Loss: 109327.7109, Val: 0.5000, Test: 0.5000\n",
            "Epoch: 015, Loss: 95436.3438, Val: 0.5000, Test: 0.5000\n",
            "Epoch: 016, Loss: 88295.1641, Val: 0.5000, Test: 0.5000\n",
            "Epoch: 017, Loss: 81400.1953, Val: 0.5000, Test: 0.5000\n",
            "Epoch: 018, Loss: 75072.1562, Val: 0.5000, Test: 0.5000\n",
            "Epoch: 019, Loss: 67718.2344, Val: 0.5000, Test: 0.5000\n",
            "Epoch: 020, Loss: 59591.9844, Val: 0.5000, Test: 0.5000\n",
            "Epoch: 021, Loss: 52137.8125, Val: 0.5000, Test: 0.5000\n",
            "Epoch: 022, Loss: 45810.7695, Val: 0.5000, Test: 0.5000\n",
            "Epoch: 023, Loss: 41182.0312, Val: 0.5000, Test: 0.5000\n",
            "Epoch: 024, Loss: 37591.2461, Val: 0.5000, Test: 0.5000\n",
            "Epoch: 025, Loss: 34642.1953, Val: 0.5000, Test: 0.5000\n",
            "Epoch: 026, Loss: 32064.6289, Val: 0.5000, Test: 0.5000\n",
            "Epoch: 027, Loss: 29377.0762, Val: 0.5000, Test: 0.5000\n",
            "Epoch: 028, Loss: 26681.0586, Val: 0.5000, Test: 0.5000\n",
            "Epoch: 029, Loss: 23374.1641, Val: 0.5000, Test: 0.5000\n",
            "Epoch: 030, Loss: 20283.2070, Val: 0.5000, Test: 0.5000\n",
            "Epoch: 031, Loss: 17372.8301, Val: 0.5000, Test: 0.5000\n",
            "Epoch: 032, Loss: 14644.7637, Val: 0.5000, Test: 0.5000\n",
            "Epoch: 033, Loss: 12303.8984, Val: 0.5000, Test: 0.5000\n",
            "Epoch: 034, Loss: 10325.5254, Val: 0.5000, Test: 0.5000\n",
            "Epoch: 035, Loss: 8805.4521, Val: 0.5000, Test: 0.5000\n",
            "Epoch: 036, Loss: 7522.4971, Val: 0.5000, Test: 0.5000\n",
            "Epoch: 037, Loss: 6502.2881, Val: 0.5000, Test: 0.5000\n",
            "Epoch: 038, Loss: 5791.1743, Val: 0.5000, Test: 0.5000\n",
            "Epoch: 039, Loss: 5198.4448, Val: 0.5000, Test: 0.5000\n",
            "Epoch: 040, Loss: 4773.5269, Val: 0.5000, Test: 0.5000\n",
            "Epoch: 041, Loss: 4443.2183, Val: 0.5000, Test: 0.5000\n",
            "Epoch: 042, Loss: 4141.0342, Val: 0.5000, Test: 0.5000\n",
            "Epoch: 043, Loss: 3904.9753, Val: 0.5000, Test: 0.5000\n",
            "Epoch: 044, Loss: 3644.3506, Val: 0.5000, Test: 0.5000\n",
            "Epoch: 045, Loss: 3387.1853, Val: 0.5000, Test: 0.5000\n",
            "Epoch: 046, Loss: 3089.3062, Val: 0.5000, Test: 0.5000\n",
            "Epoch: 047, Loss: 2785.4480, Val: 0.5001, Test: 0.5000\n",
            "Epoch: 048, Loss: 2534.4998, Val: 0.5001, Test: 0.5000\n",
            "Epoch: 049, Loss: 2291.9067, Val: 0.5001, Test: 0.5000\n",
            "Epoch: 050, Loss: 2080.1514, Val: 0.5001, Test: 0.5000\n",
            "Epoch: 051, Loss: 1927.0604, Val: 0.5001, Test: 0.5000\n",
            "Epoch: 052, Loss: 1782.9072, Val: 0.5001, Test: 0.5000\n",
            "Epoch: 053, Loss: 1669.2397, Val: 0.5001, Test: 0.5000\n",
            "Epoch: 054, Loss: 1552.9619, Val: 0.5001, Test: 0.5000\n",
            "Epoch: 055, Loss: 1443.9196, Val: 0.5001, Test: 0.5000\n",
            "Epoch: 056, Loss: 1305.7679, Val: 0.5001, Test: 0.5000\n",
            "Epoch: 057, Loss: 1166.3190, Val: 0.5001, Test: 0.5000\n",
            "Epoch: 058, Loss: 1019.7210, Val: 0.5001, Test: 0.5000\n",
            "Epoch: 059, Loss: 873.6022, Val: 0.5001, Test: 0.5000\n",
            "Epoch: 060, Loss: 730.2275, Val: 0.5001, Test: 0.5000\n",
            "Epoch: 061, Loss: 601.2660, Val: 0.5001, Test: 0.5000\n",
            "Epoch: 062, Loss: 498.4155, Val: 0.5002, Test: 0.5000\n",
            "Epoch: 063, Loss: 413.1079, Val: 0.5002, Test: 0.5001\n",
            "Epoch: 064, Loss: 356.3479, Val: 0.5003, Test: 0.5001\n",
            "Epoch: 065, Loss: 312.1895, Val: 0.5003, Test: 0.5002\n",
            "Epoch: 066, Loss: 284.8141, Val: 0.5003, Test: 0.5002\n",
            "Epoch: 067, Loss: 262.5190, Val: 0.5003, Test: 0.5002\n",
            "Epoch: 068, Loss: 245.8477, Val: 0.5003, Test: 0.5002\n",
            "Epoch: 069, Loss: 228.3099, Val: 0.5003, Test: 0.5002\n",
            "Epoch: 070, Loss: 213.1563, Val: 0.5003, Test: 0.5002\n",
            "Epoch: 071, Loss: 198.6217, Val: 0.5004, Test: 0.5002\n",
            "Epoch: 072, Loss: 185.7840, Val: 0.5004, Test: 0.5002\n",
            "Epoch: 073, Loss: 176.2381, Val: 0.5004, Test: 0.5002\n",
            "Epoch: 074, Loss: 168.6914, Val: 0.5004, Test: 0.5002\n",
            "Epoch: 075, Loss: 161.5394, Val: 0.5005, Test: 0.5002\n",
            "Epoch: 076, Loss: 153.2330, Val: 0.5005, Test: 0.5002\n",
            "Epoch: 077, Loss: 144.9619, Val: 0.5006, Test: 0.5003\n",
            "Epoch: 078, Loss: 134.6720, Val: 0.5008, Test: 0.5003\n",
            "Epoch: 079, Loss: 122.2487, Val: 0.5009, Test: 0.5003\n",
            "Epoch: 080, Loss: 108.4112, Val: 0.5009, Test: 0.5004\n",
            "Epoch: 081, Loss: 95.9299, Val: 0.5009, Test: 0.5004\n",
            "Epoch: 082, Loss: 85.2834, Val: 0.5010, Test: 0.5006\n",
            "Epoch: 083, Loss: 74.7617, Val: 0.5011, Test: 0.5007\n",
            "Epoch: 084, Loss: 66.0736, Val: 0.5012, Test: 0.5009\n",
            "Epoch: 085, Loss: 58.0095, Val: 0.5016, Test: 0.5013\n",
            "Epoch: 086, Loss: 50.2923, Val: 0.5025, Test: 0.5022\n",
            "Epoch: 087, Loss: 43.1081, Val: 0.5043, Test: 0.5040\n",
            "Epoch: 088, Loss: 36.6053, Val: 0.5073, Test: 0.5076\n",
            "Epoch: 089, Loss: 30.5905, Val: 0.5127, Test: 0.5133\n",
            "Epoch: 090, Loss: 25.7936, Val: 0.5215, Test: 0.5227\n",
            "Epoch: 091, Loss: 22.1216, Val: 0.5335, Test: 0.5341\n",
            "Epoch: 092, Loss: 19.3410, Val: 0.5469, Test: 0.5481\n",
            "Epoch: 093, Loss: 17.3437, Val: 0.5632, Test: 0.5638\n",
            "Epoch: 094, Loss: 15.6864, Val: 0.5797, Test: 0.5820\n",
            "Epoch: 095, Loss: 14.4792, Val: 0.5958, Test: 0.5973\n",
            "Epoch: 096, Loss: 13.6352, Val: 0.6061, Test: 0.6082\n",
            "Epoch: 097, Loss: 13.1288, Val: 0.6113, Test: 0.6128\n",
            "Epoch: 098, Loss: 12.9142, Val: 0.6125, Test: 0.6136\n",
            "Epoch: 099, Loss: 12.8190, Val: 0.6133, Test: 0.6143\n",
            "Epoch: 100, Loss: 12.6822, Val: 0.6193, Test: 0.6203\n",
            "Epoch: 101, Loss: 12.5213, Val: 0.6331, Test: 0.6333\n",
            "Epoch: 102, Loss: 11.9963, Val: 0.6553, Test: 0.6555\n",
            "Epoch: 103, Loss: 11.1808, Val: 0.6854, Test: 0.6860\n",
            "Epoch: 104, Loss: 10.1315, Val: 0.7236, Test: 0.7203\n",
            "Epoch: 105, Loss: 8.8972, Val: 0.7640, Test: 0.7611\n",
            "Epoch: 106, Loss: 7.6804, Val: 0.8111, Test: 0.8100\n",
            "Epoch: 107, Loss: 6.5070, Val: 0.8395, Test: 0.8400\n",
            "Epoch: 108, Loss: 5.4602, Val: 0.8466, Test: 0.8460\n",
            "Epoch: 109, Loss: 4.5228, Val: 0.8470, Test: 0.8466\n",
            "Epoch: 110, Loss: 3.7037, Val: 0.8465, Test: 0.8462\n",
            "Epoch: 111, Loss: 3.0654, Val: 0.8456, Test: 0.8453\n",
            "Epoch: 112, Loss: 2.5549, Val: 0.8445, Test: 0.8442\n",
            "Epoch: 113, Loss: 2.2300, Val: 0.8436, Test: 0.8432\n",
            "Epoch: 114, Loss: 2.0407, Val: 0.8430, Test: 0.8426\n",
            "Epoch: 115, Loss: 1.9549, Val: 0.8429, Test: 0.8425\n",
            "Epoch: 116, Loss: 1.9079, Val: 0.8433, Test: 0.8429\n",
            "Epoch: 117, Loss: 1.8628, Val: 0.8440, Test: 0.8436\n",
            "Epoch: 118, Loss: 1.7914, Val: 0.8451, Test: 0.8447\n",
            "Epoch: 119, Loss: 1.6722, Val: 0.8465, Test: 0.8462\n",
            "Epoch: 120, Loss: 1.5381, Val: 0.8482, Test: 0.8479\n",
            "Epoch: 121, Loss: 1.4154, Val: 0.8500, Test: 0.8497\n",
            "Epoch: 122, Loss: 1.2994, Val: 0.8518, Test: 0.8515\n",
            "Epoch: 123, Loss: 1.2014, Val: 0.8532, Test: 0.8529\n",
            "Epoch: 124, Loss: 1.1280, Val: 0.8540, Test: 0.8537\n",
            "Epoch: 125, Loss: 1.0727, Val: 0.8542, Test: 0.8539\n",
            "Epoch: 126, Loss: 1.0316, Val: 0.8537, Test: 0.8534\n",
            "Epoch: 127, Loss: 1.0026, Val: 0.8527, Test: 0.8524\n",
            "Epoch: 128, Loss: 0.9771, Val: 0.8513, Test: 0.8510\n",
            "Epoch: 129, Loss: 0.9512, Val: 0.8497, Test: 0.8493\n",
            "Epoch: 130, Loss: 0.9288, Val: 0.8480, Test: 0.8476\n",
            "Epoch: 131, Loss: 0.8999, Val: 0.8463, Test: 0.8459\n",
            "Epoch: 132, Loss: 0.8680, Val: 0.8448, Test: 0.8443\n",
            "Epoch: 133, Loss: 0.8248, Val: 0.8436, Test: 0.8430\n",
            "Epoch: 134, Loss: 0.7834, Val: 0.8427, Test: 0.8421\n",
            "Epoch: 135, Loss: 0.7470, Val: 0.8423, Test: 0.8416\n",
            "Epoch: 136, Loss: 0.7158, Val: 0.8427, Test: 0.8420\n",
            "Epoch: 137, Loss: 0.6937, Val: 0.8442, Test: 0.8435\n",
            "Epoch: 138, Loss: 0.6810, Val: 0.8470, Test: 0.8463\n",
            "Epoch: 139, Loss: 0.6718, Val: 0.8511, Test: 0.8504\n",
            "Epoch: 140, Loss: 0.6665, Val: 0.8560, Test: 0.8554\n",
            "Epoch: 141, Loss: 0.6620, Val: 0.8613, Test: 0.8607\n",
            "Epoch: 142, Loss: 0.6611, Val: 0.8663, Test: 0.8658\n",
            "Epoch: 143, Loss: 0.6598, Val: 0.8706, Test: 0.8702\n",
            "Epoch: 144, Loss: 0.6580, Val: 0.8743, Test: 0.8740\n",
            "Epoch: 145, Loss: 0.6571, Val: 0.8773, Test: 0.8770\n",
            "Epoch: 146, Loss: 0.6581, Val: 0.8798, Test: 0.8796\n",
            "Epoch: 147, Loss: 0.6583, Val: 0.8820, Test: 0.8818\n",
            "Epoch: 148, Loss: 0.6555, Val: 0.8839, Test: 0.8838\n",
            "Epoch: 149, Loss: 0.6556, Val: 0.8857, Test: 0.8856\n",
            "Final Test: 0.8856\n"
          ]
        }
      ]
    },
    {
      "cell_type": "code",
      "source": [
        "plt.plot(np.arange(len(validationMetrics_GCN)),np.array(validationMetrics_GCN)[:,1],label='test_auc')\n",
        "plt.legend()\n",
        "plt.show()"
      ],
      "metadata": {
        "colab": {
          "base_uri": "https://localhost:8080/",
          "height": 267
        },
        "id": "ikyrKTyL-wAr",
        "outputId": "be871b87-e4ee-44de-82af-4b94047a3847"
      },
      "execution_count": null,
      "outputs": [
        {
          "output_type": "display_data",
          "data": {
            "text/plain": [
              "<Figure size 432x288 with 1 Axes>"
            ],
            "image/png": "[encoded data removed]"
          },
          "metadata": {
            "needs_background": "light"
          }
        }
      ]
    },
    {
      "cell_type": "code",
      "source": [
        "start_node = np.random.randint(0, 6653)\n",
        "for i in range(1, min(np.random.poisson(4, 1)[0] + 1, 7)):\n",
        "  top_nodes = nodes_df.iloc[final_edge_probs_GCN.topk(10, dim=1).indices[start_node, ]]\n",
        "  which_one = np.random.randint(0, 10)\n",
        "  start_node_id = top_nodes.iloc[which_one][\"node_id\"]\n",
        "  print(top_nodes.iloc[which_one][\"name\"])"
      ],
      "metadata": {
        "colab": {
          "base_uri": "https://localhost:8080/"
        },
        "id": "8BxKv6afbHxt",
        "outputId": "5eb79760-cb5a-4962-ccd7-39d2fcf898b5"
      },
      "execution_count": null,
      "outputs": [
        {
          "output_type": "stream",
          "name": "stdout",
          "text": [
            "water\n",
            "olive_oil\n",
            "garlic_clove\n",
            "egg\n",
            "salt\n"
          ]
        }
      ]
    },
    {
      "cell_type": "code",
      "source": [
        "class Net(torch.nn.Module):\n",
        "    def __init__(self, in_channels, hidden_channels, out_channels):\n",
        "        super().__init__()\n",
        "        self.conv1 = SAGEConv(in_channels, hidden_channels)\n",
        "        self.conv2 = SAGEConv(hidden_channels, out_channels)\n",
        "\n",
        "    def encode(self, x, edge_index):\n",
        "        x = self.conv1(x, edge_index).relu()\n",
        "        return self.conv2(x, edge_index)\n",
        "\n",
        "    def decode(self, z, edge_label_index):\n",
        "        return (z[edge_label_index[0]] * z[edge_label_index[1]]).sum(dim=-1)\n",
        "\n",
        "    # def decode_all(self, z):\n",
        "    #     prob_adj = z @ z.t()\n",
        "    #     return (prob_adj > 0).nonzero(as_tuple=False).t()\n",
        "\n",
        "    def decode_all(self, z):\n",
        "      prob_adj = z @ z.t()\n",
        "      prob_adj = torch.sigmoid(prob_adj)  # Apply sigmoid function to get probabilities\n",
        "      return prob_adj\n",
        "\n",
        "model = Net(flavorGraph.num_features, 128, 64)\n",
        "# model.to(device)\n",
        "optimizer = torch.optim.Adam(params=model.parameters(), lr=0.01)\n",
        "criterion = torch.nn.BCEWithLogitsLoss()\n",
        "\n",
        "\n",
        "def train():\n",
        "    model.train()\n",
        "    optimizer.zero_grad()\n",
        "    z = model.encode(train_data.x, train_data.edge_index)\n",
        "\n",
        "    # We perform a new round of negative sampling for every training epoch:\n",
        "    neg_edge_index = negative_sampling(\n",
        "        edge_index=train_data.edge_index, num_nodes=train_data.num_nodes,\n",
        "        num_neg_samples=train_data.edge_label_index.size(1), method='sparse')\n",
        "\n",
        "    edge_label_index = torch.cat(\n",
        "        [train_data.edge_label_index, neg_edge_index],\n",
        "        dim=-1,\n",
        "    )\n",
        "    edge_label = torch.cat([\n",
        "        train_data.edge_label,\n",
        "        train_data.edge_label.new_zeros(neg_edge_index.size(1))\n",
        "    ], dim=0)\n",
        "\n",
        "    out = model.decode(z, edge_label_index).view(-1)\n",
        "    loss = criterion(out, edge_label)\n",
        "    loss.backward()\n",
        "    optimizer.step()\n",
        "    return loss\n",
        "\n",
        "\n",
        "@torch.no_grad()\n",
        "def test(data):\n",
        "    model.eval()\n",
        "    z = model.encode(data.x, data.edge_index)\n",
        "    out = model.decode(z, data.edge_label_index).view(-1).sigmoid()\n",
        "    y = data.edge_label.cpu().numpy()\n",
        "    pred = out.cpu().numpy()\n",
        "    return roc_auc_score(y, pred)\n",
        "\n",
        "validationMetrics_SAGE = []\n",
        "\n",
        "\n",
        "best_val_auc = final_test_auc = 0\n",
        "for epoch in range(1, 150):\n",
        "    loss = train()\n",
        "    val_auc = test(val_data)\n",
        "    test_auc = test(test_data)\n",
        "    if val_auc > best_val_auc:\n",
        "        best_val_auc = val_auc\n",
        "        final_test_auc = test_auc\n",
        "    validationMetrics_SAGE.append([val_auc, test_auc])\n",
        "    print(f'Epoch: {epoch:03d}, Loss: {loss:.4f}, Val: {val_auc:.4f}, '\n",
        "          f'Test: {test_auc:.4f}')\n",
        "\n",
        "print(f'Final Test: {final_test_auc:.4f}')\n",
        "\n",
        "z = model.encode(test_data.x, test_data.edge_index)\n",
        "final_edge_probs_SAGE = model.decode_all(z)"
      ],
      "metadata": {
        "colab": {
          "base_uri": "https://localhost:8080/"
        },
        "id": "kO_L8DxdZFbI",
        "outputId": "7187ce1f-992b-454c-8640-e6677932b219"
      },
      "execution_count": null,
      "outputs": [
        {
          "output_type": "stream",
          "name": "stdout",
          "text": [
            "Epoch: 001, Loss: 46386056.0000, Val: 0.5000, Test: 0.5000\n",
            "Epoch: 002, Loss: 87458104.0000, Val: 0.5000, Test: 0.5000\n",
            "Epoch: 003, Loss: 27607044.0000, Val: 0.5000, Test: 0.5000\n",
            "Epoch: 004, Loss: 26463712.0000, Val: 0.5000, Test: 0.5000\n",
            "Epoch: 005, Loss: 45629612.0000, Val: 0.5000, Test: 0.5000\n",
            "Epoch: 006, Loss: 35805116.0000, Val: 0.5026, Test: 0.5010\n",
            "Epoch: 007, Loss: 15410822.0000, Val: 0.5088, Test: 0.5041\n",
            "Epoch: 008, Loss: 6661700.0000, Val: 0.5057, Test: 0.5030\n",
            "Epoch: 009, Loss: 12266449.0000, Val: 0.5027, Test: 0.5014\n",
            "Epoch: 010, Loss: 20192092.0000, Val: 0.5023, Test: 0.5008\n",
            "Epoch: 011, Loss: 20174752.0000, Val: 0.5028, Test: 0.5014\n",
            "Epoch: 012, Loss: 13320724.0000, Val: 0.5063, Test: 0.5045\n",
            "Epoch: 013, Loss: 6232532.5000, Val: 0.5078, Test: 0.5039\n",
            "Epoch: 014, Loss: 3977639.5000, Val: 0.5041, Test: 0.5024\n",
            "Epoch: 015, Loss: 5439375.0000, Val: 0.5000, Test: 0.5000\n",
            "Epoch: 016, Loss: 8218051.5000, Val: 0.5000, Test: 0.5000\n",
            "Epoch: 017, Loss: 8876316.0000, Val: 0.5000, Test: 0.5000\n",
            "Epoch: 018, Loss: 7054804.5000, Val: 0.5049, Test: 0.5039\n",
            "Epoch: 019, Loss: 4437338.5000, Val: 0.5075, Test: 0.5044\n",
            "Epoch: 020, Loss: 2860533.5000, Val: 0.5075, Test: 0.5061\n",
            "Epoch: 021, Loss: 2717167.0000, Val: 0.5047, Test: 0.5024\n",
            "Epoch: 022, Loss: 3388731.0000, Val: 0.5019, Test: 0.5014\n",
            "Epoch: 023, Loss: 3837157.2500, Val: 0.5007, Test: 0.5003\n",
            "Epoch: 024, Loss: 3464316.7500, Val: 0.5014, Test: 0.5013\n",
            "Epoch: 025, Loss: 2552045.2500, Val: 0.5061, Test: 0.5047\n",
            "Epoch: 026, Loss: 1762941.3750, Val: 0.5070, Test: 0.5037\n",
            "Epoch: 027, Loss: 1512708.2500, Val: 0.5041, Test: 0.5022\n",
            "Epoch: 028, Loss: 1659444.5000, Val: 0.5040, Test: 0.5040\n",
            "Epoch: 029, Loss: 1913428.6250, Val: 0.5034, Test: 0.5029\n",
            "Epoch: 030, Loss: 1900749.3750, Val: 0.5070, Test: 0.5052\n",
            "Epoch: 031, Loss: 1559834.3750, Val: 0.5093, Test: 0.5042\n",
            "Epoch: 032, Loss: 1117247.0000, Val: 0.5110, Test: 0.5051\n",
            "Epoch: 033, Loss: 870075.8750, Val: 0.5184, Test: 0.5133\n",
            "Epoch: 034, Loss: 817639.1250, Val: 0.5138, Test: 0.5084\n",
            "Epoch: 035, Loss: 908781.4375, Val: 0.5076, Test: 0.5041\n",
            "Epoch: 036, Loss: 962522.9375, Val: 0.5069, Test: 0.5041\n",
            "Epoch: 037, Loss: 887426.5000, Val: 0.5109, Test: 0.5060\n",
            "Epoch: 038, Loss: 687214.7500, Val: 0.5151, Test: 0.5099\n",
            "Epoch: 039, Loss: 509022.9688, Val: 0.5176, Test: 0.5117\n",
            "Epoch: 040, Loss: 445195.5312, Val: 0.5192, Test: 0.5159\n",
            "Epoch: 041, Loss: 467233.7500, Val: 0.5204, Test: 0.5169\n",
            "Epoch: 042, Loss: 516357.5625, Val: 0.5216, Test: 0.5180\n",
            "Epoch: 043, Loss: 515178.4688, Val: 0.5215, Test: 0.5176\n",
            "Epoch: 044, Loss: 450627.9688, Val: 0.5234, Test: 0.5169\n",
            "Epoch: 045, Loss: 364125.9375, Val: 0.5219, Test: 0.5169\n",
            "Epoch: 046, Loss: 309690.6562, Val: 0.5226, Test: 0.5175\n",
            "Epoch: 047, Loss: 292475.0000, Val: 0.5228, Test: 0.5171\n",
            "Epoch: 048, Loss: 304392.2500, Val: 0.5209, Test: 0.5167\n",
            "Epoch: 049, Loss: 318775.7500, Val: 0.5210, Test: 0.5169\n",
            "Epoch: 050, Loss: 317054.0312, Val: 0.5221, Test: 0.5168\n",
            "Epoch: 051, Loss: 287205.5000, Val: 0.5214, Test: 0.5174\n",
            "Epoch: 052, Loss: 241361.9844, Val: 0.5206, Test: 0.5162\n",
            "Epoch: 053, Loss: 213862.0312, Val: 0.5175, Test: 0.5130\n",
            "Epoch: 054, Loss: 197149.0938, Val: 0.5156, Test: 0.5123\n",
            "Epoch: 055, Loss: 188621.6406, Val: 0.5172, Test: 0.5144\n",
            "Epoch: 056, Loss: 193603.3125, Val: 0.5211, Test: 0.5160\n",
            "Epoch: 057, Loss: 198385.5469, Val: 0.5239, Test: 0.5180\n",
            "Epoch: 058, Loss: 190587.8281, Val: 0.5251, Test: 0.5190\n",
            "Epoch: 059, Loss: 173962.7188, Val: 0.5258, Test: 0.5192\n",
            "Epoch: 060, Loss: 156892.5469, Val: 0.5263, Test: 0.5209\n",
            "Epoch: 061, Loss: 137937.5000, Val: 0.5269, Test: 0.5236\n",
            "Epoch: 062, Loss: 131282.9062, Val: 0.5285, Test: 0.5255\n",
            "Epoch: 063, Loss: 129899.9922, Val: 0.5298, Test: 0.5260\n",
            "Epoch: 064, Loss: 128244.8438, Val: 0.5320, Test: 0.5264\n",
            "Epoch: 065, Loss: 125088.6562, Val: 0.5313, Test: 0.5267\n",
            "Epoch: 066, Loss: 117219.2109, Val: 0.5302, Test: 0.5267\n",
            "Epoch: 067, Loss: 112994.6484, Val: 0.5300, Test: 0.5266\n",
            "Epoch: 068, Loss: 104310.9297, Val: 0.5283, Test: 0.5246\n",
            "Epoch: 069, Loss: 96769.8984, Val: 0.5258, Test: 0.5230\n",
            "Epoch: 070, Loss: 93640.9375, Val: 0.5216, Test: 0.5200\n",
            "Epoch: 071, Loss: 90343.7266, Val: 0.5214, Test: 0.5197\n",
            "Epoch: 072, Loss: 86612.8750, Val: 0.5239, Test: 0.5213\n",
            "Epoch: 073, Loss: 82565.4141, Val: 0.5250, Test: 0.5237\n",
            "Epoch: 074, Loss: 77968.4219, Val: 0.5270, Test: 0.5253\n",
            "Epoch: 075, Loss: 75015.7344, Val: 0.5294, Test: 0.5276\n",
            "Epoch: 076, Loss: 72770.3281, Val: 0.5308, Test: 0.5296\n",
            "Epoch: 077, Loss: 66904.9062, Val: 0.5319, Test: 0.5317\n",
            "Epoch: 078, Loss: 63377.2656, Val: 0.5351, Test: 0.5332\n",
            "Epoch: 079, Loss: 60628.5039, Val: 0.5367, Test: 0.5344\n",
            "Epoch: 080, Loss: 58371.1953, Val: 0.5363, Test: 0.5339\n",
            "Epoch: 081, Loss: 55332.1875, Val: 0.5361, Test: 0.5344\n",
            "Epoch: 082, Loss: 54089.2773, Val: 0.5339, Test: 0.5329\n",
            "Epoch: 083, Loss: 50485.5938, Val: 0.5308, Test: 0.5302\n",
            "Epoch: 084, Loss: 48656.2695, Val: 0.5275, Test: 0.5263\n",
            "Epoch: 085, Loss: 47261.9570, Val: 0.5263, Test: 0.5253\n",
            "Epoch: 086, Loss: 45401.0039, Val: 0.5259, Test: 0.5240\n",
            "Epoch: 087, Loss: 44810.0547, Val: 0.5253, Test: 0.5242\n",
            "Epoch: 088, Loss: 43680.4766, Val: 0.5248, Test: 0.5244\n",
            "Epoch: 089, Loss: 42263.8867, Val: 0.5250, Test: 0.5252\n",
            "Epoch: 090, Loss: 40692.1680, Val: 0.5258, Test: 0.5269\n",
            "Epoch: 091, Loss: 37090.3047, Val: 0.5280, Test: 0.5292\n",
            "Epoch: 092, Loss: 37266.2109, Val: 0.5297, Test: 0.5330\n",
            "Epoch: 093, Loss: 35224.2031, Val: 0.5331, Test: 0.5361\n",
            "Epoch: 094, Loss: 34513.0586, Val: 0.5365, Test: 0.5390\n",
            "Epoch: 095, Loss: 33184.9492, Val: 0.5385, Test: 0.5404\n",
            "Epoch: 096, Loss: 32147.3203, Val: 0.5397, Test: 0.5417\n",
            "Epoch: 097, Loss: 31756.4941, Val: 0.5393, Test: 0.5414\n",
            "Epoch: 098, Loss: 30211.5566, Val: 0.5380, Test: 0.5395\n",
            "Epoch: 099, Loss: 28868.7754, Val: 0.5355, Test: 0.5376\n",
            "Epoch: 100, Loss: 28379.9961, Val: 0.5347, Test: 0.5356\n",
            "Epoch: 101, Loss: 27673.6973, Val: 0.5325, Test: 0.5343\n",
            "Epoch: 102, Loss: 27627.1172, Val: 0.5313, Test: 0.5326\n",
            "Epoch: 103, Loss: 26715.7324, Val: 0.5305, Test: 0.5324\n",
            "Epoch: 104, Loss: 26483.5918, Val: 0.5315, Test: 0.5329\n",
            "Epoch: 105, Loss: 25556.5859, Val: 0.5318, Test: 0.5331\n",
            "Epoch: 106, Loss: 24290.6445, Val: 0.5319, Test: 0.5331\n",
            "Epoch: 107, Loss: 23287.5684, Val: 0.5336, Test: 0.5345\n",
            "Epoch: 108, Loss: 23418.0430, Val: 0.5345, Test: 0.5349\n",
            "Epoch: 109, Loss: 22959.3203, Val: 0.5349, Test: 0.5360\n",
            "Epoch: 110, Loss: 22611.6367, Val: 0.5367, Test: 0.5368\n",
            "Epoch: 111, Loss: 21890.1855, Val: 0.5379, Test: 0.5366\n",
            "Epoch: 112, Loss: 21480.6055, Val: 0.5382, Test: 0.5363\n",
            "Epoch: 113, Loss: 20411.2559, Val: 0.5360, Test: 0.5356\n",
            "Epoch: 114, Loss: 20906.5449, Val: 0.5354, Test: 0.5349\n",
            "Epoch: 115, Loss: 19325.5117, Val: 0.5346, Test: 0.5337\n",
            "Epoch: 116, Loss: 19661.9707, Val: 0.5337, Test: 0.5333\n",
            "Epoch: 117, Loss: 19277.3418, Val: 0.5326, Test: 0.5331\n",
            "Epoch: 118, Loss: 19419.1914, Val: 0.5327, Test: 0.5331\n",
            "Epoch: 119, Loss: 18666.7109, Val: 0.5329, Test: 0.5334\n",
            "Epoch: 120, Loss: 18254.4395, Val: 0.5339, Test: 0.5333\n",
            "Epoch: 121, Loss: 17813.3945, Val: 0.5347, Test: 0.5339\n",
            "Epoch: 122, Loss: 17476.1895, Val: 0.5353, Test: 0.5342\n",
            "Epoch: 123, Loss: 17686.5156, Val: 0.5350, Test: 0.5345\n",
            "Epoch: 124, Loss: 17195.8965, Val: 0.5352, Test: 0.5350\n",
            "Epoch: 125, Loss: 17194.4629, Val: 0.5357, Test: 0.5345\n",
            "Epoch: 126, Loss: 16605.9746, Val: 0.5351, Test: 0.5348\n",
            "Epoch: 127, Loss: 16652.3262, Val: 0.5353, Test: 0.5345\n",
            "Epoch: 128, Loss: 16090.6934, Val: 0.5343, Test: 0.5343\n",
            "Epoch: 129, Loss: 16133.3096, Val: 0.5328, Test: 0.5338\n",
            "Epoch: 130, Loss: 15495.6924, Val: 0.5323, Test: 0.5335\n",
            "Epoch: 131, Loss: 15124.0078, Val: 0.5331, Test: 0.5332\n",
            "Epoch: 132, Loss: 15231.4229, Val: 0.5331, Test: 0.5334\n",
            "Epoch: 133, Loss: 15314.1592, Val: 0.5336, Test: 0.5336\n",
            "Epoch: 134, Loss: 14758.6436, Val: 0.5337, Test: 0.5338\n",
            "Epoch: 135, Loss: 14477.1953, Val: 0.5336, Test: 0.5340\n",
            "Epoch: 136, Loss: 14884.6396, Val: 0.5341, Test: 0.5341\n",
            "Epoch: 137, Loss: 14568.4756, Val: 0.5342, Test: 0.5340\n",
            "Epoch: 138, Loss: 14220.7500, Val: 0.5338, Test: 0.5341\n",
            "Epoch: 139, Loss: 13886.8467, Val: 0.5335, Test: 0.5344\n",
            "Epoch: 140, Loss: 14021.0459, Val: 0.5334, Test: 0.5347\n",
            "Epoch: 141, Loss: 13628.6172, Val: 0.5335, Test: 0.5350\n",
            "Epoch: 142, Loss: 13505.6562, Val: 0.5337, Test: 0.5346\n",
            "Epoch: 143, Loss: 13397.6523, Val: 0.5340, Test: 0.5341\n",
            "Epoch: 144, Loss: 13524.0879, Val: 0.5340, Test: 0.5337\n",
            "Epoch: 145, Loss: 13362.3955, Val: 0.5341, Test: 0.5341\n",
            "Epoch: 146, Loss: 13110.4219, Val: 0.5344, Test: 0.5341\n",
            "Epoch: 147, Loss: 13168.6816, Val: 0.5342, Test: 0.5344\n",
            "Epoch: 148, Loss: 12915.0293, Val: 0.5341, Test: 0.5346\n",
            "Epoch: 149, Loss: 12458.1006, Val: 0.5343, Test: 0.5345\n",
            "Final Test: 0.5417\n"
          ]
        }
      ]
    },
    {
      "cell_type": "code",
      "source": [
        "plt.plot(np.arange(len(validationMetrics_SAGE)),np.array(validationMetrics_SAGE)[:,1],label='test_auc')\n",
        "plt.legend()\n",
        "plt.show()"
      ],
      "metadata": {
        "colab": {
          "base_uri": "https://localhost:8080/",
          "height": 265
        },
        "id": "6EvbxA9l_S8Q",
        "outputId": "4c5aaa3a-d7c6-46ec-81a1-c93b1c1a69d3"
      },
      "execution_count": null,
      "outputs": [
        {
          "output_type": "display_data",
          "data": {
            "text/plain": [
              "<Figure size 432x288 with 1 Axes>"
            ],
            "image/png": "[encoded data removed]"
          },
          "metadata": {
            "needs_background": "light"
          }
        }
      ]
    },
    {
      "cell_type": "code",
      "source": [
        "plt.plot(np.arange(len(validationMetrics_GCN)),np.array(validationMetrics_GCN)[:,1],label='test_auc_GCN')\n",
        "plt.plot(np.arange(len(validationMetrics_SAGE)),np.array(validationMetrics_SAGE)[:,1],label='test_auc_SAGE')\n",
        "plt.legend()\n",
        "plt.show()"
      ],
      "metadata": {
        "colab": {
          "base_uri": "https://localhost:8080/",
          "height": 267
        },
        "id": "u9T-e1KXFxlv",
        "outputId": "acc13792-5da3-437e-ff77-6ad338c1e05c"
      },
      "execution_count": null,
      "outputs": [
        {
          "output_type": "display_data",
          "data": {
            "text/plain": [
              "<Figure size 432x288 with 1 Axes>"
            ],
            "image/png": "[encoded data removed]"
          },
          "metadata": {
            "needs_background": "light"
          }
        }
      ]
    },
    {
      "cell_type": "code",
      "source": [
        "start_node = np.random.randint(0, 6653)\n",
        "for i in range(1, min(np.random.poisson(4, 1)[0] + 1, 7)):\n",
        "  top_nodes = nodes_df.iloc[final_edge_probs_SAGE.topk(10, dim=1).indices[start_node, ]]\n",
        "  which_one = np.random.randint(0, 10)\n",
        "  start_node_id = top_nodes.iloc[which_one][\"node_id\"]\n",
        "  print(top_nodes.iloc[which_one][\"name\"])"
      ],
      "metadata": {
        "colab": {
          "base_uri": "https://localhost:8080/"
        },
        "id": "4ijO7KTe0OiE",
        "outputId": "ce897b4e-41e1-4966-95fc-7c638117325f"
      },
      "execution_count": null,
      "outputs": [
        {
          "output_type": "stream",
          "name": "stdout",
          "text": [
            "angelica\n",
            "baby_chicken\n",
            "arctic_char\n",
            "apricot_fruit_spread\n",
            "apricot_liqueur\n",
            "apple_chip\n"
          ]
        }
      ]
    }
  ]
}